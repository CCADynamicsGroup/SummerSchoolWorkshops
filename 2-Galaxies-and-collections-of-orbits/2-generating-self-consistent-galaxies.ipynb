{
 "cells": [
  {
   "cell_type": "code",
   "execution_count": 4,
   "metadata": {},
   "outputs": [],
   "source": [
    "%matplotlib inline\n",
    "%run ../setup/nb_setup"
   ]
  },
  {
   "cell_type": "markdown",
   "metadata": {},
   "source": [
    "# Collections of Orbits 2: Self-consistent stellar systems \n",
    "\n",
    "Author(s): Helmer Koppelman\n",
    "\n",
    "\n",
    "## Introduction\n",
    "\n",
    "In this notebook, we will generate initial conditions (positions and velocities) for a stellar system of $10^4$ stars. We will assume that the density of the system is that of a Plummer profile with mass $M = 10^6 {\\rm M}_\\odot$ and scale $b = 1$ kpc. Several methods exist to draw positions $(x,y,z)$ such that $r = \\sqrt{x^2+y^2+z^2}$ is distributed according to $\\rho(r)$. Below we will follow the method described in the Appendix of [Aarseth, Henon, Wielen (1974)](https://ui.adsabs.harvard.edu/abs/1974A%26A....37..183A/abstract).\n",
    "\n",
    "In most cases, the difficulty with generating mock galaxies is not in the sampling of the spatial coordinates $\\vec{x} = (x,y,z)$ but rather in sampling velocities $\\vec{v} = (v_x,v_y,v_z)$ that are consistent with the spatial distribution. To ensure consistency we will need a distribution function $f(\\vec{x}, \\vec{v})$ such that $\\rho(r) \\propto \\int f(\\vec{x}, \\vec{v})~{\\rm d}^3v$ – such a system is called **self-consistent** because the distribution function $f$ generates the density, which in turn generates the gravitational potential.\n",
    "\n",
    "\n",
    "### Notebook Setup and Package Imports"
   ]
  },
  {
   "cell_type": "code",
   "execution_count": 5,
   "metadata": {},
   "outputs": [],
   "source": [
    "# Essential - general\n",
    "import numpy as np\n",
    "import matplotlib.pyplot as plt\n",
    "from scipy.integrate import quad\n",
    "\n",
    "# Essential - astro\n",
    "import astropy.units as u\n",
    "import gala.integrate as gi\n",
    "import gala.dynamics as gd\n",
    "import gala.potential as gp\n",
    "from gala.units import galactic\n",
    "from astropy.constants import G\n",
    "\n",
    "# Style\n",
    "import matplotlib as mpl\n",
    "import matplotlib.cm as cm"
   ]
  },
  {
   "cell_type": "markdown",
   "metadata": {},
   "source": [
    "## Sampling a system following a Plummer profile\n",
    "\n",
    "For the Plummer profile, we can use a simple distribution function $f(\\mathcal{E})$, known as a polytrope of order $n$, that is associated with this density profile for $(n=5)$ to generate the velocities."
   ]
  },
  {
   "cell_type": "markdown",
   "metadata": {},
   "source": [
    "### Useful equations\n",
    "\n",
    "---\n",
    "The distribution function of a polytrope of order $n$   \n",
    "$\n",
    "\\begin{equation}\n",
    "f(\\mathcal{E}) =  \\begin{cases}\n",
    "    F \\mathcal{E}^{n-\\frac{3}{2}} ~ &(\\mathcal{E} \\gt 0) \\\\\n",
    "    0 ~ &(\\mathcal{E}\\leq 0)\n",
    "    \\end{cases}\n",
    "\\end{equation}\n",
    "$  \n",
    "\n",
    "where $\\mathcal{E}$ and $\\Psi$ are the relative energy and relative potential, defined as  \n",
    "$\n",
    "\\begin{align}\n",
    "    \\Psi &\\equiv \\Phi_0 - \\Phi \\\\ \n",
    "    \\mathcal{E} &\\equiv \\Psi - \\frac{1}{2}v^2\n",
    "\\end{align}\n",
    "$\n",
    "\n",
    "where $\\Phi$ is the regular potential and $\\Phi_0 = 0$ for an isolated system that extends to infinity. For such a system, $\\Psi$ then is related to the density through Poisson's equation\n",
    "\n",
    "$\n",
    "\\begin{equation}\n",
    "\\nabla^2\\Psi = -4\\pi G\\rho\n",
    "\\end{equation}\n",
    "$\n",
    "\n",
    "---\n",
    "\n",
    "The density distribution of a Plummer sphere is given by  \n",
    "$\n",
    "\\begin{align}\n",
    "\\rho(r) &= \\frac{3M}{4\\pi b^3} \\bigg(1+\\frac{r^2}{b^2}\\bigg)^{-\\frac{5}{2}}, \\\\ \n",
    "     &= c_n \\Psi^n \\quad (\\Psi\\gt 0)\n",
    "\\end{align}\n",
    "$\n",
    "\n",
    "where $c_n = \\frac{(2\\pi)^{\\frac{3}{2}}(n-\\frac{3}{2})!F}{n!}$\n",
    "\n",
    "---"
   ]
  },
  {
   "cell_type": "markdown",
   "metadata": {},
   "source": [
    "### Exercises (optional):   \n",
    "* Derive the expression for $\\Psi(r)$ from the density.  \n",
    "* Given that $\\Phi(r) = -\\frac{GM}{\\sqrt{r^2+b^2}}$, derive the expression for $F$ "
   ]
  },
  {
   "cell_type": "markdown",
   "metadata": {},
   "source": [
    "### Generating a stellar system from a Normal distribution\n",
    "Before generating a self-consistent system we will run a test with a system that is not self-consistent to see what this means. We will simply sample initial conditions from a Gaussian distribution for simplicity."
   ]
  },
  {
   "cell_type": "code",
   "execution_count": 6,
   "metadata": {},
   "outputs": [],
   "source": [
    "# Example generating a stellar system from a Gaussian distribution.\n",
    "\n",
    "rng = np.random.default_rng(3)\n",
    "\n",
    "N = 10_000\n",
    "x, y, z = rng.normal(loc=0, scale=2, size=(3, N))\n",
    "vx, vy, vz = rng.normal(loc=0, scale=1, size=(3, N))"
   ]
  },
  {
   "cell_type": "markdown",
   "metadata": {},
   "source": [
    "### Now we will inspect whether the generated system is self-consistent with a Plummer model or not.\n",
    "(probably not since it is a random Gaussian)"
   ]
  },
  {
   "cell_type": "code",
   "execution_count": 7,
   "metadata": {},
   "outputs": [],
   "source": [
    "# First we generate a `gala.dynamics.PhaseSpacePosition`\n",
    "pos = [x, y, z] * u.kpc\n",
    "vel = [vx, vy, vz] * u.km / u.s\n",
    "\n",
    "w0 = gd.PhaseSpacePosition(pos=pos, vel=vel)"
   ]
  },
  {
   "cell_type": "code",
   "execution_count": 8,
   "metadata": {},
   "outputs": [],
   "source": [
    "# Next we integrate the distribution in a Plummer potential for 1 Gyr\n",
    "\n",
    "M = 1e6 * u.Msun\n",
    "b = 1 * u.kpc\n",
    "\n",
    "potential = gp.PlummerPotential(m=M, b=b, units=galactic)\n",
    "Hamiltonian = gp.Hamiltonian(potential)\n",
    "\n",
    "orbits = Hamiltonian.integrate_orbit(\n",
    "    w0, t=np.linspace(0, 1, 100) * u.Gyr, Integrator=gi.DOPRI853Integrator\n",
    ")"
   ]
  },
  {
   "cell_type": "code",
   "execution_count": 9,
   "metadata": {},
   "outputs": [
    {
     "data": {
      "text/plain": [
       "Text(0.5, 0, 'r [kpc]')"
      ]
     },
     "execution_count": 9,
     "metadata": {},
     "output_type": "execute_result"
    },
    {
     "data": {
      "image/png": "[encoded data removed]",
      "text/plain": [
       "<Figure size 800x500 with 1 Axes>"
      ]
     },
     "metadata": {
      "image/png": {
       "height": 456,
       "width": 681
      }
     },
     "output_type": "display_data"
    }
   ],
   "source": [
    "# Inspecting the evolution of the distribution:\n",
    "# if the system is self-consistent it's shape should not evolve.\n",
    "r = orbits.spherical.distance\n",
    "r, r_unit = r.value, r.unit\n",
    "\n",
    "plt.figure(figsize=(8, 5))\n",
    "args = dict(histtype=\"step\", lw=2, bins=100, range=(0, 10))\n",
    "plt.hist(r[0], label=\"t = 0\", **args)\n",
    "plt.hist(r[-1], label=\"t = {}\".format(orbits.t[-1].to(\"Gyr\")), **args)\n",
    "plt.legend(frameon=False)\n",
    "\n",
    "plt.xlabel(f\"r [{r_unit}]\")"
   ]
  },
  {
   "cell_type": "markdown",
   "metadata": {},
   "source": [
    "### Exercises \n",
    "\n",
    "Inspect the system:\n",
    "- Compute the velocity dispersion in each of the directions $(x,y,z)$. What is the shape of the velocity dispersions? Why?\n",
    "- Can you think of a better test of self-consistency? You could look at the evolution of the size of the system – or at the amplitude of its velocity distribution $\\sigma_v$."
   ]
  },
  {
   "cell_type": "markdown",
   "metadata": {},
   "source": [
    "### Generating a self-consistent Plummer\n",
    "\n",
    "We will now generate a self-consistent initial conditions for a Plummer model using the relevant section in [Aarseth, Henon, Wielen (1974)](https://ui.adsabs.harvard.edu/abs/1974A%26A....37..183A/abstract)"
   ]
  },
  {
   "cell_type": "markdown",
   "metadata": {},
   "source": [
    "![](./imgs/BigApple-AHW-1974.png)"
   ]
  },
  {
   "cell_type": "markdown",
   "metadata": {},
   "source": [
    "For a spherical system we can obtain $M(r)$ from the density\n",
    "\n",
    "$\n",
    "\\begin{equation}\n",
    "    M(r) = 4\\pi \\int_0^r x^2 \\rho(x)~{\\rm d}x\n",
    "\\end{equation}\n",
    "$\n",
    "\n",
    "For the Plummer, this results in  \n",
    "$\n",
    "\\begin{equation}\n",
    "     M(r) = \\frac{M}{b^3} r^3 (1+\\frac{r^2}{b^2})^{\\frac{3}{2}},\n",
    "\\end{equation}\n",
    "$  \n",
    "where $M$ is the total mass of the system."
   ]
  },
  {
   "cell_type": "markdown",
   "metadata": {},
   "source": [
    "The general expression for the escape velocity is (if $\\Phi(r) \\rightarrow 0$ for $r \\rightarrow \\infty$)   \n",
    "$\n",
    "\\begin{equation}\n",
    "    v_e(r) \\equiv \\sqrt{2|\\Phi(r)|}\n",
    "\\end{equation}\n",
    "$\n",
    "\n",
    "the potential of a Plummer profile is given by  \n",
    "$\n",
    "\\begin{equation}\n",
    "    \\Phi(r) = - \\frac{GM}{\\sqrt{r^2 + b^2}}\n",
    "\\end{equation}\n",
    "$"
   ]
  },
  {
   "cell_type": "code",
   "execution_count": 8,
   "metadata": {},
   "outputs": [],
   "source": [
    "M = 1e6 * u.Msun\n",
    "b = 1 * u.kpc"
   ]
  },
  {
   "cell_type": "markdown",
   "metadata": {},
   "source": [
    "### Exercise:  \n",
    "* Modify the code below according to the steps described above. \\\n",
    "The solution is given below.\n",
    "\n",
    "Hint: if it helps you can sample `q` from a beta distribution (and skip the von Neumann rejection technique) as follows \n",
    "```\n",
    "q = np.sqrt(rng.beta(1.5,4.5, size=N))\n",
    "```\n",
    "\n",
    "<details>\n",
    "  <summary>Click to expand!</summary>\n",
    "  \n",
    "```Python\n",
    "def selfconsistent_plummer(N, M, b):\n",
    "    \"\"\"This function generates a stellar system that is consistent \n",
    "    with a Plummer, following (more or less) \n",
    "    the steps in Aarseth, Henon, Wielen (1974)\n",
    "\n",
    "    Try to code this up yourself - if you have time.\"\"\"\n",
    "    x1 = rng.uniform(0, 1, size=N*2)\n",
    "\n",
    "    r = b * (x1**(-2/3) -1)**-0.5\n",
    "    r = r[r<5*u.kpc][0:N]\n",
    "\n",
    "    xyz = rng.normal(size=(3,N))\n",
    "    pos = xyz * r.value / np.linalg.norm(xyz, axis=0) * r.unit\n",
    "\n",
    "    def v_esc(r):\n",
    "        r = r if isinstance(r, u.Quantity) else r*u.kpc\n",
    "        pot_abs = G*M / np.sqrt(r**2+b**2)\n",
    "        return np.sqrt(2 * pot_abs).to('km/s')\n",
    "\n",
    "    q = np.sqrt(rng.beta(1.5,4.5, size=N))\n",
    "    v = q * v_esc(r)\n",
    "\n",
    "    v_xyz = rng.normal(size=(3,N))\n",
    "    vel = v_xyz * v.value / np.linalg.norm(v_xyz, axis=0)*v.unit\n",
    "\n",
    "    return pos, vel\n",
    "```\n",
    "</details>"
   ]
  },
  {
   "cell_type": "code",
   "execution_count": 10,
   "metadata": {},
   "outputs": [
    {
     "data": {
      "text/plain": [
       "Text(0.5, 0, 'r [kpc]')"
      ]
     },
     "execution_count": 10,
     "metadata": {},
     "output_type": "execute_result"
    },
    {
     "data": {
      "image/png": "[encoded data removed]",
      "text/plain": [
       "<Figure size 576x360 with 1 Axes>"
      ]
     },
     "metadata": {
      "needs_background": "light"
     },
     "output_type": "display_data"
    }
   ],
   "source": [
    "# Repeating the test of self-consistency\n",
    "pos, vel = selfconsistent_plummer(N, M, b)\n",
    "w0 = gd.PhaseSpacePosition(pos=pos, vel=vel)\n",
    "\n",
    "orbits = Hamiltonian.integrate_orbit(\n",
    "    w0, t=np.linspace(0, 1, 100) * u.Gyr, Integrator=gi.DOPRI853Integrator\n",
    ")\n",
    "\n",
    "r = orbits.spherical.distance\n",
    "r, r_unit = r.value, r.unit\n",
    "\n",
    "plt.figure(figsize=(8, 5))\n",
    "plt.hist(r[0], histtype=\"step\", lw=2, bins=100, label=\"t = 0\", range=(0, 10))\n",
    "plt.hist(\n",
    "    r[-1],\n",
    "    histtype=\"step\",\n",
    "    lw=2,\n",
    "    bins=100,\n",
    "    label=\"t = {}\".format(orbits.t[-1].to(\"Gyr\")),\n",
    "    range=(0, 10),\n",
    ")\n",
    "plt.legend(frameon=False)\n",
    "\n",
    "plt.xlabel(f\"r [{r_unit}]\")"
   ]
  },
  {
   "cell_type": "markdown",
   "metadata": {},
   "source": [
    "### Exercises \n",
    "\n",
    "Inspect the system:\n",
    "- Inspect (by plotting) the distribution of the energies \n",
    "- Compute the velocity dispersion in each of the directions $(x,y,z)$. What is the shape of the velocity dispersions? Why?\n",
    "- Can you think of a better test of self-consistency? You could look at the evolution of the size of the system – or at the amplitude of its velocity distribution $\\sigma_v$."
   ]
  },
  {
   "cell_type": "markdown",
   "metadata": {},
   "source": [
    "##  A small galaxy embedded in a dark matter halo\n",
    "For the second part we will generate a two-component system: a spherical galaxy in a dark matter halo. For simplicity, assume that both components are described by a Plummer profile.   \n",
    "For the stellar component use $M_\\star = 10^4 {\\rm M}_\\odot$ and scale $b_\\star= 0.05$ kpc and for the dark matter component use $M_{\\rm DM} = 10^6 {\\rm M}_\\odot$ and scale $b_{\\rm DM} = 1$ kpc."
   ]
  },
  {
   "cell_type": "code",
   "execution_count": 14,
   "metadata": {},
   "outputs": [],
   "source": [
    "M_star, b_star = 1e3 * u.Msun, 0.05 * u.kpc\n",
    "M_dm, b_dm = 1e6 * u.Msun, 1 * u.kpc\n",
    "\n",
    "p_star = gp.PlummerPotential(m=M_star, b=b_star, units=galactic)\n",
    "p_dm = gp.PlummerPotential(m=M_dm, b=b_dm, units=galactic)"
   ]
  },
  {
   "cell_type": "markdown",
   "metadata": {},
   "source": [
    "Use the same method as before to generate the spatial distribution of the stellar component.\n",
    "\n",
    "To obtain the velocities of the stars we will have to solve the Jeans equations.  \n",
    "The Jeans equation in spherical coordinates are (Section 4.8.1 of Binney & Tremaine):  \n",
    "$ \\large \\frac{d\\big(\\rho_\\star(r)\\sigma^2_v(r)\\big)}{dr} + \\rho_\\star(r) \\frac{d\\Phi(r)}{dr}= 0$ \n",
    "\n",
    "Use the equation above to find the velocity dispersion of the system as a function of radius $\\sigma_v(r)$.\n",
    "Assume that the potential is dominated by the dark matter component. For the density in the equation above use the density of the stellar component.   \n",
    "\n",
    "The equation above can be transformed to  \n",
    "$\n",
    "\\begin{equation}\n",
    "\\sigma_v^2(r) = \\frac{1}{\\rho_\\star(r)} \\int_r^\\infty \\rho_\\star(r') \\frac{{\\rm d}\\Phi(r')}{{\\rm d}r'} ~ dr'\n",
    "\\end{equation}\n",
    "$\n",
    "\n",
    "Which can be solved with the code below"
   ]
  },
  {
   "cell_type": "code",
   "execution_count": 15,
   "metadata": {},
   "outputs": [],
   "source": [
    "# Solving the integral for sigma_v(r):\n",
    "def integrand(x):\n",
    "    b1, b2 = b_star.value, b_dm.value\n",
    "\n",
    "    p1 = np.power(1 + (x / b1) ** 2, -5 / 2)\n",
    "    p2 = np.power(x ** 2 + b2 ** 2, -3 / 2)\n",
    "    return p1 * p2 * x\n",
    "\n",
    "\n",
    "def sigma_v(r):\n",
    "    # strip r from unit\n",
    "    r, unit = (r.value, r.unit) if isinstance(r, u.Quantity) else (r, u.kpc)\n",
    "\n",
    "    int_, err = quad(integrand, r, np.infty)\n",
    "    int_ = int_ / unit\n",
    "\n",
    "    sv_2 = int_ * G * M_dm * (1 + ((r * unit) / b_star) ** 2) ** (5 / 2)\n",
    "    return np.sqrt(sv_2).to(\"km/s\")"
   ]
  },
  {
   "cell_type": "markdown",
   "metadata": {},
   "source": [
    "\n",
    "\n",
    "Finally, by assuming that the velocity distribution is well described by a Gaussian, generate velocities for the stellar particles using the velocity dispersion obtained from the Jeans equation.   "
   ]
  },
  {
   "cell_type": "markdown",
   "metadata": {},
   "source": [
    "### Generating a self-consistent system for a 2-component Plummer model  \n",
    "\n",
    "<details>\n",
    "  <summary>Click to expand!</summary>\n",
    "  \n",
    "```Python\n",
    "# Generating the IC\n",
    "def generate_2comp_Plummer(N_star):\n",
    "    xyz, _ = selfconsistent_plummer(N_star, M_star, b_star)\n",
    "    r = np.linalg.norm(xyz, axis=0)\n",
    "\n",
    "    s_v = np.array([sigma_v(ri).value for ri in r]) \n",
    "    v = rng.normal(scale=s_v, size=N_star) \n",
    "\n",
    "    v_xyz = rng.normal(size=(3, N_star))\n",
    "    v_xyz = v * v_xyz / np.linalg.norm(v_xyz, axis=0) * u.km/u.s\n",
    "    return xyz, v_xyz\n",
    "```\n",
    "</details>"
   ]
  },
  {
   "cell_type": "code",
   "execution_count": 17,
   "metadata": {},
   "outputs": [],
   "source": [
    "xyz, v_xyz = generate_2comp_Plummer(N_star=10_000)"
   ]
  },
  {
   "cell_type": "code",
   "execution_count": 18,
   "metadata": {},
   "outputs": [
    {
     "data": {
      "text/plain": [
       "Text(0.5, 0, 'r [kpc]')"
      ]
     },
     "execution_count": 18,
     "metadata": {},
     "output_type": "execute_result"
    },
    {
     "data": {
      "image/png": "[encoded data removed]",
      "text/plain": [
       "<Figure size 576x360 with 1 Axes>"
      ]
     },
     "metadata": {
      "needs_background": "light"
     },
     "output_type": "display_data"
    }
   ],
   "source": [
    "# Repeating the test of self-consistency\n",
    "w0 = gd.PhaseSpacePosition(pos=xyz, vel=v_xyz)\n",
    "\n",
    "potential = gp.CompositePotential(star=p_star, dm=p_dm)\n",
    "Hamiltonian = gp.Hamiltonian(potential)\n",
    "\n",
    "orbits = Hamiltonian.integrate_orbit(\n",
    "    w0, t=np.linspace(0, 1, 100) * u.Gyr, Integrator=gi.DOPRI853Integrator\n",
    ")\n",
    "\n",
    "r = orbits.spherical.distance\n",
    "r, r_unit = r.value, r.unit\n",
    "\n",
    "plt.figure(figsize=(8, 5))\n",
    "plt.hist(r[0], histtype=\"step\", lw=2, bins=100, label=\"t = 0\", range=(0, 0.5))\n",
    "plt.hist(\n",
    "    r[-1],\n",
    "    histtype=\"step\",\n",
    "    lw=2,\n",
    "    bins=100,\n",
    "    label=\"t = {}\".format(orbits.t[-1].to(\"Gyr\")),\n",
    "    range=(0, 0.5),\n",
    ")\n",
    "plt.legend(frameon=False)\n",
    "\n",
    "plt.xlabel(f\"r [{r_unit}]\")"
   ]
  },
  {
   "cell_type": "markdown",
   "metadata": {},
   "source": [
    "### Exercise\n",
    "\n",
    "As you can see, the system is not fully self-consistent. There appear to be two regimes with a transition at $\\sim 0.05$ kpc. Do you know why? Can you confirm your suspicion?\n"
   ]
  },
  {
   "cell_type": "markdown",
   "metadata": {},
   "source": [
    "NB: we only generated the stellar component of the two-component galaxy.\n",
    "\n",
    "### Optional exercise:\n",
    "- Generate the dark matter component using the code in the first part of this notebook and by assuming that it is not sensitive to the stellar part (i.e. just generating a Plummer with the dark matter parameters, ignoring the stars). \n",
    "- Use the two component galaxy in the next notebook."
   ]
  }
 ],
 "metadata": {
  "kernelspec": {
   "display_name": "Python 3",
   "language": "python",
   "name": "python3"
  },
  "language_info": {
   "codemirror_mode": {
    "name": "ipython",
    "version": 3
   },
   "file_extension": ".py",
   "mimetype": "text/x-python",
   "name": "python",
   "nbconvert_exporter": "python",
   "pygments_lexer": "ipython3",
   "version": "3.8.5"
  },
  "toc": {
   "base_numbering": 1,
   "nav_menu": {},
   "number_sections": true,
   "sideBar": true,
   "skip_h1_title": false,
   "title_cell": "Table of Contents",
   "title_sidebar": "Contents",
   "toc_cell": false,
   "toc_position": {},
   "toc_section_display": true,
   "toc_window_display": false
  }
 },
 "nbformat": 4,
 "nbformat_minor": 2
}
