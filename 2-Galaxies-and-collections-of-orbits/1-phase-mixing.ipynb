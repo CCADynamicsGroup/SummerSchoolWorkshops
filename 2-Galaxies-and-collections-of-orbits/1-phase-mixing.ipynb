{
 "cells": [
  {
   "cell_type": "code",
   "execution_count": null,
   "id": "b0fb3919",
   "metadata": {},
   "outputs": [],
   "source": [
    "%matplotlib inline\n",
    "%run ../setup/nb_setup"
   ]
  },
  {
   "cell_type": "markdown",
   "id": "e98a6ffc",
   "metadata": {},
   "source": [
    "# Collections of Orbits 1: Phase-mixing\n",
    "\n",
    "Author(s): Helmer Koppelman\n",
    "\n",
    "\n",
    "## Introduction\n",
    "\n",
    "Using data from Gaia DR2, [Antoja et al. (2018)](https://arxiv.org/abs/1804.10196) discovered a phase-space spiral in the solar neighbourhood and dubbed it the Galactic snailshell:\n",
    "\n",
    "Snail shell in star counts             |  Snail shell colored by velocity\n",
    ":-------------------------:|:-------------------------:\n",
    "![](./imgs/snail-a.png) | ![](./imgs/snail-bc.png)\n",
    "\n",
    "In this notebook we will investigate the creation and evolution of phase space spirals.\n",
    "Phase space spirals like these are 'smoking guns' of non-equilibrium effects. We will build some intuition as to why this is the case.\n",
    "\n",
    "Below are the steps that you should complete to generate Galactic snail shells and at the end of the notebook there is some example code to help you get started.\n",
    "\n",
    "\n",
    "### Notebook Setup and Package Imports"
   ]
  },
  {
   "cell_type": "code",
   "execution_count": null,
   "id": "79065951",
   "metadata": {},
   "outputs": [],
   "source": [
    "# Essential - general\n",
    "import numpy as np\n",
    "import matplotlib.pyplot as plt\n",
    "\n",
    "# Essential - astro\n",
    "import astropy.units as u\n",
    "import gala.integrate as gi\n",
    "import gala.dynamics as gd\n",
    "import gala.potential as gp\n",
    "from gala.units import galactic\n",
    "\n",
    "# Style\n",
    "import matplotlib as mpl\n",
    "import matplotlib.cm as cm"
   ]
  },
  {
   "cell_type": "markdown",
   "id": "d1f8b198",
   "metadata": {},
   "source": [
    "## Assignment\n",
    "\n",
    "1. Generate a mock stellar distribution of massless tracer particles \n",
    "    * Sample the positions and velocities from a Normal distribution\n",
    "    * Suggested scales (i.e. standard deviation) are: 0.04 kpc and 1 km/s\n",
    "    * Set the mean positions and velocities such that mean is the a circular orbit at $R = 8.2$ kpc assuming gala's `MilkyWayPotential`\n",
    "2. Integrate the orbits forward in time and inspect the distribution\n",
    "    * Integrate the orbits for 2 Gyr\n",
    "    * Inspect the distribution in $z$-$v_z$ at several intermediate times (like the figure below)\n",
    "3. Repeat step two but now slightly perturb the distribution:\n",
    "    * give the distribution a mean $z$ value of 0.1 kpc and a mean $v_z$ value of 2 km/s\n",
    "    * Integrate and inspect the evolution of the distribution\n",
    "4. (Optional) repeat step 3 for different offsets and/or different initial conditions\n",
    "    * Inspect the evolution of the distribution in other phase-space projections\n",
    "    * Place the distribution at a larger initial $z$ or $v_z$ value\n",
    "    * ... or at a different initial $R$\n",
    "    * ... or in a different potential\n",
    "    * ... or use a different initial scale for the Normal distribution\n",
    "    * What are the differences? Does the phase space spiral always evolve at the same speed? What influences the shape and/or evolution time?\n",
    "    * Colour the stars by the orbital energy (= potential + kinetic) - what does it look like?\n",
    "\n",
    "The final distribution should look something like \n",
    "\n",
    "![](./imgs/phase-space-spiral.png)\n",
    "\n",
    "See also the extended data figure 3 of [Antoja et al. (2018)](https://arxiv.org/abs/1804.10196)."
   ]
  },
  {
   "cell_type": "code",
   "execution_count": null,
   "id": "6c65ed4c",
   "metadata": {},
   "outputs": [],
   "source": [
    "rng = np.random.RandomState(313)"
   ]
  },
  {
   "cell_type": "code",
   "execution_count": null,
   "id": "37f58238",
   "metadata": {},
   "outputs": [],
   "source": [
    "def make_fig(orbit):\n",
    "    fig, axes = plt.subplots(ncols=5, figsize=(30, 5), sharex=True, sharey=True)\n",
    "\n",
    "    text_args = dict(x=0.98, y=0.99, va=\"top\", ha=\"right\", fontsize=25)\n",
    "\n",
    "    for (o, time, ax) in zip(orbit, orbit.t, axes):\n",
    "        plt.text(s=time.to(\"Gyr\"), transform=ax.transAxes, **text_args)\n",
    "        ax.scatter(o.z.to(\"kpc\"), o.v_z.to(\"km/s\"), s=0.1, c=\"k\")\n",
    "\n",
    "        if time.value == 0:\n",
    "            ax.axvline(0, c=\"gray\", zorder=0, ls=\"--\")\n",
    "            ax.axhline(0, c=\"gray\", zorder=0, ls=\"--\")\n",
    "\n",
    "        ax.set_xlabel(\"$z$ [kpc]\")\n",
    "    axes[0].set_ylabel(\"$v_z$ [km/s]\")\n",
    "\n",
    "    plt.show()"
   ]
  },
  {
   "cell_type": "code",
   "execution_count": null,
   "id": "28775f60",
   "metadata": {},
   "outputs": [],
   "source": [
    "def orbit_from_w0(w0, H=None, t_end=2 * u.Gyr, n_steps=5):\n",
    "    if H is None:\n",
    "        pot = gp.MilkyWayPotential(units=galactic)\n",
    "        H = gp.Hamiltonian(pot)\n",
    "\n",
    "    return H.integrate_orbit(\n",
    "        w0, t1=0, t2=t_end, n_steps=n_steps, Integrator=gi.DOPRI853Integrator\n",
    "    )"
   ]
  },
  {
   "cell_type": "code",
   "execution_count": null,
   "id": "34985143",
   "metadata": {},
   "outputs": [],
   "source": [
    "# Milky Way-like potential\n",
    "pot = gp.MilkyWayPotential(units=galactic)\n",
    "H = gp.Hamiltonian(pot)"
   ]
  },
  {
   "cell_type": "code",
   "execution_count": null,
   "id": "8ff9d7b6",
   "metadata": {},
   "outputs": [],
   "source": [
    "# Generating a mock distribution centered on a circular orbit at the solar position\n",
    "\n",
    "x_0 = -8.2\n",
    "vy_0 = pot.circular_velocity([x_0, 0, 0] * u.kpc).to(\"km/s\").value\n",
    "N_particles = 1_000\n",
    "\n",
    "pos = rng.normal(loc=[x_0, 0, 0], scale=0.1, size=(N_particles, 3)).T\n",
    "vel = rng.normal(loc=[0, *vy_0, 0], scale=1, size=(N_particles, 3)).T\n",
    "\n",
    "# (pos, vel) -> gala.dynamics.PhaseSpacePosition\n",
    "w0 = gd.PhaseSpacePosition(pos=pos * u.kpc, vel=vel * u.km / u.s)"
   ]
  },
  {
   "cell_type": "code",
   "execution_count": null,
   "id": "ae28bec1",
   "metadata": {},
   "outputs": [],
   "source": [
    "# Integrating the distribution for 100 Myr\n",
    "orbit = orbit_from_w0(w0, H, t_end=100 * u.Myr)"
   ]
  },
  {
   "cell_type": "code",
   "execution_count": null,
   "id": "f9161276",
   "metadata": {},
   "outputs": [],
   "source": [
    "make_fig(orbit)"
   ]
  },
  {
   "cell_type": "markdown",
   "id": "9a39b87b",
   "metadata": {},
   "source": [
    "### $10^4$ stars - $2$ Gyr - no offset"
   ]
  },
  {
   "cell_type": "code",
   "execution_count": null,
   "id": "7bc4c292",
   "metadata": {},
   "outputs": [],
   "source": [
    "# Repeating for a larger distribution and longer time\n",
    "N_star = 10_000\n",
    "pos = rng.normal(loc=[x_0, 0, 0], scale=0.04, size=(N_star, 3)).T\n",
    "vel = rng.normal(loc=[0, *vy_0, 0], scale=1, size=(N_star, 3)).T\n",
    "\n",
    "w0 = gd.PhaseSpacePosition(pos=pos * u.kpc, vel=vel * u.km / u.s)\n",
    "\n",
    "orbit = orbit_from_w0(w0, H)\n",
    "\n",
    "make_fig(orbit)"
   ]
  },
  {
   "cell_type": "markdown",
   "id": "15b6c8bf",
   "metadata": {},
   "source": [
    "### $10^4$ stars - $2$ Gyr - with offset"
   ]
  },
  {
   "cell_type": "code",
   "execution_count": null,
   "id": "81dca786",
   "metadata": {},
   "outputs": [],
   "source": [
    "# Repeating for a larger distribution and longer time\n",
    "N_star = 10_000\n",
    "pos = rng.normal(loc=[x_0, 0, 0.1], scale=0.04, size=(N_star, 3)).T\n",
    "vel = rng.normal(loc=[0, *vy_0, 2], scale=1, size=(N_star, 3)).T\n",
    "\n",
    "# Offset based on Antoja et al. 2018\n",
    "# https://arxiv.org/abs/1804.10196\n",
    "\n",
    "w0 = gd.PhaseSpacePosition(pos=pos * u.kpc, vel=vel * u.km / u.s)\n",
    "\n",
    "orbit = orbit_from_w0(w0, H)\n",
    "\n",
    "make_fig(orbit)"
   ]
  },
  {
   "cell_type": "code",
   "execution_count": null,
   "id": "274ff7e6",
   "metadata": {},
   "outputs": [],
   "source": []
  }
 ],
 "metadata": {
  "kernelspec": {
   "display_name": "Python [conda env:root] *",
   "language": "python",
   "name": "conda-root-py"
  },
  "language_info": {
   "codemirror_mode": {
    "name": "ipython",
    "version": 3
   },
   "file_extension": ".py",
   "mimetype": "text/x-python",
   "name": "python",
   "nbconvert_exporter": "python",
   "pygments_lexer": "ipython3",
   "version": "3.8.3"
  },
  "toc": {
   "base_numbering": 1,
   "nav_menu": {},
   "number_sections": true,
   "sideBar": true,
   "skip_h1_title": false,
   "title_cell": "Table of Contents",
   "title_sidebar": "Contents",
   "toc_cell": false,
   "toc_position": {},
   "toc_section_display": true,
   "toc_window_display": false
  }
 },
 "nbformat": 4,
 "nbformat_minor": 5
}
