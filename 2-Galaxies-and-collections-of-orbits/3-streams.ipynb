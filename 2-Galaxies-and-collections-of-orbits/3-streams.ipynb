{
 "cells": [
  {
   "cell_type": "code",
   "execution_count": null,
   "metadata": {},
   "outputs": [],
   "source": [
    "%matplotlib inline\n",
    "%run ../setup/nb_setup"
   ]
  },
  {
   "cell_type": "markdown",
   "metadata": {},
   "source": [
    "# Collections of Orbits 3: Stellar streams\n",
    "\n",
    "Author(s): Helmer Koppelman\n",
    "\n",
    "\n",
    "## Introduction\n",
    "\n",
    "In this notebook we will analyze the evolution of stellar systems like globular clusters and other satellites in Milky Way like galaxies. We will assume that the mock satellite *magically* becomes gravitationally unbound once it is launched on some initial orbit. \n",
    "\n",
    "For simplicty we will generate mock stellar systems from a normal distribution - for extra kudos you can use the self-consistent Plummer systems from Notebook 2!\n",
    "\n",
    "\n",
    "### Notebook Setup and Package Imports"
   ]
  },
  {
   "cell_type": "code",
   "execution_count": null,
   "metadata": {},
   "outputs": [],
   "source": [
    "# Essential - general\n",
    "import numpy as np\n",
    "import matplotlib.pyplot as plt\n",
    "\n",
    "# Essential - astro\n",
    "import astropy.units as u\n",
    "import gala.integrate as gi\n",
    "import gala.dynamics as gd\n",
    "import gala.potential as gp\n",
    "from gala.units import galactic\n",
    "\n",
    "# Style\n",
    "import matplotlib as mpl\n",
    "import matplotlib.cm as cm"
   ]
  },
  {
   "cell_type": "markdown",
   "metadata": {},
   "source": [
    "### Streams in a spherical potential  \n",
    "\n",
    "Insert a particle at the centre of the system, i.e. located at (x,v) = (0,0) [kpc, km/s]. Next put the system on the orbit specified below and integrate the system (i.e. the 10$^4$ + 1 particles) for 5 Gyr in an Milky Way potential (i.e. the gala `gala.potential.MilkyWayPotential`).\n",
    "\n",
    "\n",
    "- Plot the spatial evolution of the system in two planes (e.g. (x,y) and (x,z)) and at various times (e.g. 1, 2, ..., 5 Gyr)  \n",
    "- Comment on the behaviour of the particles as time goes by. What do you see happens? Can you explain qualitatively the reason for the behaviour observed?\n",
    "- What are the differences in the behaviour between the orbits? \n",
    "- How would you explain the differing behaviours?\n",
    "- Colour the particles by the orbital energy and discuss the results. What is the energy of the leading arm relative to the central particle? And what about the trailing arm?\n",
    "- Take the central particle and one random other particle and calculate the evolution of their separation $r(t) = |\\vec{x_1} - \\vec{x_2}|$. What do you find? How does this depend on the orbits?\n",
    "- What happens if you change the size of the initial distribution?\n",
    "\n",
    "Hint 1: gala can compute the orbital energy using `orbit.energy()`.  \\\n",
    "Hint 2: overplot the central orbit on the spatial evolution and use it to explain what you see. Is the stream always aligned with this, why or why not?     \\\n",
    "Hint 3: Orbit 2 might take a long time with the `DOP853` integrator.  \n",
    "\n",
    "---\n",
    "\n",
    "(Advanced: probably this will take too much time!)  \n",
    "In a sphere of radius 2 kpc centred on the central particle, inspect and discuss: \n",
    "- the number density of particles inside this volume as a function of time\n",
    "- the total velocity dispersion of the same particles as a function of time $(\\sigma_v = \\sqrt{\\sigma_{vx}^2+\\sigma_{vy}^2+\\sigma_{vz}^2})$    \n",
    "\n",
    "NB: for this exercise more particles is better if your device can handle it.\n",
    "\n"
   ]
  },
  {
   "cell_type": "code",
   "execution_count": null,
   "metadata": {},
   "outputs": [],
   "source": [
    "potential = gp.MilkyWayPotential(units=galactic)"
   ]
  },
  {
   "cell_type": "code",
   "execution_count": null,
   "metadata": {},
   "outputs": [],
   "source": [
    "def get_central_IC(orbit=\"1\"):\n",
    "\n",
    "    # Orbit 1 - Regular (loop)\n",
    "    if orbit == \"1\":\n",
    "        pos = [8.0, 0, 8.0] * u.kpc\n",
    "        vel = [0, 150, 0] * u.km / u.s\n",
    "\n",
    "    # Orbit 2 - (?)\n",
    "    if orbit == \"2\":\n",
    "        pos = [7.7, 0.0, -2.3] * u.kpc\n",
    "        vel = [-66, 2, 98] * u.km / u.s\n",
    "\n",
    "    # Orbit 3 - Regular (radial)\n",
    "    if orbit == \"3\":\n",
    "        pos = [8.0, 0, 8.0] * u.kpc\n",
    "        vel = [0, 0, 0] * u.km / u.s\n",
    "\n",
    "    # Orbit 4 - ciruclar\n",
    "    if orbit == \"4\":\n",
    "        pos = [8.0, 0, 0] * u.kpc\n",
    "        vc = potential.circular_velocity(pos)\n",
    "        vel = vc * [0, 1, 0]\n",
    "    return pos, vel\n",
    "\n",
    "\n",
    "pos_c, vel_c = get_central_IC(orbit=\"1\")"
   ]
  },
  {
   "cell_type": "markdown",
   "metadata": {},
   "source": [
    "### Code example"
   ]
  },
  {
   "cell_type": "code",
   "execution_count": null,
   "metadata": {},
   "outputs": [],
   "source": [
    "rng = np.random.default_rng(3)\n",
    "\n",
    "# first: generate IC at origin\n",
    "# then: centre IC on orbit\n",
    "\n",
    "N = 1_000\n",
    "pos = rng.normal(loc=0, scale=0.1, size=(3, N)) * u.kpc\n",
    "pos[:, 0] *= 0\n",
    "pos += pos_c[:, np.newaxis]\n",
    "\n",
    "vel = rng.normal(loc=0, scale=2, size=(3, N)) * u.km / u.s\n",
    "vel[:, 0] *= 0\n",
    "vel += vel_c[:, np.newaxis]\n",
    "\n",
    "\n",
    "w0 = gd.PhaseSpacePosition(pos=pos, vel=vel)"
   ]
  },
  {
   "cell_type": "code",
   "execution_count": null,
   "metadata": {},
   "outputs": [],
   "source": [
    "Hamiltonian = gp.Hamiltonian(potential)\n",
    "\n",
    "orbits = Hamiltonian.integrate_orbit(\n",
    "    w0, t=np.linspace(0, 2, 100) * u.Gyr, Integrator=gi.DOPRI853Integrator\n",
    ")\n",
    "\n",
    "orbit_c = Hamiltonian.integrate_orbit(\n",
    "    w0[0], t=np.linspace(0, 2, 5000) * u.Gyr, Integrator=gi.DOPRI853Integrator\n",
    ")"
   ]
  },
  {
   "cell_type": "code",
   "execution_count": null,
   "metadata": {},
   "outputs": [],
   "source": [
    "frames = np.arange(0, 5) * 25\n",
    "frames[-1] -= 1\n",
    "\n",
    "fig, axes = plt.subplots(ncols=5, figsize=(30, 5), sharex=True, sharey=True)\n",
    "\n",
    "text_args = dict(x=0.98, y=0.99, va=\"top\", ha=\"right\", fontsize=25)\n",
    "x, y, z = orbit_c.xyz\n",
    "\n",
    "for (frame, ax) in zip(frames, axes):\n",
    "    o, time = orbits[frame, :], orbits.t[frame]\n",
    "\n",
    "    plt.text(s=time.to(\"Gyr\").round(2), transform=ax.transAxes, **text_args)\n",
    "\n",
    "    ax.scatter(o.x.to(\"kpc\"), o.y.to(\"kpc\"), s=0.1, c=\"k\")\n",
    "    ax.plot(x, y)\n",
    "\n",
    "    ax.set_xlabel(\"$x$ [kpc]\")\n",
    "axes[0].set_ylabel(\"$y$ [kpc]\")\n",
    "\n",
    "plt.show()"
   ]
  },
  {
   "cell_type": "markdown",
   "metadata": {},
   "source": [
    "### Evolution of disance to centre of stream"
   ]
  },
  {
   "cell_type": "code",
   "execution_count": null,
   "metadata": {},
   "outputs": [],
   "source": [
    "Hamiltonian = gp.Hamiltonian(potential)\n",
    "\n",
    "orbits = Hamiltonian.integrate_orbit(\n",
    "    w0, t=np.linspace(0, 2, 500) * u.Gyr, Integrator=gi.DOPRI853Integrator\n",
    ")"
   ]
  },
  {
   "cell_type": "code",
   "execution_count": null,
   "metadata": {},
   "outputs": [],
   "source": [
    "# Distance between orbit 0 and orbit 1\n",
    "dr = np.linalg.norm(orbits[:, 0].xyz - orbits[:, 1].xyz, axis=0)"
   ]
  },
  {
   "cell_type": "code",
   "execution_count": null,
   "metadata": {},
   "outputs": [],
   "source": [
    "plt.plot(orbits.t, dr)\n",
    "plt.ylabel(r\"$|\\vec{x}_0 - \\vec{x}_1|$\" + \" [{}]\".format(dr.unit))\n",
    "plt.xlabel(\"time [{}]\".format(orbits.t.unit))"
   ]
  },
  {
   "cell_type": "code",
   "execution_count": null,
   "metadata": {},
   "outputs": [],
   "source": []
  },
  {
   "cell_type": "code",
   "execution_count": null,
   "metadata": {},
   "outputs": [],
   "source": []
  },
  {
   "cell_type": "markdown",
   "metadata": {},
   "source": [
    "### Bonus: 3D animations"
   ]
  },
  {
   "cell_type": "code",
   "execution_count": null,
   "metadata": {},
   "outputs": [],
   "source": [
    "# Click, drag, and zoom-in to inspect the orbit\n",
    "\n",
    "from IPython.core.display import display, HTML\n",
    "\n",
    "display(HTML(filename=\"./imgs/orbit-3d.html\"))\n",
    "# display(HTML(filename='./imgs/stream_animation.html'))\n",
    "# display(HTML(filename='./imgs/stream_cats.html')) # Yes, those are cats."
   ]
  },
  {
   "cell_type": "code",
   "execution_count": null,
   "metadata": {},
   "outputs": [],
   "source": [
    "%%script false --no-raise-error\n",
    "\n",
    "# potential = gp.IsochronePotential(m=1e11*u.Msun, b=2*u.kpc, units=gala.units.galactic)\n",
    "potential = gp.MilkyWayPotential(units=galactic)\n",
    "Hamiltonian = gp.Hamiltonian(potential)\n",
    "\n",
    "\n",
    "w0 = gd.PhaseSpacePosition(\n",
    "    pos=[8, 0, 0] * u.kpc, vel=[50, 200, 100] * u.km / u.s  # xyz\n",
    ")  # v_xyz\n",
    "\n",
    "orbit = Hamiltonian.integrate_orbit(\n",
    "    w0, dt=1.0 * u.Myr, n_steps=10_000, Integrator=gi.LeapfrogIntegrator\n",
    ")  # default"
   ]
  },
  {
   "cell_type": "code",
   "execution_count": null,
   "metadata": {
    "scrolled": false
   },
   "outputs": [],
   "source": [
    "%%script false --no-raise-error\n",
    "\n",
    "import ipyvolume as ipv\n",
    "\n",
    "fig = ipv.figure(width=500, height=500)\n",
    "ipv.plot(*orbit.xyz.value, color=\"gold\")\n",
    "\n",
    "ipv.xyzlim(-15, 15)\n",
    "ipv.xlabel(\"x [kpc]\")\n",
    "ipv.ylabel(\"y [kpc]\")\n",
    "ipv.zlabel(\"z [kpc]\")\n",
    "\n",
    "ipv.style.use(\"dark\")\n",
    "# ipv.save('./imgs/orbit-3d.html')\n",
    "ipv.show()"
   ]
  },
  {
   "cell_type": "code",
   "execution_count": null,
   "metadata": {},
   "outputs": [],
   "source": [
    "%%script false --no-raise-error\n",
    "\n",
    "import ipyvolume.datasets\n",
    "\n",
    "stream = ipyvolume.datasets.animated_stream.fetch()\n",
    "print(\n",
    "    \"shape of steam data\", stream.data.shape\n",
    ")  # first dimension contains x, y, z, vx, vy, vz, then time, then particle"
   ]
  },
  {
   "cell_type": "code",
   "execution_count": null,
   "metadata": {},
   "outputs": [],
   "source": [
    "%%script false --no-raise-error\n",
    "\n",
    "orbits = Hamiltonian.integrate_orbit(\n",
    "    w0, t=np.linspace(0, 2, 1000) * u.Gyr, Integrator=gi.DOPRI853Integrator\n",
    ")"
   ]
  },
  {
   "cell_type": "code",
   "execution_count": null,
   "metadata": {},
   "outputs": [],
   "source": [
    "%%script false --no-raise-error\n",
    "\n",
    "fig = ipv.figure()\n",
    "\n",
    "q = ipv.scatter(*orbits.xyz.value, color=\"red\", size=2, marker=\"circle_2d\")\n",
    "# q = ipv.quiver(*orbits.xyz.value[:,:,:100], *orbits.v_xyz.value[:,:,:100], color=\"red\", size=7, marker='cat')\n",
    "\n",
    "ipv.plot(*orbits[:, 0].xyz.value, color=\"gold\")\n",
    "\n",
    "\n",
    "ipv.style.use(\"dark\")  # looks better\n",
    "ipv.animation_control(q, interval=20)\n",
    "fig.animation = 2.0\n",
    "\n",
    "# ipv.save('./imgs/stream_animation.html')\n",
    "ipv.show()"
   ]
  },
  {
   "cell_type": "code",
   "execution_count": null,
   "metadata": {},
   "outputs": [],
   "source": [
    "%%script false --no-raise-error\n",
    "\n",
    "\n",
    "import ipyvolume as ipv\n",
    "\n",
    "fig = ipv.figure(width=500, height=500)\n",
    "ipv.plot(*orbit.xyz.value, color=\"gold\")\n",
    "\n",
    "ipv.xyzlim(-15, 15)\n",
    "ipv.xlabel(\"x [kpc]\")\n",
    "ipv.ylabel(\"y [kpc]\")\n",
    "ipv.zlabel(\"z [kpc]\")\n",
    "\n",
    "ipv.style.use(\"dark\")\n",
    "# ipv.save('./imgs/orbit-3d.html')\n",
    "ipv.show()"
   ]
  }
 ],
 "metadata": {
  "kernelspec": {
   "display_name": "Python 3",
   "language": "python",
   "name": "python3"
  },
  "language_info": {
   "codemirror_mode": {
    "name": "ipython",
    "version": 3
   },
   "file_extension": ".py",
   "mimetype": "text/x-python",
   "name": "python",
   "nbconvert_exporter": "python",
   "pygments_lexer": "ipython3",
   "version": "3.8.3"
  },
  "toc": {
   "base_numbering": 1,
   "nav_menu": {},
   "number_sections": true,
   "sideBar": true,
   "skip_h1_title": false,
   "title_cell": "Table of Contents",
   "title_sidebar": "Contents",
   "toc_cell": false,
   "toc_position": {},
   "toc_section_display": true,
   "toc_window_display": false
  }
 },
 "nbformat": 4,
 "nbformat_minor": 2
}
