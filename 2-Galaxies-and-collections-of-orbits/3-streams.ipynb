{
 "cells": [
  {
   "cell_type": "markdown",
   "metadata": {},
   "source": [
    "# 3: Streams "
   ]
  },
  {
   "cell_type": "code",
   "execution_count": 1,
   "metadata": {},
   "outputs": [],
   "source": [
    "# Essential imports\n",
    "import numpy as np\n",
    "import matplotlib as mpl\n",
    "import matplotlib.pyplot as plt\n"
   ]
  },
  {
   "cell_type": "code",
   "execution_count": 2,
   "metadata": {},
   "outputs": [
    {
     "data": {
      "text/html": [
       "<style>.container { width:100% !important; }</style>"
      ],
      "text/plain": [
       "<IPython.core.display.HTML object>"
      ]
     },
     "metadata": {},
     "output_type": "display_data"
    }
   ],
   "source": [
    "# Non-essential imports\n",
    "# Wider notebook:\n",
    "from IPython.core.display import display, HTML\n",
    "display(HTML(\"<style>.container { width:100% !important; }</style>\"))\n",
    "\n",
    "# Fancy figures\n",
    "%matplotlib inline\n",
    "%config InlineBackend.figure_format = 'retina'\n",
    "\n",
    "mpl.rcParams['axes.labelsize'] = 20\n",
    "mpl.rcParams['xtick.labelsize'] = 16\n",
    "mpl.rcParams['ytick.labelsize'] = 16\n",
    "mpl.rcParams['lines.linewidth'] = 3\n",
    "mpl.rcParams['lines.markersize'] = 10"
   ]
  },
  {
   "cell_type": "markdown",
   "metadata": {},
   "source": [
    "# 3.1: Streams in a spherical potential  \n",
    "\n",
    "Insert a particle at the centre of the system, i.e. located at (x,v) = (0,0) [kpc, km/s]. Next put the system on the orbit specified below and integrate the system (i.e. the 10$^4$ + 1 particles) for 5 Gyr in an NFW potential with $M = 0.8\\cdot10^{12}~{\\rm M}_\\odot$ and $r_s = 16$ kpc\n",
    "\n",
    "\n",
    "Plot the spatial evolution of the system in two planes (e.g. (x,y) and (x,z)) and at various times (e.g. 0,1,2,3,4, and 5 Gyr)  \n",
    "- Comment on the behaviour of the particles as time goes by. What do you see happens? Can you explain qualitatively the reason for the behaviour observed?\n",
    "- What are the differences in the behaviour between the orbits? \n",
    "- How would you explain the differing behaviours?\n",
    "\n",
    "In a sphere of radius 1 kpc centred on the central particle, inspect and discuss: \n",
    "- the number density of particles inside this volume as a function of time\n",
    "- the total velocity dispersion of the same particles as a function of time $(\\sigma_v = \\sqrt{\\sigma_{vx}^2+\\sigma_{vy}^2+\\sigma_{vz}^2})$    \n",
    "\n",
    "Hint : overplot the central orbit on the spatial evolution and use it to explain what you see.  \n"
   ]
  },
  {
   "cell_type": "code",
   "execution_count": 3,
   "metadata": {},
   "outputs": [],
   "source": [
    "# Orbit NFW\n",
    "pos = [8.0,0,8.0] # kpc\n",
    "vel = [0,150,0] # km/s "
   ]
  },
  {
   "cell_type": "markdown",
   "metadata": {},
   "source": [
    "# 3.2: Streams in a Galactic potential"
   ]
  },
  {
   "cell_type": "markdown",
   "metadata": {},
   "source": [
    "Repeat the analysis Section 3. but integrate the system that you generated for 5 Gyr in the Galactic potential implemented in gala `gala.potential.MilkyWayPotential`.  \n",
    "Put the system on the orbits specified below (`Orbit 1` is the same as `Orbit NFW` from above).\n",
    "\n",
    "Plot the spatial evolution of the system in two planes (e.g. (x,y) and (x,z)) and at various times (e.g. 0,1,2,3,4, and 5 Gyr)  \n",
    "- Comment on the behaviour of the particles as time goes by. What do you see happens? Can you explain qualitatively the reason for the behaviour observed?\n",
    "- What are the differences in the behaviour between the orbits? \n",
    "- How would you explain the differing behaviours?  \n",
    "\n",
    "In a sphere of radius 1 kpc centred on the central particle, inspect and discuss: \n",
    "- the number density of particles inside this volume as a function of time\n",
    "- the total velocity dispersion of the same particles as a function of time $(\\sigma_v = \\sqrt{\\sigma_{vx}^2+\\sigma_{vy}^2+\\sigma_{vz}^2})$\n",
    "\n",
    "At some intermediate time, once a stream has clearly developed, identify (visually) a particle in the leading arm of the stream and one in the trailing arm. Compute their total orbital energy.  \n",
    "How do they differ? How do they compare to the energy of the central particle?  \n",
    "Why do you think their energy is related to their location in a leading or trailing arm?\n",
    "\n",
    "Hint 1: gala can compute the orbital energy using `orbit.energy()`.  \n",
    "Hint 2: overplot the central orbit on the spatial evolution and use it to explain what you see.  \n",
    "Hint 3: The chaotic orbit might take a long time with the `DOP853` integrator (see below for details).\n",
    "\n",
    "For `Orbit 1`, what are the difference that you find w.r.t. the NFW potential?  \n",
    "What drives these differences?\n"
   ]
  },
  {
   "cell_type": "code",
   "execution_count": 4,
   "metadata": {},
   "outputs": [],
   "source": [
    "# Orbit 1 - Regular  [the units are kpc and km/s, respectively for positions and velocities]\n",
    "pos = [8.0,0,8.0]\n",
    "vel = [0,150,0]\n",
    "\n",
    "# Orbit 2 - Chaotic\n",
    "pos = [7.7,0.,-2.3]\n",
    "vel = [-66,2,98]\n",
    "\n",
    "# Orbit 3 - Regular (radial)\n",
    "pos = [8.0,0,8.0]\n",
    "vel = [0,0,0]"
   ]
  }
 ],
 "metadata": {
  "kernelspec": {
   "display_name": "Python 3",
   "language": "python",
   "name": "python3"
  },
  "language_info": {
   "codemirror_mode": {
    "name": "ipython",
    "version": 3
   },
   "file_extension": ".py",
   "mimetype": "text/x-python",
   "name": "python",
   "nbconvert_exporter": "python",
   "pygments_lexer": "ipython3",
   "version": "3.7.10"
  }
 },
 "nbformat": 4,
 "nbformat_minor": 2
}
