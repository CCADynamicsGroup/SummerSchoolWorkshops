{
 "cells": [
  {
   "cell_type": "markdown",
   "id": "1c139230",
   "metadata": {},
   "source": [
    "TODO: more exercises? Try other stars, etc...?"
   ]
  },
  {
   "cell_type": "code",
   "execution_count": null,
   "id": "31649a75",
   "metadata": {
    "ExecuteTime": {
     "end_time": "2021-07-04T03:06:49.422375Z",
     "start_time": "2021-07-04T03:06:49.155791Z"
    },
    "nbsphinx": "hidden"
   },
   "outputs": [],
   "source": [
    "%run ../setup/nb_setup\n",
    "%matplotlib inline"
   ]
  },
  {
   "cell_type": "markdown",
   "id": "019e7138",
   "metadata": {},
   "source": [
    "# Compute a Galactic orbit for a star using Gaia data\n",
    "\n",
    "Author(s): Adrian Price-Whelan\n",
    "\n",
    "\n",
    "## Learning goals\n",
    "\n",
    "In this tutorial, we will retrieve the sky coordinates, astrometry, and radial velocity for a star — [Kepler-444](https://en.wikipedia.org/wiki/Kepler-444) — and compute its orbit in the default Milky Way mass model implemented in Gala. We will compare the orbit of Kepler-444 to the orbit of the Sun and a random sample of nearby stars.\n",
    "\n",
    "\n",
    "## Introduction\n",
    "\n",
    "TODO\n",
    "\n",
    "\n",
    "## Terminology and Notation\n",
    "\n",
    "- TODO\n",
    "\n",
    "\n",
    "### Notebook Setup and Package Imports"
   ]
  },
  {
   "cell_type": "code",
   "execution_count": null,
   "id": "7f8f3af7",
   "metadata": {
    "ExecuteTime": {
     "end_time": "2021-07-04T03:06:50.624762Z",
     "start_time": "2021-07-04T03:06:49.424612Z"
    }
   },
   "outputs": [],
   "source": [
    "import astropy.coordinates as coord\n",
    "import astropy.units as u\n",
    "import numpy as np\n",
    "import matplotlib.pyplot as plt\n",
    "\n",
    "%matplotlib inline\n",
    "from mpl_toolkits.mplot3d import Axes3D\n",
    "from pyia import GaiaData\n",
    "\n",
    "# Gala\n",
    "import gala.dynamics as gd\n",
    "import gala.potential as gp"
   ]
  },
  {
   "cell_type": "markdown",
   "id": "e004622a",
   "metadata": {},
   "source": [
    "## Define a Galactocentric Coordinate Frame\n",
    "\n",
    "We will start by defining a Galactocentric coordinate system using `astropy.coordinates` by adopting the latest parameter set for the Solar position and velocity with respect to the Galactic Center implemented in Astropy."
   ]
  },
  {
   "cell_type": "code",
   "execution_count": null,
   "id": "7af62b84",
   "metadata": {
    "ExecuteTime": {
     "end_time": "2021-07-04T03:06:50.635636Z",
     "start_time": "2021-07-04T03:06:50.627140Z"
    }
   },
   "outputs": [],
   "source": [
    "with coord.galactocentric_frame_defaults.set(\"v4.0\"):\n",
    "    galcen_frame = coord.Galactocentric()\n",
    "galcen_frame"
   ]
  },
  {
   "cell_type": "markdown",
   "id": "2788ba12",
   "metadata": {},
   "source": [
    "## Define the Solar Position and Velocity"
   ]
  },
  {
   "cell_type": "markdown",
   "id": "1d80a874",
   "metadata": {},
   "source": [
    "In this coordinate system, the sun is along the $x$-axis (at a negative $x$ value), and the Galactic rotation at this position is in the $+y$ direction. In this coordinate system, the 3D position of the sun is therefore given by:"
   ]
  },
  {
   "cell_type": "code",
   "execution_count": null,
   "id": "24ccad41",
   "metadata": {
    "ExecuteTime": {
     "end_time": "2021-07-04T03:06:50.641456Z",
     "start_time": "2021-07-04T03:06:50.638340Z"
    }
   },
   "outputs": [],
   "source": [
    "sun_xyz = u.Quantity(\n",
    "    [-galcen_frame.galcen_distance, 0 * u.kpc, galcen_frame.z_sun]  # x  # y  # z\n",
    ")"
   ]
  },
  {
   "cell_type": "markdown",
   "id": "208660e0",
   "metadata": {},
   "source": [
    "We can combine this with the solar velocity vector (set on the `astropy.coordinates.Galactocentric` frame) to define the sun's phase-space position, which we will use as initial conditions shortly to compute the orbit of the Sun:"
   ]
  },
  {
   "cell_type": "code",
   "execution_count": null,
   "id": "fc11c51c",
   "metadata": {
    "ExecuteTime": {
     "end_time": "2021-07-04T03:06:50.646610Z",
     "start_time": "2021-07-04T03:06:50.643878Z"
    }
   },
   "outputs": [],
   "source": [
    "sun_w0 = gd.PhaseSpacePosition(pos=sun_xyz, vel=galcen_frame.galcen_v_sun)"
   ]
  },
  {
   "cell_type": "markdown",
   "id": "053762a5",
   "metadata": {},
   "source": [
    "To compute the sun's orbit, we need to specify a mass model for the Galaxy. Here, we will use the default Milky Way mass model implemented in Gala, which is defined in detail in the Gala documentation: [Defining a Milky Way model](define-milky-way-model.html). Here, we will initialize the potential model with default parameters:"
   ]
  },
  {
   "cell_type": "code",
   "execution_count": null,
   "id": "b79fa582",
   "metadata": {
    "ExecuteTime": {
     "end_time": "2021-07-04T03:06:50.659229Z",
     "start_time": "2021-07-04T03:06:50.648510Z"
    }
   },
   "outputs": [],
   "source": [
    "mw_potential = gp.MilkyWayPotential()\n",
    "mw_potential"
   ]
  },
  {
   "cell_type": "markdown",
   "id": "2473f7e8",
   "metadata": {},
   "source": [
    "This potential is composed of four mass components meant to represent simple models of the different structural components of the Milky Way:"
   ]
  },
  {
   "cell_type": "code",
   "execution_count": null,
   "id": "42fb16d7",
   "metadata": {
    "ExecuteTime": {
     "end_time": "2021-07-04T03:06:50.664738Z",
     "start_time": "2021-07-04T03:06:50.661280Z"
    }
   },
   "outputs": [],
   "source": [
    "for k, pot in mw_potential.items():\n",
    "    print(f\"{k}: {pot!r}\")"
   ]
  },
  {
   "cell_type": "markdown",
   "id": "c4bfe593",
   "metadata": {},
   "source": [
    "With a potential model for the Galaxy and initial conditions for the sun, we can now compute the Sun's orbit using the default integrator (Leapfrog integration): We will compute the orbit for 4 Gyr, which is about 16 orbital periods."
   ]
  },
  {
   "cell_type": "code",
   "execution_count": null,
   "id": "262e06b2",
   "metadata": {
    "ExecuteTime": {
     "end_time": "2021-07-04T03:06:50.677593Z",
     "start_time": "2021-07-04T03:06:50.669913Z"
    }
   },
   "outputs": [],
   "source": [
    "sun_orbit = mw_potential.integrate_orbit(sun_w0, dt=0.5 * u.Myr, t1=0, t2=4 * u.Gyr)"
   ]
  },
  {
   "cell_type": "markdown",
   "id": "ba128861",
   "metadata": {},
   "source": [
    "## Retrieve Gaia Data for Kepler-444"
   ]
  },
  {
   "cell_type": "markdown",
   "id": "6a2825b9",
   "metadata": {},
   "source": [
    "For our comparison star, we will use the exoplanet-hosting star Kepler-444. To get Gaia data for this source, we first have to retrieve its sky coordinates so that we can do a positional cross-match query on the Gaia catalog. We can retrieve the sky position of Kepler-444 using the `SkyCoord.from_name()` classmethod, which queries Simbad under the hood to resolve the name:"
   ]
  },
  {
   "cell_type": "code",
   "execution_count": null,
   "id": "df49a921",
   "metadata": {
    "ExecuteTime": {
     "end_time": "2021-07-04T03:06:50.701161Z",
     "start_time": "2021-07-04T03:06:50.679673Z"
    }
   },
   "outputs": [],
   "source": [
    "star_sky_c = coord.SkyCoord.from_name(\"Kepler-444\")\n",
    "star_sky_c"
   ]
  },
  {
   "cell_type": "markdown",
   "id": "c907b400",
   "metadata": {},
   "source": [
    "We happen to know a priori that Kepler-444 has a large proper motion, so the sky position reported by Simbad (unknown epoch) could be off from the Gaia sky position (epoch=2016) by many arcseconds. To run and retrieve the Gaia data, we will use the [pyia](http://pyia.readthedocs.io/) package: We can pass in an ADQL query, which `pyia` uses to query the Gaia science archive using `astroquery`, and returns the data as a `pyia` object that understands how to convert the Gaia data columns into a `astropy.coordinates.SkyCoord` object. To run the query, we will do a large sky position cross-match (with a radius of 15 arcseconds), and take the brightest cross-matched source within this region:"
   ]
  },
  {
   "cell_type": "code",
   "execution_count": null,
   "id": "26f72b35",
   "metadata": {
    "ExecuteTime": {
     "end_time": "2021-07-04T03:06:53.258519Z",
     "start_time": "2021-07-04T03:06:50.703028Z"
    }
   },
   "outputs": [],
   "source": [
    "star_gaia = GaiaData.from_query(\n",
    "    f\"\"\"\n",
    "    SELECT TOP 1 * FROM gaiaedr3.gaia_source\n",
    "    WHERE 1=CONTAINS(\n",
    "        POINT('ICRS', {star_sky_c.ra.degree}, {star_sky_c.dec.degree}),\n",
    "        CIRCLE('ICRS', ra, dec, {(15*u.arcsec).to_value(u.degree)})\n",
    "    )\n",
    "    ORDER BY phot_g_mean_mag\n",
    "    \"\"\"\n",
    ")\n",
    "star_gaia"
   ]
  },
  {
   "cell_type": "markdown",
   "id": "314d37dc",
   "metadata": {},
   "source": [
    "We will assume (and hope!) that this source is Kepler-444, but we know that it is fairly bright compared to a typical Gaia source, so we should be safe.\n",
    "\n",
    "We can now use the returned `pyia.GaiaData` object to convert the Gaia astrometric and radial velocity measurements into an Astropy `SkyCoord` object (with all position and velocity data):"
   ]
  },
  {
   "cell_type": "code",
   "execution_count": null,
   "id": "30a4be83",
   "metadata": {
    "ExecuteTime": {
     "end_time": "2021-07-04T03:06:53.267162Z",
     "start_time": "2021-07-04T03:06:53.260031Z"
    }
   },
   "outputs": [],
   "source": [
    "star_gaia_c = star_gaia.get_skycoord()\n",
    "star_gaia_c"
   ]
  },
  {
   "cell_type": "markdown",
   "id": "eb0fe679",
   "metadata": {},
   "source": [
    "To compute this star's Galactic orbit, we need to convert its observed, Heliocentric (actually solar system barycentric) data into the Galactocentric coordinate frame we defined above. To do this, we will use the `astropy.coordinates` transformation framework:"
   ]
  },
  {
   "cell_type": "code",
   "execution_count": null,
   "id": "3767d570",
   "metadata": {
    "ExecuteTime": {
     "end_time": "2021-07-04T03:06:53.292028Z",
     "start_time": "2021-07-04T03:06:53.269751Z"
    }
   },
   "outputs": [],
   "source": [
    "star_galcen = star_gaia_c.transform_to(galcen_frame)\n",
    "star_galcen"
   ]
  },
  {
   "cell_type": "markdown",
   "id": "81a875c1",
   "metadata": {},
   "source": [
    "Now with Galactocentric position and velocity components for Kepler-444, we can create Gala initial conditions and compute its orbit on the time grid used to compute the Sun's orbit above:"
   ]
  },
  {
   "cell_type": "code",
   "execution_count": null,
   "id": "35391a7e",
   "metadata": {
    "ExecuteTime": {
     "end_time": "2021-07-04T03:06:53.308260Z",
     "start_time": "2021-07-04T03:06:53.293880Z"
    }
   },
   "outputs": [],
   "source": [
    "star_w0 = gd.PhaseSpacePosition(star_galcen.data)\n",
    "star_orbit = mw_potential.integrate_orbit(star_w0, t=sun_orbit.t)"
   ]
  },
  {
   "cell_type": "code",
   "execution_count": null,
   "id": "d50dd609",
   "metadata": {
    "ExecuteTime": {
     "end_time": "2021-07-04T03:06:54.003945Z",
     "start_time": "2021-07-04T03:06:53.311947Z"
    },
    "lines_to_next_cell": 0
   },
   "outputs": [],
   "source": [
    "fig, axes = plt.subplots(1, 2, figsize=(10, 5), constrained_layout=True)\n",
    "\n",
    "sun_orbit.plot([\"x\", \"y\"], axes=axes[0])\n",
    "star_orbit.plot([\"x\", \"y\"], axes=axes[0])\n",
    "axes[0].set_xlim(-10, 10)\n",
    "axes[0].set_ylim(-10, 10)\n",
    "\n",
    "sun_orbit.cylindrical.plot(\n",
    "    [\"rho\", \"z\"],\n",
    "    axes=axes[1],\n",
    "    auto_aspect=False,\n",
    "    labels=[\"$R$ [kpc]\", \"$z$ [kpc]\"],\n",
    "    label=\"Sun\",\n",
    ")\n",
    "star_orbit.cylindrical.plot(\n",
    "    [\"rho\", \"z\"],\n",
    "    axes=axes[1],\n",
    "    auto_aspect=False,\n",
    "    labels=[\"$R$ [kpc]\", \"$z$ [kpc]\"],\n",
    "    label=\"Kepler-444\",\n",
    ")\n",
    "axes[1].set_xlim(0, 10)\n",
    "axes[1].set_ylim(-5, 5)\n",
    "axes[1].set_aspect(\"auto\")\n",
    "axes[1].legend(loc=\"best\", fontsize=15)"
   ]
  },
  {
   "cell_type": "markdown",
   "id": "be9afb72",
   "metadata": {},
   "source": [
    "### Exercise: How does Kepler-444's orbit differ from the Sun's?\n",
    "\n",
    "What are the guiding center radii of the two orbits? What is the maximum $z$ height reached by each orbit? What are their eccentricities? Can you guess which star is older based on their kinematics? Which star do you think has a higher metallicity?"
   ]
  },
  {
   "cell_type": "code",
   "execution_count": null,
   "id": "0d7a7cb6",
   "metadata": {
    "lines_to_next_cell": 2
   },
   "outputs": [],
   "source": []
  },
  {
   "cell_type": "markdown",
   "id": "87af6bb1",
   "metadata": {},
   "source": [
    "### Exercise: Comparing these orbits to the orbits of other Gaia stars\n",
    "\n",
    "Retrieve Gaia data for a set of 100 random Gaia stars within 200 pc of the sun with measured radial velocities and well-measured parallaxes using the query:\n",
    "\n",
    "    SELECT TOP 100 * FROM gaiaedr3.gaia_source \n",
    "        WHERE dr2_radial_velocity IS NOT NULL AND\n",
    "            parallax_over_error > 10 AND\n",
    "            ruwe < 1.2 AND\n",
    "            parallax > 5\n",
    "        ORDER BY random_index"
   ]
  },
  {
   "cell_type": "code",
   "execution_count": null,
   "id": "9cb24dbb",
   "metadata": {
    "ExecuteTime": {
     "end_time": "2021-07-04T03:07:12.371134Z",
     "start_time": "2021-07-04T03:06:54.005208Z"
    }
   },
   "outputs": [],
   "source": [
    "random_stars_g = GaiaData.from_query(\n",
    "    \"\"\"\n",
    "    SELECT TOP 100 * FROM gaiaedr3.gaia_source \n",
    "    WHERE dr2_radial_velocity IS NOT NULL AND\n",
    "        parallax_over_error > 10 AND\n",
    "        ruwe < 1.2 AND\n",
    "        parallax > 5\n",
    "    ORDER BY random_index\n",
    "    \"\"\"\n",
    ")"
   ]
  },
  {
   "cell_type": "markdown",
   "id": "b872fe05",
   "metadata": {},
   "source": [
    "Compute orbits for these stars for the same time grid used above to compute the sun's orbit:"
   ]
  },
  {
   "cell_type": "code",
   "execution_count": null,
   "id": "7704b535",
   "metadata": {
    "ExecuteTime": {
     "end_time": "2021-07-04T03:07:12.377122Z",
     "start_time": "2021-07-04T03:07:12.372454Z"
    }
   },
   "outputs": [],
   "source": [
    "random_stars_c = random_stars_g.get_skycoord()"
   ]
  },
  {
   "cell_type": "code",
   "execution_count": null,
   "id": "e2243c7d",
   "metadata": {
    "ExecuteTime": {
     "end_time": "2021-07-04T03:07:12.389902Z",
     "start_time": "2021-07-04T03:07:12.378452Z"
    }
   },
   "outputs": [],
   "source": [
    "random_stars_galcen = random_stars_c.transform_to(galcen_frame)\n",
    "random_stars_w0 = gd.PhaseSpacePosition(random_stars_galcen.data)"
   ]
  },
  {
   "cell_type": "code",
   "execution_count": null,
   "id": "c1c17a82",
   "metadata": {
    "ExecuteTime": {
     "end_time": "2021-07-04T03:07:12.662906Z",
     "start_time": "2021-07-04T03:07:12.392105Z"
    }
   },
   "outputs": [],
   "source": [
    "random_stars_orbits = mw_potential.integrate_orbit(random_stars_w0, t=sun_orbit.t)"
   ]
  },
  {
   "cell_type": "markdown",
   "id": "5e6a7850",
   "metadata": {},
   "source": [
    "Plot the initial (present-day) positions of all of these stars in Galactocentric Cartesian coordinates:"
   ]
  },
  {
   "cell_type": "code",
   "execution_count": null,
   "id": "9bfc7e6e",
   "metadata": {
    "ExecuteTime": {
     "end_time": "2021-07-04T03:07:13.092524Z",
     "start_time": "2021-07-04T03:07:12.664764Z"
    }
   },
   "outputs": [],
   "source": [
    "_ = random_stars_w0.plot()"
   ]
  },
  {
   "cell_type": "markdown",
   "id": "529ba2d4",
   "metadata": {},
   "source": [
    "Now plot the orbits of these stars in the x-y and R-z planes:"
   ]
  },
  {
   "cell_type": "code",
   "execution_count": null,
   "id": "fa912b9f",
   "metadata": {
    "ExecuteTime": {
     "end_time": "2021-07-04T03:07:14.442629Z",
     "start_time": "2021-07-04T03:07:13.093918Z"
    }
   },
   "outputs": [],
   "source": [
    "fig, axes = plt.subplots(1, 2, figsize=(10, 5), constrained_layout=True)\n",
    "\n",
    "random_stars_orbits.plot([\"x\", \"y\"], axes=axes[0])\n",
    "axes[0].set_xlim(-15, 15)\n",
    "axes[0].set_ylim(-15, 15)\n",
    "\n",
    "random_stars_orbits.cylindrical.plot(\n",
    "    [\"rho\", \"z\"],\n",
    "    axes=axes[1],\n",
    "    auto_aspect=False,\n",
    "    labels=[\"$R$ [kpc]\", \"$z$ [kpc]\"],\n",
    ")\n",
    "\n",
    "axes[1].set_xlim(0, 15)\n",
    "axes[1].set_ylim(-5, 5)\n",
    "axes[1].set_aspect(\"auto\")"
   ]
  },
  {
   "cell_type": "markdown",
   "id": "8c4d95c6",
   "metadata": {},
   "source": [
    "Compute maximum $z$ heights ($z_\\textrm{max}$) and eccentricities for all of these orbits. Compare the Sun, Kepler-444, and this random sampling of nearby stars. Where do the Sun and Kepler-444 sit relative to the random sample of nearby stars in terms of $z_\\textrm{max}$ and eccentricity? (Hint: plot $z_\\textrm{max}$ vs. eccentricity and highlight the Sun and Kepler-444!) Are either of them outliers in any way?"
   ]
  },
  {
   "cell_type": "code",
   "execution_count": null,
   "id": "5c315fb0",
   "metadata": {
    "ExecuteTime": {
     "end_time": "2021-07-04T03:07:18.782145Z",
     "start_time": "2021-07-04T03:07:14.444347Z"
    }
   },
   "outputs": [],
   "source": [
    "rand_zmax = random_stars_orbits.zmax()"
   ]
  },
  {
   "cell_type": "code",
   "execution_count": null,
   "id": "1461daa9",
   "metadata": {
    "ExecuteTime": {
     "end_time": "2021-07-04T03:07:21.540538Z",
     "start_time": "2021-07-04T03:07:18.783875Z"
    }
   },
   "outputs": [],
   "source": [
    "rand_ecc = random_stars_orbits.eccentricity()"
   ]
  },
  {
   "cell_type": "code",
   "execution_count": null,
   "id": "6f815b91",
   "metadata": {
    "ExecuteTime": {
     "end_time": "2021-07-04T03:07:21.922954Z",
     "start_time": "2021-07-04T03:07:21.546593Z"
    }
   },
   "outputs": [],
   "source": [
    "fig, ax = plt.subplots(figsize=(8, 6))\n",
    "ax.scatter(\n",
    "    rand_ecc, rand_zmax, color=\"k\", alpha=0.4, s=14, lw=0, label=\"random nearby stars\"\n",
    ")\n",
    "ax.scatter(sun_orbit.eccentricity(), sun_orbit.zmax(), color=\"tab:orange\", label=\"Sun\")\n",
    "ax.scatter(\n",
    "    star_orbit.eccentricity(), star_orbit.zmax(), color=\"tab:cyan\", label=\"Kepler-444\"\n",
    ")\n",
    "ax.legend(loc=\"best\", fontsize=14)\n",
    "ax.set_xlabel(\"eccentricity, $e$\")\n",
    "ax.set_ylabel(r\"max. $z$ height, $z_{\\rm max}$ [kpc]\")"
   ]
  }
 ],
 "metadata": {
  "jupytext": {
   "encoding": "# -*- coding: utf-8 -*-",
   "text_representation": {
    "extension": ".py",
    "format_name": "light",
    "format_version": "1.5",
    "jupytext_version": "1.11.1"
   }
  },
  "kernelspec": {
   "display_name": "Python 3",
   "language": "python",
   "name": "python3"
  },
  "language_info": {
   "codemirror_mode": {
    "name": "ipython",
    "version": 3
   },
   "file_extension": ".py",
   "mimetype": "text/x-python",
   "name": "python",
   "nbconvert_exporter": "python",
   "pygments_lexer": "ipython3",
   "version": "3.8.3"
  },
  "toc": {
   "base_numbering": 1,
   "nav_menu": {},
   "number_sections": true,
   "sideBar": true,
   "skip_h1_title": false,
   "title_cell": "Table of Contents",
   "title_sidebar": "Contents",
   "toc_cell": false,
   "toc_position": {},
   "toc_section_display": true,
   "toc_window_display": false
  }
 },
 "nbformat": 4,
 "nbformat_minor": 5
}
