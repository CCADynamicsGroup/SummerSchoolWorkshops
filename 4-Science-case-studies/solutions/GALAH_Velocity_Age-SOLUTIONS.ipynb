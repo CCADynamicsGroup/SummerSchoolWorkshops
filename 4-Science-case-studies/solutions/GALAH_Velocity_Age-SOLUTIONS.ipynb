{
 "cells": [
  {
   "cell_type": "code",
   "execution_count": null,
   "metadata": {},
   "outputs": [],
   "source": [
    "%matplotlib inline\n",
    "%run ../setup/nb_setup"
   ]
  },
  {
   "cell_type": "markdown",
   "metadata": {},
   "source": [
    "# Science Case Studies: The Age-Velocity Dispersion Relations in GALAH DR3\n",
    "\n",
    "Author(s): Keith Hawkins\n",
    "\n",
    "\n",
    "## Learning goals\n",
    "\n",
    "The purpose of this tutorial is to: \n",
    "1. Introduce the concepts of Age-Velocity Dispersion relations\n",
    "2. Introduce Cross matching via topcat\n",
    "3. Introduce/practice velocity calculations via astropy \n",
    "\n",
    "Goal: You will derive the Gaia DR2-GALAH Age-Velocity Dispersion relations. Two additional challenges include: (1) derive the same Age-Velocity Dispersion relations but for  Gaia DR3-GALAH (hint!: this will require a cross match) and (2) consider uncertainties in age and velocity to build a linear model which converts velocity dispersion into age.\n",
    "\n",
    "\n",
    "### Notebook Setup and Package Imports"
   ]
  },
  {
   "cell_type": "code",
   "execution_count": null,
   "metadata": {},
   "outputs": [],
   "source": [
    "import numpy as np\n",
    "import matplotlib.pyplot as p\n",
    "import astropy\n",
    "from astropy.table import Table\n",
    "import scipy.stats\n",
    "from astropy.coordinates import SkyCoord\n",
    "import astropy.units as u\n",
    "from astropy.coordinates import Galactic\n",
    "from astropy.coordinates import ICRS\n",
    "import astropy.coordinates as apycord\n",
    "import random"
   ]
  },
  {
   "cell_type": "markdown",
   "metadata": {},
   "source": [
    "We will need to download the GALAH DR3 dataset that contains age information. This dataset also contains DR2 estimates of velocity but *NOT* DR3 (You will need to do that cross match):\n",
    "\n",
    "DATA LOCATION : https://cloud.datacentral.org.au/teamdata/GALAH/public/GALAH_DR3/\n",
    "\n",
    "Local mirror : https://users.flatironinstitute.org/~apricewhelan/data/surveys/GALAH/GALAH_DR3_VAC_ages_v2.fits\n",
    "\n",
    "Main GALAH Table :\n",
    "\n",
    "-GALAH_DR3_main_allstar_v2.fits -- Main GALAH DR3\n",
    "\n",
    "-GALAH_DR3_VAC_ages_v2.fits -- GALAH DR3 ages\n",
    "\n",
    "-GALAH_DR3_VAC_GaiaEDR3_v2.fits\t-- GaiaEDR3 x GALAH\n",
    "\n",
    "\n",
    "Download this dataset\n",
    "and load it in with astropy!\n",
    "\n"
   ]
  },
  {
   "cell_type": "code",
   "execution_count": null,
   "metadata": {},
   "outputs": [],
   "source": [
    "GALAH = Table.read(\"GALAH_DR3_VAC_ages_v2.fits\")  # loading in the data"
   ]
  },
  {
   "cell_type": "code",
   "execution_count": null,
   "metadata": {},
   "outputs": [],
   "source": [
    "# explore the columns:\n",
    "\n",
    "print(GALAH.colnames)"
   ]
  },
  {
   "cell_type": "markdown",
   "metadata": {},
   "source": [
    "The goal here is to determine how velocity (and velocity dispersion) is correlated with age. \n",
    "\n",
    "As such we will need to find the (precomputed DR2) velocity columns; and age columns (based on the cell above). \n",
    "\n",
    "Not all velociities and ages are measured with the same precision so we will also want to apply some very simple quality control cuts. So lets do that in the next cell"
   ]
  },
  {
   "cell_type": "code",
   "execution_count": null,
   "metadata": {},
   "outputs": [],
   "source": [
    "# lets create a quality\n",
    "v_err_lim = 5  # define the limiting velocity uncertinaty in all axes\n",
    "age_err_lim = 0.3  # age uncertainty limit in percent\n",
    "dist_err_lim = 0.15  # distance error in percent\n",
    "GALAH = GALAH[\n",
    "    GALAH[\"parallax_edr3\"] > 0\n",
    "]  # Makes sure no distances will be zero for astropy later\n",
    "\n",
    "# Quality cuts\n",
    "ok = np.where(\n",
    "    (GALAH[\"vR_Rzphi_50\"] - GALAH[\"vR_Rzphi_5\"] < v_err_lim)\n",
    "    & (GALAH[\"vT_Rzphi_50\"] - GALAH[\"vT_Rzphi_5\"] < v_err_lim)\n",
    "    & (GALAH[\"vz_Rzphi_50\"] - GALAH[\"vz_Rzphi_5\"] < v_err_lim)\n",
    "    & (GALAH[\"e_age_bstep\"] / GALAH[\"age_bstep\"] < age_err_lim)\n",
    "    & (GALAH[\"parallax_error\"] / GALAH[\"parallax\"] < dist_err_lim)\n",
    "    & (GALAH[\"age_bstep\"] > 1)\n",
    "    & (GALAH[\"age_bstep\"] < 10)\n",
    ")[0]\n",
    "\n",
    "print(\"There are %i stars that pass the quality controls\" % len(ok))\n",
    "D = GALAH[ok]"
   ]
  },
  {
   "cell_type": "markdown",
   "metadata": {},
   "source": [
    "With the 'quality' sample in hand, lets now try to figure out how velocity and velocity dispersion depends on age in this sample. We will start by simply plotting velocity in all directions as a function of age."
   ]
  },
  {
   "cell_type": "code",
   "execution_count": null,
   "metadata": {},
   "outputs": [],
   "source": [
    "# Now we want to plot how the velocities depends on age\n",
    "p.figure(figsize=(10, 10))\n",
    "ax1 = p.subplot(3, 1, 1)\n",
    "p.plot(D[\"age_bstep\"], D[\"vR_Rzphi_50\"], \".\")\n",
    "p.ylabel(\"V$_R$ (km/s)\")\n",
    "\n",
    "ax2 = p.subplot(3, 1, 2, sharex=ax1)\n",
    "p.plot(D[\"age_bstep\"], D[\"vT_Rzphi_50\"], \".\")\n",
    "p.ylabel(r\"V$_{\\theta}$ (km/s)\")\n",
    "\n",
    "ax3 = p.subplot(3, 1, 3, sharey=ax1)\n",
    "p.plot(D[\"age_bstep\"], D[\"vz_Rzphi_50\"], \".\")\n",
    "p.ylabel(\"V$_z$ (km/s)\")\n",
    "p.xlabel(\"age (Gyr)\")\n",
    "p.tight_layout()"
   ]
  },
  {
   "cell_type": "markdown",
   "metadata": {},
   "source": [
    "From the above plots we can see that:\n",
    "1. Mostly velocities are indepdent of age (no signficant relationships), except maybe in V_theta\n",
    "2. The velocity dispersion in all velcoity directons likley grows with increasing age\n",
    "\n",
    "So lets bin by age and see if we can determine the relationship between age and velocity."
   ]
  },
  {
   "cell_type": "code",
   "execution_count": null,
   "metadata": {},
   "outputs": [],
   "source": [
    "# for each star we will place them into bins by age using scipy.stats.binned_statistic\n",
    "\n",
    "age_bins = [1, 2, 3, 4, 5, 6, 7, 8, 9, 10]  # define the limits of each bin\n",
    "\n",
    "## With the ages now binned up lets plot compute the bin's mean age and dispersion in age for each velocity direction\n",
    "mean_VR, bin_edge, inds = scipy.stats.binned_statistic(\n",
    "    D[\"age_bstep\"], D[\"vR_Rzphi_50\"], statistic=\"mean\", bins=age_bins\n",
    ")\n",
    "std_VR, bin_edge, inds = scipy.stats.binned_statistic(\n",
    "    D[\"age_bstep\"], D[\"vR_Rzphi_50\"], statistic=\"std\", bins=age_bins\n",
    ")\n",
    "\n",
    "mean_Vz, bin_edge, inds = scipy.stats.binned_statistic(\n",
    "    D[\"age_bstep\"], D[\"vz_Rzphi_50\"], statistic=\"mean\", bins=age_bins\n",
    ")\n",
    "std_Vz, bin_edge, inds = scipy.stats.binned_statistic(\n",
    "    D[\"age_bstep\"], D[\"vz_Rzphi_50\"], statistic=\"std\", bins=age_bins\n",
    ")\n",
    "\n",
    "mean_Vt, bin_edge, inds = scipy.stats.binned_statistic(\n",
    "    D[\"age_bstep\"], D[\"vT_Rzphi_50\"], statistic=\"mean\", bins=age_bins\n",
    ")\n",
    "std_Vt, bin_edge, inds = scipy.stats.binned_statistic(\n",
    "    D[\"age_bstep\"], D[\"vT_Rzphi_50\"], statistic=\"std\", bins=age_bins\n",
    ")\n",
    "\n",
    "bincen = [\n",
    "    (bin_edge[i + 1] + bin_edge[i]) / 2.0 for i in range(len(age_bins) - 1)\n",
    "]  # this set the bin centers"
   ]
  },
  {
   "cell_type": "markdown",
   "metadata": {},
   "source": [
    "Now that we have binned the data and determined the mean and dispersion in each velocity direction, as a sanity check (which are incredibly important to do), lets overplot the data and the binned results to ensure it looks ok."
   ]
  },
  {
   "cell_type": "markdown",
   "metadata": {},
   "source": [
    "# The Age-Velocity Dispersion Relations in GALAH-Gaia DR2\n",
    "\n",
    "\n",
    "Now we are ready to plot the age velocity disperison relations for each component for GALAH-Gaia DR2. "
   ]
  },
  {
   "cell_type": "code",
   "execution_count": null,
   "metadata": {
    "scrolled": false
   },
   "outputs": [],
   "source": [
    "p.figure(figsize=(10, 10))\n",
    "ax1 = p.subplot(3, 1, 1)\n",
    "p.plot(D[\"age_bstep\"], D[\"vR_Rzphi_50\"], \".\")\n",
    "p.errorbar(bincen, mean_VR, yerr=std_VR, fmt=\"s\", color=\"r\", zorder=3)\n",
    "p.ylabel(\"V$_R$ (km/s)\")\n",
    "\n",
    "ax2 = p.subplot(3, 1, 2, sharex=ax1)\n",
    "p.plot(D[\"age_bstep\"], D[\"vT_Rzphi_50\"], \".\")\n",
    "p.errorbar(bincen, mean_Vt, yerr=std_Vt, fmt=\"s\", color=\"r\", zorder=3)\n",
    "p.ylabel(r\"V$_{\\theta}$ (km/s)\")\n",
    "\n",
    "ax3 = p.subplot(3, 1, 3, sharey=ax1)\n",
    "p.plot(D[\"age_bstep\"], D[\"vz_Rzphi_50\"], \".\")\n",
    "p.errorbar(bincen, mean_Vz, yerr=std_Vz, fmt=\"s\", color=\"r\", zorder=3)\n",
    "p.ylabel(\"V$_z$ (km/s)\")\n",
    "p.xlabel(\"age (Gyr)\")\n",
    "p.tight_layout()"
   ]
  },
  {
   "cell_type": "markdown",
   "metadata": {},
   "source": [
    "With the data binned we can now explore the velocity disperison as a function of age"
   ]
  },
  {
   "cell_type": "code",
   "execution_count": null,
   "metadata": {
    "scrolled": false
   },
   "outputs": [],
   "source": [
    "p.figure(figsize=(10, 10))\n",
    "ax1 = p.subplot(3, 1, 1)\n",
    "p.plot(bincen, std_VR, \"-o\")\n",
    "p.ylabel(r\"$\\sigma$V$_R$ (km/s)\")\n",
    "\n",
    "ax2 = p.subplot(3, 1, 2, sharex=ax1)\n",
    "p.plot(bincen, std_Vt, \"-o\")\n",
    "p.ylabel(r\"$\\sigma$V$_{\\theta}$ (km/s)\")\n",
    "\n",
    "ax1 = p.subplot(3, 1, 3, sharex=ax1)\n",
    "p.plot(bincen, std_Vz, \"-o\")\n",
    "p.ylabel(r\"$\\sigma$V$_z$ (km/s)\")\n",
    "p.xlabel(\"age (Gyr)\")\n",
    "p.tight_layout()"
   ]
  },
  {
   "cell_type": "markdown",
   "metadata": {},
   "source": [
    "*We now see that the age-velocity dispersion relations are roughly linear such that VELOCITY DISPERSION INCREASES with INCREASING age as expect*"
   ]
  },
  {
   "cell_type": "markdown",
   "metadata": {},
   "source": [
    "# The Age-Velocity Dispersion Relations in GALAH-Gaia EDR3!\n",
    "\n",
    "Let us now redo the above but with EDR3 data instead! This will require us to compute the velocities (and their uncertainties -- challenge) from the EDR3 data directly.\n",
    "\n",
    "You will need to first cross-match (via ADQL/TOPCAT/TAP QUERY/ASTROQUERY) orginal table with ED3. We will explore how to use topcat in this workshop but its trivial to do this via an ADQL/TAP Query.\n",
    "\n",
    "Once the cross match is done, lets read it in."
   ]
  },
  {
   "cell_type": "code",
   "execution_count": null,
   "metadata": {},
   "outputs": [],
   "source": [
    "# --- ok lets now compute some velocities with EDR3 data! We start by making a defintion.\n",
    "def compute_vels(ra, dec, pmra, pmdec, rv, dist, V0=[11.1, 245.0, 7.25], R0=8.3):\n",
    "    icrs = ICRS(\n",
    "        ra=ra * u.deg,\n",
    "        dec=dec * u.deg,\n",
    "        distance=dist * u.kpc,\n",
    "        pm_ra_cosdec=pmra * u.mas / u.yr,\n",
    "        pm_dec=pmdec * u.mas / u.yr,\n",
    "        radial_velocity=rv * u.km / u.s,\n",
    "    )\n",
    "\n",
    "    # Define the Galactic non-rotating rest frame: (V0 = solar velocity in Galactic rest fram; R0 = solar radius)\n",
    "    v_sun = apycord.CartesianDifferential(V0 * u.km / u.s)\n",
    "    gc_frame = apycord.Galactocentric(\n",
    "        galcen_distance=R0 * u.kpc, z_sun=25.0 * u.pc, galcen_v_sun=v_sun\n",
    "    )\n",
    "    # convert to GC frame\n",
    "    cg = icrs.transform_to(gc_frame)\n",
    "    # cg.representation= 'cartesian'\n",
    "    cg.representation = \"cylindrical\"  # and now to clylindrical coords\n",
    "    VR = cg.d_rho.to(u.km / u.s).value\n",
    "    VT = (\n",
    "        (cg.d_phi * cg.rho).to(u.km / u.s, equivalencies=u.dimensionless_angles()).value\n",
    "    )\n",
    "    VZ = cg.d_z.to(u.km / u.s).value\n",
    "\n",
    "    return VR, -VT, VZ"
   ]
  },
  {
   "cell_type": "markdown",
   "metadata": {},
   "source": [
    "With the definition, we can now convert the observables into velocities by calling the defintion from above. We can also do this iterativley where in each iteration we perturb the input observables by the uncertainties. This will enable us to estimate the velocity uncertainties via monte carlo realizations."
   ]
  },
  {
   "cell_type": "code",
   "execution_count": null,
   "metadata": {},
   "outputs": [],
   "source": [
    "# ----lets now deal with the velocity uncertinaties via monte carlo realizations\n",
    "\n",
    "allVR = []\n",
    "allVT = []\n",
    "allVZ = []\n",
    "niter = 50\n",
    "for i in range(niter):\n",
    "    pmra_perturb = np.random.normal(0, GALAH[\"pmra_error_edr3\"])\n",
    "    pmdec_perturb = np.random.normal(0, GALAH[\"pmdec_error_edr3\"])\n",
    "    rv_perturb = np.random.normal(0, GALAH[\"e_rv_galah\"])\n",
    "    parallax_perturb = np.random.normal(0, GALAH[\"parallax_error_edr3\"])\n",
    "\n",
    "    parallaxes = np.array(GALAH[\"parallax\"]) + parallax_perturb\n",
    "    parallaxes[\n",
    "        parallaxes < 0\n",
    "    ] = 0.01  # replace all negative parallaxes to 0.01 mas (again just for tutorial; you can actually infer alot from neg. parallax)\n",
    "\n",
    "    A = compute_vels(\n",
    "        np.array(GALAH[\"ra_edr3\"]),\n",
    "        np.array(GALAH[\"dec_edr3\"]),\n",
    "        np.array(GALAH[\"pmra_edr3\"] + pmra_perturb),\n",
    "        np.array(GALAH[\"pmdec_edr3\"] + pmdec_perturb),\n",
    "        np.array(GALAH[\"rv_galah\"] + rv_perturb),\n",
    "        1.0 / (parallaxes),\n",
    "    )\n",
    "    allVR.append(A[0])\n",
    "    allVT.append(A[1])\n",
    "    allVZ.append(A[2])\n",
    "\n",
    "GALAH[\"galvr_dr3\"] = np.median(allVR, axis=0)\n",
    "GALAH[\"galvr_err_dr3\"] = np.std(allVR, axis=0)\n",
    "GALAH[\"galvt_dr3\"] = np.median(allVT, axis=0)\n",
    "GALAH[\"galvt_err_dr3\"] = np.std(allVT, axis=0)\n",
    "GALAH[\"galvz_dr3\"] = np.median(allVZ, axis=0)\n",
    "GALAH[\"galvz_err_dr3\"] = np.std(allVZ, axis=0)"
   ]
  },
  {
   "cell_type": "markdown",
   "metadata": {},
   "source": [
    "Now that we have the velocities and their uncertainties with EDR3 data, lets make the same quality control cuts as before."
   ]
  },
  {
   "cell_type": "code",
   "execution_count": null,
   "metadata": {},
   "outputs": [],
   "source": [
    "ok = np.where(\n",
    "    (GALAH[\"galvr_err_dr3\"] < v_err_lim)\n",
    "    & (GALAH[\"galvt_err_dr3\"] < v_err_lim)\n",
    "    & (GALAH[\"galvz_err_dr3\"] < v_err_lim)\n",
    "    & (GALAH[\"e_age_bstep\"] / GALAH[\"age_bstep\"] < age_err_lim)\n",
    "    & (GALAH[\"parallax_error\"] / GALAH[\"parallax\"] < dist_err_lim)\n",
    "    & (GALAH[\"age_bstep\"] > 1)\n",
    "    & (GALAH[\"age_bstep\"] < 10)\n",
    ")[0]\n",
    "\n",
    "print(\"There are %i stars that pass the quality controls\" % len(ok))\n",
    "D_DR3 = GALAH[ok]"
   ]
  },
  {
   "cell_type": "markdown",
   "metadata": {},
   "source": [
    "We can now plot the EDR3 version of the age velocity relations."
   ]
  },
  {
   "cell_type": "code",
   "execution_count": null,
   "metadata": {},
   "outputs": [],
   "source": [
    "p.figure(figsize=(10, 10))\n",
    "ax1 = p.subplot(3, 1, 1)\n",
    "p.plot(D_DR3[\"age_bstep\"], D_DR3[\"galvr_dr3\"], \".\")\n",
    "# p.errorbar(bincen,mean_VR,yerr=std_VR, fmt='s',color='r',zorder=3 )\n",
    "p.ylabel(\"V$_R$ (km/s)\")\n",
    "\n",
    "ax2 = p.subplot(3, 1, 2, sharex=ax1)\n",
    "p.plot(D_DR3[\"age_bstep\"], D_DR3[\"galvt_dr3\"], \".\")\n",
    "# p.errorbar(bincen,mean_Vt,yerr=std_Vt, fmt='s',color='r',zorder=3 )\n",
    "p.ylabel(r\"V$_{\\theta}$ (km/s)\")\n",
    "\n",
    "ax3 = p.subplot(3, 1, 3, sharey=ax1)\n",
    "p.plot(D_DR3[\"age_bstep\"], D_DR3[\"galvz_dr3\"], \".\")\n",
    "# p.errorbar(bincen,mean_Vz,yerr=std_Vz, fmt='s',color='r',zorder=3 )\n",
    "p.ylabel(\"V$_z$ (km/s)\")\n",
    "p.xlabel(\"age (Gyr)\")\n",
    "p.tight_layout()"
   ]
  },
  {
   "cell_type": "markdown",
   "metadata": {},
   "source": [
    "We must now bin the data in the same way (by age) as for the DR3 results and compute the mean and std of the velocity in each age bin."
   ]
  },
  {
   "cell_type": "code",
   "execution_count": null,
   "metadata": {},
   "outputs": [],
   "source": [
    "mean_VR_dr3, bin_edge, inds = scipy.stats.binned_statistic(\n",
    "    D_DR3[\"age_bstep\"], D_DR3[\"galvr_dr3\"], statistic=\"mean\", bins=age_bins\n",
    ")\n",
    "std_VR_dr3, bin_edge, inds = scipy.stats.binned_statistic(\n",
    "    D_DR3[\"age_bstep\"], D_DR3[\"galvr_dr3\"], statistic=\"std\", bins=age_bins\n",
    ")\n",
    "\n",
    "mean_Vz_dr3, bin_edge, inds = scipy.stats.binned_statistic(\n",
    "    D_DR3[\"age_bstep\"], D_DR3[\"galvz_dr3\"], statistic=\"mean\", bins=age_bins\n",
    ")\n",
    "std_Vz_dr3, bin_edge, inds = scipy.stats.binned_statistic(\n",
    "    D_DR3[\"age_bstep\"], D_DR3[\"galvz_dr3\"], statistic=\"std\", bins=age_bins\n",
    ")\n",
    "\n",
    "mean_Vt_dr3, bin_edge, inds = scipy.stats.binned_statistic(\n",
    "    D_DR3[\"age_bstep\"], D_DR3[\"galvt_dr3\"], statistic=\"mean\", bins=age_bins\n",
    ")\n",
    "std_Vt_dr3, bin_edge, inds = scipy.stats.binned_statistic(\n",
    "    D_DR3[\"age_bstep\"], D_DR3[\"galvt_dr3\"], statistic=\"std\", bins=age_bins\n",
    ")\n",
    "\n",
    "bincen = [\n",
    "    (bin_edge[i + 1] + bin_edge[i]) / 2.0 for i in range(len(age_bins) - 1)\n",
    "]  # this set the bin centers"
   ]
  },
  {
   "cell_type": "markdown",
   "metadata": {},
   "source": [
    "Finally, we plot the age velocity dispersion relations for GALAH-DR2 and GALAH-EDR3 datasets. "
   ]
  },
  {
   "cell_type": "code",
   "execution_count": null,
   "metadata": {
    "scrolled": false
   },
   "outputs": [],
   "source": [
    "p.figure(figsize=(10, 10))\n",
    "ax1 = p.subplot(3, 1, 1)\n",
    "p.plot(bincen, std_VR, \"-o\", label=\"DR2\")\n",
    "p.plot(bincen, std_VR_dr3, \"-o\", label=\"EDR3\")\n",
    "p.legend()\n",
    "p.ylabel(r\"$\\sigma$V$_R$ (km/s)\")\n",
    "\n",
    "ax2 = p.subplot(3, 1, 2, sharex=ax1)\n",
    "p.plot(bincen, std_Vt, \"-o\", label=\"DR2\")\n",
    "p.plot(bincen, std_Vt_dr3, \"-o\", label=\"EDR3\")\n",
    "p.ylabel(r\"$\\sigma$V$_{\\theta}$ (km/s)\")\n",
    "\n",
    "ax1 = p.subplot(3, 1, 3, sharex=ax1)\n",
    "p.plot(bincen, std_Vz, \"-o\")\n",
    "p.plot(bincen, std_Vz_dr3, \"-o\", label=\"EDR3\")\n",
    "p.ylabel(r\"$\\sigma$V$_z$ (km/s)\")\n",
    "p.xlabel(\"age (Gyr)\")\n",
    "p.tight_layout()"
   ]
  },
  {
   "cell_type": "markdown",
   "metadata": {},
   "source": [
    "*We now see that the age-velocity dispersion relations are roughly linear such that VELOCITY DISPERSION INCREASES with INCREASING age as expected. If there are some differences between DR2 and EDR3, why might they exist.*"
   ]
  },
  {
   "cell_type": "markdown",
   "metadata": {},
   "source": [
    "Challenge: If you finish, try to figure out a way to define the age velocity realtion *without* binning the data. (Hint: This can be done via writing down a linear model for how velocity dispersion depends on age and then comparing that model in the data space.)"
   ]
  }
 ],
 "metadata": {
  "kernelspec": {
   "display_name": "Python 3",
   "language": "python",
   "name": "python3"
  },
  "language_info": {
   "codemirror_mode": {
    "name": "ipython",
    "version": 3
   },
   "file_extension": ".py",
   "mimetype": "text/x-python",
   "name": "python",
   "nbconvert_exporter": "python",
   "pygments_lexer": "ipython3",
   "version": "3.8.3"
  },
  "toc": {
   "base_numbering": 1,
   "nav_menu": {},
   "number_sections": true,
   "sideBar": true,
   "skip_h1_title": false,
   "title_cell": "Table of Contents",
   "title_sidebar": "Contents",
   "toc_cell": false,
   "toc_position": {},
   "toc_section_display": true,
   "toc_window_display": false
  }
 },
 "nbformat": 4,
 "nbformat_minor": 2
}
