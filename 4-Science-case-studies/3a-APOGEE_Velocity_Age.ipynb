{
 "cells": [
  {
   "cell_type": "code",
   "execution_count": null,
   "metadata": {},
   "outputs": [],
   "source": [
    "%matplotlib inline\n",
    "%run ../setup/nb_setup"
   ]
  },
  {
   "cell_type": "markdown",
   "metadata": {},
   "source": [
    "# Science Case Studies: The Age-Velocity Dispersion Relations in APOGEE\n",
    "\n",
    "Author(s): Keith Hawkins\n",
    "\n",
    "\n",
    "## Learning goals\n",
    "\n",
    "The purpose of this tutorial is to: \n",
    "1. Introduce the concepts of Age-Velocity Dispersion relations\n",
    "2. Introduce Cross matching via topcat\n",
    "3. Introduce/practice velocity calculations via astropy \n",
    "\n",
    "*Goal:* \n",
    "\n",
    "You will derive the Gaia DR2-APOGEE Age-Velocity Dispersion relations. \n",
    "\n",
    "Two additional challenges include: \n",
    "\n",
    "(1) derive the same Age-Velocity Dispersion relations but for  Gaia DR3-APOGEE (hint!: this will require a cross match) and \n",
    "\n",
    "(2) consider uncertainties in age and velocity to build a linear model which converts velocity dispersion into age.\n",
    "\n",
    "\n",
    "### Notebook Setup and Package Imports"
   ]
  },
  {
   "cell_type": "code",
   "execution_count": null,
   "metadata": {},
   "outputs": [],
   "source": [
    "import numpy as np\n",
    "import matplotlib.pyplot as p\n",
    "import astropy\n",
    "from astropy.table import Table\n",
    "import scipy.stats\n",
    "from astropy.coordinates import SkyCoord\n",
    "import astropy.units as u\n",
    "from astropy.coordinates import Galactic\n",
    "from astropy.coordinates import ICRS\n",
    "import astropy.coordinates as apycord\n",
    "import random"
   ]
  },
  {
   "cell_type": "markdown",
   "metadata": {},
   "source": [
    "We will need to download the APOGEE-ASTRONN dataset that contains age information (along with other information about the APOGEE spectra). This dataset also contains DR2 estimates of velocity but *NOT* DR3 (you will need to do a crossmatch between this file and Gaia EDR3, which we will discuss):\n",
    "\n",
    "DATA DESCRIPTION : https://www.sdss.org/dr16/data_access/value-added-catalogs/?vac_id=the-astronn-catalog-of-abundances,-distances,-and-ages-for-apogee-dr16-stars\n",
    "\n",
    "DATA LOCATION : https://data.sdss.org/sas/dr16/apogee/vac/apogee-astronn/apogee_astroNN-DR16-v1.fits\n",
    "\n",
    "LOCAL MIRROR : https://users.flatironinstitute.org/~apricewhelan/data/surveys/APOGEE_DR16/apogee_astroNN-DR16-v1.fits\n",
    "\n",
    "Download this dataset\n",
    "and load it in with astropy!"
   ]
  },
  {
   "cell_type": "code",
   "execution_count": null,
   "metadata": {},
   "outputs": [],
   "source": [
    "APOGEE = Table.read(\"apogee_astroNN-DR16-v1.fits\")  # read in the data"
   ]
  },
  {
   "cell_type": "code",
   "execution_count": null,
   "metadata": {},
   "outputs": [],
   "source": [
    "# explore the columns:\n",
    "\n",
    "print(APOGEE.colnames)"
   ]
  },
  {
   "cell_type": "markdown",
   "metadata": {},
   "source": [
    "The goal here is to determine how velocity (and velocity dispersion) is correlated with age. \n",
    "\n",
    "As such we will need to find the (precomputed DR2) velocity columns; and age columns (based on the cell above). \n",
    "\n",
    "Not all velociities and ages are measured with the same precision so we will also want to apply some very simple quality control cuts. So lets do that in the next cell"
   ]
  },
  {
   "cell_type": "code",
   "execution_count": null,
   "metadata": {},
   "outputs": [],
   "source": [
    "# lets create a quality\n",
    "v_err_lim = 5  # define the limiting velocity uncertinaty in all axes\n",
    "age_err_lim = 0.3  # age uncertainty limit in percent\n",
    "dist_err_lim = 0.15  # distance error in percent\n",
    "\n",
    "ok = np.where(\n",
    "    (APOGEE[\"galvr_err\"] < v_err_lim)\n",
    "    & (APOGEE[\"galvt_err\"] < v_err_lim)\n",
    "    & (APOGEE[\"galvz_err\"] < v_err_lim)\n",
    "    & (APOGEE[\"age_total_error\"] / APOGEE[\"age\"] < age_err_lim)\n",
    "    & (APOGEE[\"dist_error\"] / APOGEE[\"dist\"] < dist_err_lim)\n",
    "    & (APOGEE[\"age\"] > 0)\n",
    ")[0]\n",
    "\n",
    "print(\"There are %i stars that pass the quality controls\" % len(ok))\n",
    "D = APOGEE[ok]  # lets now subselect the 'GOOD' data"
   ]
  },
  {
   "cell_type": "markdown",
   "metadata": {},
   "source": [
    "With the 'quality' sample in hand, lets now try to figure out how velocity and velocity dispersion depends on age in this sample. We will start by simply plotting velocity in all directions as a function of age. PLEASE plot the age as a function of velocity in each componenent (VR, VT, Vz) as a "
   ]
  },
  {
   "cell_type": "code",
   "execution_count": null,
   "metadata": {},
   "outputs": [],
   "source": [
    "# Now we want to plot how the velocities depends on age do it here.\n"
   ]
  },
  {
   "cell_type": "markdown",
   "metadata": {},
   "source": [
    "From the above plots we can see that:\n",
    "1. Mostly velocities are indepdent of age (no signficant relationships), except maybe in V_theta\n",
    "2. The velocity dispersion in all velcoity directons likley grows with increasing age\n",
    "\n",
    "So now lets bin by age and see if we can determine the relationship between age and velocity."
   ]
  },
  {
   "cell_type": "code",
   "execution_count": null,
   "metadata": {},
   "outputs": [],
   "source": [
    "# for each star we will place them into bins by age using scipy.stats.binned_statistic\n",
    "\n",
    "age_bins = [3, 4, 5, 6, 7, 8, 9, 10]  # define the limits of each bin\n",
    "\n",
    "## With the ages now binned up lets plot compute the bin's mean age and dispersion in age for each velocity direction\n",
    "mean_VR, bin_edge, inds = scipy.stats.binned_statistic(\n",
    "    D[\"age\"], D[\"galvr\"], statistic=\"mean\", bins=age_bins\n",
    ")\n",
    "std_VR, bin_edge, inds = scipy.stats.binned_statistic(\n",
    "    D[\"age\"], D[\"galvr\"], statistic=\"std\", bins=age_bins\n",
    ")\n",
    "\n",
    "mean_Vz, bin_edge, inds = scipy.stats.binned_statistic(\n",
    "    D[\"age\"], D[\"galvz\"], statistic=\"mean\", bins=age_bins\n",
    ")\n",
    "std_Vz, bin_edge, inds = scipy.stats.binned_statistic(\n",
    "    D[\"age\"], D[\"galvz\"], statistic=\"std\", bins=age_bins\n",
    ")\n",
    "\n",
    "mean_Vt, bin_edge, inds = scipy.stats.binned_statistic(\n",
    "    D[\"age\"], D[\"galvt\"], statistic=\"mean\", bins=age_bins\n",
    ")\n",
    "std_Vt, bin_edge, inds = scipy.stats.binned_statistic(\n",
    "    D[\"age\"], D[\"galvt\"], statistic=\"std\", bins=age_bins\n",
    ")\n",
    "\n",
    "bincen = [\n",
    "    (bin_edge[i + 1] + bin_edge[i]) / 2.0 for i in range(len(age_bins) - 1)\n",
    "]  # this set the bin centers"
   ]
  },
  {
   "cell_type": "markdown",
   "metadata": {},
   "source": [
    "Now that we have binned the data and determined the mean and dispersion in each velocity direction, as a sanity check (which are incredibly important to do), lets overplot the data and the binned results to ensure it looks ok."
   ]
  },
  {
   "cell_type": "markdown",
   "metadata": {},
   "source": [
    "# The Age-Velocity Dispersion Relations in APOGEE-Gaia DR2\n",
    "\n",
    "\n",
    "Now we are ready to plot the age velocity disperison relations for each component for APOGEE-Gaia DR2. Please do this yourself! "
   ]
  },
  {
   "cell_type": "code",
   "execution_count": 1,
   "metadata": {
    "scrolled": false
   },
   "outputs": [],
   "source": [
    "#plot the age as a function of velocity (VR,VT,VZ); make sure to also plot (as an errorbar) \n",
    "#   the mean velocity and its dispersion binned by age\n",
    "\n"
   ]
  },
  {
   "cell_type": "markdown",
   "metadata": {},
   "source": [
    "With the data binned we can now explore the velocity disperison as a function of velocity disperison as a function of age. Plot the velocity dispersion in each age bin as a function of age."
   ]
  },
  {
   "cell_type": "code",
   "execution_count": null,
   "metadata": {
    "scrolled": false
   },
   "outputs": [],
   "source": []
  },
  {
   "cell_type": "markdown",
   "metadata": {},
   "source": [
    "*We now see that the age-velocity dispersion relations are roughly linear such that VELOCITY DISPERSION INCREASES with INCREASING age as expected.*"
   ]
  },
  {
   "cell_type": "markdown",
   "metadata": {},
   "source": [
    "# The Age-Velocity Dispersion Relations in APOGEE-Gaia EDR3!\n",
    "\n",
    "Let us now redo the above but with EDR3 data instead! This will require us to compute the velocities (and their uncertainties -- challenge) from the EDR3 data directly.\n",
    "\n",
    "You will need to first cross-match (via ADQL/TOPCAT/TAP QUERY/ASTROQUERY) orginal table with ED3. We will explore how to use topcat in this workshop but its trivial to do this via an ADQL/TAP Query.\n",
    "\n",
    "Once the cross match is done, lets read it in."
   ]
  },
  {
   "cell_type": "code",
   "execution_count": null,
   "metadata": {
    "scrolled": false
   },
   "outputs": [],
   "source": [
    "# in this case a cross match was done with topcat so lets load in that.\n",
    "\n",
    "APOGEEDR3 = Table.read(\n",
    "    \"apogee_astroNN-DR16-v1_DR3.fits\"\n",
    ")  # replace with your data table\n",
    "ok = np.where(\n",
    "    (APOGEEDR3[\"parallax_error\"] / APOGEEDR3[\"parallax\"] < 0.3)\n",
    "    & (APOGEEDR3[\"parallax\"] > 0)\n",
    ")\n",
    "APOGEEDR3 = APOGEEDR3[ok]\n",
    "APOGEEDR3[\"dist_dr3\"] = (\n",
    "    1.0 / APOGEEDR3[\"parallax\"]\n",
    ")  # for easy lets just assume that the distance is 1/parallax\n",
    "\n",
    "# lets explore the columns as well; take note of the parallax proper motion etc.\n",
    "print(APOGEEDR3.colnames)"
   ]
  },
  {
   "cell_type": "markdown",
   "metadata": {},
   "source": [
    "With the data set now loaded lets start by making a definition that will compute velocities with astropy."
   ]
  },
  {
   "cell_type": "code",
   "execution_count": null,
   "metadata": {},
   "outputs": [],
   "source": [
    "# --- ok lets now compute some velocities with EDR3 data! We start by making a defintion to do this. Plea\n",
    "def compute_vels(ra, dec, pmra, pmdec, rv, dist, V0=[11.1, 245.0, 7.25], R0=8.3):\n",
    "    # define an ICRS coord for each star\n",
    "    icrs = ICRS(\n",
    "        ra=ra * u.deg,\n",
    "        dec=dec * u.deg,\n",
    "        distance=dist * u.kpc,\n",
    "        pm_ra_cosdec=pmra * u.mas / u.yr,\n",
    "        pm_dec=pmdec * u.mas / u.yr,\n",
    "        radial_velocity=rv * u.km / u.s,\n",
    "    )\n",
    "\n",
    "    # Define the Galactic non-rotating rest frame: (V0 = solar velocity in Galactic rest fram; R0 = solar radius)\n",
    "    v_sun = apycord.CartesianDifferential(V0 * u.km / u.s)\n",
    "    gc_frame = apycord.Galactocentric(\n",
    "        galcen_distance=R0 * u.kpc, z_sun=25.0 * u.pc, galcen_v_sun=v_sun\n",
    "    )\n",
    "    # convert to GC frame\n",
    "    cg = icrs.transform_to(gc_frame)\n",
    "    # cg.representation= 'cartesian'\n",
    "    cg.representation = \"cylindrical\"  # and now to clylindrical coords\n",
    "    VR = cg.d_rho.to(u.km / u.s).value\n",
    "    VT = (\n",
    "        (cg.d_phi * cg.rho).to(u.km / u.s, equivalencies=u.dimensionless_angles()).value\n",
    "    )\n",
    "    VZ = cg.d_z.to(u.km / u.s).value\n",
    "\n",
    "    return VR, -VT, VZ"
   ]
  },
  {
   "cell_type": "markdown",
   "metadata": {},
   "source": [
    "With the definition, we can now convert the observables into velocities by calling the defintion from above. We can also do this iterativley where in each iteration we perturb the input observables by the uncertainties. This will enable us to estimate the velocity uncertainties via monte carlo realizations. NOTE: This assumes that the uncertainties in the observables are INDEPENDENT! Really one should actually sample from the covariance matrix (provided by Gaia)"
   ]
  },
  {
   "cell_type": "code",
   "execution_count": null,
   "metadata": {},
   "outputs": [],
   "source": [
    "# ----lets now deal with the velocity uncertinaties via monte carlo realizations"
   ]
  },
  {
   "cell_type": "markdown",
   "metadata": {},
   "source": [
    "Now that we have the velocities and their uncertainties with EDR3 data, lets make the same quality control cuts as before."
   ]
  },
  {
   "cell_type": "code",
   "execution_count": null,
   "metadata": {},
   "outputs": [],
   "source": [
    "ok = np.where(\n",
    "    (APOGEEDR3[\"galvr_err_dr3\"] < v_err_lim)\n",
    "    & (APOGEEDR3[\"galvt_err_dr3\"] < v_err_lim)\n",
    "    & (APOGEEDR3[\"galvz_err_dr3\"] < v_err_lim)\n",
    "    & (APOGEEDR3[\"age_total_error\"] / APOGEEDR3[\"age\"] < age_err_lim)\n",
    "    & (APOGEEDR3[\"dist_error\"] / APOGEEDR3[\"dist\"] < dist_err_lim)\n",
    "    & (APOGEEDR3[\"age\"] > 0)\n",
    ")[0]\n",
    "\n",
    "print(\"There are %i stars that pass the quality controls\" % len(ok))\n",
    "D_DR3 = APOGEEDR3[ok]"
   ]
  },
  {
   "cell_type": "markdown",
   "metadata": {},
   "source": [
    "We can now plot the EDR3 version of the age velocity relations. Just as above, please plot the age as a function of velocity but this time for the DR3 velocities you computed "
   ]
  },
  {
   "cell_type": "code",
   "execution_count": null,
   "metadata": {},
   "outputs": [],
   "source": []
  },
  {
   "cell_type": "markdown",
   "metadata": {},
   "source": [
    "We must now bin the data in the same way (by age) as for the DR3 results and compute the mean and std of the velocity in each age bin."
   ]
  },
  {
   "cell_type": "code",
   "execution_count": null,
   "metadata": {},
   "outputs": [],
   "source": [
    "mean_VR_dr3, bin_edge, inds = scipy.stats.binned_statistic(\n",
    "    D_DR3[\"age\"], D_DR3[\"galvr_dr3\"], statistic=\"mean\", bins=age_bins\n",
    ")\n",
    "std_VR_dr3, bin_edge, inds = scipy.stats.binned_statistic(\n",
    "    D_DR3[\"age\"], D_DR3[\"galvr_dr3\"], statistic=\"std\", bins=age_bins\n",
    ")\n",
    "\n",
    "mean_Vz_dr3, bin_edge, inds = scipy.stats.binned_statistic(\n",
    "    D_DR3[\"age\"], D_DR3[\"galvz_dr3\"], statistic=\"mean\", bins=age_bins\n",
    ")\n",
    "std_Vz_dr3, bin_edge, inds = scipy.stats.binned_statistic(\n",
    "    D_DR3[\"age\"], D_DR3[\"galvz_dr3\"], statistic=\"std\", bins=age_bins\n",
    ")\n",
    "\n",
    "mean_Vt_dr3, bin_edge, inds = scipy.stats.binned_statistic(\n",
    "    D_DR3[\"age\"], D_DR3[\"galvt_dr3\"], statistic=\"mean\", bins=age_bins\n",
    ")\n",
    "std_Vt_dr3, bin_edge, inds = scipy.stats.binned_statistic(\n",
    "    D_DR3[\"age\"], D_DR3[\"galvt_dr3\"], statistic=\"std\", bins=age_bins\n",
    ")\n",
    "\n",
    "bincen = [\n",
    "    (bin_edge[i + 1] + bin_edge[i]) / 2.0 for i in range(len(age_bins) - 1)\n",
    "]  # this set the bin centers"
   ]
  },
  {
   "cell_type": "markdown",
   "metadata": {},
   "source": [
    "Finally, we plot the age velocity dispersion relations for APOGEE-DR2 and APOGEE-EDR3 datasets. "
   ]
  },
  {
   "cell_type": "code",
   "execution_count": null,
   "metadata": {
    "scrolled": false
   },
   "outputs": [],
   "source": []
  },
  {
   "cell_type": "markdown",
   "metadata": {},
   "source": [
    "*We now see that the age-velocity dispersion relations are roughly linear such that VELOCITY DISPERSION INCREASES with INCREASING age as expected. If there are some differences between DR2 and EDR3, why might they exist.*"
   ]
  },
  {
   "cell_type": "markdown",
   "metadata": {},
   "source": [
    "Challenge: If you finish, try to :\n",
    "\n",
    "1. Fit a linear function to age velocity dispersion relation and note the model paraameters to compare to the GALAH TEAM\n",
    "\n",
    "\n",
    "2. figure out a way to define the age velocity realtion *without* binning the data. (Hint: This can be done via writing down a linear model for how velocity dispersion depends on age and then comparing that model in the data space.)"
   ]
  },
  {
   "cell_type": "code",
   "execution_count": null,
   "metadata": {},
   "outputs": [],
   "source": []
  }
 ],
 "metadata": {
  "kernelspec": {
   "display_name": "Python 2",
   "language": "python",
   "name": "python2"
  },
  "language_info": {
   "codemirror_mode": {
    "name": "ipython",
    "version": 2
   },
   "file_extension": ".py",
   "mimetype": "text/x-python",
   "name": "python",
   "nbconvert_exporter": "python",
   "pygments_lexer": "ipython2",
   "version": "2.7.15"
  },
  "toc": {
   "base_numbering": 1,
   "nav_menu": {},
   "number_sections": true,
   "sideBar": true,
   "skip_h1_title": false,
   "title_cell": "Table of Contents",
   "title_sidebar": "Contents",
   "toc_cell": false,
   "toc_position": {},
   "toc_section_display": true,
   "toc_window_display": false
  }
 },
 "nbformat": 4,
 "nbformat_minor": 2
}
