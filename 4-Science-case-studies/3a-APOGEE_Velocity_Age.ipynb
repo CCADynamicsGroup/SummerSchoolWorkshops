{
 "cells": [
  {
   "cell_type": "code",
   "execution_count": null,
   "metadata": {},
   "outputs": [],
   "source": [
    "%matplotlib inline\n",
    "%run ../setup/nb_setup"
   ]
  },
  {
   "cell_type": "markdown",
   "metadata": {},
   "source": [
    "# Science Case Studies: The Age-Velocity Dispersion Relations in APOGEE\n",
    "\n",
    "Author(s): Keith Hawkins\n",
    "\n",
    "\n",
    "## Learning goals\n",
    "\n",
    "The purpose of this tutorial is to: \n",
    "1. Introduce the concepts of Age-Velocity Dispersion relations\n",
    "2. Introduce Cross matching via topcat\n",
    "3. Introduce/practice velocity calculations via astropy \n",
    "\n",
    "Goal: You will derive the Gaia DR2-APOGEE Age-Velocity Dispersion relations. Two additional challenges include: (1) derive the same Age-Velocity Dispersion relations but for  Gaia DR3-APOGEE (hint!: this will require a cross match) and (2) consider uncertainties in age and velocity to build a linear model which converts velocity dispersion into age.\n",
    "\n",
    "There are **two reach goals** if you can get there:\n",
    "1. Fit the Age-velocity & Age-velocity dispersion relations simeltenously, using MCMC (emcee) \n",
    "2. Use what you learned above to determine whether its better to use the Age-Vz dispersion or Age-V_theta relation to derive the age of a unkonwn population assuming you have well-measured the velocities.\n",
    "\n",
    "Lets begin!\n",
    "\n",
    "\n",
    "### Notebook Setup and Package Imports"
   ]
  },
  {
   "cell_type": "code",
   "execution_count": null,
   "metadata": {},
   "outputs": [],
   "source": [
    "import numpy as np\n",
    "import matplotlib.pyplot as p\n",
    "import astropy\n",
    "from astropy.table import Table\n",
    "import scipy.stats\n",
    "from astropy.coordinates import SkyCoord\n",
    "import astropy.units as u\n",
    "from astropy.coordinates import Galactic\n",
    "from astropy.coordinates import ICRS\n",
    "import astropy.coordinates as apycord\n",
    "import random"
   ]
  },
  {
   "cell_type": "markdown",
   "metadata": {},
   "source": [
    "We will need to download the APOGEE-ASTRONN dataset that contains age information (along with other information about the APOGEE spectra). This dataset also contains DR2 estimates of velocity but *NOT* DR3 (you will need to do a crossmatch between this file and Gaia EDR3, which we will discuss):\n",
    "\n",
    "DATA DESCRIPTION : https://www.sdss.org/dr16/data_access/value-added-catalogs/?vac_id=the-astronn-catalog-of-abundances,-distances,-and-ages-for-apogee-dr16-stars\n",
    "\n",
    "DATA LOCATION : https://data.sdss.org/sas/dr16/apogee/vac/apogee-astronn/apogee_astroNN-DR16-v1.fits\n",
    "\n",
    "LOCAL MIRROR : https://users.flatironinstitute.org/~apricewhelan/data/surveys/APOGEE_DR16/apogee_astroNN-DR16-v1.fits\n",
    "\n",
    "Download this dataset\n",
    "and load it in with astropy!"
   ]
  },
  {
   "cell_type": "code",
   "execution_count": null,
   "metadata": {},
   "outputs": [],
   "source": [
    "APOGEE = Table.read(\"apogee_astroNN-DR16-v1.fits\")  # read in the data"
   ]
  },
  {
   "cell_type": "code",
   "execution_count": null,
   "metadata": {},
   "outputs": [],
   "source": [
    "# explore the columns:\n",
    "\n",
    "print(APOGEE.colnames)"
   ]
  },
  {
   "cell_type": "markdown",
   "metadata": {},
   "source": [
    "The goal here is to determine how velocity (and velocity dispersion) is correlated with age. \n",
    "\n",
    "As such we will need to find the (precomputed DR2) velocity columns; and age columns (based on the cell above). \n",
    "\n",
    "Not all velociities and ages are measured with the same precision so we will also want to apply some very simple quality control cuts. So lets do that in the next cell"
   ]
  },
  {
   "cell_type": "code",
   "execution_count": null,
   "metadata": {},
   "outputs": [],
   "source": [
    "# lets create a quality\n",
    "v_err_lim = 5  # define the limiting velocity uncertinaty in all axes\n",
    "age_err_lim = 0.3  # age uncertainty limit in percent\n",
    "dist_err_lim = 0.15  # distance error in percent\n",
    "\n",
    "ok = np.where(\n",
    "    (APOGEE[\"galvr_err\"] < v_err_lim)\n",
    "    & (APOGEE[\"galvt_err\"] < v_err_lim)\n",
    "    & (APOGEE[\"galvz_err\"] < v_err_lim)\n",
    "    & (APOGEE[\"age_total_error\"] / APOGEE[\"age\"] < age_err_lim)\n",
    "    & (APOGEE[\"dist_error\"] / APOGEE[\"dist\"] < dist_err_lim)\n",
    "    & (APOGEE[\"age\"] > 0)\n",
    ")[0]\n",
    "\n",
    "print(\"There are %i stars that pass the quality controls\" % len(ok))\n",
    "D = APOGEE[ok]  # lets now subselect the 'GOOD' data"
   ]
  },
  {
   "cell_type": "markdown",
   "metadata": {},
   "source": [
    "With the 'quality' sample in hand, lets now try to figure out how velocity and velocity dispersion depends on age in this sample. We will start by simply plotting velocity in all directions as a function of age. \n",
    "\n",
    "**EXERCISE: PLOT how each velocity component depends on age!**"
   ]
  },
  {
   "cell_type": "code",
   "execution_count": null,
   "metadata": {},
   "outputs": [],
   "source": [
    "# Now we want to plot how the velocities depends on age\n"
   ]
  },
  {
   "cell_type": "markdown",
   "metadata": {},
   "source": [
    "From the above plots we can see that:\n",
    "1. Mostly velocities are indepdent of age (no signficant relationships), except maybe in V_theta\n",
    "2. The velocity dispersion in all velcoity directons likley grows with increasing age\n",
    "\n",
    "So now lets bin by age and see if we can determine the relationship between age and velocity."
   ]
  },
  {
   "cell_type": "code",
   "execution_count": null,
   "metadata": {},
   "outputs": [],
   "source": [
    "# for each star we will place them into bins by age using scipy.stats.binned_statistic\n",
    "\n",
    "age_bins = [3, 4, 5, 6, 7, 8, 9, 10]  # define the limits of each bin\n",
    "\n",
    "## With the ages now binned up lets plot compute the bin's mean age and dispersion in age for each velocity direction\n",
    "mean_VR, bin_edge, inds = scipy.stats.binned_statistic(\n",
    "    D[\"age\"], D[\"galvr\"], statistic=\"mean\", bins=age_bins\n",
    ")\n",
    "std_VR, bin_edge, inds = scipy.stats.binned_statistic(\n",
    "    D[\"age\"], D[\"galvr\"], statistic=\"std\", bins=age_bins\n",
    ")\n",
    "\n",
    "mean_Vz, bin_edge, inds = scipy.stats.binned_statistic(\n",
    "    D[\"age\"], D[\"galvz\"], statistic=\"mean\", bins=age_bins\n",
    ")\n",
    "std_Vz, bin_edge, inds = scipy.stats.binned_statistic(\n",
    "    D[\"age\"], D[\"galvz\"], statistic=\"std\", bins=age_bins\n",
    ")\n",
    "\n",
    "mean_Vt, bin_edge, inds = scipy.stats.binned_statistic(\n",
    "    D[\"age\"], D[\"galvt\"], statistic=\"mean\", bins=age_bins\n",
    ")\n",
    "std_Vt, bin_edge, inds = scipy.stats.binned_statistic(\n",
    "    D[\"age\"], D[\"galvt\"], statistic=\"std\", bins=age_bins\n",
    ")\n",
    "\n",
    "bincen = [\n",
    "    (bin_edge[i + 1] + bin_edge[i]) / 2.0 for i in range(len(age_bins) - 1)\n",
    "]  # this set the bin centers"
   ]
  },
  {
   "cell_type": "markdown",
   "metadata": {},
   "source": [
    "Now that we have binned the data and determined the mean and dispersion in each velocity direction, as a sanity check (which are incredibly important to do), lets overplot the data and the binned results to ensure it looks ok."
   ]
  },
  {
   "cell_type": "markdown",
   "metadata": {},
   "source": [
    "# The Age-Velocity Dispersion Relations in APOGEE-Gaia DR2\n",
    "\n",
    "\n",
    "Now we are ready to plot the age velocity disperison relations for each component for APOGEE-Gaia DR2. \n",
    "\n",
    "**EXERCISE : Plot how each velocity component is depended on age and also overplot the binned data from the previous cell** This will enable us to see how age and velocity (and velocity disperson) are related."
   ]
  },
  {
   "cell_type": "code",
   "execution_count": null,
   "metadata": {
    "scrolled": false
   },
   "outputs": [],
   "source": []
  },
  {
   "cell_type": "markdown",
   "metadata": {},
   "source": [
    "With the data binned we can now explore the velocity disperison as a function of age\n",
    "\n",
    "**EXERCISE: now plot the velocity dipserison as a function of age**"
   ]
  },
  {
   "cell_type": "code",
   "execution_count": null,
   "metadata": {
    "scrolled": false
   },
   "outputs": [],
   "source": []
  },
  {
   "cell_type": "markdown",
   "metadata": {},
   "source": [
    "*We now see that the age-velocity dispersion relations are roughly linear such that VELOCITY DISPERSION INCREASES with INCREASING age as expected.*"
   ]
  },
  {
   "cell_type": "markdown",
   "metadata": {},
   "source": [
    "# The Age-Velocity Dispersion Relations in APOGEE-Gaia EDR3!\n",
    "\n",
    "Let us now redo the above but with EDR3 data instead! This will require us to compute the velocities (and their uncertainties -- challenge) from the EDR3 data directly.\n",
    "\n",
    "You will need to first cross-match (via ADQL/TOPCAT/TAP QUERY/ASTROQUERY) orginal table with ED3. We will explore how to use topcat in this workshop but its trivial to do this via an ADQL/TAP Query.\n",
    "\n",
    "Once the cross match is done, lets read it in."
   ]
  },
  {
   "cell_type": "code",
   "execution_count": null,
   "metadata": {
    "scrolled": false
   },
   "outputs": [],
   "source": [
    "# in this case a cross match was done with topcat so lets load in that.\n",
    "\n",
    "APOGEEDR3 = Table.read(\n",
    "    \"apogee_astroNN-DR16-v1_DR3.fits\"\n",
    ")  # replace with your data table\n",
    "ok = np.where(\n",
    "    (APOGEEDR3[\"parallax_error\"] / APOGEEDR3[\"parallax\"] < 0.3)\n",
    "    & (APOGEEDR3[\"parallax\"] > 0)\n",
    ")\n",
    "APOGEEDR3 = APOGEEDR3[ok]\n",
    "APOGEEDR3[\"dist_dr3\"] = (\n",
    "    1.0 / APOGEEDR3[\"parallax\"]\n",
    ")  # for easy lets just assume that the distance is 1/parallax\n",
    "\n",
    "# lets explore the columns as well; take note of the parallax proper motion etc.\n",
    "print(APOGEEDR3.colnames)"
   ]
  },
  {
   "cell_type": "markdown",
   "metadata": {},
   "source": [
    "With the data set now loaded lets start by making a definition that will compute velocities with astropy.\n",
    "\n",
    "**EXCERICSE: PLEASE build a function to compute the velocities from the uncertainties)**"
   ]
  },
  {
   "cell_type": "code",
   "execution_count": null,
   "metadata": {},
   "outputs": [],
   "source": [
    "# --- ok lets now compute some velocities with EDR3 data! We start by making a defintion to do this.\n",
    "def compute_vels(ra, dec, pmra, pmdec, rv, dist, V0=[11.1, 245.0, 7.25], R0=8.3):\n"
   ]
  },
  {
   "cell_type": "markdown",
   "metadata": {},
   "source": [
    "With the definition, we can now convert the observables into velocities by calling the defintion from above. We can also do this iterativley where in each iteration we perturb the input observables by the uncertainties. This will enable us to estimate the velocity uncertainties via monte carlo realizations. NOTE: This assumes that the uncertainties in the observables are INDEPENDENT! Really one should actually sample from the covariance matrix (provided by Gaia)\n",
    "\n",
    "**CHALLENGE EXERCISE: Try to compute the velocities and their uncertainties using  monte carlo realizations. Once computed add these to the astropy table as galvr_dr3, galvt_dr3, galvz_dr3,galvr_err_dr3,galvt_err_dr3,galvz_err_dr3**"
   ]
  },
  {
   "cell_type": "code",
   "execution_count": null,
   "metadata": {},
   "outputs": [],
   "source": [
    "\n",
    "# ----lets now deal with the velocity uncertinaties via monte carlo realizations\n"
   ]
  },
  {
   "cell_type": "markdown",
   "metadata": {},
   "source": [
    "Now that we have the velocities and their uncertainties with EDR3 data, lets make the same quality control cuts as before."
   ]
  },
  {
   "cell_type": "code",
   "execution_count": null,
   "metadata": {},
   "outputs": [],
   "source": [
    "ok = np.where(\n",
    "    (APOGEEDR3[\"galvr_err_dr3\"] < v_err_lim)\n",
    "    & (APOGEEDR3[\"galvt_err_dr3\"] < v_err_lim)\n",
    "    & (APOGEEDR3[\"galvz_err_dr3\"] < v_err_lim)\n",
    "    & (APOGEEDR3[\"age_total_error\"] / APOGEEDR3[\"age\"] < age_err_lim)\n",
    "    & (APOGEEDR3[\"dist_error\"] / APOGEEDR3[\"dist\"] < dist_err_lim)\n",
    "    & (APOGEEDR3[\"age\"] > 0)\n",
    ")[0]\n",
    "\n",
    "print(\"There are %i stars that pass the quality controls\" % len(ok))\n",
    "D_DR3 = APOGEEDR3[ok]"
   ]
  },
  {
   "cell_type": "markdown",
   "metadata": {},
   "source": [
    "We can now plot the EDR3 version of the age velocity relations."
   ]
  },
  {
   "cell_type": "code",
   "execution_count": null,
   "metadata": {},
   "outputs": [],
   "source": [
    "p.figure(figsize=(10, 10))\n",
    "ax1 = p.subplot(3, 1, 1)\n",
    "p.plot(D_DR3[\"age\"], D_DR3[\"galvr_dr3\"], \"k.\")\n",
    "# p.errorbar(bincen,mean_VR,yerr=std_VR, fmt='s',color='r',zorder=3 )\n",
    "p.ylabel(\"V$_R$ (km/s)\")\n",
    "\n",
    "ax2 = p.subplot(3, 1, 2, sharex=ax1)\n",
    "p.plot(D_DR3[\"age\"], D_DR3[\"galvt_dr3\"], \"k.\")\n",
    "# p.errorbar(bincen,mean_Vt,yerr=std_Vt, fmt='s',color='r',zorder=3 )\n",
    "p.ylabel(r\"V$_{\\theta}$ (km/s)\")\n",
    "\n",
    "ax3 = p.subplot(3, 1, 3, sharey=ax1)\n",
    "p.plot(D_DR3[\"age\"], D_DR3[\"galvz_dr3\"], \"k.\")\n",
    "# p.errorbar(bincen,mean_Vz,yerr=std_Vz, fmt='s',color='r',zorder=3 )\n",
    "p.ylabel(\"V$_z$ (km/s)\")\n",
    "p.xlabel(\"age (Gyr)\")\n",
    "p.tight_layout()"
   ]
  },
  {
   "cell_type": "markdown",
   "metadata": {},
   "source": [
    "We must now bin the data in the same way (by age) as for the DR3 results and compute the mean and std of the velocity in each age bin."
   ]
  },
  {
   "cell_type": "code",
   "execution_count": null,
   "metadata": {},
   "outputs": [],
   "source": [
    "mean_VR_dr3, bin_edge, inds = scipy.stats.binned_statistic(\n",
    "    D_DR3[\"age\"], D_DR3[\"galvr_dr3\"], statistic=\"mean\", bins=age_bins\n",
    ")\n",
    "std_VR_dr3, bin_edge, inds = scipy.stats.binned_statistic(\n",
    "    D_DR3[\"age\"], D_DR3[\"galvr_dr3\"], statistic=\"std\", bins=age_bins\n",
    ")\n",
    "\n",
    "mean_Vz_dr3, bin_edge, inds = scipy.stats.binned_statistic(\n",
    "    D_DR3[\"age\"], D_DR3[\"galvz_dr3\"], statistic=\"mean\", bins=age_bins\n",
    ")\n",
    "std_Vz_dr3, bin_edge, inds = scipy.stats.binned_statistic(\n",
    "    D_DR3[\"age\"], D_DR3[\"galvz_dr3\"], statistic=\"std\", bins=age_bins\n",
    ")\n",
    "\n",
    "mean_Vt_dr3, bin_edge, inds = scipy.stats.binned_statistic(\n",
    "    D_DR3[\"age\"], D_DR3[\"galvt_dr3\"], statistic=\"mean\", bins=age_bins\n",
    ")\n",
    "std_Vt_dr3, bin_edge, inds = scipy.stats.binned_statistic(\n",
    "    D_DR3[\"age\"], D_DR3[\"galvt_dr3\"], statistic=\"std\", bins=age_bins\n",
    ")\n",
    "\n",
    "bincen = [\n",
    "    (bin_edge[i + 1] + bin_edge[i]) / 2.0 for i in range(len(age_bins) - 1)\n",
    "]  # this set the bin centers"
   ]
  },
  {
   "cell_type": "markdown",
   "metadata": {},
   "source": [
    "Finally, we plot the age velocity dispersion relations for APOGEE-DR2 and APOGEE-EDR3 datasets. \n",
    "\n",
    "**EXERCISE: Now plot the age-velocity dispersion relations (using the binned data from above) for EDR3 and DR2**"
   ]
  },
  {
   "cell_type": "code",
   "execution_count": null,
   "metadata": {
    "scrolled": false
   },
   "outputs": [],
   "source": [
    "\n",
    "p.figure(figsize=(10, 10))\n"
   ]
  },
  {
   "cell_type": "markdown",
   "metadata": {},
   "source": [
    "*We now see that the age-velocity dispersion relations are roughly linear such that VELOCITY DISPERSION INCREASES with INCREASING age as expected. If there are some differences between DR2 and EDR3, why might they exist.*"
   ]
  },
  {
   "cell_type": "markdown",
   "metadata": {},
   "source": [
    "# Reach Challenge I: Fitting the Age-Velocity & Age-Velocity Dispersion Relations Simultaneously with Linear Model and MCMC "
   ]
  },
  {
   "cell_type": "markdown",
   "metadata": {},
   "source": [
    "Challenge: If you finish, try to figure out a way to define the age velocity realtion *without* binning the data. (Hint: This can be done via writing down a linear model for how velocity and velocity dispersion depends on age and then comparing that model in the data space using emcee!)"
   ]
  },
  {
   "cell_type": "code",
   "execution_count": null,
   "metadata": {},
   "outputs": [],
   "source": [
    "# so lets begin this by importing the required packages to fit the age velocity relation \n",
    "import emcee\n",
    "import corner\n",
    "import scipy\n",
    "import scipy.stats"
   ]
  },
  {
   "cell_type": "markdown",
   "metadata": {},
   "source": [
    "So we need to write down a model \n",
    "\n",
    "So we will model the velocity distribution as a function of age such that\n",
    "\n",
    "$$V_i = m_{V_i-age} * age + b_{V_i-age}$$\n",
    "\n",
    "where i represents the velocity component (i.e., i = {r, T, z} ), $m_{V_i-age}$ (called m in code) represents the slope of the age-velocity relation, and $b_{V_i-age}$ (called b2 in the code) represents the intercept of the age-velocity relation\n",
    "\n",
    "Additionally, we will mdoel the velocity dispersion distribtion as a function of age such that:\n",
    "\n",
    "$$\\sigma V_i = m_{\\sigma V_i-age} * age + b_{\\sigma V_i-age}$$\n",
    "\n",
    "Here, $m_{\\sigma V_i-age}$ (called m in the code) represents the slope of the age-velocity disperison relation, and $b_{\\sigma V_i-age}$ (called b in the code) represents the intercept of the age-velocity dispersion relation\n",
    "\n",
    "Now that we have written down a linear model, which describes how both velocity and velocity disperison depends on age, we will need to fit the model to the data. Remember that the data we have is the measured velocities ($V_i$).\n",
    "\n",
    "We will do this in a Bayesian way.\n",
    "\n",
    "So lets quickly recap. \n",
    "\n",
    "Bayes theorm states that the probability of our model given the data that we have observed (i.e., $p(\\theta∣data)$, the postieror) is proportional to the probility of measuring the data that we do given the model ($p(data∣\\theta)$ often called the liklihood function) multiplied by the prior information we have that our model parameters are correct ($p(\\theta)$, the prior). This is mathematically,\n",
    "\n",
    "$$p(\\theta∣data) \\propto  p(data | \\theta) * p(\\theta) $$\n",
    "\n",
    "In our specific case, $\\theta$ represents our model parameters. Thus  $\\theta$ = { $m_{V_i-age}$, $b_{V_i-age}$, $m_{\\sigma V_i-age}$, $b_{\\sigma V_i-age}$ }.\n",
    "\n",
    "ultimately, we need to fit these model parameters by maximizing the posterior of the model. From above we can see that we can do this by maximizing the product between the liklihood and the prior. \n",
    "\n",
    "With this info in hand, lets write down our priors and likihood function.\n",
    "\n",
    "$$ p(data | \\theta) = \\mathcal{N}(m_{V_i-age}*age+ b_{V_i-age}, sqrt(m_{\\sigma V_i-age}*age+ b_{\\sigma V_i-age} + \\sigma_{V_i})) $$\n",
    "\n",
    "and we set priors such that $m_{\\sigma V_i-age}$, $b_{\\sigma V_i-age}$ > 0 (i.e., the slope and intercept of the age velocity dispersion relations must be posititve to ensure that the velocity dispersion is in fact larger than 0. \n",
    "\n",
    "Now that we have all the background and info we need, lets go ahead and begin to write down our model, log likihood function, prior and emcee instance to fit the model via MCMC\n",
    "\n",
    "\n",
    "                                                                        "
   ]
  },
  {
   "cell_type": "code",
   "execution_count": null,
   "metadata": {},
   "outputs": [],
   "source": [
    "#Use this cell to write down the log liklihood, the log prior, and the emcee instance. \n",
    "#Make sure you use age, Vz and its uncertaintiy as the 'data' (if you get stuck use the soultions as a guide)\n"
   ]
  },
  {
   "cell_type": "code",
   "execution_count": null,
   "metadata": {},
   "outputs": [],
   "source": [
    "#--lets flatten the samples and make the corner plot to see our results.\n",
    "flat_samples = sampler.get_chain(discard=400, flat=True)\n",
    "p.plot(flat_samples[:,0])\n",
    "labels = [r'm$_{\\sigma V_z-age}$',r'b$_{\\sigma V_z-age}$','m$_{V_z-age}$','b$_{V_z-age}$']\n",
    "fig = corner.corner(flat_samples, labels=labels,)"
   ]
  },
  {
   "cell_type": "code",
   "execution_count": null,
   "metadata": {},
   "outputs": [],
   "source": [
    "print('Now we see that the slope of the age-velocity dispersion relation is %.2f +/- \\\n",
    "%.2f km/s per Gyr FOR APOGEE'%(np.median(flat_samples[:,0]),np.std(flat_samples[:,0])))\n",
    "\n",
    "\n",
    "print('Finally, we find that the slope of the age-velocity relation is %.2f +/- \\\n",
    "%.2f km/s per Gyr FOR APOGEE'%(np.median(flat_samples[:,2]),np.std(flat_samples[:,2])))\n",
    "\n"
   ]
  },
  {
   "cell_type": "markdown",
   "metadata": {},
   "source": [
    "## Reach Challenge II: If we want to measure the age of an unknown population of stars, is it better to use the Age-velocity dispersion (in Z) relation or the Age-velocity relation (in theta)?"
   ]
  },
  {
   "cell_type": "markdown",
   "metadata": {},
   "source": [
    "To answer this question we must determine whether the slope of the Age-velocity relation in theta is steeper (or not) compared to the age-velocity dispersion relation in Z. Whichever has the steeper slope changes more drastically with age and is thus a 'better' relation to use. So lets refit our above model for VT instead of Vz"
   ]
  },
  {
   "cell_type": "code",
   "execution_count": null,
   "metadata": {},
   "outputs": [],
   "source": [
    "#Use this cell to re-initalize the emcee model but this time use Vtheta not Vz"
   ]
  },
  {
   "cell_type": "code",
   "execution_count": null,
   "metadata": {},
   "outputs": [],
   "source": [
    "#--lets flatten the samples and make the corner plot to see our results.\n",
    "flat_samples = sampler.get_chain(discard=300, flat=True)\n",
    "p.plot(flat_samples[:,0])\n",
    "labels = [r'm$_{\\sigma V_{\\theta-age}}$',r'b$_{\\sigma V_{\\theta-age}}$',r'm$_{V_{\\theta -age}}}$',r'b$_{V_{\\theta -age}}$']\n",
    "fig = corner.corner(flat_samples, labels=labels,)\n",
    "\n",
    "print('Now we see that the slope of the age-velocity dispersion relation is %.2f +/- \\\n",
    "%.2f km/s per Gyr FOR APOGEE'%(np.median(flat_samples[:,0]),np.std(flat_samples[:,0])))\n",
    "\n",
    "\n",
    "print('Finally, we find that the slope of the age-velocity relation is %.2f +/- \\\n",
    "%.2f km/s per Gyr FOR APOGEE'%(np.median(flat_samples[:,2]),np.std(flat_samples[:,2])))\n",
    "\n"
   ]
  },
  {
   "cell_type": "markdown",
   "metadata": {},
   "source": []
  },
  {
   "cell_type": "code",
   "execution_count": null,
   "metadata": {},
   "outputs": [],
   "source": []
  }
 ],
 "metadata": {
  "kernelspec": {
   "display_name": "Python 3",
   "language": "python",
   "name": "python3"
  },
  "language_info": {
   "codemirror_mode": {
    "name": "ipython",
    "version": 3
   },
   "file_extension": ".py",
   "mimetype": "text/x-python",
   "name": "python",
   "nbconvert_exporter": "python",
   "pygments_lexer": "ipython3",
   "version": "3.9.4"
  },
  "toc": {
   "base_numbering": 1,
   "nav_menu": {},
   "number_sections": true,
   "sideBar": true,
   "skip_h1_title": false,
   "title_cell": "Table of Contents",
   "title_sidebar": "Contents",
   "toc_cell": false,
   "toc_position": {},
   "toc_section_display": true,
   "toc_window_display": false
  }
 },
 "nbformat": 4,
 "nbformat_minor": 2
}
