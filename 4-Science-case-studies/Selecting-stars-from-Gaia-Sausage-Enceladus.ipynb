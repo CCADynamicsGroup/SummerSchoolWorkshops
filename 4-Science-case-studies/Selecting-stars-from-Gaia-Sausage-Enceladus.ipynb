{
 "cells": [
  {
   "cell_type": "code",
   "execution_count": null,
   "metadata": {},
   "outputs": [],
   "source": [
    "%matplotlib inline\n",
    "%run ../setup/nb_setup"
   ]
  },
  {
   "cell_type": "markdown",
   "metadata": {},
   "source": [
    "# Science Case Studies: Selecting Stars from Gaia-Sausage-Enceladus\n",
    "\n",
    "Author(s): Emily Cunningham\n",
    "\n",
    "\n",
    "## Introduction\n",
    "\n",
    "In this workshop, we are going to be exploring some observational data and learning how different studies have selected and characterized the so-called \"Gaia-Sausage-Enceladus\" (hereafter GSE; Belokurov et al. 2018, Helmi et al. 2018). GSE is argued to be the dominant contributor by mass to the Milky Way's inner halo (~<20 kpc). \n",
    "\n",
    "\n",
    "### Notebook Setup and Package Imports"
   ]
  },
  {
   "cell_type": "code",
   "execution_count": null,
   "metadata": {},
   "outputs": [],
   "source": [
    "import numpy as np\n",
    "import matplotlib.pyplot as plt\n",
    "from astropy.io import fits\n",
    "import astropy.coordinates as coord\n",
    "import astropy.units as u\n",
    "from astropy.table import Table, join\n",
    "from matplotlib.colors import LogNorm\n",
    "\n",
    "# IMPORT YOUR FAVORITE PACKAGE FOR CONVERTING VELOCITIES TO ORBITAL PARAMETERS HERE"
   ]
  },
  {
   "cell_type": "markdown",
   "metadata": {},
   "source": [
    "## Step 1. Grab the data! \n",
    "\n",
    "For this workshop, we will be making use of GALAH DR3 (Buder et al. 2020) to explore the properties of the Gaia-Sausage-Enceladus. \n",
    "\n",
    "The first step is go download the data! Go find and download the main GALAH DR3 catalog [here](https://www.galah-survey.org/dr3/the_catalogues/)"
   ]
  },
  {
   "cell_type": "code",
   "execution_count": null,
   "metadata": {},
   "outputs": [],
   "source": [
    "# Put the path on your machine to the GALAH main DR3 file here!\n",
    "galah_filename = \"GALAH_DR3_main_allstar_v2.fits\""
   ]
  },
  {
   "cell_type": "markdown",
   "metadata": {},
   "source": [
    "Next, we want to read in the data, and load in into a form which we can manipulate easily. Because this is a .fits file, reading in the data with [Astropy.io](https://docs.astropy.org/en/stable/io/fits/index.html) is usually the simplest course of action. Once we open the file, we can load the data into an [Astropy Table.](https://docs.astropy.org/en/stable/table/index.html#using-table) "
   ]
  },
  {
   "cell_type": "code",
   "execution_count": null,
   "metadata": {},
   "outputs": [],
   "source": [
    "# In this cell, write code to read in this file using astropy.io.fits, and load it into an Astropy table.\n",
    "hdu = fits.open(galah_filename)\n",
    "galah_main = Table(hdu[1].data)"
   ]
  },
  {
   "cell_type": "code",
   "execution_count": null,
   "metadata": {},
   "outputs": [],
   "source": [
    "# Print the column names and the number of entries\n",
    "print(galah_main.columns)\n",
    "print(len(galah_main))"
   ]
  },
  {
   "cell_type": "markdown",
   "metadata": {},
   "source": [
    "We can see that GALAH DR3 contains information for 30+ abundances. Cool! We can see that this catalog also contains information about the stars kinematics from Gaia DR2. It would be more fun to use the most recent measurements from Gaia eDR3. Fortunately for us, the GALAH team has released a catalog cross-matching their sources with Gaia eDR3. Go grab it from the GALAH catalog page! It is called GALAH_DR3_VAC_GaiaEDR3_v2.fits "
   ]
  },
  {
   "cell_type": "code",
   "execution_count": null,
   "metadata": {},
   "outputs": [],
   "source": [
    "# Again modify path here to location on your machine!\n",
    "galah_gaiaedr3_filename = \"GALAH_DR3_VAC_GaiaEDR3_v2.fits\""
   ]
  },
  {
   "cell_type": "code",
   "execution_count": null,
   "metadata": {},
   "outputs": [],
   "source": [
    "# Read this new file and put it into a new table\n",
    "hdu = fits.open(galah_gaiaedr3_filename)\n",
    "galah_gaiaedr3 = Table(hdu[1].data)"
   ]
  },
  {
   "cell_type": "code",
   "execution_count": null,
   "metadata": {},
   "outputs": [],
   "source": [
    "# Print the column names and the number of entries\n",
    "print(galah_gaiaedr3.columns)\n",
    "print(len(galah_gaiaedr3))"
   ]
  },
  {
   "cell_type": "markdown",
   "metadata": {},
   "source": [
    "Great! We now have the latest astrometric measurements for these stars. However, this catalog doesn't have any of the spectroscopic measurements for the stars; we will have to combine information from these two tables. Furthermore, you may notice that there are MORE entries in the GALAH-Gaia eDR3 catalog than in the GALAH main catalog. Therefore, we have to be careful when combining information from these two tables.\n",
    "\n",
    "In the cell below, match the two tables using the \"join\" function in Astropy."
   ]
  },
  {
   "cell_type": "code",
   "execution_count": null,
   "metadata": {},
   "outputs": [],
   "source": [
    "joined_tab = join(galah_main, galah_gaiaedr3, keys=\"sobject_id\")\n",
    "print(len(joined_tab))"
   ]
  },
  {
   "cell_type": "markdown",
   "metadata": {},
   "source": [
    "Great! Now that we have one big table with all the chemical and kinematic information for every star, we can get started on visualizing and analyzing the data. \n",
    "\n",
    "## Step 2. Select a Sample of Giants\n",
    "\n",
    "Let's start by making an HR Diagram, and select a population of giants to use for the rest of this workshop."
   ]
  },
  {
   "cell_type": "code",
   "execution_count": null,
   "metadata": {},
   "outputs": [],
   "source": [
    "plt.figure(figsize=(5, 6))\n",
    "plt.hist2d(\n",
    "    joined_tab[\"teff\"],\n",
    "    joined_tab[\"logg\"],\n",
    "    bins=(np.arange(3000, 8000, 6), np.arange(0, 5, 0.02)),\n",
    "    norm=LogNorm(),\n",
    ")\n",
    "plt.ylim(5, 0)\n",
    "plt.xlim(8000, 3000)\n",
    "plt.ylabel(\"log(g)\")\n",
    "plt.xlabel(r\"T$_{eff}$ (k)\")\n",
    "\n",
    "# Using the HR diagram, select a subsample of giants. Overplot your selection box.\n",
    "giants = (joined_tab[\"teff\"] < 6000.0) & (joined_tab[\"logg\"] < 3.5)\n",
    "plt.plot([6000, 6000], [3.5, 0], color=\"r\", linewidth=3)\n",
    "plt.plot([3000, 6000], [3.5, 3.5], color=\"r\", linewidth=3)"
   ]
  },
  {
   "cell_type": "markdown",
   "metadata": {},
   "source": [
    "Finally, for the purposes of this exercise, we want to make sure we don't have any NaNs in our sample for the distances. So we are going to apply a quality cut on the parallaxes as well: "
   ]
  },
  {
   "cell_type": "code",
   "execution_count": null,
   "metadata": {},
   "outputs": [],
   "source": [
    "print(np.min(joined_tab[\"parallax\"]), np.max(joined_tab[\"parallax\"]))\n",
    "\n",
    "par = joined_tab[\"parallax\"]\n",
    "par_err = joined_tab[\"parallax_error\"]\n",
    "plx_snr = par / par_err\n",
    "keep = (plx_snr > 5) & (np.isfinite(joined_tab[\"rv_galah\"]))\n",
    "print(np.sum(keep))\n",
    "print(np.sum(giants & keep))"
   ]
  },
  {
   "cell_type": "markdown",
   "metadata": {},
   "source": [
    "## Step 3. Kinematics\n",
    "\n",
    "Now, let's start looking at the kinematics of our sample!\n",
    "\n",
    "First, use astropy.coordinates and the Gaia/GALAH measurements to compute Galactocentric velocities. From here on out, let's limit our sample to the giants that pass our parallax quality cuts. "
   ]
  },
  {
   "cell_type": "code",
   "execution_count": null,
   "metadata": {},
   "outputs": [],
   "source": [
    "# Compute velocities in the Galactocentric frame here\n",
    "c = coord.SkyCoord(\n",
    "    ra=joined_tab[\"ra\"][giants & keep] * u.deg,\n",
    "    dec=joined_tab[\"dec\"][giants & keep] * u.deg,\n",
    "    radial_velocity=joined_tab[\"rv_galah\"][giants & keep] * u.km / u.s,\n",
    "    pm_ra_cosdec=joined_tab[\"pmra\"][giants & keep] * u.mas / u.yr,\n",
    "    pm_dec=joined_tab[\"pmdec\"][giants & keep] * u.mas / u.yr,\n",
    "    distance=1.0 / joined_tab[\"parallax\"][giants & keep] * u.kpc,\n",
    ")\n",
    "\n",
    "galcen = c.transform_to(coord.Galactocentric)"
   ]
  },
  {
   "cell_type": "code",
   "execution_count": null,
   "metadata": {},
   "outputs": [],
   "source": [
    "print(galcen.v_y.value)"
   ]
  },
  {
   "cell_type": "markdown",
   "metadata": {},
   "source": [
    "Now that we've converted to the Galactocentric frame, let's compute velocities in both spherical and cylindrical coordinates."
   ]
  },
  {
   "cell_type": "code",
   "execution_count": null,
   "metadata": {},
   "outputs": [],
   "source": [
    "# Compute the cylindrical and spherical galactocentric velocities\n",
    "\n",
    "r = (galcen.x.value ** 2 + galcen.y.value ** 2 + galcen.z.value ** 2) ** (1.0 / 2.0)\n",
    "Rp = (galcen.x.value ** 2 + galcen.y.value ** 2) ** (1.0 / 2.0)\n",
    "\n",
    "# Spherical\n",
    "Vr = (\n",
    "    galcen.x.value * galcen.v_x.value / r\n",
    "    + galcen.y.value * galcen.v_y.value / r\n",
    "    + galcen.z.value * galcen.v_z.value / r\n",
    ")\n",
    "Vphi = galcen.y.value * galcen.v_x.value / Rp - galcen.x.value * galcen.v_y.value / Rp\n",
    "Vtheta = (\n",
    "    galcen.z.value * galcen.x.value * galcen.v_x.value / (Rp * r)\n",
    "    + galcen.z.value * galcen.y.value * galcen.v_y.value / (Rp * r)\n",
    "    - Rp * galcen.v_z.value / r\n",
    ")\n",
    "\n",
    "# Cylindrical\n",
    "galcen.set_representation_cls(\"cylindrical\")\n",
    "vR = galcen.d_rho.to(u.km / u.s)\n",
    "vphi = (galcen.rho * galcen.d_phi).to(u.km / u.s, u.dimensionless_angles())\n",
    "vz = galcen.d_z.to(u.km / u.s)\n",
    "\n",
    "vRz = np.sqrt(vR ** 2 + vz ** 2)"
   ]
  },
  {
   "cell_type": "markdown",
   "metadata": {},
   "source": [
    "Let's plot a Toomre diagram quickly to make sure all looks reasonable. The Toomre diagram has historically been used to separate the different kinematic components of the Galaxy (i.e., thin disk, thick disk, and halo). A Toomre diagram compares the rotational speed of a star with its total velocity in the other two components of motion. Historically, this diagram was usually shown in Galactocentric cartesian coordinates $(U,V,W)$, where it was assumed that $V$ was equivalent to the rotational velocity of the disk. While this is approximately true in the solar neighborhood, we now have measured velocities for stars at larger distances from our Sun, where $V\\neq v_{\\phi}$. Therefore, here we will plot our Toomre diagram in cylindrical coordinates.\n",
    "\n",
    "If all has gone well in computing the Galactocentric velocity, you should see a high density region near the average circular velocity of the disk. Indicate on the Toomre Diagram the approximate locations of the thin disk, thick disk and halo"
   ]
  },
  {
   "cell_type": "code",
   "execution_count": null,
   "metadata": {},
   "outputs": [],
   "source": [
    "plt.hist2d(\n",
    "    vphi.value,\n",
    "    vRz.value,\n",
    "    bins=(np.arange(-500, 500 + 1e-3, 2), np.arange(0, 500 + 1e-3, 2)),\n",
    "    norm=LogNorm(),\n",
    ")\n",
    "plt.xlabel(r\"v${_\\phi}$ (km/s)\")\n",
    "plt.ylabel(r\"v${_{RZ}}$ (km/s)\")\n",
    "# Indicate the approximate locations in this diagram for thin disk, thick disk and halo."
   ]
  },
  {
   "cell_type": "markdown",
   "metadata": {},
   "source": [
    "We can also make the \"Sausage\" plot (from Belokurov et al. 2018): in this paper, they compared the rotational velocity distributions with the radial velocity distributions.\n",
    "\n",
    "In the below plot, you should again see a high density region corresponding to the disk. You should also see a population that has an extended radial velocity distribution but a narrower rotational velocity distribution. This is the so-called \"Sausage.\"\n"
   ]
  },
  {
   "cell_type": "code",
   "execution_count": null,
   "metadata": {},
   "outputs": [],
   "source": [
    "# Indicate the Disk and the \"Sausage\" in the below figure!\n",
    "plt.hist2d(Vr, Vphi, bins=np.arange(-350, 350), norm=LogNorm())\n",
    "plt.ylabel(r\"V$_{\\phi}$ (km/s)\")\n",
    "plt.xlabel(\"V$_{R}$ (km/s)\")"
   ]
  },
  {
   "cell_type": "markdown",
   "metadata": {},
   "source": [
    "Now, using your method of choice, compute the following:\n",
    "\n",
    "1) Orbital Energy \n",
    "\n",
    "2) Actions ($J_R, L_z, J_{z}$) \n",
    "\n",
    "3) Eccentricity  \n",
    "\n",
    "4) Apocenter radius\n",
    "\n",
    "Feel free to use gala or galpy to compute these quantities! Either way, be sure to use a Milky Way potential model ([MilkyWayPotential](http://gala.adrian.pw/en/latest/api/gala.potential.potential.MilkyWayPotential.html) in gala or [McMillan17](https://docs.galpy.org/en/v1.6.0/reference/potential.html#potential-mw) in galpy). \n",
    "\n",
    "If computing these quantities in galpy, please using the Staeckel approximation (actionAngleStaeckel) with a focus on 0.45. Within actionAngleStaeckel, useful functions include calcELStaeckel, actionsFreqsAngles, and EccZmaxRperiRap.\n",
    "\n",
    "A few things to note using galpy:\n",
    "\n",
    "* Coordinate systems here: galpy uses a _left-handed_ coordinate system, meaning that the rotational velocity of the disk is positive. This is likely the OPPOSITE of the rotational velocity you computed above.\n",
    "\n",
    "* Units: distances are in units of $R_{sun}$ and velocities in units of $V_{sun}$. So, for example, once you compute the Energy (which has units of $(km/s)^2$), you'll want to multiply the value you get from galpy by ($V_{sun}^2$). \n",
    "\n",
    "## ADRIAN: Useful suggestions of how to do this in gala instead? \n",
    "\n",
    "Hint: you may have noticed that the GALAH team has computed a table with these quantities already (using galpy), in an available VAC on their website. You can also see there all choices that they made when computing actions, angles, etc. If you get really stuck, you can always grab the catalog (match it to your sample) if you want to move on with the exercise :)"
   ]
  },
  {
   "cell_type": "code",
   "execution_count": null,
   "metadata": {},
   "outputs": [],
   "source": [
    "# COMPUTE ACTIONS AND ORBITAL PARAMETERS HERE.\n",
    "\n",
    "# Note for the organizers/Adrian: I (Emily) am going to be lazy here and just read in the VAC.\n",
    "# But am intending for the students to calculate these themselves\n",
    "hdu3 = fits.open(\"GALAH_DR3_VAC_dynamics_v2.fits\")\n",
    "dynamics_data = hdu3[1].data\n",
    "dynamics_tab = Table(dynamics_data)\n",
    "full_tab = join(joined_tab, dynamics_tab, keys=\"sobject_id\")"
   ]
  },
  {
   "cell_type": "code",
   "execution_count": null,
   "metadata": {},
   "outputs": [],
   "source": [
    "# Put your final values here, in the correct physical units\n",
    "# (i.e., energy in units of (km/s)^2, actions in kpc (km/s), etc.)\n",
    "energy = full_tab[\"Energy\"][giants & keep]\n",
    "Jr = full_tab[\"J_R\"][giants & keep]\n",
    "Lz = full_tab[\"L_Z\"][giants & keep]\n",
    "Jz = full_tab[\"J_Z\"][giants & keep]\n",
    "ecc = full_tab[\"ecc\"][giants & keep]\n",
    "r_apo = full_tab[\"R_ap\"][giants & keep]"
   ]
  },
  {
   "cell_type": "markdown",
   "metadata": {},
   "source": [
    "## Step 4. Exploring the properties of the Gaia-Enceladus-Sausage with different selections. \n",
    "\n",
    "Now that we have our orbital properties, we are going to take a look at how different groups have \"identified\" stars as belonging to the GES, and compare their properties. \n",
    "\n",
    "Have a look at the following papers and how they identify GES stars:\n",
    "\n",
    "1) [Helmi et al. (2018)](https://ui.adsabs.harvard.edu/abs/2018Natur.563...85H/abstract) (see Figure 1)\n",
    "\n",
    "2) [Feuillet et al. (2021)](https://ui.adsabs.harvard.edu/abs/2021arXiv210512141F/abstract) (see Section 3.1)\n",
    "\n",
    "3) [Naidu et al. (2020)](https://ui.adsabs.harvard.edu/abs/2020ApJ...901...48N/abstract) (see their Figure 11; don't worry about subtracting off the other components for this exercise!)"
   ]
  },
  {
   "cell_type": "code",
   "execution_count": null,
   "metadata": {},
   "outputs": [],
   "source": [
    "# After looking at the papers, enter the selection criteria for each of the studies here:\n",
    "helmi = (Lz < 150.0) & (Lz > -1500.0) & (energy > -1.8e5)\n",
    "feuillet = (\n",
    "    (np.sqrt(full_tab[\"J_R\"][giants & keep]) < 55)\n",
    "    & (np.sqrt(full_tab[\"J_R\"][giants & keep]) > 30)\n",
    "    & (np.abs(full_tab[\"L_Z\"][giants & keep]) < 500)\n",
    ")\n",
    "naidu = ecc > 0.7"
   ]
  },
  {
   "cell_type": "markdown",
   "metadata": {},
   "source": [
    "We are now going to compare these different selections, and investigate how our inferences about the GES might vary given a selection function. \n",
    "\n",
    "We are going to use the below plots as a baseline:"
   ]
  },
  {
   "cell_type": "code",
   "execution_count": null,
   "metadata": {},
   "outputs": [],
   "source": [
    "f, ax = plt.subplots(2, 3, figsize=(20, 11))\n",
    "\n",
    "ax[0, 0].hist2d(\n",
    "    Lz / 1000.0,\n",
    "    energy / 1.0e5,\n",
    "    bins=(np.arange(-4, 4, 0.01), np.arange(-3.0, 0, 0.01)),\n",
    "    norm=LogNorm(),\n",
    "    cmap=\"bone\",\n",
    ")\n",
    "ax[0, 0].set_ylabel(r\"Energy ($10^5$ km$^2$/s$^2$)\")\n",
    "ax[0, 0].set_xlabel(r\"L$_z$ ($10^3$ kpc km/s)\")\n",
    "\n",
    "ax[0, 1].hist2d(\n",
    "    vphi.value,\n",
    "    vRz.value,\n",
    "    bins=(np.arange(-500, 500 + 1e-3, 2), np.arange(0, 500 + 1e-3, 2)),\n",
    "    norm=LogNorm(),\n",
    "    cmap=\"bone\",\n",
    ")\n",
    "ax[0, 1].set_xlabel(r\"V$_{\\phi}$ (km/s)\")\n",
    "ax[0, 1].set_ylabel(r\"$(V{_R}^2+V_Z^2)^{1/2}$ (km/s)\")\n",
    "\n",
    "ax[0, 2].hist2d(Vr, Vphi, bins=np.arange(-350, 350), norm=LogNorm(), cmap=\"bone\")\n",
    "ax[0, 2].set_ylabel(r\"V$_{\\phi}$ (km/s)\")\n",
    "ax[0, 2].set_xlabel(\"V$_{R}$ (km/s)\")\n",
    "\n",
    "ax[1, 0].hist2d(\n",
    "    r,\n",
    "    ecc,\n",
    "    bins=(np.arange(0, 20, 0.1), np.arange(0, 1.001, 0.005)),\n",
    "    norm=LogNorm(),\n",
    "    cmap=\"bone\",\n",
    ")\n",
    "ax[1, 0].set_xlabel(\"R (kpc)\")\n",
    "ax[1, 0].set_ylabel(r\"L$_z$ ($10^3$ kpc km/s)\")\n",
    "\n",
    "ax[1, 1].hist2d(\n",
    "    Lz / 1000.0,\n",
    "    np.sqrt(Jr),\n",
    "    bins=(np.arange(-3.5, 3.5, 0.01), np.arange(0, 60, 0.5)),\n",
    "    norm=LogNorm(),\n",
    "    cmap=\"bone\",\n",
    ")\n",
    "ax[1, 1].set_ylabel(r\"$\\sqrt{J_R/(\\mathrm{kpc km/s})}$\")\n",
    "ax[1, 1].set_xlabel(r\"L$_z$ ($10^3$ kpc km/s)\")\n",
    "\n",
    "\n",
    "ax[1, 2].hist2d(\n",
    "    full_tab[\"fe_h\"][giants & keep],\n",
    "    full_tab[\"Mg_fe\"][giants & keep],\n",
    "    bins=(np.arange(-2.5, 1.0, 0.01), np.arange(-1, 1, 0.01)),\n",
    "    norm=LogNorm(),\n",
    "    cmap=\"bone\",\n",
    ")\n",
    "ax[1, 2].set_ylabel(\"Mg/Fe\")\n",
    "ax[1, 2].set_xlabel(\"Fe/H\")\n",
    "\n",
    "\n",
    "plt.subplots_adjust()"
   ]
  },
  {
   "cell_type": "markdown",
   "metadata": {},
   "source": [
    "In the below cells, you're going to remake these same figures, but with the different selections overplotted."
   ]
  },
  {
   "cell_type": "code",
   "execution_count": null,
   "metadata": {},
   "outputs": [],
   "source": [
    "# Same plots as above, but overplotting stars using the Helmi selection.\n",
    "f, ax = plt.subplots(2, 3, figsize=(20, 11))\n",
    "\n",
    "ax[0, 0].hist2d(\n",
    "    Lz / 1000.0,\n",
    "    energy / 1.0e5,\n",
    "    bins=(np.arange(-4, 4, 0.01), np.arange(-3.0, 0, 0.01)),\n",
    "    norm=LogNorm(),\n",
    "    cmap=\"bone\",\n",
    ")\n",
    "ax[0, 0].set_ylabel(r\"Energy ($10^5$ km$^2$/s$^2$)\")\n",
    "ax[0, 0].set_xlabel(r\"L$_z$ ($10^3$ kpc km/s)\")\n",
    "ax[0, 0].scatter(Lz[helmi] / 1000.0, energy[helmi] / 1.0e5, s=5)\n",
    "\n",
    "ax[0, 1].hist2d(\n",
    "    vphi.value,\n",
    "    vRz.value,\n",
    "    bins=(np.arange(-500, 500 + 1e-3, 2), np.arange(0, 500 + 1e-3, 2)),\n",
    "    norm=LogNorm(),\n",
    "    cmap=\"bone\",\n",
    ")\n",
    "ax[0, 1].set_xlabel(r\"V$_{\\phi}$ (km/s)\")\n",
    "ax[0, 1].set_ylabel(r\"$(V{_R}^2+V_Z^2)^{1/2}$ (km/s)\")\n",
    "ax[0, 1].scatter(vphi.value[helmi], vRz.value[helmi], s=5)\n",
    "\n",
    "ax[0, 2].hist2d(Vr, Vphi, bins=np.arange(-350, 350), norm=LogNorm(), cmap=\"bone\")\n",
    "ax[0, 2].set_ylabel(r\"V$_{\\phi}$ (km/s)\")\n",
    "ax[0, 2].set_xlabel(\"V$_{R}$ (km/s)\")\n",
    "ax[0, 2].scatter(Vr[helmi], Vphi[helmi], s=5)\n",
    "\n",
    "ax[1, 0].hist2d(\n",
    "    r,\n",
    "    ecc,\n",
    "    bins=(np.arange(0, 20, 0.1), np.arange(0, 1.001, 0.005)),\n",
    "    norm=LogNorm(),\n",
    "    cmap=\"bone\",\n",
    ")\n",
    "ax[1, 0].set_xlabel(\"R (kpc)\")\n",
    "ax[1, 0].set_ylabel(r\"L$_z$ ($10^3$ kpc km/s)\")\n",
    "ax[1, 0].scatter(r[helmi], ecc[helmi], s=5)\n",
    "\n",
    "ax[1, 1].hist2d(\n",
    "    Lz / 1000.0,\n",
    "    np.sqrt(Jr),\n",
    "    bins=(np.arange(-3.5, 3.5, 0.01), np.arange(0, 60, 0.5)),\n",
    "    norm=LogNorm(),\n",
    "    cmap=\"bone\",\n",
    ")\n",
    "ax[1, 1].set_ylabel(r\"$\\sqrt{J_R/(\\mathrm{kpc km/s})}$\")\n",
    "ax[1, 1].set_xlabel(r\"L$_z$ ($10^3$ kpc km/s)\")\n",
    "ax[1, 1].scatter(Lz[helmi] / 1000.0, np.sqrt(Jr[helmi]), s=5)\n",
    "\n",
    "\n",
    "ax[1, 2].hist2d(\n",
    "    full_tab[\"fe_h\"][giants & keep],\n",
    "    full_tab[\"Mg_fe\"][giants & keep],\n",
    "    bins=(np.arange(-2.5, 1.0, 0.01), np.arange(-1, 1, 0.01)),\n",
    "    norm=LogNorm(),\n",
    "    cmap=\"bone\",\n",
    ")\n",
    "ax[1, 2].set_ylabel(\"Mg/Fe\")\n",
    "ax[1, 2].set_xlabel(\"Fe/H\")\n",
    "ax[1, 2].scatter(\n",
    "    full_tab[\"fe_h\"][giants & keep][helmi], full_tab[\"Mg_fe\"][giants & keep][helmi], s=5\n",
    ")\n",
    "\n",
    "\n",
    "plt.subplots_adjust()"
   ]
  },
  {
   "cell_type": "code",
   "execution_count": null,
   "metadata": {},
   "outputs": [],
   "source": [
    "# Same plots as above, but for the Feuillet selection.\n",
    "\n",
    "f, ax = plt.subplots(2, 3, figsize=(20, 11))\n",
    "\n",
    "ax[0, 0].hist2d(\n",
    "    Lz / 1000.0,\n",
    "    energy / 1.0e5,\n",
    "    bins=(np.arange(-4, 4, 0.01), np.arange(-3.0, 0, 0.01)),\n",
    "    norm=LogNorm(),\n",
    "    cmap=\"bone\",\n",
    ")\n",
    "ax[0, 0].set_ylabel(r\"Energy ($10^5$ km$^2$/s$^2$)\")\n",
    "ax[0, 0].set_xlabel(r\"L$_z$ ($10^3$ kpc km/s)\")\n",
    "ax[0, 0].scatter(Lz[feuillet] / 1000.0, energy[feuillet] / 1.0e5, s=5, c=\"orange\")\n",
    "\n",
    "ax[0, 1].hist2d(\n",
    "    vphi.value,\n",
    "    vRz.value,\n",
    "    bins=(np.arange(-500, 500 + 1e-3, 2), np.arange(0, 500 + 1e-3, 2)),\n",
    "    norm=LogNorm(),\n",
    "    cmap=\"bone\",\n",
    ")\n",
    "ax[0, 1].set_xlabel(r\"V${_T}$ (km/s)\")\n",
    "ax[0, 1].set_ylabel(r\"$(V{_R}^2+V_Z^2)^{1/2}$ (km/s)\")\n",
    "ax[0, 1].scatter(vphi.value[feuillet], vRz.value[feuillet], s=5, c=\"orange\")\n",
    "\n",
    "ax[0, 2].hist2d(Vr, Vphi, bins=np.arange(-350, 350), norm=LogNorm(), cmap=\"bone\")\n",
    "ax[0, 2].set_ylabel(r\"V$_{\\phi}$ (km/s)\")\n",
    "ax[0, 2].set_xlabel(\"V$_{R}$ (km/s)\")\n",
    "ax[0, 2].scatter(Vr[feuillet], Vphi[feuillet], s=5, c=\"orange\")\n",
    "\n",
    "ax[1, 0].hist2d(\n",
    "    r,\n",
    "    ecc,\n",
    "    bins=(np.arange(0, 20, 0.1), np.arange(0, 1.001, 0.005)),\n",
    "    norm=LogNorm(),\n",
    "    cmap=\"bone\",\n",
    ")\n",
    "ax[1, 0].set_xlabel(\"R (kpc)\")\n",
    "ax[1, 0].set_ylabel(r\"L$_z$ ($10^3$ kpc km/s)\")\n",
    "ax[1, 0].scatter(r[feuillet], ecc[feuillet], s=5, c=\"orange\")\n",
    "\n",
    "ax[1, 1].hist2d(\n",
    "    Lz / 1000.0,\n",
    "    np.sqrt(Jr),\n",
    "    bins=(np.arange(-3.5, 3.5, 0.01), np.arange(0, 60, 0.5)),\n",
    "    norm=LogNorm(),\n",
    "    cmap=\"bone\",\n",
    ")\n",
    "ax[1, 1].set_ylabel(r\"$\\sqrt{J_R/(\\mathrm{kpc km/s})}$\")\n",
    "ax[1, 1].set_xlabel(r\"L$_z$ ($10^3$ kpc km/s)\")\n",
    "ax[1, 1].scatter(Lz[feuillet] / 1000.0, np.sqrt(Jr[feuillet]), s=5, c=\"orange\")\n",
    "\n",
    "\n",
    "ax[1, 2].hist2d(\n",
    "    full_tab[\"fe_h\"][giants & keep],\n",
    "    full_tab[\"Mg_fe\"][giants & keep],\n",
    "    bins=(np.arange(-2.5, 1.0, 0.01), np.arange(-1, 1, 0.01)),\n",
    "    norm=LogNorm(),\n",
    "    cmap=\"bone\",\n",
    ")\n",
    "ax[1, 2].set_ylabel(\"Mg/Fe\")\n",
    "ax[1, 2].set_xlabel(\"Fe/H\")\n",
    "ax[1, 2].scatter(\n",
    "    full_tab[\"fe_h\"][giants & keep][feuillet],\n",
    "    full_tab[\"Mg_fe\"][giants & keep][feuillet],\n",
    "    s=5,\n",
    "    c=\"orange\",\n",
    ")\n",
    "\n",
    "\n",
    "plt.subplots_adjust()"
   ]
  },
  {
   "cell_type": "code",
   "execution_count": null,
   "metadata": {},
   "outputs": [],
   "source": [
    "# Finally, for the Naidu selection\n",
    "f, ax = plt.subplots(2, 3, figsize=(20, 11))\n",
    "\n",
    "ax[0, 0].hist2d(\n",
    "    Lz / 1000.0,\n",
    "    energy / 1.0e5,\n",
    "    bins=(np.arange(-4, 4, 0.01), np.arange(-3.0, 0, 0.01)),\n",
    "    norm=LogNorm(),\n",
    "    cmap=\"bone\",\n",
    ")\n",
    "ax[0, 0].set_ylabel(r\"Energy ($10^5$ km$^2$/s$^2$)\")\n",
    "ax[0, 0].set_xlabel(r\"L$_z$ ($10^3$ kpc km/s)\")\n",
    "ax[0, 0].scatter(Lz[naidu] / 1000.0, energy[naidu] / 1.0e5, s=5, c=\"green\")\n",
    "\n",
    "ax[0, 1].hist2d(\n",
    "    vphi.value,\n",
    "    vRz.value,\n",
    "    bins=(np.arange(-500, 500 + 1e-3, 2), np.arange(0, 500 + 1e-3, 2)),\n",
    "    norm=LogNorm(),\n",
    "    cmap=\"bone\",\n",
    ")\n",
    "ax[0, 1].set_xlabel(r\"V$_{\\phi}$ (km/s)\")\n",
    "ax[0, 1].set_ylabel(r\"$(V{_R}^2+V_Z^2)^{1/2}$ (km/s)\")\n",
    "ax[0, 1].scatter(vphi.value[naidu], vRz.value[naidu], s=5, c=\"green\")\n",
    "\n",
    "ax[0, 2].hist2d(Vr, Vphi, bins=np.arange(-350, 350), norm=LogNorm(), cmap=\"bone\")\n",
    "ax[0, 2].set_ylabel(r\"V$_{\\phi}$ (km/s)\")\n",
    "ax[0, 2].set_xlabel(\"V$_{R}$ (km/s)\")\n",
    "ax[0, 2].scatter(Vr[naidu], Vphi[naidu], s=5, c=\"green\")\n",
    "\n",
    "ax[1, 0].hist2d(\n",
    "    r,\n",
    "    ecc,\n",
    "    bins=(np.arange(0, 20, 0.1), np.arange(0, 1.001, 0.005)),\n",
    "    norm=LogNorm(),\n",
    "    cmap=\"bone\",\n",
    ")\n",
    "ax[1, 0].set_xlabel(\"R (kpc)\")\n",
    "ax[1, 0].set_ylabel(r\"L$_z$ ($10^3$ kpc km/s)\")\n",
    "ax[1, 0].scatter(r[naidu], ecc[naidu], s=5, c=\"green\")\n",
    "\n",
    "ax[1, 1].hist2d(\n",
    "    Lz / 1000.0,\n",
    "    np.sqrt(Jr),\n",
    "    bins=(np.arange(-3.5, 3.5, 0.01), np.arange(0, 60, 0.5)),\n",
    "    norm=LogNorm(),\n",
    "    cmap=\"bone\",\n",
    ")\n",
    "ax[1, 1].set_ylabel(r\"$\\sqrt{J_R/(\\mathrm{kpc km/s})}$\")\n",
    "ax[1, 1].set_xlabel(r\"L$_z$ ($10^3$ kpc km/s)\")\n",
    "ax[1, 1].scatter(Lz[naidu] / 1000.0, np.sqrt(Jr[naidu]), s=5, c=\"green\")\n",
    "\n",
    "\n",
    "ax[1, 2].hist2d(\n",
    "    full_tab[\"fe_h\"][giants & keep],\n",
    "    full_tab[\"Mg_fe\"][giants & keep],\n",
    "    bins=(np.arange(-2.5, 1.0, 0.01), np.arange(-1, 1, 0.01)),\n",
    "    norm=LogNorm(),\n",
    "    cmap=\"bone\",\n",
    ")\n",
    "ax[1, 2].set_ylabel(\"Mg/Fe\")\n",
    "ax[1, 2].set_xlabel(\"Fe/H\")\n",
    "ax[1, 2].scatter(\n",
    "    full_tab[\"fe_h\"][giants & keep][naidu],\n",
    "    full_tab[\"Mg_fe\"][giants & keep][naidu],\n",
    "    s=5,\n",
    "    c=\"green\",\n",
    ")\n",
    "\n",
    "\n",
    "plt.subplots_adjust()"
   ]
  },
  {
   "cell_type": "markdown",
   "metadata": {},
   "source": [
    "With these different samples, there are a few questions we can explore:\n",
    "\n",
    "1. Is the GES a retrograde structure? How does the answer to this question change given the different selections?\n",
    "\n",
    "2. What do the velocity distributios look like with the different selections? \n",
    "\n",
    "3. What is are the chemical properties of the GES? Do the different studies agree? Play with a few of the many abundances GALAH has to offer! \n",
    "\n",
    "If you have time: try remaking the above plots with a chemically selected halo (e.g., $[Fe/H]<-1.0$). What are the kinematic properties of this sample? Can you see the GES? Do its properties agree with the different kinematic-based selections?"
   ]
  },
  {
   "cell_type": "code",
   "execution_count": null,
   "metadata": {},
   "outputs": [],
   "source": []
  }
 ],
 "metadata": {
  "kernelspec": {
   "display_name": "Python 3",
   "language": "python",
   "name": "python3"
  },
  "language_info": {
   "codemirror_mode": {
    "name": "ipython",
    "version": 3
   },
   "file_extension": ".py",
   "mimetype": "text/x-python",
   "name": "python",
   "nbconvert_exporter": "python",
   "pygments_lexer": "ipython3",
   "version": "3.8.3"
  },
  "toc": {
   "base_numbering": 1,
   "nav_menu": {},
   "number_sections": true,
   "sideBar": true,
   "skip_h1_title": false,
   "title_cell": "Table of Contents",
   "title_sidebar": "Contents",
   "toc_cell": false,
   "toc_position": {},
   "toc_section_display": true,
   "toc_window_display": false
  }
 },
 "nbformat": 4,
 "nbformat_minor": 4
}
