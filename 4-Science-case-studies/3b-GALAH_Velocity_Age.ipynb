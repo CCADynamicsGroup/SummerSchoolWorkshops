{
 "cells": [
  {
   "cell_type": "code",
   "execution_count": 2,
   "metadata": {},
   "outputs": [],
   "source": [
    "%matplotlib inline\n",
    "%run ../setup/nb_setup"
   ]
  },
  {
   "cell_type": "markdown",
   "metadata": {},
   "source": [
    "# Science Case Studies: The Age-Velocity Dispersion Relations in GALAH DR3\n",
    "\n",
    "Author(s): Keith Hawkins\n",
    "\n",
    "\n",
    "## Learning goals\n",
    "\n",
    "The purpose of this tutorial is to: \n",
    "1. Introduce the concepts of Age-Velocity Dispersion relations\n",
    "2. Introduce Cross matching via topcat\n",
    "3. Introduce/practice velocity calculations via astropy \n",
    "\n",
    "*Goal:* \n",
    "\n",
    "You will derive the Gaia DR2-GALAH Age-Velocity Dispersion relations. Two additional challenges include: \n",
    "\n",
    "(1) derive the same Age-Velocity Dispersion relations but for  Gaia DR3-GALAH (hint!: this will require a cross match) and \n",
    "\n",
    "(2) consider uncertainties in age and velocity to build a linear model which converts velocity dispersion into age.\n",
    "\n",
    "\n",
    "### Notebook Setup and Package Imports"
   ]
  },
  {
   "cell_type": "code",
   "execution_count": 3,
   "metadata": {},
   "outputs": [],
   "source": [
    "import numpy as np\n",
    "import matplotlib.pyplot as p\n",
    "import astropy\n",
    "from astropy.table import Table\n",
    "import scipy.stats\n",
    "from astropy.coordinates import SkyCoord\n",
    "import astropy.units as u\n",
    "from astropy.coordinates import Galactic\n",
    "from astropy.coordinates import ICRS\n",
    "import astropy.coordinates as apycord\n",
    "import random"
   ]
  },
  {
   "cell_type": "markdown",
   "metadata": {},
   "source": [
    "We will need to download the GALAH DR3 dataset that contains age information. This dataset also contains DR2 estimates of velocity but *NOT* DR3 (You will need to do that cross match):\n",
    "\n",
    "DATA LOCATION : https://cloud.datacentral.org.au/teamdata/GALAH/public/GALAH_DR3/\n",
    "\n",
    "Local mirror : https://users.flatironinstitute.org/~apricewhelan/data/surveys/GALAH/GALAH_DR3_VAC_ages_v2.fits\n",
    "\n",
    "Main GALAH Table :\n",
    "\n",
    "-GALAH_DR3_main_allstar_v2.fits -- Main GALAH DR3\n",
    "\n",
    "-GALAH_DR3_VAC_dynamics_v2.fits -- Dynamics VAC (with DR2) \n",
    "\n",
    "-GALAH_DR3_VAC_ages_v2.fits -- GALAH DR3 ages\n",
    "\n",
    "-GALAH_DR3_VAC_GaiaEDR3_v2.fits\t-- GaiaEDR3 x GALAH \n",
    "\n",
    "Start by using topcat (or python) to crossmatch GALAH_DR3_VAC_dynamics_v2.fits x GALAH_DR3_VAC_ages_v2.fits! (can consider also cross-matching with main table for extra)\n",
    "\n",
    "\n",
    "Download these datasets, cross match and \n",
    "and load it in with astropy!\n",
    "\n"
   ]
  },
  {
   "cell_type": "code",
   "execution_count": 4,
   "metadata": {},
   "outputs": [
    {
     "ename": "IOError",
     "evalue": "[Errno 2] No such file or directory: 'GALAH_DR3_VAC_ages_v2.fits'",
     "output_type": "error",
     "traceback": [
      "\u001b[0;31m---------------------------------------------------------------------------\u001b[0m",
      "\u001b[0;31mIOError\u001b[0m                                   Traceback (most recent call last)",
      "\u001b[0;32m<ipython-input-4-7e598ecc6237>\u001b[0m in \u001b[0;36m<module>\u001b[0;34m()\u001b[0m\n\u001b[0;32m----> 1\u001b[0;31m \u001b[0mGALAH\u001b[0m \u001b[0;34m=\u001b[0m \u001b[0mTable\u001b[0m\u001b[0;34m.\u001b[0m\u001b[0mread\u001b[0m\u001b[0;34m(\u001b[0m\u001b[0;34m\"GALAH_DR3_VAC_ages_v2.fits\"\u001b[0m\u001b[0;34m)\u001b[0m  \u001b[0;31m# loading in the data\u001b[0m\u001b[0;34m\u001b[0m\u001b[0m\n\u001b[0m",
      "\u001b[0;32m/Users/kh36543/anaconda2/lib/python2.7/site-packages/astropy/table/table.pyc\u001b[0m in \u001b[0;36mread\u001b[0;34m(cls, *args, **kwargs)\u001b[0m\n\u001b[1;32m   2519\u001b[0m         \u001b[0mpassed\u001b[0m \u001b[0mthrough\u001b[0m \u001b[0mto\u001b[0m \u001b[0mthe\u001b[0m \u001b[0munderlying\u001b[0m \u001b[0mdata\u001b[0m \u001b[0mreader\u001b[0m \u001b[0;34m(\u001b[0m\u001b[0me\u001b[0m\u001b[0;34m.\u001b[0m\u001b[0mg\u001b[0m\u001b[0;34m.\u001b[0m \u001b[0;34m`\u001b[0m\u001b[0;34m~\u001b[0m\u001b[0mastropy\u001b[0m\u001b[0;34m.\u001b[0m\u001b[0mio\u001b[0m\u001b[0;34m.\u001b[0m\u001b[0mascii\u001b[0m\u001b[0;34m.\u001b[0m\u001b[0mread\u001b[0m\u001b[0;34m`\u001b[0m\u001b[0;34m)\u001b[0m\u001b[0;34m.\u001b[0m\u001b[0;34m\u001b[0m\u001b[0m\n\u001b[1;32m   2520\u001b[0m         \"\"\"\n\u001b[0;32m-> 2521\u001b[0;31m         \u001b[0mout\u001b[0m \u001b[0;34m=\u001b[0m \u001b[0mio_registry\u001b[0m\u001b[0;34m.\u001b[0m\u001b[0mread\u001b[0m\u001b[0;34m(\u001b[0m\u001b[0mcls\u001b[0m\u001b[0;34m,\u001b[0m \u001b[0;34m*\u001b[0m\u001b[0margs\u001b[0m\u001b[0;34m,\u001b[0m \u001b[0;34m**\u001b[0m\u001b[0mkwargs\u001b[0m\u001b[0;34m)\u001b[0m\u001b[0;34m\u001b[0m\u001b[0m\n\u001b[0m\u001b[1;32m   2522\u001b[0m         \u001b[0;31m# For some readers (e.g., ascii.ecsv), the returned `out` class is not\u001b[0m\u001b[0;34m\u001b[0m\u001b[0;34m\u001b[0m\u001b[0m\n\u001b[1;32m   2523\u001b[0m         \u001b[0;31m# guaranteed to be the same as the desired output `cls`.  If so,\u001b[0m\u001b[0;34m\u001b[0m\u001b[0;34m\u001b[0m\u001b[0m\n",
      "\u001b[0;32m/Users/kh36543/anaconda2/lib/python2.7/site-packages/astropy/io/registry.pyc\u001b[0m in \u001b[0;36mread\u001b[0;34m(cls, *args, **kwargs)\u001b[0m\n\u001b[1;32m    514\u001b[0m                     \u001b[0;32mtry\u001b[0m\u001b[0;34m:\u001b[0m\u001b[0;34m\u001b[0m\u001b[0m\n\u001b[1;32m    515\u001b[0m                         \u001b[0mctx\u001b[0m \u001b[0;34m=\u001b[0m \u001b[0mget_readable_fileobj\u001b[0m\u001b[0;34m(\u001b[0m\u001b[0margs\u001b[0m\u001b[0;34m[\u001b[0m\u001b[0;36m0\u001b[0m\u001b[0;34m]\u001b[0m\u001b[0;34m,\u001b[0m \u001b[0mencoding\u001b[0m\u001b[0;34m=\u001b[0m\u001b[0;34m'binary'\u001b[0m\u001b[0;34m)\u001b[0m\u001b[0;34m\u001b[0m\u001b[0m\n\u001b[0;32m--> 516\u001b[0;31m                         \u001b[0mfileobj\u001b[0m \u001b[0;34m=\u001b[0m \u001b[0mctx\u001b[0m\u001b[0;34m.\u001b[0m\u001b[0m__enter__\u001b[0m\u001b[0;34m(\u001b[0m\u001b[0;34m)\u001b[0m\u001b[0;34m\u001b[0m\u001b[0m\n\u001b[0m\u001b[1;32m    517\u001b[0m                     \u001b[0;32mexcept\u001b[0m \u001b[0mIOError\u001b[0m\u001b[0;34m:\u001b[0m\u001b[0;34m\u001b[0m\u001b[0m\n\u001b[1;32m    518\u001b[0m                         \u001b[0;32mraise\u001b[0m\u001b[0;34m\u001b[0m\u001b[0m\n",
      "\u001b[0;32m/Users/kh36543/anaconda2/lib/python2.7/contextlib.pyc\u001b[0m in \u001b[0;36m__enter__\u001b[0;34m(self)\u001b[0m\n\u001b[1;32m     15\u001b[0m     \u001b[0;32mdef\u001b[0m \u001b[0m__enter__\u001b[0m\u001b[0;34m(\u001b[0m\u001b[0mself\u001b[0m\u001b[0;34m)\u001b[0m\u001b[0;34m:\u001b[0m\u001b[0;34m\u001b[0m\u001b[0m\n\u001b[1;32m     16\u001b[0m         \u001b[0;32mtry\u001b[0m\u001b[0;34m:\u001b[0m\u001b[0;34m\u001b[0m\u001b[0m\n\u001b[0;32m---> 17\u001b[0;31m             \u001b[0;32mreturn\u001b[0m \u001b[0mself\u001b[0m\u001b[0;34m.\u001b[0m\u001b[0mgen\u001b[0m\u001b[0;34m.\u001b[0m\u001b[0mnext\u001b[0m\u001b[0;34m(\u001b[0m\u001b[0;34m)\u001b[0m\u001b[0;34m\u001b[0m\u001b[0m\n\u001b[0m\u001b[1;32m     18\u001b[0m         \u001b[0;32mexcept\u001b[0m \u001b[0mStopIteration\u001b[0m\u001b[0;34m:\u001b[0m\u001b[0;34m\u001b[0m\u001b[0m\n\u001b[1;32m     19\u001b[0m             \u001b[0;32mraise\u001b[0m \u001b[0mRuntimeError\u001b[0m\u001b[0;34m(\u001b[0m\u001b[0;34m\"generator didn't yield\"\u001b[0m\u001b[0;34m)\u001b[0m\u001b[0;34m\u001b[0m\u001b[0m\n",
      "\u001b[0;32m/Users/kh36543/anaconda2/lib/python2.7/site-packages/astropy/utils/data.pyc\u001b[0m in \u001b[0;36mget_readable_fileobj\u001b[0;34m(name_or_obj, encoding, cache, show_progress, remote_timeout)\u001b[0m\n\u001b[1;32m    204\u001b[0m                 timeout=remote_timeout)\n\u001b[1;32m    205\u001b[0m         \u001b[0;32mif\u001b[0m \u001b[0msix\u001b[0m\u001b[0;34m.\u001b[0m\u001b[0mPY2\u001b[0m\u001b[0;34m:\u001b[0m\u001b[0;34m\u001b[0m\u001b[0m\n\u001b[0;32m--> 206\u001b[0;31m             \u001b[0mfileobj\u001b[0m \u001b[0;34m=\u001b[0m \u001b[0mopen\u001b[0m\u001b[0;34m(\u001b[0m\u001b[0mname_or_obj\u001b[0m\u001b[0;34m,\u001b[0m \u001b[0;34m'rb'\u001b[0m\u001b[0;34m)\u001b[0m\u001b[0;34m\u001b[0m\u001b[0m\n\u001b[0m\u001b[1;32m    207\u001b[0m         \u001b[0;32melse\u001b[0m\u001b[0;34m:\u001b[0m\u001b[0;34m\u001b[0m\u001b[0m\n\u001b[1;32m    208\u001b[0m             \u001b[0mfileobj\u001b[0m \u001b[0;34m=\u001b[0m \u001b[0mio\u001b[0m\u001b[0;34m.\u001b[0m\u001b[0mFileIO\u001b[0m\u001b[0;34m(\u001b[0m\u001b[0mname_or_obj\u001b[0m\u001b[0;34m,\u001b[0m \u001b[0;34m'r'\u001b[0m\u001b[0;34m)\u001b[0m\u001b[0;34m\u001b[0m\u001b[0m\n",
      "\u001b[0;31mIOError\u001b[0m: [Errno 2] No such file or directory: 'GALAH_DR3_VAC_ages_v2.fits'"
     ]
    }
   ],
   "source": [
    "GALAH = Table.read(\"GALAH_DR3_VAC_ages_v2xVAC_dynamics_v2.fits\")  # loading in the data"
   ]
  },
  {
   "cell_type": "code",
   "execution_count": null,
   "metadata": {},
   "outputs": [],
   "source": [
    "# explore the columns:\n",
    "\n",
    "print(GALAH.colnames)"
   ]
  },
  {
   "cell_type": "markdown",
   "metadata": {},
   "source": [
    "The goal here is to determine how velocity (and velocity dispersion) is correlated with age. \n",
    "\n",
    "As such we will need to find the (precomputed DR2) velocity columns; and age columns (based on the cell above). \n",
    "\n",
    "Not all velociities and ages are measured with the same precision so we will also want to apply some very simple quality control cuts. So lets do that in the next cell"
   ]
  },
  {
   "cell_type": "code",
   "execution_count": null,
   "metadata": {},
   "outputs": [],
   "source": [
    "# lets create a quality\n",
    "v_err_lim = 5  # define the limiting velocity uncertinaty in all axes\n",
    "age_err_lim = 0.3  # age uncertainty limit in percent\n",
    "dist_err_lim = 0.15  # distance error in percent\n",
    "GALAH = GALAH[\n",
    "    GALAH[\"parallax_edr3\"] > 0\n",
    "]  # Makes sure no distances will be zero for astropy later\n",
    "\n",
    "# Quality cuts\n",
    "ok = np.where(\n",
    "    (GALAH[\"vR_Rzphi_50\"] - GALAH[\"vR_Rzphi_5\"] < v_err_lim)\n",
    "    & (GALAH[\"vT_Rzphi_50\"] - GALAH[\"vT_Rzphi_5\"] < v_err_lim)\n",
    "    & (GALAH[\"vz_Rzphi_50\"] - GALAH[\"vz_Rzphi_5\"] < v_err_lim)\n",
    "    & (GALAH[\"e_age_bstep\"] / GALAH[\"age_bstep\"] < age_err_lim)\n",
    "    & (GALAH[\"parallax_error\"] / GALAH[\"parallax\"] < dist_err_lim)\n",
    "    & (GALAH[\"age_bstep\"] > 1)\n",
    "    & (GALAH[\"age_bstep\"] < 10)\n",
    ")[0]\n",
    "\n",
    "print(\"There are %i stars that pass the quality controls\" % len(ok))\n",
    "D = GALAH[ok]"
   ]
  },
  {
   "cell_type": "markdown",
   "metadata": {},
   "source": [
    "With the 'quality' sample in hand, lets now try to figure out how velocity and velocity dispersion depends on age in this sample. We will start by simply plotting velocity in all directions as a function of age."
   ]
  },
  {
   "cell_type": "code",
   "execution_count": null,
   "metadata": {},
   "outputs": [],
   "source": [
    "# Now we want to plot how the velocities depends on age. Please plot the age as a function of VR, VT, VZ \n",
    "p.figure(figsize=(10, 10))\n"
   ]
  },
  {
   "cell_type": "markdown",
   "metadata": {},
   "source": [
    "From the above plots we can see that:\n",
    "1. Mostly velocities are indepdent of age (no signficant relationships), except maybe in V_theta\n",
    "2. The velocity dispersion in all velcoity directons likley grows with increasing age\n",
    "\n",
    "So lets bin by age and see if we can determine the relationship between age and velocity."
   ]
  },
  {
   "cell_type": "code",
   "execution_count": null,
   "metadata": {},
   "outputs": [],
   "source": [
    "# for each star we will place them into bins by age using scipy.stats.binned_statistic\n",
    "\n",
    "age_bins = [1, 2, 3, 4, 5, 6, 7, 8, 9, 10]  # define the limits of each bin\n",
    "\n",
    "## With the ages now binned up lets plot compute the bin's mean age and dispersion in age for each velocity direction\n",
    "mean_VR, bin_edge, inds = scipy.stats.binned_statistic(\n",
    "    D[\"age_bstep\"], D[\"vR_Rzphi_50\"], statistic=\"mean\", bins=age_bins\n",
    ")\n",
    "std_VR, bin_edge, inds = scipy.stats.binned_statistic(\n",
    "    D[\"age_bstep\"], D[\"vR_Rzphi_50\"], statistic=\"std\", bins=age_bins\n",
    ")\n",
    "\n",
    "mean_Vz, bin_edge, inds = scipy.stats.binned_statistic(\n",
    "    D[\"age_bstep\"], D[\"vz_Rzphi_50\"], statistic=\"mean\", bins=age_bins\n",
    ")\n",
    "std_Vz, bin_edge, inds = scipy.stats.binned_statistic(\n",
    "    D[\"age_bstep\"], D[\"vz_Rzphi_50\"], statistic=\"std\", bins=age_bins\n",
    ")\n",
    "\n",
    "mean_Vt, bin_edge, inds = scipy.stats.binned_statistic(\n",
    "    D[\"age_bstep\"], D[\"vT_Rzphi_50\"], statistic=\"mean\", bins=age_bins\n",
    ")\n",
    "std_Vt, bin_edge, inds = scipy.stats.binned_statistic(\n",
    "    D[\"age_bstep\"], D[\"vT_Rzphi_50\"], statistic=\"std\", bins=age_bins\n",
    ")\n",
    "\n",
    "bincen = [\n",
    "    (bin_edge[i + 1] + bin_edge[i]) / 2.0 for i in range(len(age_bins) - 1)\n",
    "]  # this set the bin centers"
   ]
  },
  {
   "cell_type": "markdown",
   "metadata": {},
   "source": [
    "Now that we have binned the data and determined the mean and dispersion in each velocity direction, as a sanity check (which are incredibly important to do), lets overplot the data and the binned results to ensure it looks ok."
   ]
  },
  {
   "cell_type": "markdown",
   "metadata": {},
   "source": [
    "# The Age-Velocity Dispersion Relations in GALAH-Gaia DR2\n",
    "\n",
    "\n",
    "Now we are ready to plot the age velocity disperison relations for each component for GALAH-Gaia DR2. In the next cell please plot the age as a function of velocity, while also overplotting the binned (mean and std as an errorbar) velocities binned by age."
   ]
  },
  {
   "cell_type": "code",
   "execution_count": null,
   "metadata": {
    "scrolled": false
   },
   "outputs": [],
   "source": []
  },
  {
   "cell_type": "markdown",
   "metadata": {},
   "source": [
    "With the data binned we can now explore the velocity disperison as a function of age! You will do this with the binned dataset (bincen, and std_VR, std_Vt, std_Vz)."
   ]
  },
  {
   "cell_type": "code",
   "execution_count": null,
   "metadata": {
    "scrolled": false
   },
   "outputs": [],
   "source": []
  },
  {
   "cell_type": "markdown",
   "metadata": {},
   "source": [
    "*We now see that the age-velocity dispersion relations are roughly linear such that VELOCITY DISPERSION INCREASES with INCREASING age as expect*"
   ]
  },
  {
   "cell_type": "markdown",
   "metadata": {},
   "source": [
    "# The Age-Velocity Dispersion Relations in GALAH-Gaia EDR3!\n",
    "\n",
    "Let us now redo the above but with EDR3 data instead! This will require us to compute the velocities (and their uncertainties -- challenge) from the EDR3 data directly.\n",
    "\n",
    "You will need to first cross-match (via ADQL/TOPCAT/TAP QUERY/ASTROQUERY) orginal table with ED3. We will explore how to use topcat in this workshop but its trivial to do this via an ADQL/TAP Query.\n",
    "\n",
    "Once the cross match is done, lets read it in."
   ]
  },
  {
   "cell_type": "code",
   "execution_count": 1,
   "metadata": {},
   "outputs": [],
   "source": [
    "# --- ok lets now compute some velocities with EDR3 data! We start by making a defintion.\n",
    "def compute_vels(ra, dec, pmra, pmdec, rv, dist, V0=[11.1, 245.0, 7.25], R0=8.3):\n",
    "    icrs = ICRS(\n",
    "        ra=ra * u.deg,\n",
    "        dec=dec * u.deg,\n",
    "        distance=dist * u.kpc,\n",
    "        pm_ra_cosdec=pmra * u.mas / u.yr,\n",
    "        pm_dec=pmdec * u.mas / u.yr,\n",
    "        radial_velocity=rv * u.km / u.s,\n",
    "    )\n",
    "\n",
    "    # Define the Galactic non-rotating rest frame: (V0 = solar velocity in Galactic rest fram; R0 = solar radius)\n",
    "    v_sun = apycord.CartesianDifferential(V0 * u.km / u.s)\n",
    "    gc_frame = apycord.Galactocentric(\n",
    "        galcen_distance=R0 * u.kpc, z_sun=25.0 * u.pc, galcen_v_sun=v_sun\n",
    "    )\n",
    "    # convert to GC frame\n",
    "    cg = icrs.transform_to(gc_frame)\n",
    "    # cg.representation= 'cartesian'\n",
    "    cg.representation = \"cylindrical\"  # and now to clylindrical coords\n",
    "    VR = cg.d_rho.to(u.km / u.s).value\n",
    "    VT = (\n",
    "        (cg.d_phi * cg.rho).to(u.km / u.s, equivalencies=u.dimensionless_angles()).value\n",
    "    )\n",
    "    VZ = cg.d_z.to(u.km / u.s).value\n",
    "\n",
    "    return VR, -VT, VZ"
   ]
  },
  {
   "cell_type": "markdown",
   "metadata": {},
   "source": [
    "With the definition, we can now convert the observables into velocities by calling the defintion from above. We can also do this iterativley where in each iteration we perturb the input observables by the uncertainties. This will enable us to estimate the velocity uncertainties via monte carlo realizations."
   ]
  },
  {
   "cell_type": "code",
   "execution_count": null,
   "metadata": {},
   "outputs": [],
   "source": [
    "# ----lets now deal with the velocity uncertinaties via monte carlo realizations (this is a challenge)"
   ]
  },
  {
   "cell_type": "markdown",
   "metadata": {},
   "source": [
    "Now that we have the velocities and their uncertainties with EDR3 data, lets make the same quality control cuts as before."
   ]
  },
  {
   "cell_type": "code",
   "execution_count": null,
   "metadata": {},
   "outputs": [],
   "source": [
    "ok = np.where(\n",
    "    (GALAH[\"galvr_err_dr3\"] < v_err_lim)\n",
    "    & (GALAH[\"galvt_err_dr3\"] < v_err_lim)\n",
    "    & (GALAH[\"galvz_err_dr3\"] < v_err_lim)\n",
    "    & (GALAH[\"e_age_bstep\"] / GALAH[\"age_bstep\"] < age_err_lim)\n",
    "    & (GALAH[\"parallax_error\"] / GALAH[\"parallax\"] < dist_err_lim)\n",
    "    & (GALAH[\"age_bstep\"] > 1)\n",
    "    & (GALAH[\"age_bstep\"] < 10)\n",
    ")[0]\n",
    "\n",
    "print(\"There are %i stars that pass the quality controls\" % len(ok))\n",
    "D_DR3 = GALAH[ok]"
   ]
  },
  {
   "cell_type": "markdown",
   "metadata": {},
   "source": [
    "We can now plot the EDR3 version of the age velocity relations. Please plot the your DR3 computed velocities (Vr, Vt, Vz) as a function of age."
   ]
  },
  {
   "cell_type": "code",
   "execution_count": null,
   "metadata": {},
   "outputs": [],
   "source": []
  },
  {
   "cell_type": "markdown",
   "metadata": {},
   "source": [
    "We must now bin the data in the same way (by age) as for the DR3 results and compute the mean and std of the velocity in each age bin."
   ]
  },
  {
   "cell_type": "code",
   "execution_count": null,
   "metadata": {},
   "outputs": [],
   "source": [
    "mean_VR_dr3, bin_edge, inds = scipy.stats.binned_statistic(\n",
    "    D_DR3[\"age_bstep\"], D_DR3[\"galvr_dr3\"], statistic=\"mean\", bins=age_bins\n",
    ")\n",
    "std_VR_dr3, bin_edge, inds = scipy.stats.binned_statistic(\n",
    "    D_DR3[\"age_bstep\"], D_DR3[\"galvr_dr3\"], statistic=\"std\", bins=age_bins\n",
    ")\n",
    "\n",
    "mean_Vz_dr3, bin_edge, inds = scipy.stats.binned_statistic(\n",
    "    D_DR3[\"age_bstep\"], D_DR3[\"galvz_dr3\"], statistic=\"mean\", bins=age_bins\n",
    ")\n",
    "std_Vz_dr3, bin_edge, inds = scipy.stats.binned_statistic(\n",
    "    D_DR3[\"age_bstep\"], D_DR3[\"galvz_dr3\"], statistic=\"std\", bins=age_bins\n",
    ")\n",
    "\n",
    "mean_Vt_dr3, bin_edge, inds = scipy.stats.binned_statistic(\n",
    "    D_DR3[\"age_bstep\"], D_DR3[\"galvt_dr3\"], statistic=\"mean\", bins=age_bins\n",
    ")\n",
    "std_Vt_dr3, bin_edge, inds = scipy.stats.binned_statistic(\n",
    "    D_DR3[\"age_bstep\"], D_DR3[\"galvt_dr3\"], statistic=\"std\", bins=age_bins\n",
    ")\n",
    "\n",
    "bincen = [\n",
    "    (bin_edge[i + 1] + bin_edge[i]) / 2.0 for i in range(len(age_bins) - 1)\n",
    "]  # this set the bin centers"
   ]
  },
  {
   "cell_type": "markdown",
   "metadata": {},
   "source": [
    "Finally, we plot the age velocity dispersion relations for GALAH-DR2 and GALAH-EDR3 datasets. "
   ]
  },
  {
   "cell_type": "code",
   "execution_count": null,
   "metadata": {
    "scrolled": false
   },
   "outputs": [],
   "source": []
  },
  {
   "cell_type": "markdown",
   "metadata": {},
   "source": [
    "*We now see that the age-velocity dispersion relations are roughly linear such that VELOCITY DISPERSION INCREASES with INCREASING age as expected. If there are some differences between DR2 and EDR3, why might they exist.*"
   ]
  },
  {
   "cell_type": "markdown",
   "metadata": {},
   "source": [
    "Challenge: If you finish, try to :\n",
    "\n",
    "1. Fit a linear function to age velocity dispersion relation and note the model paraameters to compare to the APOGEE TEAM\n",
    "\n",
    "\n",
    "2. figure out a way to define the age velocity realtion *without* binning the data. (Hint: This can be done via writing down a linear model for how velocity dispersion depends on age and then comparing that model in the data space.)"
   ]
  },
  {
   "cell_type": "code",
   "execution_count": null,
   "metadata": {},
   "outputs": [],
   "source": []
  }
 ],
 "metadata": {
  "kernelspec": {
   "display_name": "Python 2",
   "language": "python",
   "name": "python2"
  },
  "language_info": {
   "codemirror_mode": {
    "name": "ipython",
    "version": 2
   },
   "file_extension": ".py",
   "mimetype": "text/x-python",
   "name": "python",
   "nbconvert_exporter": "python",
   "pygments_lexer": "ipython2",
   "version": "2.7.15"
  },
  "toc": {
   "base_numbering": 1,
   "nav_menu": {},
   "number_sections": true,
   "sideBar": true,
   "skip_h1_title": false,
   "title_cell": "Table of Contents",
   "title_sidebar": "Contents",
   "toc_cell": false,
   "toc_position": {},
   "toc_section_display": true,
   "toc_window_display": false
  }
 },
 "nbformat": 4,
 "nbformat_minor": 2
}
