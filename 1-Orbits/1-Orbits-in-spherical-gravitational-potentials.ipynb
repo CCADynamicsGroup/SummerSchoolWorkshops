{
 "cells": [
  {
   "cell_type": "code",
   "execution_count": null,
   "id": "b47ada42",
   "metadata": {},
   "outputs": [],
   "source": [
    "%matplotlib inline\n",
    "%run ../setup/nb_setup"
   ]
  },
  {
   "cell_type": "markdown",
   "id": "161df8a8",
   "metadata": {},
   "source": [
    "# Orbits 1: Orbits in Spherical Gravitational Potentials\n",
    "\n",
    "Author(s): Adrian Price-Whelan, Sarah Pearson\n",
    "\n",
    "\n",
    "## Learning goals\n",
    "\n",
    "The main goal for this tutorial is to introduce the concept of orbits and numerically-computed trajectories using spherical gravitational potential models.\n",
    "\n",
    "\n",
    "## Introduction\n",
    "\n",
    "For many contexts in Galactic dynamics, the orbital trajectory of an object (star, planet, star cluster, satellite galaxy, etc.) is a fundamental tool for studying and interpreting the dynamical state, evolution, or initial conditions of a gravitational system. However, in general, we cannot directly observe any appreciable changes in position or velocity of a gravitating body over human timescales. As Galactic dynamicists, we therefore effectively only have access to measurements of a single kinematic snapshot of any dynamical system. With a kinematic snapshot and a model for the overall mass distribution of a system, we then seek to compute the past or future trajectories of the constituent bodies and use this information to, for example, refine our mass model, interpret kinematic features, or predict the evolution (past or present) of a system. In many such regimes, the mass of the orbiting body is small relative to the larger mass distribution in which it orbits (e.g., a star within a Galaxy). It is therefore often sufficient to treat an orbiting body as an effectively massless \"tracer\" particle whose trajectory is set by the broader mass distribution, and which does not cause any appreciable backreaction of the host system. (In later workshops, we will explore cases in which this assumption breaks down, such as with the Milky Way–LMC interaction.) In this context, a common goal is to compute the time-dependent position and velocity — the orbit — of an effectively massless body orbiting within an external gravitational field.\n",
    "\n",
    "While galaxies are actually composed of a large number of discrete point masses and structures (and we do not know the smallest size of dark matter substructures), it is often sufficient to model the mass distribution of a galaxy by considering smooth mass distributions (where the smoothing length scale is much smaller than the size of a galaxy, <<100 kpc, but larger than the spacing between massive structures, >>1 pc). As we saw in the lectures, and as you might recall from past Mechanics courses, the fundamental quantity in the context of computing orbits is the acceleration field $\\boldsymbol{a}(\\boldsymbol{x})$ specified often as a function of a three-dimensional position $\\boldsymbol{x}$. In convervative systems — or effectively conservative systems: neglecting star formation and death/supernovae for stars, and assuming that dark matter acts effectively like a collisionless fluid, the massive objects that make up a galaxy ineract only through gravitational interactions — the (vector) acceleration field can be directly computed as the gradient of the (scalar) gravitational potential $\\Phi(\\boldsymbol{x})$ of a system:\n",
    "\n",
    "$$\n",
    "\\boldsymbol{a}(\\boldsymbol{x}) = -\\nabla \\Phi(\\boldsymbol{x})\n",
    "$$\n",
    "\n",
    "where the gravitational potential (sometimes later abbreviated simply as \"potential\") is related to the mass (density) distribution through Poisson's equation:\n",
    "\n",
    "$$\n",
    "\\nabla^2 \\Phi(\\boldsymbol{x}) = 4\\pi \\, G \\, \\rho(\\boldsymbol{x})\n",
    "$$\n",
    "\n",
    "While the acceleration or gravitational field is \"closer\" to the dynamics (in that it is the force on a body that determines how it responds) and the density field is a direct representation of the mass distribution, it is often easier to work with and visualize the gravitational potential. \n",
    "\n",
    "In this tutorial, we will introduce some commonly-used spherical gravitational potential models, compute the orbits of particles in some of these models, and analyze the properties of orbits in spherical models.\n",
    "\n",
    "\n",
    "## Terminology and Notation\n",
    "\n",
    "- 3D position: $\\boldsymbol{x}$\n",
    "- 3D velocity: $\\boldsymbol{v}$\n",
    "- 6D phase-space position: $\\boldsymbol{w} = (\\boldsymbol{x}, \\boldsymbol{v})$\n",
    "- Orbit: $\\boldsymbol{w}(t) = (\\boldsymbol{x}(t), \\boldsymbol{v}(t))$\n",
    "- Gravitational potential: $\\Phi(\\boldsymbol{x})$\n",
    "- Mass density: $\\rho(\\boldsymbol{x})$\n",
    "- Spherical radius: $r = |\\boldsymbol{x}|$\n",
    "- Unit vector: $\\hat{\\boldsymbol{x}}$\n",
    "- Time derivative: $\\dot{x} = \\textrm{d}x/\\textrm{d}t$\n",
    "- TODO: review whether I should put other terminology here!\n",
    "\n",
    "### Notebook Setup and Package Imports"
   ]
  },
  {
   "cell_type": "code",
   "execution_count": null,
   "id": "b3fbd101",
   "metadata": {},
   "outputs": [],
   "source": [
    "from astropy.constants import G\n",
    "import astropy.coordinates as coord\n",
    "import astropy.units as u\n",
    "from astropy.time import Time\n",
    "\n",
    "from IPython.display import display, Math\n",
    "import matplotlib as mpl\n",
    "import matplotlib.pyplot as plt\n",
    "import numpy as np\n",
    "from scipy.integrate import solve_ivp\n",
    "from scipy.signal import argrelmax\n",
    "import sympy as sy"
   ]
  },
  {
   "cell_type": "markdown",
   "id": "2712c7ac",
   "metadata": {},
   "source": [
    "## Orbits in a Point Mass Potential\n",
    "\n",
    "One of the simplest spherical mass models is that of a point mass, in which:\n",
    "\n",
    "$$\n",
    "\\Phi(r) = - \\frac{G \\, M}{r}\n",
    "$$\n",
    "\n",
    "or equivalently\n",
    "\n",
    "$$\n",
    "\\Phi(\\boldsymbol{x}) = - \\frac{G \\, M}{|\\boldsymbol{x}|}\n",
    "$$\n",
    "\n",
    "and the acceleration field is\n",
    "\n",
    "$$\n",
    "\\begin{align}\n",
    "\\boldsymbol{a}(\\boldsymbol{x}) &= -\\nabla \\Phi(\\boldsymbol{x}) \\\\\n",
    "    & = - \\frac{G \\, M}{|\\boldsymbol{x}|^3} \\, \\boldsymbol{x} \\\\\n",
    "    & = - \\frac{G \\, M}{r^2} \\, \\hat{\\boldsymbol{x}}\n",
    "\\end{align}\n",
    "$$\n",
    "\n",
    "Let's implement a function that computes the point mass acceleration at any 3D position, given a mass M:"
   ]
  },
  {
   "cell_type": "code",
   "execution_count": null,
   "id": "877bb31a",
   "metadata": {},
   "outputs": [],
   "source": [
    "def ptmass_acceleration(xyz, M):\n",
    "    \"\"\"\n",
    "    This function computes the 3D acceleration vector at a \n",
    "    position or an array of positions \"xyz\" from a point mass \n",
    "    with mass \"M\" at the origin.\n",
    "    \n",
    "    Parameters\n",
    "    ----------\n",
    "    xyz : quantity-like\n",
    "        This should have shape (3, ...)\n",
    "    M : quantity-like\n",
    "        The total mass of the point mass.\n",
    "    \n",
    "    \"\"\"\n",
    "    r3 = np.sum(xyz**2, axis=0) ** (3/2)\n",
    "    dPhi_dx = G * M * xyz / r3\n",
    "    return -dPhi_dx"
   ]
  },
  {
   "cell_type": "markdown",
   "id": "bba4e3b0",
   "metadata": {},
   "source": [
    "In the function definition above, note that we use the gravitational constant `G` as imported from `astropy.constants`. This object is more than just a number: It is a special kind of Python/Astropy object called a [`Quantity`](https://docs.astropy.org/en/stable/units/quantity.html#quantity), which carries along and propagates units. For example, if we view the representation of the gravitational constant:"
   ]
  },
  {
   "cell_type": "code",
   "execution_count": null,
   "id": "5640946a",
   "metadata": {},
   "outputs": [],
   "source": [
    "G"
   ]
  },
  {
   "cell_type": "markdown",
   "id": "bdfba445",
   "metadata": {},
   "source": [
    "we see that it also displays the units $\\frac{\\textrm{m}^3}{\\textrm{kg} \\, \\textrm{s}^2}$! When we call the `ptmass_acceleration()` function, this means that we should pass in a position and a point mass with units, and we will get out an acceleration that we can easily convert to other unit representations. For example, assuming the Earth is on the x-axis in some solar system coordinate system, we can evaluate the acceleration felt on Earth by the Sun as:"
   ]
  },
  {
   "cell_type": "code",
   "execution_count": null,
   "id": "19fa091a",
   "metadata": {},
   "outputs": [],
   "source": [
    "earth_pos = [1, 0, 0] * u.au  # 1 Astronomical Unit along the x axis\n",
    "earth_acc = ptmass_acceleration(earth_pos, M=1 * u.Msun)\n",
    "earth_acc"
   ]
  },
  {
   "cell_type": "markdown",
   "id": "33ac83d8",
   "metadata": {},
   "source": [
    "This is a strange unit! By default, `astropy.units` propagates units but does not do any conversion or simplification of the units. For example, here the $\\textrm{M}_\\odot$ in the numerator should cancel the kg in the denominator. If we want to convert this into something more readable, we use the `.to()` method and specify the desired output unit:"
   ]
  },
  {
   "cell_type": "code",
   "execution_count": null,
   "id": "1ade69a8",
   "metadata": {},
   "outputs": [],
   "source": [
    "earth_acc.to(u.km / u.s**2)"
   ]
  },
  {
   "cell_type": "markdown",
   "id": "4641325e",
   "metadata": {},
   "source": [
    "Some other examples of acceleration units:"
   ]
  },
  {
   "cell_type": "code",
   "execution_count": null,
   "id": "57223547",
   "metadata": {},
   "outputs": [],
   "source": [
    "earth_acc.to(u.au / u.yr**2)"
   ]
  },
  {
   "cell_type": "code",
   "execution_count": null,
   "id": "53cf47fd",
   "metadata": {},
   "outputs": [],
   "source": [
    "earth_acc.to(u.km / u.s / u.day)"
   ]
  },
  {
   "cell_type": "markdown",
   "id": "1f674d90",
   "metadata": {},
   "source": [
    "### Example: Compute the acceleration from the Sun at the current (right now!) location of Mars"
   ]
  },
  {
   "cell_type": "markdown",
   "id": "d50534ff",
   "metadata": {},
   "source": [
    "Get a representation of the current time using `astropy.time.Time()`:"
   ]
  },
  {
   "cell_type": "code",
   "execution_count": null,
   "id": "8ab0dab2",
   "metadata": {},
   "outputs": [],
   "source": [
    "now = Time.now()\n",
    "now.mjd"
   ]
  },
  {
   "cell_type": "markdown",
   "id": "a25fc568",
   "metadata": {},
   "source": [
    "We will use Astropy (`astropy.coordinates`) to retrieve the position of Mars: In the background, this queries the JPL ephemeris for us. So we can retrieve the position of Mars at the current time using:"
   ]
  },
  {
   "cell_type": "code",
   "execution_count": null,
   "id": "2a886426",
   "metadata": {},
   "outputs": [],
   "source": [
    "mars_pos = coord.get_body('mars', now)\n",
    "mars_pos"
   ]
  },
  {
   "cell_type": "markdown",
   "id": "d93bc1c1",
   "metadata": {},
   "source": [
    "(this works for other solar system bodies - try it! Swap 'mars' out for, e.g., 'saturn')\n",
    "\n",
    "By default, the position of Mars is returned to us in a Geocentric (Earth-centric) coordinate system. We need to convert this to a Heliocentric coordinate system so we can compute the acceleration from the Sun (assuming it is at the origin). We will convert it to Heliocentric Ecliptic coordinates:"
   ]
  },
  {
   "cell_type": "code",
   "execution_count": null,
   "id": "ec727c11",
   "metadata": {},
   "outputs": [],
   "source": [
    "mars_ecl = mars_pos.transform_to(coord.HeliocentricTrueEcliptic(obstime=now))"
   ]
  },
  {
   "cell_type": "markdown",
   "id": "121bcd6b",
   "metadata": {},
   "source": [
    "Now we can retrieve a Cartesian representation of the Ecliptic position of Mars, and use this to compute the acceleration:"
   ]
  },
  {
   "cell_type": "code",
   "execution_count": null,
   "id": "ef74c426",
   "metadata": {},
   "outputs": [],
   "source": [
    "mars_xyz_now = mars_ecl.cartesian.xyz\n",
    "mars_xyz_now"
   ]
  },
  {
   "cell_type": "code",
   "execution_count": null,
   "id": "c8505386",
   "metadata": {},
   "outputs": [],
   "source": [
    "mars_acc = ptmass_acceleration(mars_xyz_now, M=1*u.Msun)\n",
    "mars_acc.to(u.km / u.s / u.day)"
   ]
  },
  {
   "cell_type": "markdown",
   "id": "5fdcaea5",
   "metadata": {},
   "source": [
    "### Exercise: Compute the acceleration on the Moon from the Sun and Earth - which is larger?\n",
    "\n",
    "*Hint: The Astropy unit `u.Mearth` might be useful!*\n",
    "\n",
    "*Solution:*"
   ]
  },
  {
   "cell_type": "code",
   "execution_count": null,
   "id": "71a50346",
   "metadata": {},
   "outputs": [],
   "source": [
    "earth_pos = coord.get_body('earth', now)\n",
    "moon_pos = coord.get_body('moon', now)"
   ]
  },
  {
   "cell_type": "code",
   "execution_count": null,
   "id": "b5a4a40f",
   "metadata": {},
   "outputs": [],
   "source": [
    "moon_ecl = moon_pos.transform_to(coord.HeliocentricTrueEcliptic(obstime=now))\n",
    "moon_xyz_now = moon_ecl.cartesian.xyz\n",
    "moon_acc_sun = ptmass_acceleration(moon_xyz_now, M=1 * u.Msun)"
   ]
  },
  {
   "cell_type": "code",
   "execution_count": null,
   "id": "cd685dbc",
   "metadata": {},
   "outputs": [],
   "source": [
    "moon_acc_earth = ptmass_acceleration(\n",
    "    (moon_pos.cartesian - earth_pos.cartesian).xyz, \n",
    "    M=1 * u.Mearth)"
   ]
  },
  {
   "cell_type": "code",
   "execution_count": null,
   "id": "b0744597",
   "metadata": {},
   "outputs": [],
   "source": [
    "(np.linalg.norm(moon_acc_sun).to(u.km / u.s / u.day),\n",
    " np.linalg.norm(moon_acc_earth).to(u.km / u.s / u.day))"
   ]
  },
  {
   "cell_type": "markdown",
   "id": "6b3269f7",
   "metadata": {},
   "source": [
    "Answer: The acceleration on the Moon from the Sun is larger!"
   ]
  },
  {
   "cell_type": "markdown",
   "id": "8a53f255",
   "metadata": {},
   "source": [
    "---\n",
    "\n",
    "### Computing an orbit in the point mass potential\n",
    "\n",
    "The orbit of a massless particle in any acceleration field can be computed by solving the differential equation\n",
    "\n",
    "$$\n",
    "\\begin{align}\n",
    "\\ddot{\\boldsymbol{x}} &= \\boldsymbol{a}(\\boldsymbol{x}) \\\\\n",
    "\\ddot{\\boldsymbol{x}} &= -\\nabla \\Phi(\\boldsymbol{x})\n",
    "\\end{align}\n",
    "$$\n",
    "\n",
    "For a point mass, this is sometimes referred to as the \"Kepler problem\": This is a special case in which we could write down an analytic expression for the position of the particle at any time, given a set of initial conditions. However, generically, this differential equation cannot be solved analytically and we must instead resort to numerical integration tools. In this context, it is often easier to reduce the 2nd-order differential equation for postion expressed above into a pair of coupled 1st-order differential equations for position and velocity (or momentum). We do this be introducing an auxiliary variable to represent the 3D velocity, so that the relevant system of differential equations we need to solve is now:\n",
    "\n",
    "$$\n",
    "\\begin{align}\n",
    "\\dot{\\boldsymbol{x}} &= \\boldsymbol{v} \\\\\n",
    "\\dot{\\boldsymbol{v}} &= -\\nabla \\Phi(\\boldsymbol{x}) \n",
    "\\end{align}\n",
    "$$\n",
    "\n",
    "We can compress this into a single expression by defining the \"phase-space position\" $\\boldsymbol{w} = (\\boldsymbol{x}, \\boldsymbol{v})$ such that:\n",
    "\n",
    "$$\n",
    "\\begin{align}\n",
    "\\dot{\\boldsymbol{w}} &= (\\dot{\\boldsymbol{x}}, \\dot{\\boldsymbol{v}}) \\\\\n",
    "&= (\\boldsymbol{v}, -\\nabla \\Phi(\\boldsymbol{x}))\n",
    "\\end{align}\n",
    "$$\n",
    "\n",
    "Our goal then is to compute $\\boldsymbol{w}(t)$ given initial conditions $\\boldsymbol{w}_0$. There are many standard tools available for solving problems like this numerically. This is sometimes called an \"initial value problem,\" or \"ordinary differential equation\" (ODE) integration. Here, we will define a function to compute the time-derivative of $\\boldsymbol{w}$ and use `scipy.integrate.solve_ivp()` to compute the orbital trajectory of a particle ([solve_ivp() documentation](https://docs.scipy.org/doc/scipy/reference/generated/scipy.integrate.solve_ivp.html) for context). \n",
    "\n",
    "The function we defined above to compute the point mass acceleration only does half of what we need: We need to define a new function `ptmass_F()` that takes the full phase-space position $\\boldsymbol{w}$ and returns its time-derivative, $\\dot{\\boldsymbol{w}} = (\\boldsymbol{v}, -\\nabla \\Phi(\\boldsymbol{x}))$. `solve_ivp()` also requires that the function accept a first argument, the time `t`, which in this case we will include in the definition but ignore in any expressions.\n",
    "\n",
    "Also, `solve_ivp()` unfortunately does not support `astropy.units`, so we will have to re-implement the point mass acceleration in a way that takes only regular Python numbers. To avoid having to specify units for both `G` and the mass `M`, we will have this function accept the combined parameter `GM = G * M`:"
   ]
  },
  {
   "cell_type": "code",
   "execution_count": null,
   "id": "79df0dcc",
   "metadata": {},
   "outputs": [],
   "source": [
    "def ptmass_F(t, w, GM):\n",
    "    \"\"\"\n",
    "    Parameters\n",
    "    ----------\n",
    "    t : numeric\n",
    "        The current time during the integration.\n",
    "    w : array-like\n",
    "        The phase-space position, which should have 6 elements.\n",
    "    GM : numeric\n",
    "        Mass times the gravitational constant.\n",
    "    \n",
    "    \"\"\"\n",
    "    xyz = w[:3]\n",
    "    vxyz = w[3:]\n",
    "    \n",
    "    r3 = np.sum(xyz**2, axis=0) ** (3/2)\n",
    "    dPhi_dx = GM * xyz / r3\n",
    "    return np.concatenate([vxyz, -dPhi_dx])"
   ]
  },
  {
   "cell_type": "markdown",
   "id": "0b3f357f",
   "metadata": {},
   "source": [
    "Even though we cannot use `astropy.units` to keep track of units internally, we can still use it to do unit conversions before we pass inputs to the function, or with the resulting orbital time series that we compute. For this, it helps to work in a consistent unit system (a set of base units that represent length, mass, and time). Here, since we are using Solar System examples, a good unit system is AU, $\\textrm{M}_\\odot$, and years:"
   ]
  },
  {
   "cell_type": "code",
   "execution_count": null,
   "id": "b5945eb5",
   "metadata": {},
   "outputs": [],
   "source": [
    "unitsys = [u.au, u.Msun, u.year]"
   ]
  },
  {
   "cell_type": "markdown",
   "id": "fc0064f9",
   "metadata": {},
   "source": [
    "### Circular orbits and the circular velocity curve\n",
    "\n",
    "We now have all of the pieces we need to compute an orbit in the point mass potential! How then should we choose initial conditions for a trial orbit? One simple option is to pick a location, and start a particle on a circular orbit that goes through that location. \n",
    "\n",
    "An important property of spherical mass distributions is the concept of the *circular velocity* $v_{\\rm circ}(r)$, which is defined to be the speed of a test particle on a circular orbit at radius $r$. The circular velocity can be found by equating the centripetal acceleration $\\frac{v^2}{r}$ with the (absolute value of the) acceleration from the gravitational potential $\\nabla \\Phi$\n",
    "\n",
    "$$\n",
    "\\begin{align}\n",
    "\\frac{v^2}{r} &= \\left|\\frac{\\textrm{d}\\Phi}{\\textrm{d}r}\\right| \\\\\n",
    "v_{\\rm circ}(r) &= \\sqrt{r \\, \\left|\\frac{\\textrm{d}\\Phi}{\\textrm{d}r}\\right|}\n",
    "\\end{align}\n",
    "$$\n",
    "\n",
    "For the point mass potential, this is simply:\n",
    "\n",
    "$$\n",
    "v_{\\rm circ}(r) = \\sqrt{\\frac{G\\,M}{r}}\n",
    "$$\n",
    "\n",
    "### Example: Compute the circular velocity in at $r=1.6~\\textrm{AU}$ in the Solar System in AU/year"
   ]
  },
  {
   "cell_type": "code",
   "execution_count": null,
   "id": "606b450f",
   "metadata": {},
   "outputs": [],
   "source": [
    "r0 = 1.6 * u.au\n",
    "M = 1 * u.Msun\n",
    "v_circ = np.sqrt(G * M / r0).decompose(unitsys)\n",
    "v_circ"
   ]
  },
  {
   "cell_type": "markdown",
   "id": "fdfd29ab",
   "metadata": {},
   "source": [
    "The `.decompose()` method allows us to represent a `Quantity` in a given unit system without having to construct the unit explicitly (here we just had to pass in the list of base units to `decompose()`)."
   ]
  },
  {
   "cell_type": "markdown",
   "id": "22ec64b1",
   "metadata": {},
   "source": [
    "We will now use this radius and circular velocity to construct 3D initial conditions that we will pass to `solve_ivp()` to compute the orbit of a test particle in the Solar System. We will start the particle on the x-axis ($y=z=0$) so that the velocity (perpendicular to the position vector) is purely in the $\\hat{y}$ direction:"
   ]
  },
  {
   "cell_type": "code",
   "execution_count": null,
   "id": "ce4a792d",
   "metadata": {},
   "outputs": [],
   "source": [
    "x0 = [1, 0, 0] * r0\n",
    "v0 = [0, 1, 0] * v_circ\n",
    "w0 = np.concatenate(\n",
    "    (x0.decompose(unitsys).value, \n",
    "     v0.decompose(unitsys).value)\n",
    ")\n",
    "w0"
   ]
  },
  {
   "cell_type": "markdown",
   "id": "87a25491",
   "metadata": {},
   "source": [
    "Finally, we have to convert the combined amplitude parameter `GM` into our unit system:"
   ]
  },
  {
   "cell_type": "code",
   "execution_count": null,
   "id": "2d6bb46d",
   "metadata": {},
   "outputs": [],
   "source": [
    "GM = (G * M).decompose(unitsys).value\n",
    "GM"
   ]
  },
  {
   "cell_type": "markdown",
   "id": "a7f8b80c",
   "metadata": {},
   "source": [
    "The last thing we need to specify is the grid of times over which to compute the orbit. For this example, we will use 1024 equally spaced points between 0 and 10 years, the time unit in our unit system."
   ]
  },
  {
   "cell_type": "code",
   "execution_count": null,
   "id": "06b05bba",
   "metadata": {},
   "outputs": [],
   "source": [
    "t_eval = np.linspace(0, 10, 1024)"
   ]
  },
  {
   "cell_type": "code",
   "execution_count": null,
   "id": "208194ca",
   "metadata": {},
   "outputs": [],
   "source": [
    "soln = solve_ivp(\n",
    "    ptmass_F, \n",
    "    y0=w0, \n",
    "    args=(GM, ),\n",
    "    t_span=(t_eval.min(), t_eval.max()), \n",
    "    t_eval=t_eval\n",
    ")"
   ]
  },
  {
   "cell_type": "markdown",
   "id": "7e9eda1a",
   "metadata": {},
   "source": [
    "The returned Solution object `soln` now contains the orbit of our test particle (position and velocity) evaluated at all 1024 points in our time grid!"
   ]
  },
  {
   "cell_type": "code",
   "execution_count": null,
   "id": "05fc04ad",
   "metadata": {},
   "outputs": [],
   "source": [
    "soln"
   ]
  },
  {
   "cell_type": "markdown",
   "id": "11e6b108",
   "metadata": {},
   "source": [
    "The Scipy integrators use the variable \"`y`\" for any integration variables, so in this case `w = y`. To plot the position time series of the particle, we will plot two 2D projections of the 3D position: x-y and x-z:"
   ]
  },
  {
   "cell_type": "code",
   "execution_count": null,
   "id": "13b52e04",
   "metadata": {},
   "outputs": [],
   "source": [
    "fig, axes = plt.subplots(1, 2, figsize=(10, 5), \n",
    "                         sharex=True, sharey=True,\n",
    "                         constrained_layout=True)\n",
    "\n",
    "# x-y\n",
    "axes[0].plot(soln.y[0], soln.y[1])\n",
    "axes[0].set_xlabel(f'$x$ [{unitsys[0]:latex_inline}]')\n",
    "axes[0].set_ylabel(f'$y$ [{unitsys[0]:latex_inline}]')\n",
    "\n",
    "# x-z\n",
    "axes[1].plot(soln.y[0], soln.y[2])\n",
    "axes[1].set_xlabel(f'$x$ [{unitsys[0]:latex_inline}]')\n",
    "axes[1].set_ylabel(f'$z$ [{unitsys[0]:latex_inline}]')\n",
    "\n",
    "for ax in axes:\n",
    "    ax.set_aspect('equal')\n",
    "    \n",
    "fig.suptitle('default integrator (RK45)', fontsize=24)"
   ]
  },
  {
   "cell_type": "markdown",
   "id": "dbb2b984",
   "metadata": {},
   "source": [
    "The orbit is confined to the x-y plane, as we might expect (we only gave the particle velocity in the y direction, starting from the x axis). However: **that doesn't look like a circular orbit**: The orbit in the x-y plane looks more like a spiral!?! This is a telltale sign of energy drift. The force on our test particle is conservative and time-independent, so the orbital energy should be conserved along the particle's orbit. Let's compute the total energy for this numerically-integrated orbit and see if it is constant. To do that, we will implement a function to evaluate the point mass potential energy (defined above), and the total energy (the sum of potential and kinetic energy) at any phase-space position:"
   ]
  },
  {
   "cell_type": "code",
   "execution_count": null,
   "id": "ab56f4ef",
   "metadata": {},
   "outputs": [],
   "source": [
    "def ptmass_potential(xyz, M):\n",
    "    \"\"\"\n",
    "    Compute the potential energy from a point mass at the given\n",
    "    position(s) ``xyz``.\n",
    "    \n",
    "    Parameters\n",
    "    ----------\n",
    "    xyz : quantity-like\n",
    "    M : quantity-like\n",
    "    \"\"\"\n",
    "    r = np.sqrt(np.sum(xyz**2, axis=0))\n",
    "    return - G * M / r\n",
    "\n",
    "\n",
    "def ptmass_total_energy(w, M, unitsys):\n",
    "    \"\"\"\n",
    "    Compute the total energy (kinetic + potential) for phase-space \n",
    "    position(s) ``w``.\n",
    "    \n",
    "    Parameters\n",
    "    ----------\n",
    "    w : array-like\n",
    "    M : quantity-like\n",
    "    unitsys : list, collection\n",
    "        A list or iterable containing the base units that define the\n",
    "        adopted unit system. Order: length, mass, time\n",
    "    \"\"\"\n",
    "    xyz = w[:3] * unitsys[0]\n",
    "    vxyz = w[3:] * unitsys[0] / unitsys[2]\n",
    "    E_kin = 0.5 * np.sum(vxyz ** 2, axis=0)\n",
    "    E_pot = ptmass_potential(xyz, M)\n",
    "    return E_kin + E_pot"
   ]
  },
  {
   "cell_type": "markdown",
   "id": "8315f97b",
   "metadata": {},
   "source": [
    "We can now compute the energy for each point in the orbital time series, and the fractional energy change relative to the initial energy `dE`:"
   ]
  },
  {
   "cell_type": "code",
   "execution_count": null,
   "id": "dfca24da",
   "metadata": {},
   "outputs": [],
   "source": [
    "E = ptmass_total_energy(soln.y, M, unitsys)\n",
    "dE = np.abs((E[1:] - E[0]) / E[0])\n",
    "\n",
    "plt.figure(figsize=(6, 5))\n",
    "plt.loglog(dE)\n",
    "plt.xlabel('timestep number, $j$')\n",
    "plt.ylabel('fractional energy drift\\n' + r'$\\left|(E_j - E_0) / E_0\\right|$')\n",
    "plt.ylim(1e-15, 1e0)\n",
    "plt.suptitle('default integrator (RK45)', fontsize=24)"
   ]
  },
  {
   "cell_type": "markdown",
   "id": "a06dc691",
   "metadata": {},
   "source": [
    "Aha! The energy of the computed orbit drifts steadily toward a nearly 100% change from the initial energy: This explains why the computed orbit does not look like a circular orbit, as we would expect. The fact that energy is not conserved is a consequence of the default integration method used by `solve_ivp()`: An (effectively) 4th-order Runge–Kutta method. Runge–Kutta methods are class of iterative schemes for computing approximate solutions for ordinary differential equations. However, they are approximate, and so these methods steadily accumulate errors. With `solve_ivp()`, we can control the error tolerance (the internal timestep used to perform the integration) using the function arguments `rtol` and `atol`, which set the threshold relative (rtol) and absolute (atol) error tolerances (see the [solve_ivp() documentation](https://docs.scipy.org/doc/scipy/reference/generated/scipy.integrate.solve_ivp.html) for more context).\n",
    "\n",
    "Let's try re-running the orbit calculation, but with much smaller `rtol` and `atol` values (compared to the defaults of 1e-3 and 1e-6, respectively):"
   ]
  },
  {
   "cell_type": "code",
   "execution_count": null,
   "id": "84417150",
   "metadata": {},
   "outputs": [],
   "source": [
    "soln_tol = solve_ivp(\n",
    "    ptmass_F, \n",
    "    y0=w0, \n",
    "    args=(GM, ),\n",
    "    t_span=(t_eval.min(), t_eval.max()), \n",
    "    t_eval=t_eval,\n",
    "    rtol=1e-12,\n",
    "    atol=1e-8\n",
    ")"
   ]
  },
  {
   "cell_type": "code",
   "execution_count": null,
   "id": "d5562e71",
   "metadata": {},
   "outputs": [],
   "source": [
    "fig, axes = plt.subplots(1, 2, figsize=(10, 5), \n",
    "                         sharex=True, sharey=True,\n",
    "                         constrained_layout=True)\n",
    "\n",
    "# x-y\n",
    "axes[0].plot(soln_tol.y[0], soln_tol.y[1])\n",
    "axes[0].set_xlabel(f'$x$ [{unitsys[0]:latex_inline}]')\n",
    "axes[0].set_ylabel(f'$y$ [{unitsys[0]:latex_inline}]')\n",
    "\n",
    "# x-z\n",
    "axes[1].plot(soln_tol.y[0], soln_tol.y[2])\n",
    "axes[1].set_xlabel(f'$x$ [{unitsys[0]:latex_inline}]')\n",
    "axes[1].set_ylabel(f'$z$ [{unitsys[0]:latex_inline}]')\n",
    "\n",
    "for ax in axes:\n",
    "    ax.set_aspect('equal')\n",
    "    \n",
    "fig.suptitle('RK45 (improved tolerance)', fontsize=24)"
   ]
  },
  {
   "cell_type": "markdown",
   "id": "55d8eca6",
   "metadata": {},
   "source": [
    "That looks much better! The orbit looks circular, and it visually appears to stay circular and planar for the duration of our integration window. \n",
    "\n",
    "We therefore expect the energy conservation to be preserved much more accurately for this case:"
   ]
  },
  {
   "cell_type": "code",
   "execution_count": null,
   "id": "8eb8b139",
   "metadata": {},
   "outputs": [],
   "source": [
    "E = ptmass_total_energy(soln_tol.y, M, unitsys)\n",
    "dE = np.abs((E[1:] - E[0]) / E[0])\n",
    "\n",
    "plt.figure(figsize=(6, 5))\n",
    "plt.loglog(dE)\n",
    "plt.xlabel('timestep number, $j$')\n",
    "plt.ylabel('fractional energy drift\\n' + r'$\\left|(E_j - E_0) / E_0\\right|$')\n",
    "plt.ylim(1e-15, 1e0)\n",
    "plt.title('RK45 (improved tolerance)', fontsize=24)"
   ]
  },
  {
   "cell_type": "markdown",
   "id": "eeb46891",
   "metadata": {},
   "source": [
    "Indeed, by the end of our integration window, the energy changes by $<10^{-7}$ relative to the initial energy for this case (the axis limits are the same here as in the previous plot! Scroll up to compare the two plots)."
   ]
  },
  {
   "cell_type": "markdown",
   "id": "072451e2",
   "metadata": {},
   "source": [
    "## Other Integration Algorithms\n",
    "\n",
    "Runge–Kutta methods represent one class of numerical ODE integration tools, but there are several other classes of algorithms that are commonly used. Another class of algorithms that is used especially for evolving dynamical systems are *symplectic* integration methods. As we saw above with the Runge–Kutta scheme, over long times, errors introduced from approximations inherent to the method accumulate and lead to an increasing net change in the energy (which should be conserved). Symplectic integrators are special in that the iterative steps in the algorithm are *canonical transformations* themselves. A result of this is that, in conservative systems, over long times or averaged over time, these integrator classes conserve energy (in an average sense) and phase-space volume. In detail, the energy actually oscillates around the true energy, but it does not diverge from approximations in the method and only drifts due to numerical precision, which happens over much longer (integration) timescales.\n",
    "\n",
    "One of the most well-known symplectic integration methods is the [*Leapfrog algorithm*](https://en.wikipedia.org/wiki/Leapfrog_integration), which is a specific type of more general Verlet integration schemes. Leapfrog is a 2nd-order method (the truncation error is 2nd-order) meaning that at fixed timestep, it will not be as precise as, for example, a 5th-order Runge–Kutta scheme. However, the approximate stability of the energy and the conserved phase volume is often desirable for long integrations. There are also 3rd, 4th, and higher-order analogs to Leapfrog integration that have better error properties (at fixed timestep) over short timescales.\n",
    "\n",
    "\n",
    "### Leapfrog Integration\n",
    "\n",
    "The default algorithm for Leapfrog integration advances the position and velocity (momentum) coordinates separately, and out of sync by 1/2 of a timestep, hence the \"leapfrog\" in the name: When the velocity advances by a full step from (timestep $i - \\frac{1}{2}$) to (timestep $i + \\frac{1}{2}$), it \"leapfrogs\" over the position (at timestep $i$). In a bit more detail, Leapfrog works as follows, starting from initial conditions $\\boldsymbol{x}_0$ and $\\boldsymbol{v}_0$ at time $t=t_0$:\n",
    "\n",
    "- Compute the acceleration on the particle at the initial time:\n",
    "\n",
    "  $$\n",
    "  \\boldsymbol{a}(t_0) = -\\nabla \\Phi|_{\\boldsymbol{x}_0}\n",
    "  $$\n",
    "  \n",
    "- Advance the velocity by 1/2 of a timestep $h=\\Delta t$:\n",
    "\n",
    "  $$\n",
    "  \\boldsymbol{v}_{1/2} = \\boldsymbol{v}_0 + \\frac{h}{2}\\,\\boldsymbol{a}(t_0)\n",
    "  $$\n",
    "  \n",
    "- For each timestep $i$: \n",
    "\n",
    "    - Increment the position by a full timestep using the \"old\" velocity, $\\boldsymbol{v}_{i - 1/2}$\n",
    "    \n",
    "      $$\n",
    "      \\boldsymbol{x}_{i} = \\boldsymbol{x}_{i-1} + h\\,\\boldsymbol{v}_{i - 1/2}\n",
    "      $$\n",
    "    \n",
    "    - Compute the acceleration at the \"new\" position:\n",
    "    \n",
    "      $$\n",
    "      \\boldsymbol{a}(t_i) = -\\nabla \\Phi|_{\\boldsymbol{x}_i}\n",
    "      $$\n",
    "      \n",
    "    - Increment the velocity by a full timestep using the \"new\" acceleration\n",
    "    \n",
    "      $$\n",
    "      \\boldsymbol{v}_{i+1/2} = \\boldsymbol{v}_{i-1/2} + h\\,\\boldsymbol{a}(t_i)\n",
    "      $$\n",
    "      \n",
    "      \n",
    "One caveat is that, if we stored all of the positions $\\boldsymbol{x}_{i}$ and velocities $\\boldsymbol{v}_{i+1/2}$, they would be out of sync with one another. In practice, it is common to instead split the velocity timestep increment into two increments by half of a timestep, so the last step in each iteration would look like:\n",
    "\n",
    "- Increment the velocity by two half timesteps using the \"new\" acceleration\n",
    "  $$\n",
    "  \\boldsymbol{v}_{i} = \\boldsymbol{v}_{i-1/2} + \\frac{h}{2}\\,\\boldsymbol{a}(t_i)\n",
    "  \\boldsymbol{v}_{i+1/2} = \\boldsymbol{v}_{i} + \\frac{h}{2}\\,\\boldsymbol{a}(t_i)\n",
    "  $$\n",
    "  \n",
    "where we then save the (synchronized) $\\boldsymbol{x}_{i}$ and $\\boldsymbol{v}_{i}$ values as the orbital time series.\n",
    "\n",
    "Let's implement this algorithm as a function, like `solve_ivp()`, which itself takes a function that computes the acceleration as the argument `acc_func`, along with initial conditions `x0` and `v0`, a timestep `dt`, and a number of timesteps `n_steps`. Because we are implementing this ourselves, we can build in support for Astropy units:"
   ]
  },
  {
   "cell_type": "code",
   "execution_count": null,
   "id": "f6226541",
   "metadata": {},
   "outputs": [],
   "source": [
    "def leapfrog_integrate(acc_func, x0, v0, dt, n_steps, acc_func_args=()):\n",
    "    \"\"\"\n",
    "    Parameters\n",
    "    ----------\n",
    "    acc_func : callable\n",
    "        A function that computes the acceleration at a position.\n",
    "    x0 : quantity-like [length]\n",
    "        Initial position.\n",
    "    v0 : quantity-like [velocity]\n",
    "        Initial velocity.\n",
    "    dt : quantity-like [time]\n",
    "        Timestep.\n",
    "    n_steps : int\n",
    "        The number of timesteps to take.\n",
    "    acc_func_args : iterable, list (optional)\n",
    "        Any additional arguments to be passed to the `acc_func` function.\n",
    "    \"\"\"\n",
    "    # Make sure the input initial conditions and timestep are valid:\n",
    "    x0 = u.Quantity(x0)\n",
    "    v0 = u.Quantity(v0)\n",
    "    ts = u.Quantity(dt) * np.arange(int(n_steps) + 1)\n",
    "    \n",
    "    # Initialize the velocity: step forward by 1/2 timestep\n",
    "    a0 = acc_func(x0, *acc_func_args)\n",
    "    v_1_2 = v0 + a0 * dt / 2.\n",
    "    \n",
    "    # Set up array Quantity objects to store the full orbits for both \n",
    "    # position and velocity\n",
    "    xs = np.full((3, len(ts)), np.nan) * x0.unit\n",
    "    xs[:, 0] = x0\n",
    "    vs = np.full((3, len(ts)), np.nan) * v0.unit\n",
    "    vs[:, 0] = v0\n",
    "    \n",
    "    x_im1 = x0\n",
    "    v_im1_2 = v_1_2\n",
    "    for i in range(n_steps):\n",
    "        x_i = x_im1 + v_im1_2 * dt\n",
    "        a_i = acc_func(x_i, *acc_func_args)\n",
    "\n",
    "        v_i = v_im1_2 + a_i * dt / 2\n",
    "        v_ip1_2 = v_i + a_i * dt / 2\n",
    "        \n",
    "        xs[:, i + 1] = x_i\n",
    "        vs[:, i + 1] = v_i\n",
    "        \n",
    "        x_im1 = x_i \n",
    "        v_im1_2 = v_ip1_2\n",
    "        \n",
    "    return ts, xs, vs"
   ]
  },
  {
   "cell_type": "markdown",
   "id": "528325f1",
   "metadata": {},
   "source": [
    "We can now compute the same orbit, using the same point mass potential and initial conditions as above. We will compute it for many more timesteps to compare the long-term behavior of Leapfrog with the Runge–Kutta schemes used above (this takes about 15 seconds on my machine - it is much slower because operations are slower with astropy Quantities as compared to numpy arrays - ask me about how we could speed this up if you are curious!):"
   ]
  },
  {
   "cell_type": "code",
   "execution_count": null,
   "id": "ab81649a",
   "metadata": {},
   "outputs": [],
   "source": [
    "lf_ts, lf_xs, lf_vs = leapfrog_integrate(\n",
    "    ptmass_acceleration, \n",
    "    x0, \n",
    "    v0,\n",
    "    dt=1 * u.day,\n",
    "    n_steps=16384,\n",
    "    acc_func_args=(M, )\n",
    ")"
   ]
  },
  {
   "cell_type": "markdown",
   "id": "2d5bf119",
   "metadata": {},
   "source": [
    "Let's now plot the same projections of the positional components of the orbit to compare with the plots above:"
   ]
  },
  {
   "cell_type": "code",
   "execution_count": null,
   "id": "72939efe",
   "metadata": {},
   "outputs": [],
   "source": [
    "fig, axes = plt.subplots(1, 2, figsize=(10, 5), \n",
    "                         sharex=True, sharey=True,\n",
    "                         constrained_layout=True)\n",
    "\n",
    "# x-y\n",
    "axes[0].plot(lf_xs[0], lf_xs[1])\n",
    "axes[0].set_xlabel(f'$x$ [{unitsys[0]:latex_inline}]')\n",
    "axes[0].set_ylabel(f'$y$ [{unitsys[0]:latex_inline}]')\n",
    "\n",
    "# x-z\n",
    "axes[1].plot(lf_xs[0], lf_xs[2])\n",
    "axes[1].set_xlabel(f'$x$ [{unitsys[0]:latex_inline}]')\n",
    "axes[1].set_ylabel(f'$z$ [{unitsys[0]:latex_inline}]')\n",
    "\n",
    "for ax in axes:\n",
    "    ax.set_aspect('equal')\n",
    "    \n",
    "fig.suptitle('Leapfrog', fontsize=24)"
   ]
  },
  {
   "cell_type": "markdown",
   "id": "e980ddd4",
   "metadata": {},
   "source": [
    "This looks like the same circular orbit that we computed above! How well does it conserve energy?"
   ]
  },
  {
   "cell_type": "code",
   "execution_count": null,
   "id": "dcb45c75",
   "metadata": {},
   "outputs": [],
   "source": [
    "E = ptmass_potential(lf_xs, M) + 0.5 * np.sum(lf_vs**2, axis=0)\n",
    "E = E.decompose(unitsys)\n",
    "dE = np.abs((E[1:] - E[0]) / E[0])\n",
    "\n",
    "plt.figure(figsize=(6, 5))\n",
    "plt.loglog(dE)\n",
    "plt.xlabel('timestep number, $j$')\n",
    "plt.ylabel('fractional energy drift\\n' + r'$\\left|(E_j - E_0) / E_0\\right|$')\n",
    "plt.ylim(1e-15, 1e0)\n",
    "plt.title('Leapfrog', fontsize=24)"
   ]
  },
  {
   "cell_type": "markdown",
   "id": "726c6339",
   "metadata": {},
   "source": [
    "Interestingly, as we expect, the error conservation is different: Rather than steadily rising toward larger numbers of timesteps (compare to the two equivalent figures above), the energy here is not constant, but appears to oscillate around a constant value. We can see this clearer by plotting the energy difference from the mean on a linear-linear plot:"
   ]
  },
  {
   "cell_type": "code",
   "execution_count": null,
   "id": "4b0b2376",
   "metadata": {},
   "outputs": [],
   "source": [
    "plt.figure(figsize=(6, 5))\n",
    "mean_E = np.mean(E)\n",
    "plt.plot((E - mean_E) / mean_E)\n",
    "plt.xlabel('timestep number, $j$')\n",
    "plt.ylabel('energy relative to mean\\n' + r'$E_j - {\\rm mean}_j(E_j)$')\n",
    "plt.title('Leapfrog', fontsize=24)\n",
    "plt.xlim(0, 10000)"
   ]
  },
  {
   "cell_type": "markdown",
   "id": "d1e8e2b8",
   "metadata": {},
   "source": [
    "The oscillations of the energy are small (on the order of $10^{-10}$ fractional changes in the energy), and appear more or less stable over the timescale that we integrated this orbit over.\n",
    "\n",
    "We hope that this comparison of Runge–Kutta and Leapfrog methods for the point mass potential gives you a sense that there are often many tools for the job of numerical orbit computation. But which integration scheme should you use? In many contexts in Galactic dynamics, it doesn't make much of a difference: As long as your timestep is small enough that you conserve energy with enough precision for the problem at hand, you can use any of these integration schemes. However, for some problems it may be important to more precisely conserve phase-volume, in which case symplectic integrators are often a safer choice.\n",
    "\n",
    "In practice, while it is fine to build your own machinery to do orbit integration, there are several tools available for Galactic dynamics that do a lot of the heavy lifting for you (and do it fast!). For example, in Python, your options are:\n",
    "\n",
    "- [Gala](http://gala.adrian.pw/)\n",
    "- [Galpy](https://github.com/jobovy/galpy)\n",
    "- [Agama](http://agama.software/)\n",
    "\n",
    "most of which implement the integration methods mentioned here (and others!), along with many of the gravitational potential models that we will discuss in the next few sections and tutorials."
   ]
  },
  {
   "cell_type": "markdown",
   "id": "ade580fa",
   "metadata": {},
   "source": [
    "### Exercise: Varying the initial conditions\n",
    "\n",
    "So far, we have only worked with initial conditions for a circular orbit. Compute a few more orbits using `leapfrog_integrate()`, but with different choices for initial conditions (e.g., try different y velocity values, or try generating random velocity vectors). What do generic orbits look like?"
   ]
  },
  {
   "cell_type": "code",
   "execution_count": null,
   "id": "5cd394fd",
   "metadata": {},
   "outputs": [],
   "source": []
  },
  {
   "cell_type": "markdown",
   "id": "268eaf71",
   "metadata": {},
   "source": [
    "## The Plummer Potential\n",
    "\n",
    "The Kepler potential is special because it represents a point mass, i.e. the density distribution is infinite at its origin and zero everywhere else. Most mass distributions that are relevant for Galactic dynamics are well-represented by density distributions that are finite everywhere or throughout some enclosed volume.\n",
    "\n",
    "Mathematically, one of the simplest spherical extended (non-point) mass distributions is the [Plummer Sphere](https://en.wikipedia.org/wiki/Plummer_model), given by the potential:\n",
    "\n",
    "$$\n",
    "\\Phi(r) = - \\frac{G \\, M}{\\sqrt{r^2 + b^2}}\n",
    "$$"
   ]
  },
  {
   "cell_type": "markdown",
   "id": "577832ff",
   "metadata": {},
   "source": [
    "### Exercise: What is the Plummer density distribution?\n",
    "\n",
    "Using Poisson's equation, the density is related to the Laplacian of the potential such that:\n",
    "\n",
    "$$\n",
    "\\rho(r) = (4\\pi\\,G)^{-1} \\, \\nabla^2 \\Phi\n",
    "$$\n",
    "\n",
    "Using the spherical expression of the potential, we must take the spherical Laplacian (but the $\\partial \\phi$ and $\\partial \\theta$ terms are zero):\n",
    "\n",
    "$$\n",
    "\\begin{align}\n",
    "\\nabla^2 \\Phi(r) &= \\frac{1}{r^2} \\, \\frac{\\partial \\Phi}{\\partial r}\\left( r^2 \\, \\frac{\\partial \\Phi}{\\partial r} \\right)\\\\\n",
    "&= \\frac{1}{r^2} \\, \\frac{\\partial \\Phi}{\\partial r}\\left( \\frac{G\\,M\\,r^3}{(r^2 + b^2)^{3/2}} \\right)\\\\\n",
    "\\rho(r) &= \\frac{M}{\\frac{4}{3}\\pi\\,b^3} \\, \\left(\\frac{r^2}{b^2} + 1\\right)^{-5/2}\n",
    "\\end{align}\n",
    "$$\n",
    "\n",
    "Proof with `sympy`:"
   ]
  },
  {
   "cell_type": "code",
   "execution_count": null,
   "id": "ba7075ba",
   "metadata": {},
   "outputs": [],
   "source": [
    "_G, _M, _b, _r = sy.symbols('G, M, b, r', real=True, positive=True)"
   ]
  },
  {
   "cell_type": "code",
   "execution_count": null,
   "id": "b7949711",
   "metadata": {},
   "outputs": [],
   "source": [
    "plummer_Phi = - _G * _M / sy.sqrt(_r**2 + _b**2)\n",
    "plummer_Phi"
   ]
  },
  {
   "cell_type": "code",
   "execution_count": null,
   "id": "e069d10d",
   "metadata": {},
   "outputs": [],
   "source": [
    "plummer_d2_Phi = sy.simplify(\n",
    "    1/_r**2 * sy.diff(_r**2 * sy.diff(plummer_Phi, _r), _r))"
   ]
  },
  {
   "cell_type": "code",
   "execution_count": null,
   "id": "72e6eded",
   "metadata": {},
   "outputs": [],
   "source": [
    "plummer_dens = plummer_d2_Phi / (4*sy.pi * _G)\n",
    "plummer_dens"
   ]
  },
  {
   "cell_type": "markdown",
   "id": "29745236",
   "metadata": {},
   "source": [
    "### Mass enclosed: Circular velocity in extended mass distributions?\n",
    "\n",
    "Above, we saw how to compute the circular velocity of an orbit at radius $r$ in the point mass potential. This concept works in any spherical, central potential model, even when the mass is extended, such as in the case of the Plummer model. In more general spherical mass models, the equation for the circular velocity in terms of a derivative of the potential is still valid:\n",
    "\n",
    "$$\n",
    "v_{\\rm circ}(r) = \\sqrt{r \\, \\left|\\frac{\\textrm{d}\\Phi}{\\textrm{d}r}\\right|}\n",
    "$$\n",
    "\n",
    "However, an alternate way of computing the circular velocity is to use the *mass enclosed* $M(<r)$, which specifies the mass enclosed within a radius $r$ and is defined as:\n",
    "\n",
    "$$\n",
    "M(<r) = \\int^r_0 \\textrm{d}\\tilde{r} \\, 4\\pi\\,\\tilde{r}^2 \\, \\rho(\\tilde{r})\n",
    "$$\n",
    "\n",
    "With the mass enclosed, the circular velocity can also be computed as:\n",
    "\n",
    "$$\n",
    "v_{\\rm circ}(r) = \\sqrt{\\frac{G\\,M(<r)}{r}}\n",
    "$$"
   ]
  },
  {
   "cell_type": "markdown",
   "id": "2d93d09b",
   "metadata": {},
   "source": [
    "### Exercise: Implement the Plummer Potential and Compute a Circular Orbit\n",
    "\n",
    "**First, derive an expression for the mass enclosed in the Plummer model**\n",
    "\n",
    "*Solution:*\n",
    "\n",
    "You can either take the derivative of the potential and compute the mass enclosed using the radial derivative of the potential, or compute the integral of the mass density given above. Here, we will use `sympy` to do both. First, using the derivative:"
   ]
  },
  {
   "cell_type": "code",
   "execution_count": null,
   "id": "d93fa9ab",
   "metadata": {},
   "outputs": [],
   "source": [
    "sy.simplify(sy.sqrt(_r * sy.diff(plummer_Phi, _r)))"
   ]
  },
  {
   "cell_type": "code",
   "execution_count": null,
   "id": "3348cbd3",
   "metadata": {},
   "outputs": [],
   "source": [
    "plummer_Menc = sy.integrate(4*sy.pi * _r**2 * plummer_dens, _r)\n",
    "sy.simplify(sy.sqrt(_G * plummer_Menc / _r))"
   ]
  },
  {
   "cell_type": "markdown",
   "id": "e092aba5",
   "metadata": {},
   "source": [
    "**Next, implement a function to evaluate the circular velocity in the Plummer potential**\n",
    "\n",
    "*Solution:*"
   ]
  },
  {
   "cell_type": "code",
   "execution_count": null,
   "id": "ef386a84",
   "metadata": {},
   "outputs": [],
   "source": [
    "def plummer_vcirc(r, M, b):\n",
    "    return np.sqrt(G * M) * r / (r**2 + b**2)**(3/4)"
   ]
  },
  {
   "cell_type": "markdown",
   "id": "81517d1e",
   "metadata": {},
   "source": [
    "**Now implement an acceleration function for the Plummer model:**\n",
    "\n",
    "*Solution:* \n",
    "\n",
    "First we have to work out the Cartesian gradient of the potential. For the $x$ term, this is equivalent to:\n",
    "\n",
    "$$\n",
    "\\begin{align}\n",
    "\\frac{\\partial\\Phi}{\\partial r} &= \\frac{G\\,M\\,r}{(r^2 + b^2)^{3/2}}\\\\\n",
    "\\frac{\\partial\\Phi}{\\partial x} &= \\frac{\\partial\\Phi}{\\partial r} \\, \\frac{\\partial r}{\\partial x}\\\\\n",
    "&= \\frac{\\partial\\Phi}{\\partial r} \\, \\frac{x}{r}\\\\\n",
    "&= \\frac{G\\,M\\,x}{(r^2 + b^2)^{3/2}}\n",
    "\\end{align}\n",
    "$$\n",
    "\n",
    "so the $y$ and $z$ terms will be the same, with $x$ swapped out for each respective coordinate value."
   ]
  },
  {
   "cell_type": "code",
   "execution_count": null,
   "id": "bbf29706",
   "metadata": {},
   "outputs": [],
   "source": [
    "def plummer_acceleration(xyz, M, b):\n",
    "    \"\"\"    \n",
    "    Parameters\n",
    "    ----------\n",
    "    xyz : quantity-like\n",
    "        This should have shape (3, ...)\n",
    "    M : quantity-like\n",
    "        The total mass.\n",
    "    b : quantity-like\n",
    "        The scale radius.\n",
    "    \n",
    "    \"\"\"\n",
    "    r2 = np.sum(xyz**2, axis=0)\n",
    "    dPhi_dr = G * M / (r2 + b**2) ** 1.5\n",
    "    return - dPhi_dr * xyz"
   ]
  },
  {
   "cell_type": "markdown",
   "id": "31058702",
   "metadata": {},
   "source": [
    "**Finally, compute a circular orbit starting at $(x, y, z) = (5, 0, 0)~\\textrm{pc}$ (i.e. $r_0 = 5~\\textrm{pc}$) using `leapfrog_integrate()` with the Plummer acceleration function you implemented, adopting the parameter values** $M=10^7~\\textrm{M}_\\odot$ and $b = 8~\\textrm{pc}$\n",
    "\n",
    "Think about what a good order of magnitude would be for the timestep (*Hint: what is $2\\pi\\,r_0 / v_\\textrm{circ}$?*\\)"
   ]
  },
  {
   "cell_type": "code",
   "execution_count": null,
   "id": "8932cbad",
   "metadata": {},
   "outputs": [],
   "source": [
    "r0 = 5 * u.pc\n",
    "x0 = [1, 0, 0] * r0\n",
    "\n",
    "plummer_M = 1e7 * u.Msun\n",
    "plummer_b = 8 * u.pc\n",
    "vcirc = plummer_vcirc(r0, plummer_M, plummer_b)\n",
    "print(vcirc.to(u.km/u.s))\n",
    "\n",
    "v0 = [0, 1, 0] * vcirc"
   ]
  },
  {
   "cell_type": "code",
   "execution_count": null,
   "id": "2c93ec45",
   "metadata": {},
   "outputs": [],
   "source": [
    "dt = 2*np.pi*r0 / vcirc / 256  # 256 steps per orbital period\n",
    "dt.to(u.Myr)"
   ]
  },
  {
   "cell_type": "code",
   "execution_count": null,
   "id": "13aadad4",
   "metadata": {},
   "outputs": [],
   "source": [
    "plummer_ts, plummer_xs, plummer_vs = leapfrog_integrate(\n",
    "    plummer_acceleration, \n",
    "    x0=x0,\n",
    "    v0=v0,\n",
    "    dt=dt,\n",
    "    n_steps=1024,\n",
    "    acc_func_args=(plummer_M, plummer_b)\n",
    ")"
   ]
  },
  {
   "cell_type": "markdown",
   "id": "19ddde97",
   "metadata": {},
   "source": [
    "**Plot the orbit in x-y and x-z projections:**"
   ]
  },
  {
   "cell_type": "code",
   "execution_count": null,
   "id": "636aed8d",
   "metadata": {},
   "outputs": [],
   "source": [
    "fig, axes = plt.subplots(1, 2, figsize=(10, 5), \n",
    "                         sharex=True, sharey=True,\n",
    "                         constrained_layout=True)\n",
    "\n",
    "# x-y\n",
    "axes[0].plot(plummer_xs[0], plummer_xs[1])\n",
    "axes[0].set_xlabel(f'$x$ [{plummer_xs.unit:latex_inline}]')\n",
    "axes[0].set_ylabel(f'$y$ [{plummer_xs.unit:latex_inline}]')\n",
    "\n",
    "# x-z\n",
    "axes[1].plot(plummer_xs[0], plummer_xs[2])\n",
    "axes[1].set_xlabel(f'$x$ [{plummer_xs.unit:latex_inline}]')\n",
    "axes[1].set_ylabel(f'$z$ [{plummer_xs.unit:latex_inline}]')\n",
    "\n",
    "for ax in axes:\n",
    "    ax.set_aspect('equal')\n",
    "    \n",
    "fig.suptitle('Circular orbit in the Plummer model', fontsize=24)"
   ]
  },
  {
   "cell_type": "markdown",
   "id": "5e6ec6d4",
   "metadata": {},
   "source": [
    "**Compute a few other random bound orbits in the Plummer model (using small, random velocity offsets from the circular orbit initial conditions). How are these orbits different from the orbits in the point mass potential?**"
   ]
  },
  {
   "cell_type": "code",
   "execution_count": null,
   "id": "5b8dcd35",
   "metadata": {},
   "outputs": [],
   "source": [
    "rng = np.random.default_rng(seed=42)\n",
    "\n",
    "fig, axes = plt.subplots(1, 2, figsize=(10, 5), \n",
    "                         sharex=True, sharey=True,\n",
    "                         constrained_layout=True)\n",
    "\n",
    "axes[0].set_xlabel(f'$x$ [{plummer_xs.unit:latex_inline}]')\n",
    "axes[0].set_ylabel(f'$y$ [{plummer_xs.unit:latex_inline}]')\n",
    "\n",
    "axes[1].set_xlabel(f'$x$ [{plummer_xs.unit:latex_inline}]')\n",
    "axes[1].set_ylabel(f'$z$ [{plummer_xs.unit:latex_inline}]')\n",
    "\n",
    "for n in range(4):    \n",
    "    this_plummer_ts, this_plummer_xs, this_plummer_vs = leapfrog_integrate(\n",
    "        plummer_acceleration, \n",
    "        x0=x0,\n",
    "        v0=v0 + rng.normal(0, 10, size=3) * u.km/u.s,\n",
    "        dt=dt,\n",
    "        n_steps=1024,\n",
    "        acc_func_args=(plummer_M, plummer_b)\n",
    "    )\n",
    "    \n",
    "    axes[0].plot(this_plummer_xs[0], this_plummer_xs[1], marker='')\n",
    "    axes[1].plot(this_plummer_xs[0], this_plummer_xs[2], marker='')"
   ]
  },
  {
   "cell_type": "markdown",
   "id": "256fe5a5",
   "metadata": {},
   "source": [
    "Generic orbits in the Plummer model (and any extended spherical mass distribution) are unlike orbits in the point mass potential: In the point mass model, orbits form closed (Keplerian) ellipses, whereas in generic spherical mass models, orbits are *not* closed and instead trace our \"rosette\" patterns. One property that all orbits in spherical mass models share (including orbits in the point mass model, Plummer model, and any other) is that they are confined to a plane. That plane can be oriented with any arbitrary angles with respect to the adopted coordinate system, but a fundamental property of orbits in spherical mass models is that the motion can be reduced to 2D planar motion with a suitable choice of coordinate system. This is *not* true in more complex mass models (e.g., axisymmetric/disky, triaxial models, or more realistic models of dark matter distributions in galaxies); so why is this the case in spherical models?"
   ]
  },
  {
   "cell_type": "markdown",
   "id": "187992d7",
   "metadata": {},
   "source": [
    "## Constants and Integrals of Motion\n",
    "\n",
    "We saw above that for generic orbits in time-independent gravitational fields, the total energy is conserved or constant at any point along the orbit. Depending on the symmetries of the mass distribution, orbits generically also have other conserved quantities, which are either *constants of motion* (functions of the phase-space coordinates and time $C_C(\\boldsymbol{x}, \\boldsymbol{v}, t)$ that are constant along an orbit) and/or *integrals of motion* (functions of the phase-space coordinates only $C_I(\\boldsymbol{x}, \\boldsymbol{v})$ that are constant along an orbit). The energy is an example of an integral of motion, but in a spherical, time-independent mass distribution, orbits also have other integrals of motion: The three components of the angular momentum vector $L_x, L_y, L_z$ (and therefore also the total angular momentum $L$). \n",
    "\n",
    "To see this, let's compute the orbit of a random set of initial conditions in the Plummer model we used above:"
   ]
  },
  {
   "cell_type": "code",
   "execution_count": null,
   "id": "874cfd49",
   "metadata": {},
   "outputs": [],
   "source": [
    "rng = np.random.default_rng(seed=123)\n",
    "\n",
    "rand_x0 = rng.normal(0, 5, size=3) * u.pc\n",
    "rand_v0 = rng.normal(0, 20, size=3) * u.km/u.s\n",
    "\n",
    "rand_plummer_ts, rand_plummer_xs, rand_plummer_vs = leapfrog_integrate(\n",
    "    plummer_acceleration, \n",
    "    x0=rand_x0,\n",
    "    v0=rand_v0,\n",
    "    dt=dt,  # we defined this earlier!\n",
    "    n_steps=1024,\n",
    "    acc_func_args=(plummer_M, plummer_b)\n",
    ")"
   ]
  },
  {
   "cell_type": "code",
   "execution_count": null,
   "id": "e4020b62",
   "metadata": {},
   "outputs": [],
   "source": [
    "fig, axes = plt.subplots(1, 2, figsize=(10, 5), \n",
    "                         sharex=True, sharey=True,\n",
    "                         constrained_layout=True)\n",
    "\n",
    "# x-y\n",
    "axes[0].plot(rand_plummer_xs[0], rand_plummer_xs[1])\n",
    "axes[0].set_xlabel(f'$x$ [{rand_plummer_xs.unit:latex_inline}]')\n",
    "axes[0].set_ylabel(f'$y$ [{rand_plummer_xs.unit:latex_inline}]')\n",
    "\n",
    "# x-z\n",
    "axes[1].plot(rand_plummer_xs[0], rand_plummer_xs[2])\n",
    "axes[1].set_xlabel(f'$x$ [{rand_plummer_xs.unit:latex_inline}]')\n",
    "axes[1].set_ylabel(f'$z$ [{rand_plummer_xs.unit:latex_inline}]')\n",
    "\n",
    "for ax in axes:\n",
    "    ax.set_aspect('equal')\n",
    "    \n",
    "    ax.set_xlim(-10, 10)\n",
    "    ax.set_ylim(-10, 10)\n",
    "    \n",
    "fig.suptitle('Random orbit in the Plummer model', fontsize=24)"
   ]
  },
  {
   "cell_type": "markdown",
   "id": "5abe1f21",
   "metadata": {},
   "source": [
    "We can then compute the angular momentum vector at every timestep in the integration:"
   ]
  },
  {
   "cell_type": "code",
   "execution_count": null,
   "id": "55247916",
   "metadata": {},
   "outputs": [],
   "source": [
    "L = np.cross(rand_plummer_xs, rand_plummer_vs, axis=0)\n",
    "L = L.to(u.km/u.s * u.pc)\n",
    "L.shape"
   ]
  },
  {
   "cell_type": "markdown",
   "id": "594f7bfa",
   "metadata": {},
   "source": [
    "We can then plot the value of the angular momentum in each component (and the total angular momentum) as a function of timestep:"
   ]
  },
  {
   "cell_type": "code",
   "execution_count": null,
   "id": "b2f9e660",
   "metadata": {},
   "outputs": [],
   "source": [
    "plt.figure(figsize=(6, 5))\n",
    "\n",
    "plt.plot(plummer_ts, np.linalg.norm(L, axis=0), \n",
    "         marker='', label='$L$ (total)')\n",
    "\n",
    "names = ['x', 'y', 'z']\n",
    "for i in range(3):\n",
    "    plt.plot(plummer_ts, L[i], marker='', label=f'$L_{names[i]}$')\n",
    "    \n",
    "plt.xlabel('timestep')\n",
    "plt.ylabel('angular momentum')\n",
    "\n",
    "plt.legend(loc='best', fontsize=14)\n",
    "\n",
    "plt.tight_layout()"
   ]
  },
  {
   "cell_type": "markdown",
   "id": "1d838935",
   "metadata": {},
   "source": [
    "In the case of spherical, time-independent, central force fields, we saw above that energy $E$ and angular momentum $L$ (all components and the total magnitude) are integrals of motion. It turns out that the number of independent integrals of motion that an orbit has sets the degrees of freedom of an orbit in 6D phase space. That is, the reason that orbits do not fill six-dimensional volumes is because they often have many integrals of motion that reduce the dimensionality of the orbit (i.e. there are deep connections between coordinate symmetries, integrals of motion, and the geometry of orbits). However, we can create arbitrarily-many integrals of motion by considering any functions of these integrals of motion $f(E, L)$, so what is special about energy and angular momentum? Integrals of motion that reduce the number of degrees of freedom that an orbit has are called *isolating integrals of motion*: These are special integrals of motion that are \"independent\" (in detail, any such integrals are \"in involution\" such that the Poisson bracket of any pair of isolating integrals of motion must be zero; That is TMI for our purposes!). The number of isolating integrals of motion have geometric importance: Orbits exist in 6D phase space. If energy is conserved, this restricts orbits to a 5D manifold embedded in 6D phase space. In the case of spherical gravitational fields, the three components are three additional isolating integrals, which restrict the degrees of freedom to a 2D manifold: This is why generic orbits in spherical models (e.g., the Plummer model) trace out rosette patterns bound to a planar surface!  "
   ]
  },
  {
   "cell_type": "markdown",
   "id": "175f6f54",
   "metadata": {},
   "source": [
    "### Exercise: Why do orbits in the point mass potential not fill a 2D space, but instead trace out a 1D curve? \n",
    "\n",
    "I.e. can you guess how many isolating integrals of motion there are for orbits in a point mass potential?\n",
    "\n",
    "*Answer*: \n",
    "\n",
    "5! For orbits to be restricted to a line (a 1D curve, and not a 2D plane), there must be one additional isolating integral of motion relative to generic orbits in spherical mass models."
   ]
  },
  {
   "cell_type": "markdown",
   "id": "0938f702",
   "metadata": {},
   "source": [
    "## A Quick Intro to Gala: Fast Orbit Integration\n",
    "\n",
    "The point mass and Plummer potentials are just two examples of spherical, central mass models. A number of other spherical models appear often in Galactic dynamics contexts, most of which are just potential models resulting from spherical density distributions that have different power law exponents.\n",
    "\n",
    "To demonstrate these other mass models, so that we do not have to implement all of the models here, we are going to switch from using our own home-brewed integration and potential definitions to using the [Gala](http://gala.adrian.pw/) Python package. Gala is maintained by me (Adrian) and was born out of my need for having fast tools for numerical orbit integration in Python. (For a quick intro to Gala, see the examples below, or the [Getting Started guide in the Gala documentation](http://gala.adrian.pw/en/latest/getting_started.html)) To start with, let's import the necessary Python subpackages:"
   ]
  },
  {
   "cell_type": "code",
   "execution_count": null,
   "id": "f434e03a",
   "metadata": {},
   "outputs": [],
   "source": [
    "import gala.dynamics as gd\n",
    "import gala.integrate as gi\n",
    "import gala.potential as gp\n",
    "from gala.units import galactic"
   ]
  },
  {
   "cell_type": "markdown",
   "id": "5596992f",
   "metadata": {},
   "source": [
    "As an initial demonstration, let's re-compute the same random orbit we computed in the Plummer model just above: The position and velocity initial conditions are stored in `rand_x0` and `rand_v0`, and the potential parameters are available as `plummer_M` and `plummer_b`. \n",
    "\n",
    "The first thing we will do is define a Gala `PlummerPotential` object to represent the potential we are computing the orbit in:"
   ]
  },
  {
   "cell_type": "code",
   "execution_count": null,
   "id": "e7df447c",
   "metadata": {},
   "outputs": [],
   "source": [
    "plummer_pot = gp.PlummerPotential(\n",
    "    m=plummer_M, \n",
    "    b=plummer_b,\n",
    "    units=galactic\n",
    ")\n",
    "plummer_pot"
   ]
  },
  {
   "cell_type": "markdown",
   "id": "0f03e9f8",
   "metadata": {},
   "source": [
    "Here, we have to specify a unit system along with the potential parameters, which was also imported from Gala: In Gala, the `galactic` unit system is defined as (kpc, Myr, solar masses, radians):"
   ]
  },
  {
   "cell_type": "code",
   "execution_count": null,
   "id": "2408a702",
   "metadata": {},
   "outputs": [],
   "source": [
    "galactic"
   ]
  },
  {
   "cell_type": "markdown",
   "id": "8d2a2900",
   "metadata": {},
   "source": [
    "This potential object already knows how to compute, e.g., the energy, acceleration, or density for the Plummer mass model. For example, to compute the potential energy at some random position:"
   ]
  },
  {
   "cell_type": "code",
   "execution_count": null,
   "id": "09448671",
   "metadata": {},
   "outputs": [],
   "source": [
    "some_position = [5.5, -.14, 3.4] * u.pc\n",
    "plummer_pot.energy(some_position)"
   ]
  },
  {
   "cell_type": "markdown",
   "id": "610e4ed1",
   "metadata": {},
   "source": [
    "or the acceleration and density:"
   ]
  },
  {
   "cell_type": "code",
   "execution_count": null,
   "id": "cf257f86",
   "metadata": {},
   "outputs": [],
   "source": [
    "print(plummer_pot.acceleration(some_position))\n",
    "print(plummer_pot.density(some_position))"
   ]
  },
  {
   "cell_type": "markdown",
   "id": "5fcd8fc5",
   "metadata": {},
   "source": [
    "To compute an orbit with this potential object, we now have to define a new object to represent the initial conditions. We have the values we will need saved in the `rand_x0` and `rand_v0` variables, so we just need to pass these in to the `PhaseSpacePosition` class to create a Gala object to contain the initial condition data:"
   ]
  },
  {
   "cell_type": "code",
   "execution_count": null,
   "id": "6b203ac3",
   "metadata": {},
   "outputs": [],
   "source": [
    "w0 = gd.PhaseSpacePosition(\n",
    "    pos=rand_x0,\n",
    "    vel=rand_v0\n",
    ")"
   ]
  },
  {
   "cell_type": "markdown",
   "id": "52f7a399",
   "metadata": {},
   "source": [
    "To compute the orbit, we can use the `.integrate_orbit()` method on any Gala potential object:"
   ]
  },
  {
   "cell_type": "code",
   "execution_count": null,
   "id": "04da864b",
   "metadata": {},
   "outputs": [],
   "source": [
    "dt.to(u.Myr)  # defined up above!"
   ]
  },
  {
   "cell_type": "code",
   "execution_count": null,
   "id": "d6cd94cd",
   "metadata": {},
   "outputs": [],
   "source": [
    "gala_plummer_orbit = plummer_pot.integrate_orbit(\n",
    "    w0, dt=dt, n_steps=1_000)"
   ]
  },
  {
   "cell_type": "markdown",
   "id": "fc77acee",
   "metadata": {},
   "source": [
    "The object returned from this orbit integration is a Gala `Orbit` object, which contains the position, velocity, and time at each timestep, but also has a number of convenience methods that enable various things, like making a quick plot of the different projections of the orbit:"
   ]
  },
  {
   "cell_type": "code",
   "execution_count": null,
   "id": "80a25eb8",
   "metadata": {},
   "outputs": [],
   "source": [
    "_ = gala_plummer_orbit.plot(units=u.pc)"
   ]
  },
  {
   "cell_type": "markdown",
   "id": "4cc75855",
   "metadata": {},
   "source": [
    "Or computing the angular momentum at every timestep:"
   ]
  },
  {
   "cell_type": "code",
   "execution_count": null,
   "id": "eefaad99",
   "metadata": {},
   "outputs": [],
   "source": [
    "gala_L = gala_plummer_orbit.angular_momentum()\n",
    "gala_L.shape"
   ]
  },
  {
   "cell_type": "markdown",
   "id": "d071aff9",
   "metadata": {},
   "source": [
    "Or even other quantities like the pericenter (smallest radius an orbit reaches), apocenter (largest radius an orbit reaches), or eccentricity (defined as $e = \\frac{r_{\\rm apo} - r_{\\rm peri}}{r_{\\rm apo} + r_{\\rm peri}}$) of an orbit:"
   ]
  },
  {
   "cell_type": "code",
   "execution_count": null,
   "id": "a74d7082",
   "metadata": {},
   "outputs": [],
   "source": [
    "gala_plummer_orbit.pericenter().to(u.pc)"
   ]
  },
  {
   "cell_type": "code",
   "execution_count": null,
   "id": "c8a0b794",
   "metadata": {},
   "outputs": [],
   "source": [
    "gala_plummer_orbit.apocenter().to(u.pc)"
   ]
  },
  {
   "cell_type": "code",
   "execution_count": null,
   "id": "7ee18520",
   "metadata": {},
   "outputs": [],
   "source": [
    "gala_plummer_orbit.eccentricity()"
   ]
  },
  {
   "cell_type": "markdown",
   "id": "e9b6d0d8",
   "metadata": {},
   "source": [
    "The default integrator used by Gala is Leapfrog integration, but you can change the integrator to, e.g., an 8th order Runge–Kutta scheme (the Dormand–Prince 853 method) by passing this integrator to `integrate_orbit()`"
   ]
  },
  {
   "cell_type": "code",
   "execution_count": null,
   "id": "bc869d69",
   "metadata": {},
   "outputs": [],
   "source": [
    "gala_plummer_orbit_dop853 = plummer_pot.integrate_orbit(\n",
    "    w0, dt=dt, n_steps=1_000, Integrator=gi.DOPRI853Integrator)"
   ]
  },
  {
   "cell_type": "markdown",
   "id": "b8b8100a",
   "metadata": {},
   "source": [
    "### Exercise: Compute the energy of the DOP853 orbit at all timesteps\n",
    "\n",
    "*Hint: there is a useful method on `Orbit` objects for doing this!*"
   ]
  },
  {
   "cell_type": "code",
   "execution_count": null,
   "id": "94f43803",
   "metadata": {},
   "outputs": [],
   "source": [
    "plummer_dop853_E = gala_plummer_orbit_dop853.energy()"
   ]
  },
  {
   "cell_type": "markdown",
   "id": "c9946f6b",
   "metadata": {},
   "source": [
    "## Common Spherical Potential Models: Isochrone Potential\n",
    "   \n",
    "The Isochrone potential is a special mass model in which the potential is given by \n",
    "\n",
    "$$\n",
    "\\begin{align}\n",
    "\\Phi(r) &= - \\frac{G \\, M}{\\sqrt{r^2 + b^2} + b}\\\\\n",
    "&= - \\frac{G \\, M}{a + b}\\\\\n",
    "a &\\equiv \\sqrt{r^2 + b^2}\n",
    "\\end{align}\n",
    "$$\n",
    "\n",
    "where $M$ is the total mass and $b$ is a scale radius parameter. The corresponding density distribution is \n",
    "\n",
    "$$\n",
    "\\rho(r) = M \\, \\left( \\frac{3\\,(a+b)\\,a^2 - r^2\\,(3a + b)}{4\\pi\\,(a+b)^3 \\, a^3} \\right) \\quad .\n",
    "$$\n",
    "\n",
    "This density function arises from softening a point mass: Even at $r=0$, this model has finite density. Well within the scale radius ($r \\ll b$), the density is approximately constant:\n",
    "\n",
    "$$\n",
    "\\rho_{r \\ll b} \\approx \\frac{3 M}{16\\pi \\, b^3}\n",
    "$$\n",
    "\n",
    "Recalling Poisson's equation, this implies that the potential in this region scales with $r^2$ (note: not $1/r^2$!): This is the potential of a uniform density (i.e. \"homogeneous\") sphere. The potential of a uniform density sphere is in some sense an extremum for us to consider, because most relevant mass models will have decreasing density with increasing radius.\n",
    "\n",
    "At the other limit in the Isochrone potential, i.e. at large radius, $r \\gg b$ and $a \\gg b$, so to first order, the potential is:\n",
    "\n",
    "$$\n",
    "\\Phi_{r\\gg b} \\approx - \\frac{G \\, M}{r}\\\\\n",
    "$$\n",
    "\n",
    "which you may recall is the potential of a point mass! \n",
    "\n",
    "The Isochrone model is therefore a special model because it can \"interpolate\" between the potential of a uniform density sphere at small radius, and the potential of a point mass at large radius. At intermediate radii, depending on the setting of $b$, the isochrone model can be used as a good *local* approximation to many other potential models. This is useful because it is often more efficient to compute an orbit in the Isochrone model over other potentials. \n",
    "\n",
    "### Example: Compute orbits in different regimes of the Isochrone potential\n",
    "\n",
    "As a demonstration, we will compute 3 orbits in the Isochrone potential: One at small radius ($r\\ll b$), one at intermediate radius ($r \\sim b$), and one at large radius ($r \\gg b$). We will use Gala to to the orbit integration:"
   ]
  },
  {
   "cell_type": "code",
   "execution_count": null,
   "id": "1578f2df",
   "metadata": {},
   "outputs": [],
   "source": [
    "iso_b = 10 * u.kpc\n",
    "isochrone_pot = gp.IsochronePotential(\n",
    "    m=1e12*u.Msun, b=iso_b, units=galactic)"
   ]
  },
  {
   "cell_type": "markdown",
   "id": "907b01ff",
   "metadata": {},
   "source": [
    "Here, we will define 3 sets of initial conditions for the three orbits and store these all in an array-valued `PhaseSpacePosition` object:"
   ]
  },
  {
   "cell_type": "code",
   "execution_count": null,
   "id": "28d21b73",
   "metadata": {},
   "outputs": [],
   "source": [
    "iso_x0 = ([\n",
    "    [0.05, 0, 0],\n",
    "    [1, 0, 0],\n",
    "    [1000, 0, 0]\n",
    "] * iso_b).T\n",
    "\n",
    "vcirc = isochrone_pot.circular_velocity(iso_x0)\n",
    "# The line below uses a Numpy paradigm called \"array broadcasting\"\n",
    "# to fill out the 3 x 3 array of initial velocities for the 3 orbits\n",
    "# https://numpy.org/doc/stable/user/basics.broadcasting.html\n",
    "iso_v0 = (vcirc[np.newaxis] * np.array([0.5, 1, 0])[:, np.newaxis])\n",
    "\n",
    "iso_w0 = gd.PhaseSpacePosition(pos=iso_x0, vel=iso_v0)\n",
    "iso_w0.shape"
   ]
  },
  {
   "cell_type": "markdown",
   "id": "79ebab68",
   "metadata": {},
   "source": [
    "We could then use `Potential.integrate_orbit()` to compute the three orbits simultaneously. However, here we expect the orbits to have very different orbital periods. We can get a crude estimate of the expected orbital period assuming circular orbits:"
   ]
  },
  {
   "cell_type": "code",
   "execution_count": null,
   "id": "fdf319f1",
   "metadata": {},
   "outputs": [],
   "source": [
    "iso_periods = (2*np.pi * iso_w0.physicsspherical.r / vcirc).decompose(galactic)\n",
    "iso_periods"
   ]
  },
  {
   "cell_type": "markdown",
   "id": "e74ccf0f",
   "metadata": {},
   "source": [
    "We can see that the expected orbital periods span about 2 orders of magnitude, so we would waste a lot of computational time if we used the same (small) timestep for all three orbits. Instead, we will use a fraction of the period as our timestep, and we will compute the orbits separately:"
   ]
  },
  {
   "cell_type": "code",
   "execution_count": null,
   "id": "6fe698ed",
   "metadata": {},
   "outputs": [],
   "source": [
    "iso_orbits = []\n",
    "for i in range(3):\n",
    "    dt = iso_periods[i] / 256  # 256 timesteps per period\n",
    "    iso_orbit = isochrone_pot.integrate_orbit(iso_w0[i], dt=dt, n_steps=4096)\n",
    "    iso_orbits.append(iso_orbit)"
   ]
  },
  {
   "cell_type": "code",
   "execution_count": null,
   "id": "7b8095c9",
   "metadata": {},
   "outputs": [],
   "source": [
    "fig, axes = plt.subplots(1, 3, figsize=(15, 5))\n",
    "for ax, orbit in zip(axes, iso_orbits):\n",
    "    orbit.plot(['x', 'y'], axes=[ax])\n",
    "    lim = 1.2 * orbit.apocenter().value\n",
    "    ax.set_xlim(-lim, lim)\n",
    "    ax.set_ylim(-lim, lim)\n",
    "    \n",
    "axes[0].set_title(r'$r \\ll b$')\n",
    "axes[1].set_title(r'$r \\sim b$')\n",
    "axes[2].set_title(r'$r \\gg b$')\n",
    "\n",
    "fig.tight_layout()"
   ]
  },
  {
   "cell_type": "markdown",
   "id": "0398a1b1",
   "metadata": {},
   "source": [
    "Note that, as we expected from the limits discussed above, the three regimes of the Isochrone potential yield three very different orbital geometries. In the inner, uniform density sphere region (left panel), the orbit is an ellipse with the center of the ellipse at the origin. In the intermediate regime (middle panel), the orbit forms a rosette pattern. In the outer, point-mass region (right panel), the orbit is close to an ellipse with the origin at one focus (like a Keplerian orbit!). Why does the orbit shape change so much in different parts of the Isochrone potential?\n",
    "\n",
    "*Aside:* The ability of the Isochrone potential to locally approximate other spherical mass models is also useful because the Isochrone potential is one of the only potential models in which one can analytically perform a coordinate transformation to a set of coordinates known as *action-angle coordinates*. We will not cover action-angle coordinates in much detail here, but they may come up in your research projects or in other contexts during the summer school. Briefly, action-angle coordinates — often represented as $(\\boldsymbol{J}, \\boldsymbol{\\theta}$ — are a special set of canonical coordinates in which the dynamics are simple: The momentum coordinates are the actions $\\boldsymbol{J}$, and these are isolating integrals of motion (i.e. they are constant!), and the position coordinates are the angles $\\boldsymbol{\\theta}$, which increase linearly with time. "
   ]
  },
  {
   "cell_type": "markdown",
   "id": "f02c649a",
   "metadata": {},
   "source": [
    "## Orbital Frequencies\n",
    "\n",
    "What controls whether an orbit closes on itself and fills a 1D curve instead of filling a 2D, 3D, etc. volume? One way to understand this aspect of orbital geometry is to consider its *orbital frequencies*. For a generic planar orbit, as we are considering here in spherical potentials, orbits have two fundamental orbital frequencies: One is related to the frequency with which the orbit circulates around (the azimuthal frequency $\\Omega_\\phi$), and the other is related to the frequency with which the orbit oscillates in and out in radius (the radial frequency $\\Omega_r$). In general spherical potentials, these frequencies will typically be irrational numbers, and they are set by the local slope of the density profile near an orbit. However, in certain mass models, or certain locations in general spherical models, these two frequencies can be *resonant*: Here, two frequencies are resonant if we can find two integers $n$ and $m$ such that $n\\,\\Omega_\\phi + m\\,\\Omega_r = 0$. In other words, the ratio of the orbital frequencies is a ratio of integers: $-\\frac{\\Omega_\\phi}{\\Omega_r} = \\frac{m}{n}$. Orbits that satisfy a resonance relation (a particular setting of $n$ and $m$) will close on themselves: For example, if $n=2$ and $m=1$, every revolution around in $\\phi$, there will be exactly 2 oscillations in $r$, bringing the orbital trajectory back to exactly the same place in phase space. Note that if the ratio was irrational, the orbit would not close because it would take an arbitrarily long time to come back to exactly the same place.\n",
    "\n",
    "Let's estimate the orbital frequencies of the three orbits above and compute the frequency ratios to see if this gives us a better understanding of why the orbits have different morphologies. A quick and hacky way of estimating the frequencies is to find all of the local maxima in the radius $r$ and azimuth $\\phi$, difference the times, and take the mean. Thankfully, `scipy` provides utilities for identifying local maxima and minima, so the procedure to estimate the orbital frequencies (periods) will be: \n",
    "1. convert the orbits to spherical coordinates, \n",
    "2. use the `scipy.signal.argrelmax` function to find the indices of all local maxima of $r$ and $\\phi$, \n",
    "3. use the returned indices to get the times corresponding to the maxima,\n",
    "4. difference the subsequent times and take the mean of differences to estimate the period"
   ]
  },
  {
   "cell_type": "code",
   "execution_count": null,
   "id": "137cebb4",
   "metadata": {},
   "outputs": [],
   "source": [
    "orbit_titles = [r'$r \\ll b$', r'$r \\sim b$', r'$r \\gg b$']\n",
    "for orbit, name in zip(iso_orbits, orbit_titles):\n",
    "    # 1. Convert to spherical coordinates:\n",
    "    sph = orbit.physicsspherical\n",
    "    \n",
    "    # 2. Compute the indices of local maxima for r and phi:\n",
    "    r_idx, = argrelmax(sph.r.value)\n",
    "    phi_idx, = argrelmax(sph.phi.value)\n",
    "    \n",
    "    # 3. Retrieve the corresponding times:\n",
    "    r_times = orbit.t[r_idx]\n",
    "    phi_times = orbit.t[phi_idx]\n",
    "    \n",
    "    # 4. Difference the times and take the mean to estimate \n",
    "    # the orbital periods in each coordinate:\n",
    "    P_r = np.mean(np.diff(r_times))\n",
    "    P_phi = np.mean(np.diff(phi_times))\n",
    "    \n",
    "    # Convert to frequencies:\n",
    "    Omega_r = 2*np.pi*u.rad / P_r\n",
    "    Omega_phi = 2*np.pi*u.rad / P_phi\n",
    "    \n",
    "    # Print the frequency ratio:\n",
    "    display(Math(f'{name}  :  $\\Omega_\\phi / \\Omega_r$ = {Omega_phi / Omega_r:.3f}'))"
   ]
  },
  {
   "cell_type": "markdown",
   "id": "1668d731",
   "metadata": {},
   "source": [
    "For the inner (~uniform density; left) orbit, the frequency ratio is very close to 1/2, meaning that for every revolution in $\\phi$, there is very close to 2 oscillations in $r$! This explains the fact that the orbital shape looks like an ellipse, but with the center of the ellipse at the origin.\n",
    "\n",
    "For the intermediate orbit (middle), the frequency ratio looks irrational, implying that the orbit should fill a 2D region. This explains the rosette pattern we see in the middle panel of the figure above. The fact that this frequency ratio is between 0.5 and 1 means that the radial frequency is always longer (i.e. the period is shorter), so orbits tend to complete between 1 and 2 radial oscillations for every azimuthal revolution.\n",
    "\n",
    "For the outer orbit (~point mass; right), the frequency ratio is very close to 1, meaning that for every revolution in $\\phi$, there is very close to 1 oscillation in $r$. This explains the elliptical shape and property of Keplerian orbits: The focus of the ellipse is at the origin because when the orbit reaches phase = 1/2 in azimuth, it also reaches phase = 1/2 in radius.\n",
    "\n",
    "Orbits in most common spherical models relevant for Galactic dynamics have irrational azimuthal-to-radial frequency ratios between 0.5 and 1, meaning that generic orbits typically look like rosettes."
   ]
  },
  {
   "cell_type": "markdown",
   "id": "c8f16cb6",
   "metadata": {},
   "source": [
    "## Common Spherical Potential Models: Power-law Models\n",
    "\n",
    "Many other commonly-used spherical potentials are derived from either \"single power\" or \"two power\" density distributions. \n",
    "\n",
    "### Single-power Models\n",
    "\n",
    "Single-power density distributions have a form like:\n",
    "\n",
    "$$\n",
    "\\rho(r) = \\frac{\\rho_0}{(r/r_0)^\\alpha}\n",
    "$$\n",
    "\n",
    "Which implies a mass enclosed profile that depends on the power-law index $\\alpha$:\n",
    "\n",
    "$$\n",
    "M(<r) \\propto r^{3-\\alpha}\n",
    "$$\n",
    "\n",
    "If you recall the expressions for the circular velocity\n",
    "\n",
    "$$\n",
    "v_\\textrm{circ}(r) = \\sqrt{\\frac{G\\,M(<r)}{r}}\n",
    "$$\n",
    "\n",
    "this implies that power-law density profiles have circular velocity curves:\n",
    "\n",
    "$$\n",
    "v^2_{\\textrm{circ}, \\textrm{SPL}}(r) \\propto \\frac{r^{3-\\alpha}}{r}\\\\\n",
    "v_{\\textrm{circ}, \\textrm{SPL}}(r) \\propto r^{1-\\alpha/2}\n",
    "$$\n",
    "\n",
    "When $\\alpha = 2$, this implies that the circular velocity is independent of radius! This case corresponds to a potential that has the form:\n",
    "\n",
    "$$\n",
    "\\Phi_{\\alpha=2}(r) = \\frac{1}{2}v_c^2 \\, \\ln\\left(\\frac{r}{r_0}\\right)\n",
    "$$\n",
    "\n",
    "This *Logarithmic potential* is sometimes used as a simple model for galaxies, because they are observed to have approximately flat rotation curves (implying a close-to-constant circular velocity). \n",
    "\n",
    "#### Example: Comparing the circular velocity curves of several potential models\n",
    "\n",
    "Here, we will use Gala to compute and plot the circular velocity curves of a few of the potential models we have introduced: point mass, Plummer, Isochrone, and Logarithmic"
   ]
  },
  {
   "cell_type": "code",
   "execution_count": null,
   "id": "c8ee63bf",
   "metadata": {},
   "outputs": [],
   "source": [
    "potentials = {\n",
    "    'Point mass': gp.KeplerPotential(m=1),\n",
    "    'Plummer': gp.PlummerPotential(m=1, b=1),\n",
    "    'Isochrone': gp.IsochronePotential(m=1, b=1),\n",
    "    'Logarithmic': gp.LogarithmicPotential(v_c=1, r_h=1)\n",
    "}\n",
    "\n",
    "r_grid = np.linspace(0, 10, 1024)\n",
    "xyz_grid = np.zeros((3, len(r_grid)))\n",
    "xyz_grid[0] = r_grid\n",
    "\n",
    "fig, ax = plt.subplots(figsize=(6, 4))\n",
    "for name, pot in potentials.items():\n",
    "    ax.plot(r_grid, pot.circular_velocity(xyz_grid),\n",
    "            marker='', lw=2, label=name)\n",
    "    \n",
    "ax.set_xlim(0, 10)\n",
    "ax.set_ylim(0, 2)\n",
    "\n",
    "ax.legend(loc='upper right', fontsize=12)\n",
    "\n",
    "ax.set_xlabel('radius')\n",
    "ax.set_ylabel('circular velocity')"
   ]
  },
  {
   "cell_type": "markdown",
   "id": "fde6aa56",
   "metadata": {},
   "source": [
    "### Two-power Models\n",
    "\n",
    "Two-power density distributions have a form like:\n",
    "\n",
    "$$\n",
    "\\rho(r) = \\frac{\\rho_0}{(r/r_0)^\\alpha \\, (1 + r/r_0)^{\\beta - \\alpha}}\n",
    "$$\n",
    "\n",
    "Many useful potential models are found from setting particular values of $\\beta$ and $\\alpha$:\n",
    "\n",
    "* NFW model (Navarro–Frenk–White): $(\\alpha, \\beta) = (1, 3)$\n",
    "* Hernquist model: $(\\alpha, \\beta) = (1, 4)$\n",
    "* Jaffe model: $(\\alpha, \\beta) = (2, 4)$\n",
    "* Dehnen models: $\\beta = 4$\n",
    "\n",
    "Let's compare the potential, density, mass enclosed, and circular velocity curves of all of the extended mass models we have introduced so far:"
   ]
  },
  {
   "cell_type": "code",
   "execution_count": null,
   "id": "b631b753",
   "metadata": {},
   "outputs": [],
   "source": [
    "potentials = {\n",
    "    'Plummer': gp.PlummerPotential(m=1, b=1),\n",
    "    'Isochrone': gp.IsochronePotential(m=1, b=1),\n",
    "    'Logarithmic': gp.LogarithmicPotential(v_c=1, r_h=1),\n",
    "    'NFW': gp.NFWPotential(m=1, r_s=1),\n",
    "    'Hernquist': gp.HernquistPotential(m=1, c=1),\n",
    "    'Jaffe': gp.JaffePotential(m=1, c=1)\n",
    "}\n",
    "\n",
    "r_grid = np.linspace(0, 10, 1024)\n",
    "xyz_grid = np.zeros((3, len(r_grid)))\n",
    "xyz_grid[0] = r_grid\n",
    "\n",
    "for func_name, ylim in zip(\n",
    "    ['energy', 'density', 'mass_enclosed', 'circular_velocity'],\n",
    "    [(-2, 2), (1e-8, 100), (-0.5, 3), (-0.1, 1.1)]\n",
    "):\n",
    "    fig, ax = plt.subplots(figsize=(6, 4))\n",
    "    for name, pot in potentials.items():\n",
    "        ax.plot(r_grid, getattr(pot, func_name)(xyz_grid),\n",
    "                marker='', lw=2, label=name)\n",
    "\n",
    "    ax.set_xlim(0, 10)\n",
    "    ax.set_ylim(ylim)\n",
    "    \n",
    "    if func_name == 'density':\n",
    "        ax.set_yscale('log')\n",
    "\n",
    "    ax.legend(loc='best', fontsize=10)\n",
    "\n",
    "    ax.set_xlabel('radius')\n",
    "    ax.set_ylabel(func_name)"
   ]
  },
  {
   "cell_type": "markdown",
   "id": "a67d538c",
   "metadata": {},
   "source": [
    "All of the spherical mass models above have utility in different contexts: Some have density profiles that are similar to observed light distributions in galaxies, some have circular velocity curves that match observed rotation curves in galaxies, and some are just fast to compute! There are many other possible choices for mass models that have, for example, truncated density distributions, or more complex radial dependencies, but often at the expense of simplicity: For example, some will require numerically solving for the potential or gradient, which introduces some overhead over the (mostly) analytic models discussed above. You may therefore encounter cases where people use sums or combinations of the models given above as a way of approximating more complex mass distributions, because potentials are additive.\n",
    "\n",
    "So far, we have only discussed spherical mass distributions and the properties of orbits in spherical models. In the next tutorial notebook, we will introduce some common axisymmetric and triaxial density distributions and we will explore what happens to orbits when we consider more complex mass distributions."
   ]
  }
 ],
 "metadata": {
  "kernelspec": {
   "display_name": "Python [conda env:root] *",
   "language": "python",
   "name": "conda-root-py"
  },
  "language_info": {
   "codemirror_mode": {
    "name": "ipython",
    "version": 3
   },
   "file_extension": ".py",
   "mimetype": "text/x-python",
   "name": "python",
   "nbconvert_exporter": "python",
   "pygments_lexer": "ipython3",
   "version": "3.8.3"
  },
  "toc": {
   "base_numbering": 1,
   "nav_menu": {},
   "number_sections": true,
   "sideBar": true,
   "skip_h1_title": false,
   "title_cell": "Table of Contents",
   "title_sidebar": "Contents",
   "toc_cell": false,
   "toc_position": {
    "height": "calc(100% - 180px)",
    "left": "10px",
    "top": "150px",
    "width": "373.316px"
   },
   "toc_section_display": true,
   "toc_window_display": true
  }
 },
 "nbformat": 4,
 "nbformat_minor": 5
}
