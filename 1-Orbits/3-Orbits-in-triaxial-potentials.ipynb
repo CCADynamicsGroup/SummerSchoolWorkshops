{
 "cells": [
  {
   "cell_type": "code",
   "execution_count": null,
   "id": "ca1ddfa9",
   "metadata": {},
   "outputs": [],
   "source": [
    "%matplotlib inline\n",
    "%run ../setup/nb_setup"
   ]
  },
  {
   "cell_type": "markdown",
   "id": "e98a6ffc",
   "metadata": {},
   "source": [
    "# Orbits 3: Orbits in Triaxial Potentials\n",
    "\n",
    "Author(s): Adrian Price-Whelan\n",
    "\n",
    "\n",
    "## Learning goals\n",
    "\n",
    "In this tutorial, we will introduce triaxial potential models, and explore the additional complexity that this brings to the landscape of orbits, as compared to orbits in axisymmetric potential models.\n",
    "\n",
    "\n",
    "## Introduction\n",
    "\n",
    "In the last tutorial, we saw that reducing the symmetry of a potential from spherical to axisymmetric reduced the number if isolating integrals of motion from four to three. Will removing another potential symmetry — going from axisymmetric to triaxial — further reduce the number of isolating integrals? Luckily no: It turns out that regular orbits in triaxial potentials still have three isolating integrals. However, the orbit structure of triaxial potentials is more complex: A new type of orbit family can exist in triaxial potentials known as \"box orbits,\" and tube orbits (what we are familiar with from axisymmetric models) can only exist around either the short or long axis of the potential. Triaxial potentials also generally have larger regions of chaotic orbits, making chaos more relevant in triaxial mass models.\n",
    "\n",
    "In this tutorial, we will introduce some triaxial gravitational potential models, demonstrate the different types of orbits that can exist in triaxial models, and compare chaotic and regular orbits.\n",
    "\n",
    "\n",
    "## Terminology and Notation\n",
    "\n",
    "- (See Orbits tutorials 1 and 2)\n",
    "\n",
    "### Notebook Setup and Package Imports"
   ]
  },
  {
   "cell_type": "code",
   "execution_count": null,
   "id": "ef15b5ca",
   "metadata": {},
   "outputs": [],
   "source": [
    "from astropy.constants import G\n",
    "import astropy.units as u\n",
    "\n",
    "from IPython.display import HTML\n",
    "import matplotlib as mpl\n",
    "import matplotlib.pyplot as plt\n",
    "from mpl_toolkits.mplot3d import Axes3D\n",
    "import numpy as np\n",
    "\n",
    "import gala.dynamics as gd\n",
    "import gala.integrate as gi\n",
    "import gala.potential as gp\n",
    "from gala.units import galactic"
   ]
  },
  {
   "cell_type": "markdown",
   "id": "89e38341",
   "metadata": {},
   "source": [
    "## Triaxial Potential Models\n",
    "\n",
    "* ** Triaxial models\n",
    "    * Angular momentum components not conserved, but idea of frequencies still relevant\n",
    "    * Potential resonances, analogy to closed orbits in spherical (e.g., Kepler)\n",
    "    * Existence of fundamental frequencies implies existence of integrals of motion\n",
    "\n",
    "To recap the last tutorial, we found that we could define axisymmetric potential–density pairs by replacing the spherical radius with a elliptical radius that scales the $z$ axis differently. Axisymmetric models are useful for defining potentials for flattened mass distributions, such as from galaxy disks. Triaxial potential models are models in which the isopotential or isodensity contours coincide with ellipsoidal surfaces. These models are useful for representing the outskirts of dark matter halos (which have been found to be triaxial, to first order) and for representing the stellar distributions in elliptical galaxies. \n",
    "\n",
    "To create a triaxial potential, we can  instead replace the spherical radius with an ellipsoidal radius defined as\n",
    "\n",
    "$$\n",
    "r^2_{\\rm ell} = \\frac{x^2}{a^2} + \\frac{y^2}{b^2} + \\frac{z^2}{c^2}\n",
    "$$\n",
    "\n",
    "where often by convention, $a$ is set to $a=1$ so that $b$ is the $y/x$ *axis ratio* and $c$ is the $z/x$ axis ratio. As with the axisymmetric models, we can either replace the radius in the expression of a spherical potential, or replace the radius in the expression of the density function, but these have different effects. Ideally, we would want to replace the radius in the form of a spherical density with the ellipsoidal radius, because then the density would be guaranteed to be positive and physical at all positions. However, there are very few triaxial solutions to Poisson's equation known, so most triaxial density distributions do not have analytic expressions for the potential (or gradients, which we need to compute orbits). It is therefore common to instead replace that radius in a potential expression with an ellipsoidal radius, but this has the same caveat as we saw with axisymmetric models that for some choices of $b, c$ the density can become negative. \n",
    "\n",
    "\n",
    "### Example: The Triaxial Log Potential\n",
    "\n",
    "One example of such a potential model is the triaxial extension of the flattened log potential model discussed in the previous tutorial. The form of the potential is given by\n",
    "\n",
    "$$\n",
    "\\Phi_L(\\boldsymbol{x}) = \\frac{1}{2}\\,v_0^2 \\, \\ln\\left(\\frac{x^2}{q_1^2} + \\frac{y^2}{q_2^2} + \n",
    "    \\frac{z^2}{q_3^2} + r_h^2 \\right)\n",
    "$$\n",
    "\n",
    "where the axis ratios are given by the parameters $(q_1, q_2, q_3)$, and by convention we typically set $q_1=1$."
   ]
  },
  {
   "cell_type": "markdown",
   "id": "88aeed2d",
   "metadata": {},
   "source": [
    "## Integrals of Motion and Orbit Classes in Triaxial Models\n",
    "\n",
    "Regular orbits in triaxial potential models still have three integrals of motion, however, like in the axisymmetric case, these are again not easily associated with classical integrals or analytic expressions. Regular orbits do have actions, but the interpretation of the actions often depends on the type of orbit being studied. To understand this a bit more, we need to look at the different types of orbit families that exist in triaxial potential models. Recall that in spherical models, all orbits are planar, and generic orbits form rosette patterns because of radial and azimuthal oscillations that often have an irrational frequency ratio. In axisymmetric models, orbits conserve the $z$ component of their angular momentum and so preserve their circulation around the symmetry axis of the potential, forming vertically-thickened analogs to the planar rosette patterns called \"tube\" orbits. In triaxial models, there are four general classes of orbits: short-axis tube orbits, \"inner\" long-axis tube orbits, \"outer\" long-axis tube orbits, and box orbits. \n",
    "\n",
    "\n",
    "### Tube Orbits\n",
    "\n",
    "Tube orbits in triaxial models can only exist around the long and short axes of the potential, but around these axes the orbits look a lot like their axisymmetric counterparts. In the exercise below, we will compute a few tube orbits and take a closer look at their properties.\n",
    "\n",
    "\n",
    "#### Exercise: Long- and short-axis tube orbits\n",
    "\n",
    "First define a Gala `LogarithmicPotential` object with:\n",
    "* $v_c=230~\\textrm{km}~\\textrm{s}^{-1}$\n",
    "* $r_h=15~\\textrm{kpc}$\n",
    "* $q_1 = 1$\n",
    "* $q_2 = 0.9$\n",
    "* $q_3 = 0.8$"
   ]
  },
  {
   "cell_type": "code",
   "execution_count": null,
   "id": "80d12f03",
   "metadata": {},
   "outputs": [],
   "source": [
    "# Define the potential object here\n",
    "# triaxial_log =\n",
    "\n",
    "triaxial_log = gp.LogarithmicPotential(\n",
    "    v_c=230 * u.km / u.s, r_h=15 * u.kpc, q1=1.0, q2=0.9, q3=0.8, units=galactic\n",
    ")"
   ]
  },
  {
   "cell_type": "markdown",
   "id": "92b37771",
   "metadata": {},
   "source": [
    "Now set up three initial conditions: \n",
    "\n",
    "* At $\\boldsymbol{x} = (10, 1, 3)~\\textrm{kpc}$, with $v_y = v_c$\n",
    "* At $\\boldsymbol{x} = (3, 10, 1)~\\textrm{kpc}$, with $v_z = v_c$\n",
    "* At $\\boldsymbol{x} = (1, 20, 1)~\\textrm{kpc}$, with $v_x=v_c/2$, $v_z = v_c/2$\n",
    "\n",
    "(other velocity components set to 0)"
   ]
  },
  {
   "cell_type": "code",
   "execution_count": null,
   "id": "c0585255",
   "metadata": {},
   "outputs": [],
   "source": [
    "# Define the initial conditions here\n",
    "# tube_w0s = ...\n",
    "\n",
    "tube_w0s = gd.PhaseSpacePosition(\n",
    "    pos=([[10, 1, 3.0], [3, 10, 1.0], [1, 20, 1.0]] * u.kpc).T,\n",
    "    vel=([[0, 230, 0.0], [0, 0, 230.0], [115, 0, 115]] * u.km / u.s).T,\n",
    ")"
   ]
  },
  {
   "cell_type": "markdown",
   "id": "05e625ae",
   "metadata": {},
   "source": [
    "Integrate these three orbits for a total integration time of 100 Gyr with a timestep of 2 Myr:"
   ]
  },
  {
   "cell_type": "code",
   "execution_count": null,
   "id": "12f326b8",
   "metadata": {},
   "outputs": [],
   "source": [
    "# Integrate the orbits here:\n",
    "# tube_orbits = ...\n",
    "\n",
    "tube_orbits = triaxial_log.integrate_orbit(\n",
    "    tube_w0s, dt=2 * u.Myr, t1=0, t2=100 * u.Gyr, Integrator=gi.DOPRI853Integrator\n",
    ")"
   ]
  },
  {
   "cell_type": "markdown",
   "id": "4071a4ff",
   "metadata": {},
   "source": [
    "Plot the three orbits in all 2D projections of the 3D positions (x-y, x-z, y-z):"
   ]
  },
  {
   "cell_type": "code",
   "execution_count": null,
   "id": "f7e4e0f4",
   "metadata": {},
   "outputs": [],
   "source": [
    "for i in range(tube_orbits.norbits):\n",
    "    _ = tube_orbits[:, i].plot()"
   ]
  },
  {
   "cell_type": "markdown",
   "id": "3e9d761f",
   "metadata": {},
   "source": [
    "Compute and plot the angular momentum components for the three orbits as a function of time:"
   ]
  },
  {
   "cell_type": "code",
   "execution_count": null,
   "id": "d413b392",
   "metadata": {},
   "outputs": [],
   "source": [
    "# tube_orbits_L = ...\n",
    "\n",
    "tube_orbits_L = tube_orbits.angular_momentum()"
   ]
  },
  {
   "cell_type": "code",
   "execution_count": null,
   "id": "d76f88a1",
   "metadata": {},
   "outputs": [],
   "source": [
    "fig, axes = plt.subplots(1, 3, figsize=(15, 5), constrained_layout=True)\n",
    "for i, (ax, lbl) in enumerate(zip(axes, [\"$L_x$\", \"$L_y$\", \"$L_z$\"])):\n",
    "    ax.plot(tube_orbits.t, tube_orbits_L[i])\n",
    "    ax.set_ylabel(lbl)\n",
    "    ax.set_xlabel(f\"time [{tube_orbits.t.unit:latex_inline}]\")"
   ]
  },
  {
   "cell_type": "code",
   "execution_count": null,
   "id": "856307ab",
   "metadata": {},
   "outputs": [],
   "source": []
  },
  {
   "cell_type": "code",
   "execution_count": null,
   "id": "66035e6b",
   "metadata": {},
   "outputs": [],
   "source": [
    "azims = np.linspace(0, 180, 128)\n",
    "half_elevs = np.linspace(-80, 80, len(azims) // 2)\n",
    "elevs = np.concatenate((half_elevs, half_elevs[::-1]))\n",
    "fig, anim = animate_3d(tube_orbits[:, 2], azims=azims, elevs=elevs, total_time=8)\n",
    "plt.close(fig)\n",
    "HTML(anim.to_html5_video())"
   ]
  },
  {
   "cell_type": "code",
   "execution_count": null,
   "id": "774914a8",
   "metadata": {},
   "outputs": [],
   "source": [
    "for i in range(tube_orbits.norbits):\n",
    "    fig, ax = plt.subplots(1, 1, figsize=(6, 5), subplot_kw=dict(projection=\"3d\"))\n",
    "    _ = tube_orbits[:, i].plot_3d(ax=ax)\n",
    "    ax.azim = 30\n",
    "    lim = (-20, 20)\n",
    "    ax.set(xlim=lim, ylim=lim, zlim=lim)"
   ]
  },
  {
   "cell_type": "code",
   "execution_count": null,
   "id": "bc12b633",
   "metadata": {},
   "outputs": [],
   "source": []
  },
  {
   "cell_type": "code",
   "execution_count": null,
   "id": "7e37c207",
   "metadata": {},
   "outputs": [],
   "source": []
  },
  {
   "cell_type": "code",
   "execution_count": null,
   "id": "3b510bb0",
   "metadata": {},
   "outputs": [],
   "source": [
    "triaxial_log.to_sympy()[0]"
   ]
  },
  {
   "cell_type": "markdown",
   "id": "bf077cbf",
   "metadata": {},
   "source": [
    "### Exercise: something about trying to compute a tube orbit about intermediate axis"
   ]
  },
  {
   "cell_type": "code",
   "execution_count": null,
   "id": "92a76b7d",
   "metadata": {},
   "outputs": [],
   "source": [
    "w0_x = gd.PhaseSpacePosition(pos=[0, 10.0, 0] * u.kpc, vel=[5, 5.0, 200.0] * u.km / u.s)\n",
    "\n",
    "w0_y = gd.PhaseSpacePosition(pos=[10.0, 0, 0] * u.kpc, vel=[0, 5.0, 200.0] * u.km / u.s)\n",
    "\n",
    "w0_z = gd.PhaseSpacePosition(\n",
    "    pos=[10.0, 0, 0] * u.kpc, vel=[0, 200.0, 15.0] * u.km / u.s\n",
    ")\n",
    "\n",
    "w0_box = gd.PhaseSpacePosition(pos=[10, 2, 5] * u.kpc, vel=[0, 0, 0.0] * u.km / u.s)\n",
    "\n",
    "w0s = gd.combine((w0_x, w0_y, w0_z, w0_box))"
   ]
  },
  {
   "cell_type": "code",
   "execution_count": null,
   "id": "b8f5bcb9",
   "metadata": {},
   "outputs": [],
   "source": [
    "orbits = triaxial_log.integrate_orbit(\n",
    "    w0s, dt=0.5 * u.Myr, t1=0, t2=8 * u.Gyr, Integrator=gi.DOPRI853Integrator\n",
    ")"
   ]
  },
  {
   "cell_type": "code",
   "execution_count": null,
   "id": "814ecb44",
   "metadata": {},
   "outputs": [],
   "source": [
    "_ = orbits.plot_3d()"
   ]
  },
  {
   "cell_type": "code",
   "execution_count": null,
   "id": "8c2f73eb",
   "metadata": {},
   "outputs": [],
   "source": []
  },
  {
   "cell_type": "code",
   "execution_count": null,
   "id": "326cbe2f",
   "metadata": {},
   "outputs": [],
   "source": []
  },
  {
   "cell_type": "markdown",
   "id": "e276f16b",
   "metadata": {},
   "source": [
    "## Irregular and Chaotic Orbits\n",
    "    \n",
    "* ** Chaotic orbits\n",
    "    * Lyapunov exponent\n",
    "    * Estimation of fundamental frequencies (conceptual / FFT)\n",
    "    * Frequency diffusion"
   ]
  },
  {
   "cell_type": "code",
   "execution_count": null,
   "id": "8439339a",
   "metadata": {},
   "outputs": [],
   "source": []
  }
 ],
 "metadata": {
  "kernelspec": {
   "display_name": "Python [conda env:root] *",
   "language": "python",
   "name": "conda-root-py"
  },
  "language_info": {
   "codemirror_mode": {
    "name": "ipython",
    "version": 3
   },
   "file_extension": ".py",
   "mimetype": "text/x-python",
   "name": "python",
   "nbconvert_exporter": "python",
   "pygments_lexer": "ipython3",
   "version": "3.8.3"
  },
  "toc": {
   "base_numbering": 1,
   "nav_menu": {},
   "number_sections": true,
   "sideBar": true,
   "skip_h1_title": false,
   "title_cell": "Table of Contents",
   "title_sidebar": "Contents",
   "toc_cell": false,
   "toc_position": {},
   "toc_section_display": true,
   "toc_window_display": false
  }
 },
 "nbformat": 4,
 "nbformat_minor": 5
}
