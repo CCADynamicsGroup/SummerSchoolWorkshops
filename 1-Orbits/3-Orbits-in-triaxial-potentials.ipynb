{
 "cells": [
  {
   "cell_type": "code",
   "execution_count": null,
   "id": "ca1ddfa9",
   "metadata": {},
   "outputs": [],
   "source": [
    "%matplotlib inline\n",
    "%run ../setup/nb_setup"
   ]
  },
  {
   "cell_type": "markdown",
   "id": "e98a6ffc",
   "metadata": {},
   "source": [
    "# Orbits 3: Orbits in Triaxial Potentials\n",
    "\n",
    "Author(s): Adrian Price-Whelan\n",
    "\n",
    "\n",
    "## Learning goals\n",
    "\n",
    "In this tutorial, we will introduce triaxial potential models, and explore the additional complexity that this brings to the landscape of orbits, as compared to orbits in axisymmetric potential models.\n",
    "\n",
    "\n",
    "## Introduction\n",
    "\n",
    "In the last tutorial, we saw that reducing the symmetry of a potential from spherical to axisymmetric reduced the number if isolating integrals of motion from four to three. Will removing another potential symmetry — going from axisymmetric to triaxial — further reduce the number of isolating integrals? Luckily no: It turns out that regular orbits in triaxial potentials still have three isolating integrals. However, the orbit structure of triaxial potentials is more complex: A new type of orbit family can exist in triaxial potentials known as \"box orbits,\" and tube orbits (what we are familiar with from axisymmetric models) can only exist around either the short or long axis of the potential. Triaxial potentials also generally have larger regions of chaotic orbits, making chaos more relevant in triaxial mass models.\n",
    "\n",
    "In this tutorial, we will introduce some triaxial gravitational potential models, demonstrate the different types of orbits that can exist in triaxial models, and compare chaotic and regular orbits.\n",
    "\n",
    "\n",
    "## Terminology and Notation\n",
    "\n",
    "- (See Orbits tutorials 1 and 2)\n",
    "\n",
    "### Notebook Setup and Package Imports"
   ]
  },
  {
   "cell_type": "code",
   "execution_count": null,
   "id": "ef15b5ca",
   "metadata": {},
   "outputs": [],
   "source": [
    "from astropy.constants import G\n",
    "import astropy.units as u\n",
    "\n",
    "from IPython.display import HTML\n",
    "import matplotlib as mpl\n",
    "import matplotlib.pyplot as plt\n",
    "from mpl_toolkits.mplot3d import Axes3D\n",
    "import numpy as np\n",
    "\n",
    "import gala.dynamics as gd\n",
    "import gala.integrate as gi\n",
    "import gala.potential as gp\n",
    "from gala.units import galactic"
   ]
  },
  {
   "cell_type": "markdown",
   "id": "89e38341",
   "metadata": {},
   "source": [
    "## Triaxial Potential Models\n",
    "\n",
    "To recap the last tutorial, we found that we could define axisymmetric potential–density pairs by replacing the spherical radius with a elliptical radius that scales the $z$ axis differently. Axisymmetric models are useful for defining potentials for flattened mass distributions, such as from galaxy disks. Triaxial potential models are models in which the isopotential or isodensity contours coincide with ellipsoidal surfaces. These models are useful for representing the outskirts of dark matter halos (which have been found to be triaxial, to first order) and for representing the stellar distributions in elliptical galaxies. \n",
    "\n",
    "To create a triaxial potential, we can  instead replace the spherical radius with an ellipsoidal radius defined as\n",
    "\n",
    "$$\n",
    "r^2_{\\rm ell} = \\frac{x^2}{a^2} + \\frac{y^2}{b^2} + \\frac{z^2}{c^2}\n",
    "$$\n",
    "\n",
    "where often by convention, $a$ is set to $a=1$ so that $b$ is the $y/x$ *axis ratio* and $c$ is the $z/x$ axis ratio. As with the axisymmetric models, we can either replace the radius in the expression of a spherical potential, or replace the radius in the expression of the density function, but these have different effects. Ideally, we would want to replace the radius in the form of a spherical density with the ellipsoidal radius, because then the density would be guaranteed to be positive and physical at all positions. However, there are very few triaxial solutions to Poisson's equation known, so most triaxial density distributions do not have analytic expressions for the potential (or gradients, which we need to compute orbits). It is therefore common to instead replace that radius in a potential expression with an ellipsoidal radius, but this has the same caveat as we saw with axisymmetric models that for some choices of $b, c$ the density can become negative. \n",
    "\n",
    "\n",
    "### Example: The Triaxial Log Potential\n",
    "\n",
    "One example of such a potential model is the triaxial extension of the flattened log potential model discussed in the previous tutorial. The form of the potential is given by\n",
    "\n",
    "$$\n",
    "\\Phi_L(\\boldsymbol{x}) = \\frac{1}{2}\\,v_0^2 \\, \\ln\\left(\\frac{x^2}{q_1^2} + \\frac{y^2}{q_2^2} + \n",
    "    \\frac{z^2}{q_3^2} + r_h^2 \\right)\n",
    "$$\n",
    "\n",
    "where the axis ratios are given by the parameters $(q_1, q_2, q_3)$, and by convention we typically set $q_1=1$.\n",
    "\n",
    "With Gala, we can define a triaxial log potential by specifying axis ratio parameters `q1`, `q2`, `q3`.\n",
    "\n",
    "### Exercise: Define a Triaxial Log Potential with Gala\n",
    "\n",
    "Define a Gala `LogarithmicPotential` object with:\n",
    "* $v_c=230~\\textrm{km}~\\textrm{s}^{-1}$\n",
    "* $r_h=15~\\textrm{kpc}$\n",
    "* $q_1 = 1$\n",
    "* $q_2 = 0.9$\n",
    "* $q_3 = 0.8$"
   ]
  },
  {
   "cell_type": "code",
   "execution_count": null,
   "id": "7816f9e1",
   "metadata": {},
   "outputs": [],
   "source": [
    "# Define the potential object here\n",
    "# triaxial_log ="
   ]
  },
  {
   "cell_type": "markdown",
   "id": "88aeed2d",
   "metadata": {},
   "source": [
    "## Integrals of Motion and Orbit Classes in Triaxial Models\n",
    "\n",
    "Regular orbits in triaxial potential models still have three integrals of motion, however, like in the axisymmetric case, these are again not easily associated with classical integrals or analytic expressions. Regular orbits do have actions, but the interpretation of the actions often depends on the type of orbit being studied. To understand this a bit more, we need to look at the different types of orbit families that exist in triaxial potential models. Recall that in spherical models, all orbits are planar, and generic orbits form rosette patterns because of radial and azimuthal oscillations that often have an irrational frequency ratio. In axisymmetric models, orbits conserve the $z$ component of their angular momentum and so preserve their circulation around the symmetry axis of the potential, forming vertically-thickened analogs to the planar rosette patterns called \"tube\" orbits. In triaxial models, there are four general classes of orbits: short-axis tube orbits, \"inner\" long-axis tube orbits, \"outer\" long-axis tube orbits, and box orbits. \n",
    "\n",
    "\n",
    "## Tube Orbits\n",
    "\n",
    "Tube orbits in triaxial models can only exist around the long and short axes of the potential, but around these axes the orbits look a lot like their axisymmetric counterparts. In the exercise below, we will compute a few tube orbits and take a closer look at their properties.\n",
    "\n",
    "\n",
    "### Exercise: Long- and short-axis tube orbits\n",
    "\n",
    "Define a `PhaseSpacePosition` object to represent two initial conditions: \n",
    "\n",
    "* At $\\boldsymbol{x} = (10, 1, 3)~\\textrm{kpc}$, with $v_y = v_c$\n",
    "* At $\\boldsymbol{x} = (3, 10, 1)~\\textrm{kpc}$, with $v_z = v_c$\n",
    "\n",
    "(other velocity components set to 0)"
   ]
  },
  {
   "cell_type": "code",
   "execution_count": null,
   "id": "c0585255",
   "metadata": {},
   "outputs": [],
   "source": [
    "# Define the initial conditions here\n",
    "# tube_w0s = ..."
   ]
  },
  {
   "cell_type": "markdown",
   "id": "05e625ae",
   "metadata": {},
   "source": [
    "Integrate these orbits in the `triaxial_log` potential defined above for a total integration time of 100 Gyr with a timestep of 2 Myr:"
   ]
  },
  {
   "cell_type": "code",
   "execution_count": null,
   "id": "12f326b8",
   "metadata": {},
   "outputs": [],
   "source": [
    "# Integrate the orbits here:\n",
    "# tube_orbits = ..."
   ]
  },
  {
   "cell_type": "markdown",
   "id": "4071a4ff",
   "metadata": {},
   "source": [
    "Plot the two orbits in all 2D projections of the 3D positions (x-y, x-z, y-z) on separate figures:"
   ]
  },
  {
   "cell_type": "code",
   "execution_count": null,
   "id": "f7e4e0f4",
   "metadata": {},
   "outputs": [],
   "source": []
  },
  {
   "cell_type": "markdown",
   "id": "3e9d761f",
   "metadata": {},
   "source": [
    "Compute and plot the angular momentum components for the two orbits as a function of time:"
   ]
  },
  {
   "cell_type": "code",
   "execution_count": null,
   "id": "d413b392",
   "metadata": {},
   "outputs": [],
   "source": [
    "# tube_orbits_L = ..."
   ]
  },
  {
   "cell_type": "code",
   "execution_count": null,
   "id": "d76f88a1",
   "metadata": {},
   "outputs": [],
   "source": []
  },
  {
   "cell_type": "markdown",
   "id": "7fac1101",
   "metadata": {},
   "source": [
    "What differences do you see in the time-series angular momentum components as compared to orbits in an axisymmetric model?"
   ]
  },
  {
   "cell_type": "markdown",
   "id": "464d644d",
   "metadata": {},
   "source": [
    "Answer here: ..."
   ]
  },
  {
   "cell_type": "markdown",
   "id": "b1c6d55e",
   "metadata": {},
   "source": [
    "**Bonus plots**: Some animations showing the 3D structure of these orbits"
   ]
  },
  {
   "cell_type": "code",
   "execution_count": null,
   "id": "66035e6b",
   "metadata": {},
   "outputs": [],
   "source": [
    "azims = np.linspace(0, 180, 128)\n",
    "half_elevs = np.linspace(-80, 80, len(azims) // 2)\n",
    "elevs = np.concatenate((half_elevs, half_elevs[::-1]))\n",
    "\n",
    "fig, anim = animate_3d(tube_orbits[:, 0], azims=azims, elevs=elevs, total_time=8)\n",
    "plt.close(fig)\n",
    "HTML(anim.to_html5_video())"
   ]
  },
  {
   "cell_type": "code",
   "execution_count": null,
   "id": "e92565af",
   "metadata": {},
   "outputs": [],
   "source": [
    "fig, anim = animate_3d(tube_orbits[:, 1], azims=azims, elevs=elevs, total_time=8)\n",
    "plt.close(fig)\n",
    "HTML(anim.to_html5_video())"
   ]
  },
  {
   "cell_type": "markdown",
   "id": "bf077cbf",
   "metadata": {},
   "source": [
    "### Exercise: Tube orbits around the intermediate axis?\n",
    "\n",
    "Set up initial conditions to compute a tube orbit around the intermediate axis, starting from the position $\\boldsymbol{x} = (10, 0.5, 0)~\\textrm{kpc}$."
   ]
  },
  {
   "cell_type": "code",
   "execution_count": null,
   "id": "740881f6",
   "metadata": {},
   "outputs": [],
   "source": [
    "# y_tube_w0 = ..."
   ]
  },
  {
   "cell_type": "markdown",
   "id": "df47eeb9",
   "metadata": {},
   "source": [
    "Integrate this orbit for the same time array as the tube orbits we computed above:"
   ]
  },
  {
   "cell_type": "code",
   "execution_count": null,
   "id": "aaa2f66c",
   "metadata": {},
   "outputs": [],
   "source": [
    "# y_tube_orbit = ..."
   ]
  },
  {
   "cell_type": "markdown",
   "id": "3ad87729",
   "metadata": {},
   "source": [
    "Plot the orbit in projections:"
   ]
  },
  {
   "cell_type": "code",
   "execution_count": null,
   "id": "b4973186",
   "metadata": {},
   "outputs": [],
   "source": []
  },
  {
   "cell_type": "markdown",
   "id": "e1f666f2",
   "metadata": {},
   "source": [
    "Compute the angular momentum components and plot them:"
   ]
  },
  {
   "cell_type": "code",
   "execution_count": null,
   "id": "ca73cb97",
   "metadata": {},
   "outputs": [],
   "source": []
  },
  {
   "cell_type": "markdown",
   "id": "be8f25f0",
   "metadata": {},
   "source": [
    "What is different about the angular momentum component time series for this orbit?"
   ]
  },
  {
   "cell_type": "code",
   "execution_count": null,
   "id": "83be2884",
   "metadata": {},
   "outputs": [],
   "source": []
  },
  {
   "cell_type": "markdown",
   "id": "d6069bb7",
   "metadata": {},
   "source": [
    "## Box Orbits\n",
    "\n",
    "As mentioned above, triaxial potentials host another class of orbits that are distinct from tube orbits: *Box orbits*. These orbits do not maintain a fixed sense of rotation or circulation around an axis and so they fill a boxy volume in position space over time. Box orbits tend to have initial conditions without much tangential velocity, for example:"
   ]
  },
  {
   "cell_type": "code",
   "execution_count": null,
   "id": "ef015b4b",
   "metadata": {},
   "outputs": [],
   "source": [
    "box_orbit1_w0 = gd.PhaseSpacePosition(\n",
    "    pos=[12, 4.0, 4.0] * u.kpc, vel=[0, 0, 0.0] * u.km / u.s\n",
    ")\n",
    "\n",
    "box_orbit1 = triaxial_log.integrate_orbit(\n",
    "    box_orbit1_w0, t=tube_orbits.t, Integrator=gi.DOPRI853Integrator\n",
    ")\n",
    "\n",
    "_ = box_orbit1.plot_3d()"
   ]
  },
  {
   "cell_type": "markdown",
   "id": "009eba18",
   "metadata": {},
   "source": [
    "Because they do not maintain a sense of circulation around any of the axes, we can guess that none of the angular momentum components are even approximately conserved: We expect that all three components likely change sign over the course of the orbit. For the orbit we computed above, we can see that this is true:"
   ]
  },
  {
   "cell_type": "code",
   "execution_count": null,
   "id": "9a41f3d5",
   "metadata": {},
   "outputs": [],
   "source": [
    "plt.plot(box_orbit1.t.value, box_orbit1.angular_momentum().T)\n",
    "plt.xlim(0, 10000)"
   ]
  },
  {
   "cell_type": "markdown",
   "id": "3b4df34e",
   "metadata": {},
   "source": [
    "Because these orbits look nothing like tube orbits, and so there is no sense in which the epicycle approximation makes sense here, the actions for box orbits have a different interpretation than the actions for tube orbits (which can be understood as radial, azimuthal, and vertical actions like in the axisymmetric case). For box orbits, the actions do not have an exact physical interpretation: they will be quantifications of the amplitudes of independent oscillations. However, to first order, if the potential model is aligned along the coordinate axes, conceptually they will be related to the amplitude of oscillation in the $x$, $y$, and $z$ directions. Actions for box orbits are typically referred to as \n",
    "\n",
    "$$\n",
    "\\boldsymbol{J} = (J_1, J_2, J_3)\n",
    "$$\n",
    "\n",
    "to emphasize generality, i.e. that there is no direct or precise correspondence to coordinates."
   ]
  },
  {
   "cell_type": "markdown",
   "id": "2275ee16",
   "metadata": {},
   "source": [
    "### Exercise: A grid of orbits with equal energy\n",
    "\n",
    "In this exercise, we are going to compute a grid of orbits started with the same total energy to map out the orbit structure of a portion of phase-space. How should we choose the initial conditions for our grid of orbits? We need to set the 6 phase-space coordinates for each orbit. Requiring that they have the same energy gives us 1 constraint. To further reduce the dimensionality, we will assume $y=v_x=v_z=0$ (we now have 4 constraints). We will then choose a grid in $x, z$ to set the final two coordinates. At any location in our $x,z$ grid, we will use the energy to determine the value of $v_y$ from:\n",
    "\n",
    "$$\n",
    "E = \\frac{1}{2}(v_x^2 + v_y^2 + v_z^2) + \\Phi(x,y,z)\\\\\n",
    "v_y = \\sqrt{2\\,(E - \\Phi(x, 0, z))}\n",
    "$$\n",
    "\n",
    "For the energy, we will use $E = 0.195~\\textrm{kpc}^2~\\textrm{Myr}^{-2}$:"
   ]
  },
  {
   "cell_type": "code",
   "execution_count": null,
   "id": "4525d741",
   "metadata": {},
   "outputs": [],
   "source": [
    "# (No modifications needed here)\n",
    "grid_E = 0.195 * (u.kpc / u.Myr) ** 2"
   ]
  },
  {
   "cell_type": "markdown",
   "id": "f72351bd",
   "metadata": {},
   "source": [
    "Generate a 1D grid of 41 $x$ values between $(15, 25)~\\textrm{kpc}$, and a 1D grid of 41 $z$ values between $(0, 20)~\\textrm{kpc}$. Use these 1D grids to construct a 2D grid with all 1,681 pairs of coordinates (*Hint: use `numpy.meshgrid()`*). Store an array of all $x,y,z$ values (all $y$ values are 0) in the variable `grid_pos`:"
   ]
  },
  {
   "cell_type": "code",
   "execution_count": null,
   "id": "f3c2643c",
   "metadata": {},
   "outputs": [],
   "source": [
    "_x_grid = np.linspace(15, 25, 41)\n",
    "_z_grid = np.linspace(0, 20, 41)\n",
    "grid_shape = (len(_x_grid), len(_z_grid))\n",
    "\n",
    "# x_grid, z_grid = ..."
   ]
  },
  {
   "cell_type": "markdown",
   "id": "9f194490",
   "metadata": {},
   "source": [
    "Compute the potential energy at all locations in the grid, and use the difference of the grid energy `grid_E` and the potential energy to compute the initial $v_y$:"
   ]
  },
  {
   "cell_type": "code",
   "execution_count": null,
   "id": "fdf97bfe",
   "metadata": {},
   "outputs": [],
   "source": [
    "# grid_Phi = ...\n",
    "# vy_grid = ..."
   ]
  },
  {
   "cell_type": "markdown",
   "id": "b8cdf91b",
   "metadata": {},
   "source": [
    "(Some of the $v_y$ values may come out as NaN: that is ok, you can ignore those - there are some values of our $x,z$ grid that are outside of the iso-potential-energy surface)\n",
    "\n",
    "Plot the grid of $x,y$ positions colored by the value of $v_y$ at each location (i.e. the following cell should execute)"
   ]
  },
  {
   "cell_type": "code",
   "execution_count": null,
   "id": "53c5a5e0",
   "metadata": {},
   "outputs": [],
   "source": [
    "# (No modifications needed here)\n",
    "plt.figure(figsize=(7, 6))\n",
    "plt.pcolormesh(x_grid, z_grid, vy_grid.reshape(grid_shape).to_value(u.km / u.s))\n",
    "plt.xlabel(\"$x_0$\")\n",
    "plt.ylabel(\"$z_0$\")\n",
    "\n",
    "cb = plt.colorbar()\n",
    "cb.set_label(r\"$v_y$\")"
   ]
  },
  {
   "cell_type": "markdown",
   "id": "e8b9d3b3",
   "metadata": {},
   "source": [
    "Set up the full grid of initial conditions as a `PhaseSpacePosition` object named `grid_w0`:"
   ]
  },
  {
   "cell_type": "code",
   "execution_count": null,
   "id": "36f871af",
   "metadata": {},
   "outputs": [],
   "source": [
    "# (No modifications needed here)\n",
    "grid_vel = np.zeros(grid_pos.shape) * u.km / u.s\n",
    "grid_vel[1] = vy_grid\n",
    "\n",
    "grid_w0 = gd.PhaseSpacePosition(pos=grid_pos * u.kpc, vel=grid_vel)"
   ]
  },
  {
   "cell_type": "markdown",
   "id": "a294a9a1",
   "metadata": {},
   "source": [
    "Compute the orbits for all of the initial conditions in the grid using the default `LeapfrogIntegrator`, using a timestep of 2 Myr, and integrate for 10 Gyr"
   ]
  },
  {
   "cell_type": "code",
   "execution_count": null,
   "id": "b8716f04",
   "metadata": {},
   "outputs": [],
   "source": [
    "# grid_orbits = ..."
   ]
  },
  {
   "cell_type": "markdown",
   "id": "d780b202",
   "metadata": {},
   "source": [
    "Compute the angular momentum components for all orbits, and then compute the peak-to-peak spread in each angular momentum component for each orbit (i.e. compute $\\textrm{max}(L_i) - \\textrm{min}(L_i)$ for each component $i$ for each orbit)"
   ]
  },
  {
   "cell_type": "code",
   "execution_count": null,
   "id": "1b9ccece",
   "metadata": {},
   "outputs": [],
   "source": [
    "# grid_orbits_L = ...\n",
    "# ptp_L = ..."
   ]
  },
  {
   "cell_type": "markdown",
   "id": "fbc5872e",
   "metadata": {
    "ExecuteTime": {
     "end_time": "2021-07-05T20:17:36.922999Z",
     "start_time": "2021-07-05T20:17:36.838504Z"
    }
   },
   "source": [
    "Make a 3 panel plot (panels corresponding to the 3 angular momentum components) showing a 2D image of the peak-to-peak spread in each component (i.e. the plot commands below should execute)"
   ]
  },
  {
   "cell_type": "code",
   "execution_count": null,
   "id": "6105c054",
   "metadata": {},
   "outputs": [],
   "source": []
  },
  {
   "cell_type": "markdown",
   "id": "2e242582",
   "metadata": {},
   "source": [
    "* What structure do you see in this diagram? \n",
    "* What do you think causes the structure we see in this diagram?\n",
    "* Can you identify the transition from tube to box orbits?"
   ]
  },
  {
   "cell_type": "markdown",
   "id": "e276f16b",
   "metadata": {},
   "source": [
    "## Irregular and Chaotic Orbits\n",
    "\n",
    "A final class of orbits that are found in very flattened axisymmetric potentials and more frequently in triaxial potentials are known as *chaotic* orbits. There is a lot to say about chaos, but one way of thinking of chaotic orbits are that they are special orbits in which the actions do not exist: only energy is conserved (in time-independent potentials with chaotic orbits). The fact that chaotic orbits no longer have the three actions as isolating integrals of motion means that they are free to explore a much larger volume in phase-space. Recall that regular orbits exist in 6D phase-space, but the existence of three actions limits orbits (with particular values for their actions) to exploring a 3D manifold embedded within the 6D phase-space. Orbits that only conserve energy as an integral of motion can instead explore a 5D manifold known as the *energy hypersurface*. \n",
    "\n",
    "Chaotic orbits also look more erratic: Regular orbits tend to have a smooth, well-behaved shape to their trajectories. \n",
    "\n",
    "### Example: Comparing the morphology of regular and chaotic orbits\n",
    "\n",
    "As a demonstration of the visual differences between regular and chaotic orbits, we will use a triaxial Navarro-Frenk-White potential model to compute two orbits:"
   ]
  },
  {
   "cell_type": "code",
   "execution_count": null,
   "id": "d596a938",
   "metadata": {},
   "outputs": [],
   "source": [
    "triaxial_nfw = gp.NFWPotential.from_circular_velocity(\n",
    "    v_c=230 * u.km / u.s, r_s=5 * u.kpc, a=1, b=0.9, c=0.8, units=galactic\n",
    ")"
   ]
  },
  {
   "cell_type": "markdown",
   "id": "25970aad",
   "metadata": {},
   "source": [
    "Compare the two orbits below -- which one do you think is chaotic?"
   ]
  },
  {
   "cell_type": "code",
   "execution_count": null,
   "id": "1a3ad846",
   "metadata": {},
   "outputs": [],
   "source": [
    "regular_chaotic_w0 = gd.PhaseSpacePosition(\n",
    "    pos=([[0, 20, 0], [0.1, 15, 0]] * u.kpc).T,\n",
    "    vel=([[15, 0, 120], [5.0, 0.0, 230]] * u.km / u.s).T,\n",
    ")\n",
    "\n",
    "regular_chaotic_orbits = triaxial_nfw.integrate_orbit(\n",
    "    regular_chaotic_w0, dt=0.5, t1=0, t2=10 * u.Gyr\n",
    ")\n",
    "\n",
    "for n in range(regular_chaotic_orbits.norbits):\n",
    "    _ = regular_chaotic_orbits[:, n].plot()"
   ]
  },
  {
   "cell_type": "markdown",
   "id": "1c5d7ecb",
   "metadata": {},
   "source": [
    "### Chaotic Timescales\n",
    "\n",
    "Not all chaotic orbits obviously appear chaotic from their morphologies. This is often because some orbits are only *weakly chaotic* whereas others are *strongly chaotic*. There is no global definition to strong and weak chaos because it depends on the relevant timescales of whatever system you are looking at: Weakly chaotic orbits have a chaotic timescale much smaller than the dynamical time, whereas strongly chaotic orbits have comparable timescales. In the case of weakly chaotic orbits, the orbits may look and behave like nearby regular orbits for a long time (i.e. for all astronomically-relevant timescales). In the case of strongly chaotic orbits, the morphology of the orbit changes on the order of an orbital timescale, like in the example above.\n",
    "\n",
    "One way of quantifying the strength of chaos for an orbit is with the *Maximum Lyapunov Exponent* or the inverse, sometimes called the *Lyapunov Time*. The MLE is a measure of how quickly two infinitesimally-close orbits diverge from one another. We will not go through the math to derive the MLE here (see section 3.7.3 c in Binney and Tremaine). However, I will note that you can compute the MLE in Gala using the `gala.dynamics.fast_lyapunov_max()` function. For example, for the two orbits shown above:"
   ]
  },
  {
   "cell_type": "code",
   "execution_count": null,
   "id": "2b416fb9",
   "metadata": {},
   "outputs": [],
   "source": [
    "lyap1 = gd.fast_lyapunov_max(\n",
    "    regular_chaotic_w0[0], triaxial_nfw, dt=2.0, n_steps=200_000, return_orbit=False\n",
    ")"
   ]
  },
  {
   "cell_type": "code",
   "execution_count": null,
   "id": "748921f3",
   "metadata": {},
   "outputs": [],
   "source": [
    "lyap2 = gd.fast_lyapunov_max(\n",
    "    regular_chaotic_w0[1], triaxial_nfw, dt=2.0, n_steps=200_000, return_orbit=False\n",
    ")"
   ]
  },
  {
   "cell_type": "markdown",
   "id": "a911dc86",
   "metadata": {},
   "source": [
    "For regular orbits, the estimate of the Lyapunov exponent continues decreasing as the integration time increases. However for chaotic orbits, the value eventually saturates to a number: This is the estimate of the MLE.\n",
    "\n",
    "Let's plot the time series estimate of the LE for the two orbits above:"
   ]
  },
  {
   "cell_type": "code",
   "execution_count": null,
   "id": "25b388f7",
   "metadata": {},
   "outputs": [],
   "source": [
    "plt.loglog(lyap1[:, 0])\n",
    "plt.loglog(lyap2[:, 0])\n",
    "plt.xlabel(\"timestep\")\n",
    "plt.ylabel(\"Lyapunov exponent\")"
   ]
  },
  {
   "cell_type": "markdown",
   "id": "64a89c9a",
   "metadata": {},
   "source": [
    "We can see that the first orbit, which visually looks erratic, has a finite MLE that saturates to a value around $4\\times 10^{-4}~\\textrm{Myr^{-1}}$, corresponding to a Lyapunov timescale of about $2.5~\\textrm{Gyr}$.\n",
    "\n",
    "There are many other interesting aspects of chaotic orbits, but we will leave that to be covered in discussions (if you get to this point, ask the workshop coordinators about chaos :-))."
   ]
  }
 ],
 "metadata": {
  "kernelspec": {
   "display_name": "Python [conda env:root] *",
   "language": "python",
   "name": "conda-root-py"
  },
  "language_info": {
   "codemirror_mode": {
    "name": "ipython",
    "version": 3
   },
   "file_extension": ".py",
   "mimetype": "text/x-python",
   "name": "python",
   "nbconvert_exporter": "python",
   "pygments_lexer": "ipython3",
   "version": "3.8.3"
  },
  "toc": {
   "base_numbering": 1,
   "nav_menu": {},
   "number_sections": true,
   "sideBar": true,
   "skip_h1_title": false,
   "title_cell": "Table of Contents",
   "title_sidebar": "Contents",
   "toc_cell": false,
   "toc_position": {},
   "toc_section_display": true,
   "toc_window_display": true
  }
 },
 "nbformat": 4,
 "nbformat_minor": 5
}
