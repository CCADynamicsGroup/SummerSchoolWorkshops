{
 "cells": [
  {
   "cell_type": "code",
   "execution_count": null,
   "id": "ca1ddfa9",
   "metadata": {},
   "outputs": [],
   "source": [
    "%matplotlib inline\n",
    "%run ../../setup/nb_setup"
   ]
  },
  {
   "cell_type": "markdown",
   "id": "ab0a225b",
   "metadata": {},
   "source": [
    "# Orbits 2: Orbits in Axisymmetric Potentials\n",
    "\n",
    "## Solutions to Exercises"
   ]
  },
  {
   "cell_type": "code",
   "execution_count": null,
   "id": "ef15b5ca",
   "metadata": {},
   "outputs": [],
   "source": [
    "from astropy.constants import G\n",
    "import astropy.units as u\n",
    "\n",
    "import matplotlib as mpl\n",
    "import matplotlib.pyplot as plt\n",
    "from mpl_toolkits.mplot3d import Axes3D\n",
    "import numpy as np\n",
    "\n",
    "import gala.dynamics as gd\n",
    "import gala.integrate as gi\n",
    "import gala.potential as gp\n",
    "from gala.units import galactic"
   ]
  },
  {
   "cell_type": "code",
   "execution_count": null,
   "id": "fe652c40",
   "metadata": {},
   "outputs": [],
   "source": [
    "mn_disk = gp.MiyamotoNagaiPotential(\n",
    "    m=6.98e10 * u.Msun, a=3 * u.kpc, b=0.28 * u.kpc, units=galactic\n",
    ")"
   ]
  },
  {
   "cell_type": "markdown",
   "id": "018343cf",
   "metadata": {},
   "source": [
    "### Exercise: Defining an comparison Plummer model\n",
    "\n",
    "As mentioned above, in a particular limit, the MN potential becomes the Plummer potential. What should we set the Plummer scale length to so that, in the midplane (z=0) it has the same profile as our MN potential? I.e. what combination of the MN scale parameters $a_\\textrm{MN}$ and $b_\\textrm{MN}$ should we set the Plummer scale length to?\n",
    "\n",
    "Write the answer here:"
   ]
  },
  {
   "cell_type": "markdown",
   "id": "8cac4b1d",
   "metadata": {},
   "source": [
    "Define the comparison Plummer model using the mass from the MN potential, and the correct combination of the MN scale parameters (you can use `mn_disk.parameters['m']`, `mn_disk.parameters['a']`, and `mn_disk.parameters['b']` to retrieve the parameter values so you don't have to re-define them)."
   ]
  },
  {
   "cell_type": "markdown",
   "id": "330db64c",
   "metadata": {},
   "source": [
    "*Solution*: \n",
    "\n",
    "A Plummer model that is equivalent to the MN potential at its midplane (z=0) will have a Plummer scale length that is equal to the sum of the MN parameters:\n",
    "\n",
    "$$\n",
    "b_\\textrm{Plummer} = a_\\textrm{MN} + b_\\textrm{MN}\n",
    "$$"
   ]
  },
  {
   "cell_type": "code",
   "execution_count": null,
   "id": "108af724",
   "metadata": {},
   "outputs": [],
   "source": [
    "plummer = gp.PlummerPotential(\n",
    "    m=mn_disk.parameters[\"m\"],\n",
    "    b=mn_disk.parameters[\"a\"] + mn_disk.parameters[\"b\"],\n",
    "    units=galactic,\n",
    ")\n",
    "\n",
    "xyz = [8, 0, 0] * u.kpc\n",
    "Menc_MN = mn_disk.mass_enclosed(xyz)\n",
    "Menc_plummer = plummer.mass_enclosed(xyz)\n",
    "print(Menc_MN, Menc_plummer)"
   ]
  },
  {
   "cell_type": "markdown",
   "id": "f7cc579a",
   "metadata": {},
   "source": [
    "### Exercise: Why do the orbits in the Miyamoto–Nagai potential look different from the Plummer orbits?\n",
    "\n",
    "Compute and plot the three components of the angular momentum for all orbits in both potentials. Do you see any differences? Given what we discussed about integrals of motion in the last tutorial, what do you think the connection is between the angular momentum components and the phase-space properties of the orbit?\n",
    "\n",
    "*Solution*: "
   ]
  },
  {
   "cell_type": "code",
   "execution_count": null,
   "id": "dbdae9ae",
   "metadata": {},
   "outputs": [],
   "source": [
    "mn_dt = 1.0 * u.Myr\n",
    "mn_steps = 4000\n",
    "\n",
    "mn_xyz = ([[8, 0, 0.0], [8, 0, 1.0], [8, 0, 10.0]] * u.kpc).T\n",
    "mn_vcirc = mn_disk.circular_velocity(mn_xyz)\n",
    "mn_vxyz = mn_vcirc[np.newaxis] * np.array([0.1, 1, 0])[:, np.newaxis]\n",
    "mn_w0 = gd.PhaseSpacePosition(pos=mn_xyz, vel=mn_vxyz)\n",
    "\n",
    "mn_orbits = mn_disk.integrate_orbit(mn_w0, dt=mn_dt, n_steps=mn_steps)\n",
    "plummer_orbits = plummer.integrate_orbit(mn_w0, dt=mn_dt, n_steps=mn_steps)"
   ]
  },
  {
   "cell_type": "code",
   "execution_count": null,
   "id": "f8315809",
   "metadata": {},
   "outputs": [],
   "source": [
    "for orbits, name in zip([mn_orbits, plummer_orbits], [\"Miyamoto-Nagai\", \"Plummer\"]):\n",
    "    L = orbits.angular_momentum()\n",
    "\n",
    "    fig, axes = plt.subplots(1, 3, figsize=(15, 5), constrained_layout=True)\n",
    "    for i, (ax, lbl) in enumerate(zip(axes, [\"$L_x$\", \"$L_y$\", \"$L_z$\"])):\n",
    "        ax.plot(orbits.t, L[i])\n",
    "        ax.set_ylabel(lbl)\n",
    "        ax.set_xlabel(f\"time [{orbits.t.unit:latex_inline}]\")\n",
    "    fig.suptitle(f\"{name} potential\", fontsize=22)"
   ]
  },
  {
   "cell_type": "markdown",
   "id": "454e2d3d",
   "metadata": {},
   "source": [
    "Comparing these two potentials: In the Miyamoto–Nagai potential, generic orbits out of symmetry plane do not conserve the $x$ or $y$ components of the angular momentum, but the $z$ component of the angular momentum is still conserved. Of the integrals of motion we have discussed so far, orbits in axisymmetric potentials therefore only conserve energy $E$ and the $z$-component of the angular momentum $L_z$. However, if we integrate these orbits for a long time, we would find that they fill a 3D subspace of the full 6D phase-space. This implies that there must be a third isolating integral of motion that reduces the dimensionality of the orbit. In the context of \"classical\" integrals of motion (like $E$ and $L_z$), this third integral of motion is often called...*the third integral*. There is no general closed-form expression for the third integral as a function of the phase-space coordinates."
   ]
  },
  {
   "cell_type": "markdown",
   "id": "38b145ba",
   "metadata": {},
   "source": [
    "### Exercise: Estimate the guiding center radius for an orbit in the Miyamoto–Nagai potential\n",
    "\n",
    "Estimate the guiding center radius of a planar orbit in the MN potential (the `mn_disk` we defined above) with the initial conditions:\n",
    "\n",
    "$$\n",
    "(x,y,z) = (8.5, 0, 0.02)~\\textrm{kpc}\\\\\n",
    "(v_x,v_y,v_z) = (0, 168, 0)~\\textrm{km}~\\textrm{s}^{-1}\\\\\n",
    "$$\n",
    "\n",
    "Hint: you might find the root finder `scipy.optimize.root` useful!\n",
    "\n",
    "Compute an orbit from these initial conditions, plot it in the meridional plane, and draw a vertical line on the plot at the location of the guiding center radius.\n",
    "\n",
    "*Solution:*"
   ]
  },
  {
   "cell_type": "code",
   "execution_count": null,
   "id": "47ed5bfb",
   "metadata": {},
   "outputs": [],
   "source": [
    "from scipy.optimize import root"
   ]
  },
  {
   "cell_type": "code",
   "execution_count": null,
   "id": "62411ab5",
   "metadata": {},
   "outputs": [],
   "source": [
    "w0 = gd.PhaseSpacePosition(pos=[8.5, 0, 0.02] * u.kpc, vel=[0, 168, 0] * u.km / u.s)"
   ]
  },
  {
   "cell_type": "code",
   "execution_count": null,
   "id": "140b7cf6",
   "metadata": {},
   "outputs": [],
   "source": [
    "trial_L = w0.angular_momentum()\n",
    "trial_Lz = trial_L[2]"
   ]
  },
  {
   "cell_type": "code",
   "execution_count": null,
   "id": "2dfe00cd",
   "metadata": {},
   "outputs": [],
   "source": [
    "def root_func(Rg, pot, Lz):\n",
    "    dPhi_dR = pot.gradient([Rg[0], 0, 0]).to_value(Lz.unit ** 2 / u.kpc ** 3)[0, 0]\n",
    "    return dPhi_dR - Lz.value ** 2 / Rg[0] ** 3"
   ]
  },
  {
   "cell_type": "code",
   "execution_count": null,
   "id": "5956b751",
   "metadata": {},
   "outputs": [],
   "source": [
    "result = root(root_func, [8.0], args=(mn_disk, trial_Lz))\n",
    "trial_Rg = result.x[0] * u.kpc\n",
    "print(f\"Guiding center radius: {trial_Rg.value:.2f} kpc\")"
   ]
  },
  {
   "cell_type": "code",
   "execution_count": null,
   "id": "1125ba49",
   "metadata": {},
   "outputs": [],
   "source": [
    "trial_orbit = mn_disk.integrate_orbit(\n",
    "    w0, dt=0.1 * u.Myr, t1=0, t2=2 * u.Gyr, Integrator=gi.DOPRI853Integrator\n",
    ")"
   ]
  },
  {
   "cell_type": "code",
   "execution_count": null,
   "id": "d4a29325",
   "metadata": {},
   "outputs": [],
   "source": [
    "fig = trial_orbit.cylindrical.plot([\"rho\", \"z\"], labels=[\"$R$\", \"$z$\"])\n",
    "fig.axes[0].axvline(trial_Rg.value, color=\"tab:red\")"
   ]
  },
  {
   "cell_type": "markdown",
   "id": "03c6c67e",
   "metadata": {},
   "source": [
    "### Exercise: Estimate (analytically) the radial, vertical, and azimuthal frequencies for an orbit at the Solar radius\n",
    "\n",
    "The Sun is approximately at a radius of $R_\\odot \\approx 8.1~\\textrm{kpc}$ in the Milky Way's disk. This region of the disk is still dominated (in mass) by the gravitational potential of the stars and gas, so we can neglect the dark matter halo for first approximation. \n",
    "\n",
    "Assuming $R_g = R_\\odot$, estimate the azimuthal frequency of a circular orbit at the Solar circle using the `mn_disk` potential we defined above.\n",
    "\n",
    "*Solution:*"
   ]
  },
  {
   "cell_type": "code",
   "execution_count": null,
   "id": "41ffa18b",
   "metadata": {},
   "outputs": [],
   "source": [
    "sun_Rg = 8.1 * u.kpc\n",
    "sun_vcirc = mn_disk.circular_velocity([1, 0, 0] * sun_Rg)\n",
    "sun_Lz = sun_Rg * sun_vcirc[0]"
   ]
  },
  {
   "cell_type": "code",
   "execution_count": null,
   "id": "470a2eff",
   "metadata": {},
   "outputs": [],
   "source": [
    "sun_Omega_phi = sun_Lz / sun_Rg ** 2\n",
    "sun_Omega_phi = sun_Omega_phi.to(u.rad / u.Gyr, u.dimensionless_angles())\n",
    "sun_Omega_phi"
   ]
  },
  {
   "cell_type": "markdown",
   "id": "7e421b14",
   "metadata": {},
   "source": [
    "Recall that the expression for the effective potential for a Miyamoto–Nagai disk is:\n",
    "\n",
    "$$\n",
    "\\Phi_\\textrm{eff}(R, z) = - \\frac{G \\, M}{\\sqrt{R^2 + (a + \\sqrt{b^2 + z^2})^2}} + \\frac{L_z^2}{2\\,R^2}\n",
    "$$\n",
    "\n",
    "Estimate the radial and vertical frequencies for an orbit near the solar circle. How do the frequency and period values compare (radial to azimuthal to vertical)?\n",
    "\n",
    "*Hint: you either want to take second derivatives of the expression above and evaluate this manually, or you can use the `.hessian()` method on any Gala potential object (but note that this computes the Cartesian 2nd derivative matrix at a specified position)*"
   ]
  },
  {
   "cell_type": "markdown",
   "id": "a18e89ce",
   "metadata": {},
   "source": [
    "*Solution:*\n",
    "\n",
    "One way to solve for the other frequencies is to take the derivatives of the effective potential expression above using Wolfram Alpha, or Mathematica, or Sympy, and evaluate them at $(R, z) = (R_g, 0)$:"
   ]
  },
  {
   "cell_type": "code",
   "execution_count": null,
   "id": "cfca5418",
   "metadata": {},
   "outputs": [],
   "source": [
    "import sympy as sy\n",
    "\n",
    "_G, _M, _R, _z, _a, _b, _Lz, _Rg = sy.symbols(\n",
    "    \"G, M, R, z, a, b, L_z, R_g\", real=True, positive=True\n",
    ")\n",
    "\n",
    "MN_Phi_eff = -_G * _M / sy.sqrt(\n",
    "    _R ** 2 + (_a + sy.sqrt(_z ** 2 + _b ** 2)) ** 2\n",
    ") + _Lz ** 2 / (2 * _R ** 2)"
   ]
  },
  {
   "cell_type": "code",
   "execution_count": null,
   "id": "e363344e",
   "metadata": {},
   "outputs": [],
   "source": [
    "sy.simplify(sy.diff(MN_Phi_eff, _R, 2).subs({_R: _Rg, _z: 0}))"
   ]
  },
  {
   "cell_type": "code",
   "execution_count": null,
   "id": "deed0e5a",
   "metadata": {},
   "outputs": [],
   "source": [
    "sy.simplify(sy.diff(MN_Phi_eff, _z, 2).subs({_R: _Rg, _z: 0}))"
   ]
  },
  {
   "cell_type": "markdown",
   "id": "15a082bf",
   "metadata": {},
   "source": [
    "However, Gala Potential objects can also compute the matrix of 2nd derivatives (the Hessian) using the `.hessian()` method. If we evaluate this at a position along the $x$ axis, the $\\partial^2/\\partial^2 x$ term is equivalent to the $\\partial^2/\\partial^2 R$ term (but we have to remember to add the term to make it the derivative of the *effective* potential):"
   ]
  },
  {
   "cell_type": "code",
   "execution_count": null,
   "id": "1b74b029",
   "metadata": {},
   "outputs": [],
   "source": [
    "mn_Hess = mn_disk.hessian([1, 0, 0] * sun_Rg)[..., 0]\n",
    "mn_d2Phi_dR2 = mn_Hess[0, 0]\n",
    "mn_d2Phi_dz2 = mn_Hess[2, 2]\n",
    "\n",
    "mn_d2Phi_eff_dR2 = mn_d2Phi_dR2 + 3 * sun_Lz ** 2 / sun_Rg ** 4"
   ]
  },
  {
   "cell_type": "code",
   "execution_count": null,
   "id": "2c493b5d",
   "metadata": {},
   "outputs": [],
   "source": [
    "sun_Omega_R = np.sqrt(mn_d2Phi_eff_dR2).to(u.rad / u.Gyr, u.dimensionless_angles())\n",
    "sun_Omega_z = np.sqrt(mn_d2Phi_dz2).to(u.rad / u.Gyr, u.dimensionless_angles())"
   ]
  },
  {
   "cell_type": "code",
   "execution_count": null,
   "id": "9be549ca",
   "metadata": {},
   "outputs": [],
   "source": [
    "print(f\"Radial frequency: {sun_Omega_R:.1f}\")\n",
    "print(f\"Azimuthal frequency: {sun_Omega_phi:.1f}\")\n",
    "print(f\"Vertical frequency: {sun_Omega_z:.1f}\")"
   ]
  },
  {
   "cell_type": "code",
   "execution_count": null,
   "id": "a0daf6f8",
   "metadata": {},
   "outputs": [],
   "source": [
    "print(f\"Radial period: {(2*np.pi*u.rad / sun_Omega_R).to(u.Myr):.1f}\")\n",
    "print(f\"Azimuthal period: {(2*np.pi*u.rad / sun_Omega_phi).to(u.Myr):.1f}\")\n",
    "print(f\"Vertical period: {(2*np.pi*u.rad / sun_Omega_z).to(u.Myr):.1f}\")"
   ]
  },
  {
   "cell_type": "markdown",
   "id": "b6bb4903",
   "metadata": {},
   "source": [
    "These values are approximate and neglect the mass from the dark matter, but the ranking is typical for a typical star in the Galactic disk: The vertical frequency is much faster than the radial and azimuthal frequencies, which can have comparable values. "
   ]
  },
  {
   "cell_type": "markdown",
   "id": "0254bc1e",
   "metadata": {},
   "source": [
    "### Exercise: Are there values for the parameters (q, r_c) that lead to unphysical density values?\n",
    "\n",
    "*Solution:*\n",
    "\n",
    "Yes! Consider positions along $R=0$: The density is proportional to\n",
    "\n",
    "$$\n",
    "\\begin{align}\n",
    "\\rho_L(0, z) &\\propto (2\\,q^2 + 1)r_c^2 + (2 - \\frac{1}{q^2})\\,z^2\\\\\n",
    "    &\\propto (2\\,q^2 + 1)r_c^2 + 2\\,z^2 - \\frac{1}{q^2}\\,z^2\n",
    "\\end{align}\n",
    "$$\n",
    "\n",
    "so, when\n",
    "\n",
    "$$\n",
    "\\frac{1}{q^2}\\,z^2 > (2\\,q^2 + 1)r_c^2 + 2\\,z^2\n",
    "$$\n",
    "\n",
    "the mass density will be negative! Assuming $r_c = 1$,"
   ]
  },
  {
   "cell_type": "code",
   "execution_count": null,
   "id": "4360e26f",
   "metadata": {},
   "outputs": [],
   "source": [
    "z = np.linspace(0, 10, 256)\n",
    "for q in np.linspace(0.5, 1, 8):\n",
    "    plt.plot(\n",
    "        z,\n",
    "        2 * q ** 2 + 1 + 2 * z ** 2 - z ** 2 / q ** 2,\n",
    "        marker=\"\",\n",
    "        label=f\"$q={q:.2f}$\",\n",
    "    )\n",
    "plt.axhline(0, color=\"#aaaaaa\")\n",
    "plt.ylim(-10, 10)\n",
    "plt.legend()\n",
    "plt.xlabel(\"$z$\")\n",
    "plt.ylabel(r\"$2\\,q^2 + 1 + 2\\,z^2 - \\frac{z^2}{q^2}$\")"
   ]
  }
 ],
 "metadata": {
  "kernelspec": {
   "display_name": "Python [conda env:root] *",
   "language": "python",
   "name": "conda-root-py"
  },
  "language_info": {
   "codemirror_mode": {
    "name": "ipython",
    "version": 3
   },
   "file_extension": ".py",
   "mimetype": "text/x-python",
   "name": "python",
   "nbconvert_exporter": "python",
   "pygments_lexer": "ipython3",
   "version": "3.8.3"
  },
  "toc": {
   "base_numbering": 1,
   "nav_menu": {},
   "number_sections": true,
   "sideBar": true,
   "skip_h1_title": false,
   "title_cell": "Table of Contents",
   "title_sidebar": "Contents",
   "toc_cell": false,
   "toc_position": {},
   "toc_section_display": true,
   "toc_window_display": true
  }
 },
 "nbformat": 4,
 "nbformat_minor": 5
}
