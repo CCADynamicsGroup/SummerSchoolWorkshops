{
 "cells": [
  {
   "cell_type": "code",
   "execution_count": null,
   "id": "ca1ddfa9",
   "metadata": {},
   "outputs": [],
   "source": [
    "%matplotlib inline\n",
    "%run ../../setup/nb_setup"
   ]
  },
  {
   "cell_type": "markdown",
   "id": "e98a6ffc",
   "metadata": {},
   "source": [
    "# Orbits 3: Orbits in Triaxial Potentials\n",
    "\n",
    "## Solutions to Exercises"
   ]
  },
  {
   "cell_type": "code",
   "execution_count": null,
   "id": "ef15b5ca",
   "metadata": {},
   "outputs": [],
   "source": [
    "from astropy.constants import G\n",
    "import astropy.units as u\n",
    "\n",
    "from IPython.display import HTML\n",
    "import matplotlib as mpl\n",
    "import matplotlib.pyplot as plt\n",
    "from mpl_toolkits.mplot3d import Axes3D\n",
    "import numpy as np\n",
    "\n",
    "import gala.dynamics as gd\n",
    "import gala.integrate as gi\n",
    "import gala.potential as gp\n",
    "from gala.units import galactic"
   ]
  },
  {
   "cell_type": "markdown",
   "id": "89e38341",
   "metadata": {},
   "source": [
    "### Exercise: Define a Triaxial Log Potential with Gala\n",
    "\n",
    "Define a Gala `LogarithmicPotential` object with:\n",
    "* $v_c=230~\\textrm{km}~\\textrm{s}^{-1}$\n",
    "* $r_h=15~\\textrm{kpc}$\n",
    "* $q_1 = 1$\n",
    "* $q_2 = 0.9$\n",
    "* $q_3 = 0.8$"
   ]
  },
  {
   "cell_type": "code",
   "execution_count": null,
   "id": "482a0765",
   "metadata": {},
   "outputs": [],
   "source": [
    "triaxial_log = gp.LogarithmicPotential(\n",
    "    v_c=230 * u.km / u.s, r_h=15 * u.kpc, q1=1.0, q2=0.9, q3=0.8, units=galactic\n",
    ")"
   ]
  },
  {
   "cell_type": "markdown",
   "id": "88aeed2d",
   "metadata": {},
   "source": [
    "### Exercise: Long- and short-axis tube orbits\n",
    "\n",
    "Define a `PhaseSpacePosition` object to represent two initial conditions: \n",
    "\n",
    "* At $\\boldsymbol{x} = (10, 1, 3)~\\textrm{kpc}$, with $v_y = v_c$\n",
    "* At $\\boldsymbol{x} = (3, 10, 1)~\\textrm{kpc}$, with $v_z = v_c$\n",
    "\n",
    "(other velocity components set to 0)"
   ]
  },
  {
   "cell_type": "code",
   "execution_count": null,
   "id": "c0585255",
   "metadata": {},
   "outputs": [],
   "source": [
    "tube_w0s = gd.PhaseSpacePosition(\n",
    "    pos=([[10, 1, 3.0], [3, 10, 1.0]] * u.kpc).T,\n",
    "    vel=([[0, 230, 0.0], [0, 0, 230.0]] * u.km / u.s).T,\n",
    ")"
   ]
  },
  {
   "cell_type": "markdown",
   "id": "05e625ae",
   "metadata": {},
   "source": [
    "Integrate these orbits in the `triaxial_log` potential defined above for a total integration time of 100 Gyr with a timestep of 2 Myr:"
   ]
  },
  {
   "cell_type": "code",
   "execution_count": null,
   "id": "12f326b8",
   "metadata": {},
   "outputs": [],
   "source": [
    "tube_orbits = triaxial_log.integrate_orbit(\n",
    "    tube_w0s, dt=2 * u.Myr, t1=0, t2=100 * u.Gyr, Integrator=gi.DOPRI853Integrator\n",
    ")"
   ]
  },
  {
   "cell_type": "markdown",
   "id": "4071a4ff",
   "metadata": {},
   "source": [
    "Plot the two orbits in all 2D projections of the 3D positions (x-y, x-z, y-z) on separate figures:"
   ]
  },
  {
   "cell_type": "code",
   "execution_count": null,
   "id": "f7e4e0f4",
   "metadata": {},
   "outputs": [],
   "source": [
    "for i in range(tube_orbits.norbits):\n",
    "    fig = tube_orbits[:, i].plot()\n",
    "    fig.suptitle(f\"Orbit {i+1}\")"
   ]
  },
  {
   "cell_type": "markdown",
   "id": "3e9d761f",
   "metadata": {},
   "source": [
    "Compute and plot the angular momentum components for the two orbits as a function of time:"
   ]
  },
  {
   "cell_type": "code",
   "execution_count": null,
   "id": "d413b392",
   "metadata": {},
   "outputs": [],
   "source": [
    "tube_orbits_L = tube_orbits.angular_momentum()"
   ]
  },
  {
   "cell_type": "code",
   "execution_count": null,
   "id": "d76f88a1",
   "metadata": {},
   "outputs": [],
   "source": [
    "fig, axes = plt.subplots(\n",
    "    2, 1, figsize=(6, 8), sharex=True, sharey=True, constrained_layout=True\n",
    ")\n",
    "for i, ax in enumerate(axes):\n",
    "    for k, lbl in enumerate([\"$L_x$\", \"$L_y$\", \"$L_z$\"]):\n",
    "        ax.plot(tube_orbits.t, tube_orbits_L[k, :, i], label=lbl)\n",
    "    ax.set_title(f\"Orbit {i+1}\")\n",
    "\n",
    "axes[0].legend(ncol=3, loc=\"best\")\n",
    "axes[-1].set_xlabel(f\"time [{tube_orbits.t.unit:latex_inline}]\")"
   ]
  },
  {
   "cell_type": "markdown",
   "id": "7fac1101",
   "metadata": {},
   "source": [
    "What differences do you see in the time-series angular momentum components as compared to orbits in an axisymmetric model?"
   ]
  },
  {
   "cell_type": "markdown",
   "id": "de497fc1",
   "metadata": {},
   "source": [
    "*Answer:* None of the angular momentum components are exactly conserved! However: the angular momentum component corresponding to the circulation axis for each orbit is approximately conserved: It at least has a constant sign and appears to oscillate around a mean value."
   ]
  },
  {
   "cell_type": "markdown",
   "id": "bf077cbf",
   "metadata": {},
   "source": [
    "### Exercise: Tube orbits around the intermediate axis?\n",
    "\n",
    "Set up initial conditions to compute a tube orbit around the intermediate axis, starting from the position $\\boldsymbol{x} = (10, 0.5, 0)~\\textrm{kpc}$."
   ]
  },
  {
   "cell_type": "code",
   "execution_count": null,
   "id": "740881f6",
   "metadata": {},
   "outputs": [],
   "source": [
    "y_tube_w0 = gd.PhaseSpacePosition(\n",
    "    pos=[10, 0.5, 0] * u.kpc, vel=[0, 0, 230.0] * u.km / u.s\n",
    ")"
   ]
  },
  {
   "cell_type": "markdown",
   "id": "df47eeb9",
   "metadata": {},
   "source": [
    "Integrate this orbit for the same time array as the tube orbits we computed above:"
   ]
  },
  {
   "cell_type": "code",
   "execution_count": null,
   "id": "aaa2f66c",
   "metadata": {},
   "outputs": [],
   "source": [
    "y_tube_orbit = triaxial_log.integrate_orbit(\n",
    "    y_tube_w0, t=tube_orbits.t, Integrator=gi.DOPRI853Integrator\n",
    ")"
   ]
  },
  {
   "cell_type": "markdown",
   "id": "3ad87729",
   "metadata": {},
   "source": [
    "Plot the orbit in projections:"
   ]
  },
  {
   "cell_type": "code",
   "execution_count": null,
   "id": "b4973186",
   "metadata": {},
   "outputs": [],
   "source": [
    "_ = y_tube_orbit.plot()"
   ]
  },
  {
   "cell_type": "markdown",
   "id": "e1f666f2",
   "metadata": {},
   "source": [
    "Compute the angular momentum components and plot them:"
   ]
  },
  {
   "cell_type": "code",
   "execution_count": null,
   "id": "ca73cb97",
   "metadata": {},
   "outputs": [],
   "source": [
    "y_tube_L = y_tube_orbit.angular_momentum()"
   ]
  },
  {
   "cell_type": "code",
   "execution_count": null,
   "id": "bfd465c6",
   "metadata": {},
   "outputs": [],
   "source": [
    "fig, ax = plt.subplots(1, 1, figsize=(6, 4), constrained_layout=True)\n",
    "for k, lbl in enumerate([\"$L_x$\", \"$L_y$\", \"$L_z$\"]):\n",
    "    ax.plot(y_tube_orbit.t, y_tube_L[k, :], label=lbl)\n",
    "\n",
    "ax.legend(ncol=3, loc=\"best\")\n",
    "ax.set_xlabel(f\"time [{tube_orbits.t.unit:latex_inline}]\")"
   ]
  },
  {
   "cell_type": "markdown",
   "id": "be8f25f0",
   "metadata": {},
   "source": [
    "What is different about the angular momentum component time series for this orbit?"
   ]
  },
  {
   "cell_type": "markdown",
   "id": "2275ee16",
   "metadata": {},
   "source": [
    "### Exercise: A grid of orbits with equal energy\n",
    "\n",
    "In this exercise, we are going to compute a grid of orbits started with the same total energy to map out the orbit structure of a portion of phase-space. How should we choose the initial conditions for our grid of orbits? We need to set the 6 phase-space coordinates for each orbit. Requiring that they have the same energy gives us 1 constraint. To further reduce the dimensionality, we will assume $y=v_x=v_z=0$ (we now have 4 constraints). We will then choose a grid in $x, z$ to set the final two coordinates. At any location in our $x,z$ grid, we will use the energy to determine the value of $v_y$ from:\n",
    "\n",
    "$$\n",
    "E = \\frac{1}{2}(v_x^2 + v_y^2 + v_z^2) + \\Phi(x,y,z)\\\\\n",
    "v_y = \\sqrt{2\\,(E - \\Phi(x, 0, z))}\n",
    "$$\n",
    "\n",
    "For the energy, we will use $E = 0.195~\\textrm{kpc}^2~\\textrm{Myr}^{-2}$:"
   ]
  },
  {
   "cell_type": "code",
   "execution_count": null,
   "id": "4525d741",
   "metadata": {},
   "outputs": [],
   "source": [
    "grid_E = 0.195 * (u.kpc / u.Myr) ** 2"
   ]
  },
  {
   "cell_type": "markdown",
   "id": "f72351bd",
   "metadata": {},
   "source": [
    "Generate a 1D grid of 41 $x$ values between $(15, 25)~\\textrm{kpc}$, and a 1D grid of 41 $z$ values between $(0, 20)~\\textrm{kpc}$. Use these 1D grids to construct a 2D grid with all 1,681 pairs of coordinates (*Hint: use `numpy.meshgrid()`*). Store an array of all $x,y,z$ values (all $y$ values are 0) in the variable `grid_pos`:"
   ]
  },
  {
   "cell_type": "code",
   "execution_count": null,
   "id": "f3c2643c",
   "metadata": {},
   "outputs": [],
   "source": [
    "_x_grid = np.linspace(15, 25, 41)\n",
    "_z_grid = np.linspace(0, 20, 41)\n",
    "grid_shape = (len(_x_grid), len(_z_grid))\n",
    "# x_grid, z_grid = ...\n",
    "\n",
    "x_grid, z_grid = np.meshgrid(_x_grid, _z_grid)\n",
    "\n",
    "grid_pos = np.zeros((3, x_grid.size))\n",
    "grid_pos[0] = x_grid.ravel()\n",
    "grid_pos[2] = z_grid.ravel()"
   ]
  },
  {
   "cell_type": "markdown",
   "id": "9f194490",
   "metadata": {},
   "source": [
    "Compute the potential energy at all locations in the grid, and use the difference of the grid energy `grid_E` and the potential energy to compute the initial $v_y$:"
   ]
  },
  {
   "cell_type": "code",
   "execution_count": null,
   "id": "fdf97bfe",
   "metadata": {},
   "outputs": [],
   "source": [
    "grid_Phi = triaxial_log.energy(grid_pos)\n",
    "vy_grid = np.sqrt(2 * (grid_E - grid_Phi))"
   ]
  },
  {
   "cell_type": "markdown",
   "id": "b8cdf91b",
   "metadata": {},
   "source": [
    "(Some of the $v_y$ values may come out as NaN: that is ok, you can ignore those - there are some values of our $x,z$ grid that are outside of the iso-potential-energy surface)\n",
    "\n",
    "Plot the grid of $x,y$ positions colored by the value of $v_y$ at each location (i.e. the following cell should execute)"
   ]
  },
  {
   "cell_type": "code",
   "execution_count": null,
   "id": "53c5a5e0",
   "metadata": {},
   "outputs": [],
   "source": [
    "plt.figure(figsize=(7, 6))\n",
    "plt.pcolormesh(x_grid, z_grid, vy_grid.reshape(grid_shape).to_value(u.km / u.s))\n",
    "plt.xlabel(\"$x_0$\")\n",
    "plt.ylabel(\"$z_0$\")\n",
    "\n",
    "cb = plt.colorbar()\n",
    "cb.set_label(r\"$v_y$\")"
   ]
  },
  {
   "cell_type": "markdown",
   "id": "e8b9d3b3",
   "metadata": {},
   "source": [
    "Set up the full grid of initial conditions as a `PhaseSpacePosition` object named `grid_w0`:"
   ]
  },
  {
   "cell_type": "code",
   "execution_count": null,
   "id": "36f871af",
   "metadata": {},
   "outputs": [],
   "source": [
    "grid_vel = np.zeros(grid_pos.shape) * u.km / u.s\n",
    "grid_vel[1] = vy_grid\n",
    "\n",
    "grid_w0 = gd.PhaseSpacePosition(pos=grid_pos * u.kpc, vel=grid_vel)"
   ]
  },
  {
   "cell_type": "markdown",
   "id": "a294a9a1",
   "metadata": {},
   "source": [
    "Compute the orbits for all of the initial conditions in the grid using the default `LeapfrogIntegrator`, using a timestep of 2 Myr, and integrate for 10 Gyr"
   ]
  },
  {
   "cell_type": "code",
   "execution_count": null,
   "id": "b8716f04",
   "metadata": {},
   "outputs": [],
   "source": [
    "grid_orbits = triaxial_log.integrate_orbit(grid_w0, dt=2 * u.Myr, t1=0, t2=10 * u.Gyr)"
   ]
  },
  {
   "cell_type": "markdown",
   "id": "d780b202",
   "metadata": {},
   "source": [
    "Compute the angular momentum components for all orbits, and then compute the peak-to-peak spread in each angular momentum component for each orbit (i.e. compute $\\textrm{max}(L_i) - \\textrm{min}(L_i)$ for each component $i$ for each orbit)"
   ]
  },
  {
   "cell_type": "code",
   "execution_count": null,
   "id": "1b9ccece",
   "metadata": {},
   "outputs": [],
   "source": [
    "grid_orbits_L = grid_orbits.angular_momentum()\n",
    "ptp_L = np.max(grid_orbits_L, axis=1) - np.min(grid_orbits_L, axis=1)"
   ]
  },
  {
   "cell_type": "markdown",
   "id": "fbc5872e",
   "metadata": {
    "ExecuteTime": {
     "end_time": "2021-07-05T20:17:36.922999Z",
     "start_time": "2021-07-05T20:17:36.838504Z"
    }
   },
   "source": [
    "Make a 3 panel plot (panels corresponding to the 3 angular momentum components) showing a 2D image of the peak-to-peak spread in each component (i.e. the plot commands below should execute)"
   ]
  },
  {
   "cell_type": "code",
   "execution_count": null,
   "id": "6105c054",
   "metadata": {},
   "outputs": [],
   "source": [
    "fig, axes = plt.subplots(\n",
    "    1, 3, figsize=(12, 4.5), sharex=True, sharey=True, constrained_layout=True\n",
    ")\n",
    "for i, lbl in enumerate([\"$L_x$\", \"$L_y$\", \"$L_z$\"]):\n",
    "    axes[i].pcolormesh(x_grid, z_grid, ptp_L[i].value.reshape(grid_shape))\n",
    "    axes[i].set_title(lbl)\n",
    "\n",
    "for ax in axes:\n",
    "    ax.set_xlabel(\"$x_0$\")\n",
    "axes[0].set_ylabel(\"$z_0$\")"
   ]
  },
  {
   "cell_type": "markdown",
   "id": "2e242582",
   "metadata": {},
   "source": [
    "* What structure do you see in this diagram? \n",
    "* What do you think causes the structure we see in this diagram?\n",
    "* Can you identify the transition from tube to box orbits?"
   ]
  }
 ],
 "metadata": {
  "kernelspec": {
   "display_name": "Python [conda env:root] *",
   "language": "python",
   "name": "conda-root-py"
  },
  "language_info": {
   "codemirror_mode": {
    "name": "ipython",
    "version": 3
   },
   "file_extension": ".py",
   "mimetype": "text/x-python",
   "name": "python",
   "nbconvert_exporter": "python",
   "pygments_lexer": "ipython3",
   "version": "3.8.3"
  },
  "toc": {
   "base_numbering": 1,
   "nav_menu": {},
   "number_sections": true,
   "sideBar": true,
   "skip_h1_title": false,
   "title_cell": "Table of Contents",
   "title_sidebar": "Contents",
   "toc_cell": false,
   "toc_position": {},
   "toc_section_display": true,
   "toc_window_display": true
  }
 },
 "nbformat": 4,
 "nbformat_minor": 5
}
