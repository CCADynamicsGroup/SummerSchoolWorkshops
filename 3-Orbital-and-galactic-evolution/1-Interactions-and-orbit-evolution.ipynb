{
 "cells": [
  {
   "cell_type": "code",
   "execution_count": null,
   "metadata": {
    "ExecuteTime": {
     "end_time": "2021-07-05T16:39:51.081218Z",
     "start_time": "2021-07-05T16:39:50.649732Z"
    }
   },
   "outputs": [],
   "source": [
    "%matplotlib inline\n",
    "%run ../setup/nb_setup"
   ]
  },
  {
   "cell_type": "markdown",
   "metadata": {},
   "source": [
    "# Orbital and Galactic Evolution 1: The Influence of Non-axisymmetric Structures and Perturbers\n",
    "\n",
    "Author(s): Jason Hunt\n",
    "\n",
    "\n",
    "## Introduction\n",
    "\n",
    "Adrian's orbit workshop already covered a lot of the theory of orbits, orbit integration and potentials, so here we just assume this is known. You should do his first if you haven't!\n",
    "\n",
    "There are (to my knowledge) three main Galactic dynamics packages for python: Galpy, Gala and Agama. They all have their individual strengths and weaknesses which will be covered by Adrian on Friday! At their core, they can all handle various gravitational potentials, orbit integration and parameter estimation.\n",
    "\n",
    "https://github.com/jobovy/galpy (Bovy 2015, ApJS, 216, 29)\n",
    "\n",
    "https://github.com/adrn/gala (Price-Whelan 2017, The  Journal  of  Open  Source Software, 2, 388)\n",
    "\n",
    "https://github.com/GalacticDynamics-Oxford/Agama (Vasiliev 2019, MNRAS, 482, 1525)\n",
    "\n",
    "This workshop/tutorial will be in the galactic dynamics package Galpy, to give some variety in the options available compared to yesterday. Feel to convert any of the cells to your preferred package if you are already an experienced user\n",
    "\n",
    "While this tutorial is in Galpy, it's worth remembering we have the author of Gala here at the school (Adrian) so you may want to make use of him in your later project work!\n",
    "\n",
    "Finally, there are a few '$\\textbf{exercises}$' and a few '$\\textbf{stretch goal exercises}$' scattered below. Please have a go at the 'exercises' as you go! They should be directly related to examples from other cells. \n",
    "\n",
    "It's OK if you don't finish everything, hopefully this will provide some useful examples for your future work. It's also OK if you get stuck, have a go yourself at things first, but ask for help if it's not working. Your mentors and your peers will be happy to help!\n",
    "\n",
    "If you do finish the whole notebook go back and pick from the stretch goals, whatever you find most interesting. They will require more effort, and some new coding!\n",
    "\n",
    "If you manage to finish the stretch goals, wow well done you! Please go and help your peers :)\n",
    "\n",
    "\n",
    "### Notebook Setup and Package Imports"
   ]
  },
  {
   "cell_type": "code",
   "execution_count": null,
   "metadata": {
    "ExecuteTime": {
     "end_time": "2021-07-05T16:39:52.598039Z",
     "start_time": "2021-07-05T16:39:51.082907Z"
    }
   },
   "outputs": [],
   "source": [
    "import numpy as np\n",
    "import matplotlib.pyplot as plt\n",
    "from galpy.util import bovy_coords, bovy_conversion, multi, bovy_plot\n",
    "from galpy.orbit import Orbit\n",
    "from galpy.potential import (\n",
    "    MovingObjectPotential,\n",
    "    PlummerPotential,\n",
    "    ChandrasekharDynamicalFrictionForce,\n",
    "    plotRotcurve,\n",
    "    vcirc,\n",
    ")\n",
    "from astropy import units as u"
   ]
  },
  {
   "cell_type": "markdown",
   "metadata": {},
   "source": [
    "## Example: Potentials\n",
    "\n",
    "Like Gala, Galpy has several pre-built potentials for you to make use of \n",
    "\n",
    "(https://docs.galpy.org/en/v1.6.0/reference/potential.html#potential-api)\n",
    "\n",
    "To start we need a potential for the Milky Way. The standard 'Milky Way like' potential in Galpy is MWPotential2014 which is fit to various observational constraints  \n",
    "\n",
    "Several other Milky Way like potenitals exist, and can be found at https://docs.galpy.org/en/v1.6.0/reference/potential.html#milky-way-like-potentials\n",
    "\n",
    "But, for simplicity we'll mainly stick with MWPotential2014 (and varients of it) in this notebook. MWPotential2014 is a list of potential components comprised of a Power Sphere bulge, a Miyamoto Nagai disc and a NFW halo potential\n",
    "\n",
    "We can just import the pre-built version:"
   ]
  },
  {
   "cell_type": "code",
   "execution_count": null,
   "metadata": {
    "ExecuteTime": {
     "end_time": "2021-07-05T16:39:52.602802Z",
     "start_time": "2021-07-05T16:39:52.599960Z"
    }
   },
   "outputs": [],
   "source": [
    "from galpy.potential import MWPotential2014"
   ]
  },
  {
   "cell_type": "markdown",
   "metadata": {},
   "source": [
    "We can plot the rotation curve for the potential in full, or examine the individual components with their list index.\n",
    "\n",
    "Note: Galpy uses internal length units of $R_0$, which is the Solar radius (set to 8 kpc as default) and $v_0$, which is the circular velocity at $R_0$ (set to 220 km s$^{-1}$ by default), such that the Sun is at $R/R_0=1$, and $v_{\\mathrm{circ}}/v_0=1$ at $R/R_0=1$. "
   ]
  },
  {
   "cell_type": "code",
   "execution_count": null,
   "metadata": {
    "ExecuteTime": {
     "end_time": "2021-07-05T16:39:53.348898Z",
     "start_time": "2021-07-05T16:39:52.605738Z"
    }
   },
   "outputs": [],
   "source": [
    "plotRotcurve(MWPotential2014, label=\"MWPotential2014\")\n",
    "plotRotcurve(MWPotential2014[0], overplot=True, label=\"Bulge\")\n",
    "plotRotcurve(MWPotential2014[1], overplot=True, label=\"Disc\")\n",
    "plotRotcurve(MWPotential2014[2], overplot=True, label=\"Halo\")\n",
    "plt.legend()\n",
    "\n",
    "print(\n",
    "    vcirc(MWPotential2014, 1)\n",
    ")  # Get the circular velocity as R/R0=1 (the Solar radius) shows v_circ=1\n",
    "print(\n",
    "    vcirc(MWPotential2014, 2)\n",
    ")  # At 2 Rsun (16 kpc), it's less owing to the falling rotation curve"
   ]
  },
  {
   "cell_type": "markdown",
   "metadata": {},
   "source": [
    "Alternatively, we can construct out own \"Milky Way-like\" potential by combining different components.\n",
    "\n",
    "Note that the normalize values should add up to 1. such that the circular velocity will be 1 at R=1. \n",
    "\n",
    "Here's an example with a flat rotation curve, feel free to change the parameters below and see what you get. We won't use this one again so don't worry if you break it ;) The docs for each part of the potential are below, so you can see what the parameters will change:\n",
    "\n",
    "https://docs.galpy.org/en/v1.6.0/reference/potentialmiyamoto.html\n",
    "\n",
    "https://docs.galpy.org/en/v1.6.0/reference/potentialnfw.html\n",
    "\n",
    "https://docs.galpy.org/en/v1.6.0/reference/potentialhernquist.html"
   ]
  },
  {
   "cell_type": "code",
   "execution_count": null,
   "metadata": {
    "ExecuteTime": {
     "end_time": "2021-07-05T16:39:53.353880Z",
     "start_time": "2021-07-05T16:39:53.350631Z"
    }
   },
   "outputs": [],
   "source": [
    "from galpy.potential import MiyamotoNagaiPotential, NFWPotential, HernquistPotential\n",
    "\n",
    "mp = MiyamotoNagaiPotential(a=0.5, b=0.0375, normalize=0.6)\n",
    "nfp = NFWPotential(a=4.5, normalize=0.35)\n",
    "hp = HernquistPotential(a=0.6 / 8, normalize=0.05)\n",
    "pot = hp + mp + nfp  # Or equivalently pot=[mp,np,hp]"
   ]
  },
  {
   "cell_type": "code",
   "execution_count": null,
   "metadata": {
    "ExecuteTime": {
     "end_time": "2021-07-05T16:39:53.990681Z",
     "start_time": "2021-07-05T16:39:53.355432Z"
    }
   },
   "outputs": [],
   "source": [
    "plotRotcurve(pot, label=\"Our potential\")\n",
    "plotRotcurve(pot[0], overplot=True, label=\"Bulge\")\n",
    "plotRotcurve(pot[1], overplot=True, label=\"Disc\")\n",
    "plotRotcurve(pot[2], overplot=True, label=\"Halo\")\n",
    "plt.legend()\n",
    "\n",
    "print(vcirc(pot, 1))\n",
    "print(\n",
    "    vcirc(pot, 2)\n",
    ")  # For my values, it's now closer to flat, as you can see from the plot below."
   ]
  },
  {
   "cell_type": "markdown",
   "metadata": {},
   "source": [
    "You can also evaluate the potential, or density values at specific points, and visualise them"
   ]
  },
  {
   "cell_type": "code",
   "execution_count": null,
   "metadata": {
    "ExecuteTime": {
     "end_time": "2021-07-05T16:39:55.199576Z",
     "start_time": "2021-07-05T16:39:53.992424Z"
    }
   },
   "outputs": [],
   "source": [
    "from galpy.potential import evaluatePotentials, plotPotentials, plotDensities\n",
    "\n",
    "print(evaluatePotentials(MWPotential2014, 1.0, 0.0))  # Evaluate at R=1, z=0\n",
    "print(evaluatePotentials(pot, 1.0, 0.0))\n",
    "plotPotentials(MWPotential2014, rmin=0.01, aspect=\"equal\")\n",
    "plotDensities(\n",
    "    MWPotential2014, rmin=0.1, zmax=0.25, zmin=-0.25, nrs=101, nzs=101, aspect=\"equal\"\n",
    ");"
   ]
  },
  {
   "cell_type": "markdown",
   "metadata": {},
   "source": [
    "## Example: Orbit integration\n",
    "\n",
    "Now that we have a potential for our galaxy, we can integrate some orbits in it. \n",
    "\n",
    "You can set orbit parameters yourself in an array of [$R,v_R,v_{\\phi},z,v_z,\\phi$]\n",
    "\n",
    "\n",
    "\n",
    "But, as above, they must be in natural units, so divide physical values by 8 or 220 for position or velocities\n",
    "\n",
    "There are many other ways to initialise an orbit instance in varying coordinate systems (including astropy's skycoord), see doc's below\n",
    "\n",
    "(https://docs.galpy.org/en/v1.6.0/reference/orbitinit.html)\n",
    "\n",
    "(https://docs.galpy.org/en/v1.6.0/orbit.html#initialization-from-observed-coordinates-or-astropy-skycoord)"
   ]
  },
  {
   "cell_type": "code",
   "execution_count": null,
   "metadata": {
    "ExecuteTime": {
     "end_time": "2021-07-05T16:39:55.206351Z",
     "start_time": "2021-07-05T16:39:55.203394Z"
    }
   },
   "outputs": [],
   "source": [
    "# For example, the coordinates of the Sagittarius dwarf galaxy from Vasiliev (2020) in cylindrical coordinates\n",
    "R = 17.68\n",
    "vR = 232.07\n",
    "vphi = 57.7\n",
    "z = -6.5\n",
    "vz = 209.0\n",
    "phi = 3.0\n",
    "\n",
    "ro = 8.0\n",
    "vo = 220.0\n",
    "\n",
    "Sgr_Vas = Orbit(vxvv=[R / ro, vR / vo, vphi / vo, z / ro, vz / vo, phi])"
   ]
  },
  {
   "cell_type": "markdown",
   "metadata": {},
   "source": [
    "Alternatively, you can initialise orbits for any named object from the Simbad data service \n",
    "\n",
    "(Note that Orbits initialized using Orbit.from_name have physical output turned on by default, so methods will return outputs in physical units unless you do Sgr_sim.turn_physical_off() which we won't here.)"
   ]
  },
  {
   "cell_type": "code",
   "execution_count": null,
   "metadata": {
    "ExecuteTime": {
     "end_time": "2021-07-05T16:39:55.693098Z",
     "start_time": "2021-07-05T16:39:55.209311Z"
    }
   },
   "outputs": [],
   "source": [
    "Sgr_Sim = Orbit.from_name(\n",
    "    \"SDG\"\n",
    ")  # Where, for example, SDG is the Sagittarius dwarf galaxy"
   ]
  },
  {
   "cell_type": "markdown",
   "metadata": {},
   "source": [
    "Now, can we integrate them backwards in time and see where Sagittarius came from?...\n",
    "\n",
    "We need a 'time' array to tell us how long to go for, and the timesteps, and we need a potential in which to calculate the orbits"
   ]
  },
  {
   "cell_type": "code",
   "execution_count": null,
   "metadata": {
    "ExecuteTime": {
     "end_time": "2021-07-05T16:39:55.744143Z",
     "start_time": "2021-07-05T16:39:55.694585Z"
    }
   },
   "outputs": [],
   "source": [
    "# Let's go back 4 Gyr, in 1000 steps. Again, we need to convert into internal Galpy units\n",
    "\n",
    "time = np.linspace(0, -4.0 / bovy_conversion.time_in_Gyr(220.0, 8.0), 1000)\n",
    "\n",
    "Sgr_Vas.integrate(time, MWPotential2014)\n",
    "Sgr_Sim.integrate(time, MWPotential2014)"
   ]
  },
  {
   "cell_type": "markdown",
   "metadata": {},
   "source": [
    "And let's take a look at the orbits:\n",
    "\n",
    "You can plot a variety of orbital parameters (see link to docs)\n",
    "\n",
    "(https://docs.galpy.org/en/v1.6.0/reference/orbit.html)"
   ]
  },
  {
   "cell_type": "code",
   "execution_count": null,
   "metadata": {
    "ExecuteTime": {
     "end_time": "2021-07-05T16:39:56.221530Z",
     "start_time": "2021-07-05T16:39:55.745719Z"
    }
   },
   "outputs": [],
   "source": [
    "# An example of the orbits in R and z\n",
    "# Note that the 'from name' routine is (inconsistently) already in physical units\n",
    "\n",
    "plt.figure()\n",
    "plt.plot(\n",
    "    time * bovy_conversion.time_in_Gyr(220.0, 8.0),\n",
    "    Sgr_Vas.r(time) * ro,\n",
    "    label=\"Vasiliev (2020)\",\n",
    "    color=\"blue\",\n",
    ")\n",
    "plt.plot(\n",
    "    time * bovy_conversion.time_in_Gyr(220.0, 8.0),\n",
    "    Sgr_Sim.r(time),\n",
    "    label=\"Simbad\",\n",
    "    color=\"red\",\n",
    ")\n",
    "plt.xlim(-4, 0)\n",
    "plt.ylim(0, 110)\n",
    "plt.xlabel(r\"$\\mathrm{Time\\ (Gyr)}$\")\n",
    "plt.ylabel(r\"$R\\ (\\mathrm{kpc})$\")\n",
    "plt.legend()\n",
    "plt.show()\n",
    "\n",
    "plt.figure()\n",
    "plt.plot(\n",
    "    time * bovy_conversion.time_in_Gyr(220.0, 8.0),\n",
    "    Sgr_Vas.z(time) * ro,\n",
    "    label=\"Vasiliev (2020)\",\n",
    "    color=\"blue\",\n",
    ")\n",
    "plt.plot(\n",
    "    time * bovy_conversion.time_in_Gyr(220.0, 8.0),\n",
    "    Sgr_Sim.z(time),\n",
    "    label=\"Simbad\",\n",
    "    color=\"red\",\n",
    ")\n",
    "plt.plot([-7, 7], [0, 0], ls=\":\", color=\"k\")\n",
    "plt.xlim(-4, 0)\n",
    "plt.ylim(-100, 100)\n",
    "plt.xlabel(r\"$\\mathrm{Time\\ (Gyr)}$\")\n",
    "plt.ylabel(r\"$z\\ (\\mathrm{kpc})$\")\n",
    "plt.legend()\n",
    "plt.show()"
   ]
  },
  {
   "cell_type": "markdown",
   "metadata": {},
   "source": [
    "Even in the same galactic potential, the difference in initial conditions makes a significant effect on the resulting orbit!  \n",
    "\n",
    "## Example: Dynamical Friction\n",
    "\n",
    "However, we are still missing an important part of the orbital modelling, which is dynamical friction\n",
    "\n",
    "To implement dynamical friction we need a mass and density profile for the dwarf galaxy (and the host galaxy)\n",
    "\n",
    "(https://docs.galpy.org/en/v1.6.0/reference/potentialchandrasekhardynfric.html)"
   ]
  },
  {
   "cell_type": "code",
   "execution_count": null,
   "metadata": {
    "ExecuteTime": {
     "end_time": "2021-07-05T16:40:04.881312Z",
     "start_time": "2021-07-05T16:39:56.222931Z"
    }
   },
   "outputs": [],
   "source": [
    "cdf = ChandrasekharDynamicalFrictionForce(\n",
    "    GMs=1e10 * u.Msun, rhm=8.0 * u.kpc, dens=MWPotential2014\n",
    ")"
   ]
  },
  {
   "cell_type": "markdown",
   "metadata": {},
   "source": [
    "And now let's integrate the orbits with dynamical friction included\n",
    "\n",
    "You can add the 'cdf' potential object to the MWPotential2014 list\n",
    "\n",
    "(You can ignore the warnings, a lot of the potential integration is done in C, but not implemented for the dynamical friction force so it's falling back on python)"
   ]
  },
  {
   "cell_type": "code",
   "execution_count": null,
   "metadata": {
    "ExecuteTime": {
     "end_time": "2021-07-05T16:40:04.932024Z",
     "start_time": "2021-07-05T16:40:04.882919Z"
    }
   },
   "outputs": [],
   "source": [
    "Sgr_Vas_DF = Orbit(vxvv=[R / ro, vR / vo, vphi / vo, z / ro, vz / vo, phi])\n",
    "Sgr_Sim_DF = Orbit.from_name(\"SDG\")\n",
    "\n",
    "Sgr_Vas_DF.integrate(time, MWPotential2014 + cdf)\n",
    "Sgr_Sim_DF.integrate(time, MWPotential2014 + cdf)"
   ]
  },
  {
   "cell_type": "code",
   "execution_count": null,
   "metadata": {
    "ExecuteTime": {
     "end_time": "2021-07-05T16:40:05.351871Z",
     "start_time": "2021-07-05T16:40:04.933550Z"
    }
   },
   "outputs": [],
   "source": [
    "plt.figure()\n",
    "plt.plot(\n",
    "    time * bovy_conversion.time_in_Gyr(220.0, 8.0),\n",
    "    Sgr_Vas_DF.r(time) * ro,\n",
    "    label=\"Vasiliev (2020)\",\n",
    "    color=\"blue\",\n",
    ")\n",
    "plt.plot(\n",
    "    time * bovy_conversion.time_in_Gyr(220.0, 8.0),\n",
    "    Sgr_Sim_DF.r(time),\n",
    "    label=\"Simbad\",\n",
    "    color=\"red\",\n",
    ")\n",
    "plt.xlim(-4, 0)\n",
    "plt.ylim(0, 110)\n",
    "plt.xlabel(r\"$\\mathrm{Time\\ (Gyr)}$\")\n",
    "plt.ylabel(r\"$R\\ (\\mathrm{kpc})$\")\n",
    "plt.legend()\n",
    "plt.show()\n",
    "\n",
    "plt.figure()\n",
    "plt.plot(\n",
    "    time * bovy_conversion.time_in_Gyr(220.0, 8.0),\n",
    "    Sgr_Vas_DF.z(time) * ro,\n",
    "    label=\"Vasiliev (2020)\",\n",
    "    color=\"blue\",\n",
    ")\n",
    "plt.plot(\n",
    "    time * bovy_conversion.time_in_Gyr(220.0, 8.0),\n",
    "    Sgr_Sim_DF.z(time),\n",
    "    label=\"Simbad\",\n",
    "    color=\"red\",\n",
    ")\n",
    "plt.plot([-7, 7], [0, 0], ls=\":\", color=\"k\")\n",
    "plt.xlim(-4, 0)\n",
    "plt.ylim(-125, 125)\n",
    "plt.xlabel(r\"$\\mathrm{Time\\ (Gyr)}$\")\n",
    "plt.ylabel(r\"$z\\ (\\mathrm{kpc})$\")\n",
    "plt.legend()\n",
    "plt.show()"
   ]
  },
  {
   "cell_type": "markdown",
   "metadata": {},
   "source": [
    "### Exercise: \n",
    "\n",
    "Play around with the mass and half-mass radius of the satellite in the example cell below and see how the change in dynamical friction affects the orbit. This isn't supposed to be difficult coding, but to help you build intuition about the infall\n",
    "\n",
    "So, before you start, how do you think a more massive satellite will fall in to the MW?"
   ]
  },
  {
   "cell_type": "code",
   "execution_count": null,
   "metadata": {
    "ExecuteTime": {
     "end_time": "2021-07-05T16:40:16.224140Z",
     "start_time": "2021-07-05T16:40:05.353644Z"
    }
   },
   "outputs": [],
   "source": [
    "cdf2 = ChandrasekharDynamicalFrictionForce(\n",
    "    GMs=100 * u.Msun, rhm=0.01 * u.kpc, dens=MWPotential2014\n",
    ")\n",
    "\n",
    "Sgr_Vas_DF2 = Orbit(vxvv=[R / ro, vR / vo, vphi / vo, z / ro, vz / vo, phi])\n",
    "Sgr_Sim_DF2 = Orbit.from_name(\"SDG\")\n",
    "\n",
    "Sgr_Vas_DF2.integrate(time, pot + cdf2)\n",
    "Sgr_Sim_DF2.integrate(time, pot + cdf2)\n",
    "\n",
    "plt.figure()\n",
    "plt.plot(\n",
    "    time * bovy_conversion.time_in_Gyr(220.0, 8.0),\n",
    "    Sgr_Vas_DF2.r(time) * ro,\n",
    "    label=\"Vasiliev (2020)\",\n",
    "    color=\"blue\",\n",
    ")\n",
    "plt.plot(\n",
    "    time * bovy_conversion.time_in_Gyr(220.0, 8.0),\n",
    "    Sgr_Sim_DF2.r(time),\n",
    "    label=\"Simbad\",\n",
    "    color=\"red\",\n",
    ")\n",
    "plt.xlim(-4, 0)\n",
    "plt.ylim(0, 110)\n",
    "plt.xlabel(r\"$\\mathrm{Time\\ (Gyr)}$\")\n",
    "plt.ylabel(r\"$R\\ (\\mathrm{kpc})$\")\n",
    "plt.legend()\n",
    "plt.show()\n",
    "\n",
    "plt.figure()\n",
    "plt.plot(\n",
    "    time * bovy_conversion.time_in_Gyr(220.0, 8.0),\n",
    "    Sgr_Vas_DF2.z(time) * ro,\n",
    "    label=\"Vasiliev (2020)\",\n",
    "    color=\"blue\",\n",
    ")\n",
    "plt.plot(\n",
    "    time * bovy_conversion.time_in_Gyr(220.0, 8.0),\n",
    "    Sgr_Sim_DF2.z(time),\n",
    "    label=\"Simbad\",\n",
    "    color=\"red\",\n",
    ")\n",
    "plt.plot([-7, 7], [0, 0], ls=\":\", color=\"k\")\n",
    "plt.xlim(-4, 0)\n",
    "plt.ylim(-125, 125)\n",
    "plt.xlabel(r\"$\\mathrm{Time\\ (Gyr)}$\")\n",
    "plt.ylabel(r\"$z\\ (\\mathrm{kpc})$\")\n",
    "plt.legend()\n",
    "plt.show()"
   ]
  },
  {
   "cell_type": "markdown",
   "metadata": {},
   "source": [
    "In addition, the halo potential in MWPotential2014 in known to be on the lower end of mass estimates for the Milky Way's dark matter halo\n",
    "\n",
    "Because the potential is a list of components, you can increase the mass of the halo by multiplying that part of the potential (but let's make a copy so we don't lose the original)\n",
    "\n",
    "As suggested in the Galpy documentation, increasing the halo mass by 50% brings it more in line with recent measurements"
   ]
  },
  {
   "cell_type": "code",
   "execution_count": null,
   "metadata": {
    "ExecuteTime": {
     "end_time": "2021-07-05T16:40:27.356418Z",
     "start_time": "2021-07-05T16:40:16.225827Z"
    }
   },
   "outputs": [],
   "source": [
    "import copy\n",
    "\n",
    "MWPotential2014_heavy = copy.deepcopy(MWPotential2014)\n",
    "MWPotential2014_heavy[2] *= 1.5\n",
    "\n",
    "cdf3 = ChandrasekharDynamicalFrictionForce(\n",
    "    GMs=1e10 * u.Msun, rhm=1.0 * u.kpc, dens=MWPotential2014_heavy\n",
    ")\n",
    "\n",
    "Sgr_Vas_DF2 = Orbit(vxvv=[R / ro, vR / vo, vphi / vo, z / ro, vz / vo, phi])\n",
    "Sgr_Sim_DF2 = Orbit.from_name(\"SDG\")\n",
    "\n",
    "Sgr_Vas_DF2.integrate(time, MWPotential2014_heavy + cdf3)\n",
    "Sgr_Sim_DF2.integrate(time, MWPotential2014_heavy + cdf3)\n",
    "\n",
    "plt.figure()\n",
    "plt.plot(\n",
    "    time * bovy_conversion.time_in_Gyr(220.0, 8.0),\n",
    "    Sgr_Vas_DF2.r(time) * ro,\n",
    "    label=\"Vasiliev (2020)\",\n",
    "    color=\"blue\",\n",
    ")\n",
    "plt.plot(\n",
    "    time * bovy_conversion.time_in_Gyr(220.0, 8.0),\n",
    "    Sgr_Sim_DF2.r(time),\n",
    "    label=\"Simbad\",\n",
    "    color=\"red\",\n",
    ")\n",
    "plt.xlim(-4, 0)\n",
    "plt.ylim(0, 110)\n",
    "plt.xlabel(r\"$\\mathrm{Time\\ (Gyr)}$\")\n",
    "plt.ylabel(r\"$R\\ (\\mathrm{kpc})$\")\n",
    "plt.legend()\n",
    "plt.show()\n",
    "\n",
    "plt.figure()\n",
    "plt.plot(\n",
    "    time * bovy_conversion.time_in_Gyr(220.0, 8.0),\n",
    "    Sgr_Vas_DF2.z(time) * ro,\n",
    "    label=\"Vasiliev (2020)\",\n",
    "    color=\"blue\",\n",
    ")\n",
    "plt.plot(\n",
    "    time * bovy_conversion.time_in_Gyr(220.0, 8.0),\n",
    "    Sgr_Sim_DF2.z(time),\n",
    "    label=\"Simbad\",\n",
    "    color=\"red\",\n",
    ")\n",
    "plt.plot([-7, 7], [0, 0], ls=\":\", color=\"k\")\n",
    "plt.xlim(-4, 0)\n",
    "plt.ylim(-125, 125)\n",
    "plt.xlabel(r\"$\\mathrm{Time\\ (Gyr)}$\")\n",
    "plt.ylabel(r\"$z\\ (\\mathrm{kpc})$\")\n",
    "plt.legend()\n",
    "plt.show()"
   ]
  },
  {
   "cell_type": "markdown",
   "metadata": {},
   "source": [
    "In addition, an actual satellite falling into the Milky Way will be losing mass, which we did not account for here in the dynamical friction force calculation. Take a moment to consider how that would change the infall?\n",
    "\n",
    "So, considering the variation in the orbits for our levels of uncertainty, and the lack of mass loss, how much do we trust our orbits here?... Perhaps it's better we don't talk about that! \n",
    "\n",
    "Regardless, moving forwards we can select a Fiducial orbit for the rest of the notebook. In the rest of the infall examples I pick Vasiliev's initial conditions, the heavier halo, and set GMs=5e8 M$_{\\odot}$ and rhm=5 kpc\n",
    "\n",
    "Feel free to select a different one going forwards, and perhaps choose different values and compare with other students! Or come back here later and run through things with a different orbit/potential\n",
    "\n",
    "### Exercise (Stretch goal): Correct for the mass loss\n",
    "\n",
    "e.g. see CDF doc page above, but you have to manually edit the mass and integrate segments of the orbits separately\n",
    "- Come up with some mass loss scheme, you can assume a flat relation for simplicity, or look at Vasiliev's 2020 paper for an estimation\n",
    "- Compute the orbit in fragments changing the mass\n",
    "- Compare to the fixed mass orbit\n",
    "\n",
    "## Example: The effect of the dwarf on stellar orbits\n",
    "\n",
    "So far we were only examining the orbit of Sgr in a Milky Way-like potential. However, as the dwarf falls in, it will also have an impact on the stars (and dark matter) in our galaxy.\n",
    "\n",
    "We'll take a look at the effect on a few disc stars. First, let's set up a multi-star orbit object, similar to above (Feel free to edit the numbers to make your own unique orbits, but remember they must be in internal units!)\n",
    "\n"
   ]
  },
  {
   "cell_type": "code",
   "execution_count": null,
   "metadata": {
    "ExecuteTime": {
     "end_time": "2021-07-05T16:40:41.006889Z",
     "start_time": "2021-07-05T16:40:41.003193Z"
    }
   },
   "outputs": [],
   "source": [
    "# Set up an array of N individual orbits (these are random, feel free to edit. Each is [R,vR,vphi,z,vz,phi] in normalised units)\n",
    "vxvvs = np.array(\n",
    "    [\n",
    "        [1.0, 0.1, 1.0, 0.1, -0.2, 1.5],\n",
    "        [0.1, 0.3, 1.1, -0.3, 0.4, 2.0],\n",
    "        [0.2, 0.3, 1.1, -0.3, 0.4, 2.0],\n",
    "        [1.0, 0.3, 1.1, -0.3, 0.4, 2.0],\n",
    "        [0.5, 0.3, 1.1, -0.3, 0.4, 2.0],\n",
    "    ]\n",
    ")\n",
    "# Turn them into an orbit object\n",
    "orbits = Orbit(vxvvs)"
   ]
  },
  {
   "cell_type": "markdown",
   "metadata": {},
   "source": [
    "Then, we integrate them similar to how we did the satellite, except this time, let's go forward in time from -4 to 0"
   ]
  },
  {
   "cell_type": "code",
   "execution_count": null,
   "metadata": {
    "ExecuteTime": {
     "end_time": "2021-07-05T16:40:43.377822Z",
     "start_time": "2021-07-05T16:40:41.847418Z"
    }
   },
   "outputs": [],
   "source": [
    "# Integrate it\n",
    "time2 = np.linspace(-4.0 / bovy_conversion.time_in_Gyr(220.0, 8.0), 0.0, 1000)\n",
    "orbits.integrate(time2, MWPotential2014)\n",
    "\n",
    "# The 'orbit' class also has plotting functionality built in. Default is R-z\n",
    "orbits.plot()\n",
    "\n",
    "# You can set other dimensions manually\n",
    "plt.figure(figsize=(5, 5))\n",
    "orbits.plot(d1=\"x\", d2=\"y\", overplot=True)\n",
    "plt.xlim(-2, 2)\n",
    "plt.xlabel(r\"$x\\ (\\mathrm{kpc})$\")\n",
    "plt.ylabel(r\"$y\\ (\\mathrm{kpc})$\");"
   ]
  },
  {
   "cell_type": "markdown",
   "metadata": {},
   "source": [
    "You can also animate the orbits (although it's a little slow...)\n",
    "\n",
    "It should work for any of the orbit properties, as described above\n",
    "\n",
    "Try hovering over the graph once you've it's done!"
   ]
  },
  {
   "cell_type": "code",
   "execution_count": null,
   "metadata": {
    "ExecuteTime": {
     "end_time": "2021-07-05T16:40:44.326214Z",
     "start_time": "2021-07-05T16:40:44.306286Z"
    }
   },
   "outputs": [],
   "source": [
    "orbits.animate(d1=[\"x\", \"R\"], d2=[\"y\", \"z\"], width=800)"
   ]
  },
  {
   "cell_type": "markdown",
   "metadata": {},
   "source": [
    "They are nice and regular!\n",
    "\n",
    "Now, let's put Sagittarius along the orbit we computed earlier, and see what it does to them?\n",
    "\n",
    "Firstly, we need a potential object for the dwarf galaxy itself. We'll use a Plummer Sphere:\n",
    "\n",
    "(https://docs.galpy.org/en/v1.6.0/reference/potentialplummer.html)"
   ]
  },
  {
   "cell_type": "code",
   "execution_count": null,
   "metadata": {
    "ExecuteTime": {
     "end_time": "2021-07-05T16:40:45.635997Z",
     "start_time": "2021-07-05T16:40:45.633061Z"
    }
   },
   "outputs": [],
   "source": [
    "plum = PlummerPotential(amp=5e9 * u.Msun, b=5.0 * u.kpc)"
   ]
  },
  {
   "cell_type": "markdown",
   "metadata": {},
   "source": [
    "Now, let's initialise another Sagittarius orbit and make a 'moving object potential' where we let the plummer sphere follow the orbital path\n",
    "\n",
    "The moving object potential can be used to make any galpy potential object follow along any galpy orbit instance\n",
    "\n",
    "(https://docs.galpy.org/en/latest/reference/potentialmovingobj.html)"
   ]
  },
  {
   "cell_type": "code",
   "execution_count": null,
   "metadata": {
    "ExecuteTime": {
     "end_time": "2021-07-05T16:40:55.679869Z",
     "start_time": "2021-07-05T16:40:46.419873Z"
    }
   },
   "outputs": [],
   "source": [
    "# Set up the next orbit\n",
    "cdf4 = ChandrasekharDynamicalFrictionForce(\n",
    "    GMs=5e9 * u.Msun, rhm=5.0 * u.kpc, dens=MWPotential2014_heavy\n",
    ")\n",
    "Sgr_Vas_DF4 = Orbit(vxvv=[R / ro, vR / vo, vphi / vo, z / ro, vz / vo, phi])\n",
    "Sgr_Vas_DF4.integrate(time, MWPotential2014_heavy + cdf4)\n",
    "\n",
    "satpot = MovingObjectPotential(Sgr_Vas_DF4, plum)"
   ]
  },
  {
   "cell_type": "markdown",
   "metadata": {},
   "source": [
    "Now, let's integrate those same orbits again in the time evolving potential and see what Sgr has done!"
   ]
  },
  {
   "cell_type": "code",
   "execution_count": null,
   "metadata": {
    "ExecuteTime": {
     "end_time": "2021-07-05T16:40:57.211493Z",
     "start_time": "2021-07-05T16:40:55.682001Z"
    }
   },
   "outputs": [],
   "source": [
    "# Turn them into an orbit object\n",
    "perturbed_orbits = Orbit(vxvvs)\n",
    "# Integrate it\n",
    "perturbed_orbits.integrate(time2, MWPotential2014_heavy + satpot)\n",
    "\n",
    "# The 'orbit' class also has plotting functionality built in. Default is R-z\n",
    "perturbed_orbits.plot()\n",
    "\n",
    "# You can set other dimensions\n",
    "plt.figure(figsize=(5, 5))\n",
    "perturbed_orbits.plot(d1=\"x\", d2=\"y\", overplot=True)\n",
    "plt.xlabel(r\"$x\\ (\\mathrm{kpc})$\")\n",
    "plt.ylabel(r\"$y\\ (\\mathrm{kpc})$\");"
   ]
  },
  {
   "cell_type": "markdown",
   "metadata": {},
   "source": [
    "Ok, that wasn't much was it! (although they are now not completely regular) But most of these stars from my demo orbits are in the inner galaxy... You may have had something more dramatic if you edited the orbits\n",
    "\n",
    "### Exercise: What if Sgr was 10 times more massive?\n",
    "\n",
    "Using the above cells, you should be able to redo this with a heavier dwarf, and call it more_perturbed_orbits to work with the below cells"
   ]
  },
  {
   "cell_type": "code",
   "execution_count": null,
   "metadata": {
    "ExecuteTime": {
     "end_time": "2021-07-05T16:40:57.215481Z",
     "start_time": "2021-07-05T16:40:57.214006Z"
    }
   },
   "outputs": [],
   "source": [
    "# Set up the next dwarf\n",
    "# Set up the new orbit\n",
    "# Create the moving object pot\n",
    "# Initialise the orbit object\n",
    "# Integrate it\n",
    "# Plot it\n",
    "# If interesting, animate it! If not interesting, try different orbits/perturbers"
   ]
  },
  {
   "cell_type": "markdown",
   "metadata": {},
   "source": [
    "Let's check the energy for these orbits, as discussed in Adrian's orbit workshop (and Helmer's upcoming one) and see the change (note that 'more_perturbed_orbits' is my heavier Sgr orbit instance which I have taken out!)\n",
    "\n",
    "The energy for the non-interacting case should be (effectively) constant"
   ]
  },
  {
   "cell_type": "code",
   "execution_count": null,
   "metadata": {
    "ExecuteTime": {
     "end_time": "2021-07-05T16:41:00.259026Z",
     "start_time": "2021-07-05T16:40:57.216864Z"
    }
   },
   "outputs": [],
   "source": [
    "orbits.plot(d1=\"R\", d2=\"E\")\n",
    "perturbed_orbits.plot(d1=\"R\", d2=\"E\")\n",
    "more_perturbed_orbits.plot(d1=\"R\", d2=\"E\");"
   ]
  },
  {
   "cell_type": "markdown",
   "metadata": {},
   "source": [
    "For the perturbed cases you can see the impacts of Sgr in the orbital energy. The larger the dwarf, the larger the change in energy:"
   ]
  },
  {
   "cell_type": "code",
   "execution_count": null,
   "metadata": {
    "ExecuteTime": {
     "end_time": "2021-07-05T16:41:51.589765Z",
     "start_time": "2021-07-05T16:41:48.710723Z"
    }
   },
   "outputs": [],
   "source": [
    "carray = [\"blue\", \"red\", \"green\", \"orange\", \"purple\"]\n",
    "\n",
    "# Plot just the first one\n",
    "orbits.plot(d1=\"time\", d2=\"E\", color=carray[0])\n",
    "perturbed_orbits.plot(d1=\"time\", d2=\"E\", overplot=True, color=carray[0], ls=\"--\")\n",
    "more_perturbed_orbits.plot(d1=\"time\", d2=\"E\", overplot=True, color=carray[0], ls=\":\")\n",
    "\n",
    "# Plot all five\n",
    "for i in range(0, 5):\n",
    "    if i == 0:\n",
    "        orbits[i].plot(d1=\"time\", d2=\"E\", color=carray[i])\n",
    "    else:\n",
    "        orbits[i].plot(d1=\"time\", d2=\"E\", overplot=True, color=carray[i])\n",
    "    perturbed_orbits[i].plot(d1=\"time\", d2=\"E\", overplot=True, color=carray[i], ls=\"--\")\n",
    "    more_perturbed_orbits[i].plot(\n",
    "        d1=\"time\", d2=\"E\", overplot=True, color=carray[i], ls=\":\"\n",
    "    )"
   ]
  },
  {
   "cell_type": "markdown",
   "metadata": {},
   "source": [
    "Now we know how to integrate and examine multiple objects, let's do some real ones from the MW\n",
    "\n",
    "The Orbit.from_name method also allows you to load some collections of objects in a simple manner. Currently, three collections are supported: ‘MW globular clusters’, ‘MW satellite galaxies’, and ‘solar system’. \n",
    "\n",
    "We'll make use of the Orbit.from_name routine again to get all of the Milky-Way globular clusters with data from Gaia DR2 (using the Vasiliev 2019 catalog):"
   ]
  },
  {
   "cell_type": "code",
   "execution_count": null,
   "metadata": {
    "ExecuteTime": {
     "end_time": "2021-07-05T16:41:53.076839Z",
     "start_time": "2021-07-05T16:41:53.064044Z"
    }
   },
   "outputs": [],
   "source": [
    "GC_orbits = Orbit.from_name(\"MW globular clusters\")\n",
    "print(GC_orbits.name)"
   ]
  },
  {
   "cell_type": "code",
   "execution_count": null,
   "metadata": {
    "ExecuteTime": {
     "end_time": "2021-07-05T16:42:55.430277Z",
     "start_time": "2021-07-05T16:41:53.800503Z"
    }
   },
   "outputs": [],
   "source": [
    "GC_orbits.integrate(time, MWPotential2014_heavy)\n",
    "\n",
    "plt.figure()\n",
    "GC_orbits.plot()\n",
    "plt.xlim(0, 300.0)\n",
    "plt.ylim(-200.0, 200.0)\n",
    "\n",
    "plt.figure(figsize=(5, 5))\n",
    "GC_orbits.plot(d1=\"x\", d2=\"y\", overplot=True)\n",
    "plt.xlim(-200.0, 200.0)\n",
    "plt.ylim(-200.0, 200.0)\n",
    "plt.xlabel(r\"$x\\ (\\mathrm{kpc})$\")\n",
    "plt.ylabel(r\"$y\\ (\\mathrm{kpc})$\");"
   ]
  },
  {
   "cell_type": "markdown",
   "metadata": {},
   "source": [
    "(Or in 3D while we're here...)"
   ]
  },
  {
   "cell_type": "code",
   "execution_count": null,
   "metadata": {
    "ExecuteTime": {
     "end_time": "2021-07-05T16:43:14.155748Z",
     "start_time": "2021-07-05T16:43:13.666648Z"
    }
   },
   "outputs": [],
   "source": [
    "GC_orbits.plot3d(alpha=0.4)\n",
    "plt.xlim(-100.0, 100.0)\n",
    "plt.ylim(-100.0, 100.0)\n",
    "plt.gca().set_zlim3d(-100.0, 100.0);"
   ]
  },
  {
   "cell_type": "markdown",
   "metadata": {},
   "source": [
    "Some of them are (awkwardly) unbound\n",
    "\n",
    "This is unlikely to be true, but instead easily explainable by an incorrect potential, or observational error in the cluster orbital parameters\n",
    "\n",
    "Regardless, what happens if you put Sgr through this lot?"
   ]
  },
  {
   "cell_type": "code",
   "execution_count": null,
   "metadata": {
    "ExecuteTime": {
     "end_time": "2021-07-05T16:45:28.120544Z",
     "start_time": "2021-07-05T16:44:18.174085Z"
    }
   },
   "outputs": [],
   "source": [
    "perturbed_GC_orbits = Orbit.from_name(\"MW globular clusters\")\n",
    "perturbed_GC_orbits.integrate(time, MWPotential2014_heavy + satpot)\n",
    "\n",
    "plt.figure()\n",
    "perturbed_GC_orbits.plot()\n",
    "plt.xlim(0, 300.0)\n",
    "plt.ylim(-200.0, 200.0)\n",
    "plt.show()\n",
    "\n",
    "plt.figure(figsize=(5, 5))\n",
    "perturbed_GC_orbits.plot(d1=\"x\", d2=\"y\", overplot=True)\n",
    "plt.xlim(-200.0, 200.0)\n",
    "plt.ylim(-200.0, 200.0)\n",
    "plt.xlabel(r\"$x\\ (\\mathrm{kpc})$\")\n",
    "plt.ylabel(r\"$y\\ (\\mathrm{kpc})$\")\n",
    "plt.show()\n",
    "\n",
    "perturbed_GC_orbits.plot3d(alpha=0.4)\n",
    "plt.xlim(-100.0, 100.0)\n",
    "plt.ylim(-100.0, 100.0)\n",
    "plt.zlim(-100.0, 100.0)\n",
    "plt.gca().set_zlim3d(-100.0, 100.0);"
   ]
  },
  {
   "cell_type": "markdown",
   "metadata": {},
   "source": [
    "Now they are not unbound. Hmm. Ok. I wasn't expecting that! The options are:\n",
    "- A fluke! A complete coincedence, helped by observational error and an uncertain Sgr orbit\n",
    "- We know there are a bunch of GCs that are related to Sgr. Maybe these are those?\n",
    "- It could be that some recent interaction with Sgr has set them on their current orbits which not feasible otherwise?\n",
    "\n",
    "### Exercise (stretch goal): Track those clusters down! see what they are and where they come from?\n",
    "- Find unbound GCs\n",
    "- Compare their orbits to Sgr's orbit\n",
    "\n",
    "### Exercise (stretch goal): Dynamical Friction and MW Satellites\n",
    "- Load the Milky Way dwarf galaxies: You can get them all at once with Orbit.from_name('MW satellite galaxies')\n",
    "- Calculate their orbits without DF\n",
    "- Add dynamical friction and redo\n",
    "- Which ones change and why?\n",
    "- How about if they were 10x more massive?"
   ]
  },
  {
   "cell_type": "markdown",
   "metadata": {},
   "source": [
    "## Example: Orbits in a barred potential\n",
    "\n",
    "While Sagittarius is a perturbing force that comes from outside our galaxy, there are non-axisymmetric structures that arise in a self-gravitating disc such as a bar or spiral arms, which also effect the orbits of stars in the disc\n",
    "\n",
    "(Note that it's possible such features are induced by external perturbers, but not required)\n",
    "\n",
    "To start, we need a potential for our bar. We'll use the DehnenBarPotential which is a simple $m=2$ bar potential visualised below. \n",
    "\n",
    "(https://docs.galpy.org/en/latest/reference/potentialdehnenbar.html)"
   ]
  },
  {
   "cell_type": "code",
   "execution_count": null,
   "metadata": {
    "ExecuteTime": {
     "end_time": "2021-07-05T16:46:20.723280Z",
     "start_time": "2021-07-05T16:46:19.644509Z"
    }
   },
   "outputs": [],
   "source": [
    "from galpy.potential import DehnenBarPotential\n",
    "\n",
    "# We set up our bar parameters. This is a long-slow bar similar to the model of Perez-Villegas et al. (2017)\n",
    "tform = -10.0  # number of bar periods in the past that it formed\n",
    "tsteady = 5.0  # We grow it slowly over 5 bar periods to avoid 'shocking' the potential\n",
    "# (which is completely pointelss here, but vital for other applications so shown for completeness)\n",
    "\n",
    "omega = 1.3  # Pattern speed of the bar in units of the local circular frequency (220./8=27.5 km/s /kpc)\n",
    "angle = np.deg2rad(25.0)  # Bar Angle with respect to the sun (in radians)\n",
    "length = 5.0  # Half-length of the bar\n",
    "strength = 2.4  # In 'percent of the radial force at the Solar neighborhood'\n",
    "\n",
    "# Initialise the bar potential, and visualise it\n",
    "long_bar = DehnenBarPotential(\n",
    "    omegab=omega,\n",
    "    rb=length / 8.0,\n",
    "    Af=(strength / 75.0),\n",
    "    tform=tform,\n",
    "    tsteady=tsteady,\n",
    "    barphi=angle,\n",
    ")\n",
    "plotPotentials(\n",
    "    long_bar,\n",
    "    xy=True,\n",
    "    rmin=-2,\n",
    "    rmax=2,\n",
    "    nrs=200,\n",
    "    zmin=-2,\n",
    "    zmax=2,\n",
    "    ncontours=20,\n",
    "    nzs=200,\n",
    "    cntrcolors=\"none\",\n",
    "    aspect=\"equal\",\n",
    ")\n",
    "\n",
    "# Add it to our MW potential\n",
    "long_bar_pot = [MWPotential2014, long_bar]"
   ]
  },
  {
   "cell_type": "markdown",
   "metadata": {},
   "source": [
    "First, let's set up an orbit and just see where that orbit goes without the bar:"
   ]
  },
  {
   "cell_type": "code",
   "execution_count": null,
   "metadata": {
    "ExecuteTime": {
     "end_time": "2021-07-05T16:46:26.108327Z",
     "start_time": "2021-07-05T16:46:25.566138Z"
    }
   },
   "outputs": [],
   "source": [
    "# Set up a particle orbit\n",
    "long_bar_orbit1 = Orbit(vxvv=[1.0, 0.1, 0.86805, 0.0, 0.0, 0.0])\n",
    "\n",
    "# A new time array\n",
    "long_bar_time = np.linspace(0, 4.0 / bovy_conversion.time_in_Gyr(vo, ro), 10000)\n",
    "\n",
    "# Integrate\n",
    "long_bar_orbit1.integrate(long_bar_time, MWPotential2014, method=\"odeint\")\n",
    "\n",
    "plt.figure(figsize=(5, 5))\n",
    "plt.plot(\n",
    "    long_bar_orbit1.x(long_bar_time), long_bar_orbit1.y(long_bar_time), color=\"orange\"\n",
    ")\n",
    "plt.xlim(-1.25, 1.25)\n",
    "plt.ylim(-1.25, 1.25)\n",
    "plt.xlabel(r\"$X\\ (\\mathrm{kpc})$\")\n",
    "plt.ylabel(r\"$Y\\ (\\mathrm{kpc})$\")\n",
    "plt.show()"
   ]
  },
  {
   "cell_type": "markdown",
   "metadata": {},
   "source": [
    "It's nice and regular! What happens if we do the same in the barred potential?"
   ]
  },
  {
   "cell_type": "code",
   "execution_count": null,
   "metadata": {
    "ExecuteTime": {
     "end_time": "2021-07-05T16:46:28.994792Z",
     "start_time": "2021-07-05T16:46:27.378733Z"
    }
   },
   "outputs": [],
   "source": [
    "long_bar_orbit2 = Orbit(vxvv=[1.0, 0.1, 0.86805, 0.0, 0.0, 0.0])\n",
    "\n",
    "long_bar_orbit2.integrate(long_bar_time, long_bar_pot, method=\"odeint\")\n",
    "\n",
    "plotPotentials(\n",
    "    long_bar,\n",
    "    xy=True,\n",
    "    rmin=-2,\n",
    "    rmax=2,\n",
    "    nrs=200,\n",
    "    zmin=-2,\n",
    "    zmax=2,\n",
    "    ncontours=20,\n",
    "    nzs=200,\n",
    "    cntrcolors=\"none\",\n",
    "    aspect=\"equal\",\n",
    ")\n",
    "plt.plot(\n",
    "    long_bar_orbit2.x(long_bar_time), long_bar_orbit2.y(long_bar_time), color=\"orange\"\n",
    ")\n",
    "plt.xlim(-1.25, 1.25)\n",
    "plt.ylim(-1.25, 1.25)\n",
    "plt.xlabel(r\"$X\\ (\\mathrm{kpc})$\")\n",
    "plt.ylabel(r\"$Y\\ (\\mathrm{kpc})$\")\n",
    "plt.show()"
   ]
  },
  {
   "cell_type": "markdown",
   "metadata": {},
   "source": [
    "Not so regular anymore! But this orbit is also interesting if we look in the reference frame of the rotating bar.\n",
    "\n",
    "We know how fast the bar rotates, so we can convert the x-y coordinates into the rotating frame by taking off the bar rotation multiplied by the time\n",
    "\n",
    "We'll do it for both the unperturbed and perturbed orbit for illustration (even though it only really makes sense if there is a bar!)"
   ]
  },
  {
   "cell_type": "code",
   "execution_count": null,
   "metadata": {
    "ExecuteTime": {
     "end_time": "2021-07-05T16:46:29.861473Z",
     "start_time": "2021-07-05T16:46:29.678378Z"
    }
   },
   "outputs": [],
   "source": [
    "rotation = long_bar_time * -1.3  # Where 1.3 is the pattern speed, see above\n",
    "\n",
    "lbx1 = (\n",
    "    long_bar_orbit1.x(long_bar_time) * np.cos(rotation) - \n",
    "    long_bar_orbit1.y(long_bar_time) * np.sin(rotation)\n",
    ")\n",
    "lby1 = (\n",
    "    long_bar_orbit1.x(long_bar_time) * np.sin(rotation) + \n",
    "    long_bar_orbit1.y(long_bar_time) * np.cos(rotation)\n",
    ")\n",
    "lbx2 = (\n",
    "    long_bar_orbit2.x(long_bar_time) * np.cos(rotation) - \n",
    "    long_bar_orbit2.y(long_bar_time) * np.sin(rotation)\n",
    ")\n",
    "lby2 = (\n",
    "    long_bar_orbit2.x(long_bar_time) * np.sin(rotation) + \n",
    "    long_bar_orbit2.y(long_bar_time) * np.cos(rotation)\n",
    ")\n",
    "\n",
    "plt.figure(figsize=(5, 5))\n",
    "plt.plot(lbx2, lby2, color=\"orange\")\n",
    "plt.plot(lbx1, lby1, color=\"teal\", ls=\"dotted\")\n",
    "plt.xlim(-1.25, 1.25)\n",
    "plt.ylim(-1.25, 1.25)\n",
    "plt.xlabel(r\"$X\\ (\\mathrm{kpc})$\")\n",
    "plt.ylabel(r\"$Y\\ (\\mathrm{kpc})$\")\n",
    "\n",
    "# This is the bar major axis as a black line.\n",
    "# It doesn't mean it's thin but feels unnecessary to redraw the potential each time!\n",
    "plt.plot([-0.566, 0.566], [-0.26, 0.26], color=\"black\")\n",
    "plt.show()"
   ]
  },
  {
   "cell_type": "markdown",
   "metadata": {},
   "source": [
    "Note that while the unperturbed orbit (blue-dotted) covers all azimuth in the rotating frame, the perturbed (red) orbit remains on one side of the bar.\n",
    "\n",
    "This is because it is close to the bar co-rotation resonance (it's not perfect, Jason just eyeballed it...) and it ends up librating around one of the bar lagrange points (e.g. Perez-Villegas et al. 2017). \n",
    "\n",
    "If the bar is long and slow (as in this example) then this resonance will be close to the Solar neighbourhood and could cause substructure in our local kinematics, but there are plenty or other resonances too\n",
    "\n",
    "For example, the corotation resonance for a rigidly rotating structure with pattern speed $\\Omega_{\\mathrm{p}}$ occurs when $\\Omega_{\\mathrm{p}}-\\Omega_{\\phi}=0$. The inner (ILR) and outer (OLR) 2:1 Lindblad resonances occur when $\\Omega_{\\mathrm{p}}-\\Omega_{\\phi}\\pm\\Omega_{\\mathrm{R}}/2=0$, and similarly for the 4:1 ILR and OLR, when $\\Omega_{\\mathrm{p}}-\\Omega_{\\phi}\\pm\\Omega_{\\mathrm{R}}/4=0$, and the 1:1 ILR and OLR when $\\Omega_{\\mathrm{p}}-\\Omega_{\\phi}\\pm\\Omega_{\\mathrm{R}}=0$ (-ve is outer, +ve is inner for each case)\n"
   ]
  },
  {
   "cell_type": "markdown",
   "metadata": {},
   "source": [
    "\n",
    "A commonly examined bar resonance is the OLR. If the bar is short and fast, then this resonance will be close to the Solar neighbourhood instead (e.g. Dehnen 2000). Let's make that bar and see the orbit structure:"
   ]
  },
  {
   "cell_type": "code",
   "execution_count": null,
   "metadata": {
    "ExecuteTime": {
     "end_time": "2021-07-05T16:46:36.885722Z",
     "start_time": "2021-07-05T16:46:36.615782Z"
    }
   },
   "outputs": [],
   "source": [
    "omega = 1.85  # Faster bar\n",
    "length = 3.5  # Shorter bar\n",
    "strength = 1.0  # Less force from the shorter weaker bar!\n",
    "\n",
    "short_bar = DehnenBarPotential(\n",
    "    omegab=omega,\n",
    "    rb=length / 8.0,\n",
    "    Af=(strength / 75.0),\n",
    "    tform=tform,\n",
    "    tsteady=tsteady,\n",
    "    barphi=angle,\n",
    ")\n",
    "short_bar_pot = [MWPotential2014, short_bar]\n",
    "\n",
    "# We'll set up two orbits this time  (0.153)\n",
    "short_bar_orbit1 = Orbit(vxvv=[1.0, 0.2, 0.9, 0.0])\n",
    "short_bar_orbit2 = Orbit(vxvv=[1.0, -0.15, 0.9, 0.0])\n",
    "\n",
    "short_bar_time = np.linspace(0, 0.5 / bovy_conversion.time_in_Gyr(vo, ro), 1000)\n",
    "\n",
    "short_bar_orbit1.integrate(short_bar_time, short_bar_pot, method=\"odeint\")\n",
    "short_bar_orbit2.integrate(short_bar_time, short_bar_pot, method=\"odeint\")\n",
    "\n",
    "# Plot them in the standard frame\n",
    "plt.figure(figsize=(5, 5))\n",
    "plt.plot(\n",
    "    short_bar_orbit1.x(short_bar_time), short_bar_orbit1.y(short_bar_time), color=\"red\"\n",
    ")\n",
    "plt.plot(\n",
    "    short_bar_orbit2.x(short_bar_time), short_bar_orbit2.y(short_bar_time), color=\"blue\"\n",
    ")\n",
    "plt.xlim(-1.25, 1.25)\n",
    "plt.ylim(-1.25, 1.25)\n",
    "plt.xlabel(r\"$X\\ (\\mathrm{kpc})$\")\n",
    "plt.ylabel(r\"$Y\\ (\\mathrm{kpc})$\")\n",
    "plt.plot([-0.4, 0.4], [-0.18, 0.18], color=\"black\")\n",
    "plt.show()"
   ]
  },
  {
   "cell_type": "markdown",
   "metadata": {},
   "source": [
    "And in the rotating frame:"
   ]
  },
  {
   "cell_type": "code",
   "execution_count": null,
   "metadata": {
    "ExecuteTime": {
     "end_time": "2021-07-05T16:46:38.235292Z",
     "start_time": "2021-07-05T16:46:38.035703Z"
    }
   },
   "outputs": [],
   "source": [
    "rotation = short_bar_time * -1.85\n",
    "\n",
    "sbx1 = short_bar_orbit1.x(short_bar_time) * np.cos(rotation) - short_bar_orbit1.y(\n",
    "    short_bar_time\n",
    ") * np.sin(rotation)\n",
    "sby1 = short_bar_orbit1.x(short_bar_time) * np.sin(rotation) + short_bar_orbit1.y(\n",
    "    short_bar_time\n",
    ") * np.cos(rotation)\n",
    "sbx2 = short_bar_orbit2.x(short_bar_time) * np.cos(rotation) - short_bar_orbit2.y(\n",
    "    short_bar_time\n",
    ") * np.sin(rotation)\n",
    "sby2 = short_bar_orbit2.x(short_bar_time) * np.sin(rotation) + short_bar_orbit2.y(\n",
    "    short_bar_time\n",
    ") * np.cos(rotation)\n",
    "\n",
    "plt.figure(figsize=(5, 5))\n",
    "plt.plot(sbx1, sby1, color=\"red\")\n",
    "plt.plot(sbx2, sby2, color=\"blue\")\n",
    "plt.xlim(-1.25, 1.25)\n",
    "plt.ylim(-1.25, 1.25)\n",
    "plt.xlabel(r\"$X\\ (\\mathrm{kpc})$\")\n",
    "plt.ylabel(r\"$Y\\ (\\mathrm{kpc})$\")\n",
    "plt.plot([-0.4, 0.4], [-0.18, 0.18], color=\"black\")\n",
    "plt.title(r\"$\\mathrm{Figure\\ 1 - For\\ later\\ discussion}$\")\n",
    "plt.show()"
   ]
  },
  {
   "cell_type": "markdown",
   "metadata": {},
   "source": [
    "Now you see clearly the 2:1 morphology of the orbits at the resonance (in the frame of the bar). E.g. they go in and out twice for every once around the galaxy. The two orbits were chosen to show the bar-aligned and anti-aligned resonant orbit (although they're not perfect aligned...)\n",
    "\n",
    "Again, Jason just totally eyeballed these, they're certainly not lying perfectly at the resonances, so are they actually stable structures? Let's run that again for 10 Gyr   "
   ]
  },
  {
   "cell_type": "code",
   "execution_count": null,
   "metadata": {
    "ExecuteTime": {
     "end_time": "2021-07-05T16:46:45.356179Z",
     "start_time": "2021-07-05T16:46:43.208940Z"
    }
   },
   "outputs": [],
   "source": [
    "short_bar_orbit3 = Orbit(vxvv=[1.0, 0.2, 0.9, 0.0])\n",
    "short_bar_orbit4 = Orbit(vxvv=[1.0, -0.15, 0.9, 0.0])\n",
    "\n",
    "short_bar_time = np.linspace(0, 10.0 / bovy_conversion.time_in_Gyr(vo, ro), 1000)\n",
    "rotation = short_bar_time * -1.85\n",
    "\n",
    "short_bar_orbit3.integrate(short_bar_time, short_bar_pot, method=\"odeint\")\n",
    "short_bar_orbit4.integrate(short_bar_time, short_bar_pot, method=\"odeint\")\n",
    "\n",
    "sbx3 = short_bar_orbit3.x(short_bar_time) * np.cos(rotation) - short_bar_orbit3.y(\n",
    "    short_bar_time\n",
    ") * np.sin(rotation)\n",
    "sby3 = short_bar_orbit3.x(short_bar_time) * np.sin(rotation) + short_bar_orbit3.y(\n",
    "    short_bar_time\n",
    ") * np.cos(rotation)\n",
    "sbx4 = short_bar_orbit4.x(short_bar_time) * np.cos(rotation) - short_bar_orbit4.y(\n",
    "    short_bar_time\n",
    ") * np.sin(rotation)\n",
    "sby4 = short_bar_orbit4.x(short_bar_time) * np.sin(rotation) + short_bar_orbit4.y(\n",
    "    short_bar_time\n",
    ") * np.cos(rotation)\n",
    "\n",
    "plt.figure(figsize=(5, 5))\n",
    "plt.plot(sbx3, sby3, color=\"red\")\n",
    "plt.plot(sbx4, sby4, color=\"blue\")\n",
    "plt.xlim(-1.25, 1.25)\n",
    "plt.ylim(-1.25, 1.25)\n",
    "plt.xlabel(r\"$X\\ (\\mathrm{kpc})$\")\n",
    "plt.ylabel(r\"$Y\\ (\\mathrm{kpc})$\")\n",
    "plt.plot([-0.4, 0.4], [-0.18, 0.18], color=\"black\")\n",
    "plt.show()"
   ]
  },
  {
   "cell_type": "markdown",
   "metadata": {},
   "source": [
    "You can see that while the blue orbit is stable and retains its shape over long timescales, the red orbit does not! This is known, that one alignment is stable while the other is not (e.g. See Fux 2000). Also note that over long timescales the blue orbit librates around the resonance, appearing aligned with the bar axis over multiple orbits!\n",
    "\n",
    "But, are they actually resonant? We know from the equations above that the OLR should be where $\\Omega_{\\mathrm{p}}-\\Omega_{\\phi}-\\Omega_{\\mathrm{R}}/2=0$\n"
   ]
  },
  {
   "cell_type": "markdown",
   "metadata": {},
   "source": [
    "Galpy can calculate actons, angles and frequencies with a variety of methods (see docs below). The Staeckel approximation is overkill here, but a useful example for other applications"
   ]
  },
  {
   "cell_type": "code",
   "execution_count": null,
   "metadata": {
    "ExecuteTime": {
     "end_time": "2021-07-05T16:46:45.913574Z",
     "start_time": "2021-07-05T16:46:45.905156Z"
    }
   },
   "outputs": [],
   "source": [
    "from galpy.actionAngle import (\n",
    "    actionAngleStaeckel,\n",
    "    estimateDeltaStaeckel,\n",
    "    actionAngleIsochroneApprox,\n",
    ")\n",
    "\n",
    "# The focal length of the potential local to the orbit\n",
    "delta = estimateDeltaStaeckel(MWPotential2014, 1.0, 0.0000001, no_median=True)\n",
    "\n",
    "# Set up the Staeckel object for the calculation\n",
    "aAS = actionAngleStaeckel(pot=MWPotential2014, delta=delta)\n",
    "\n",
    "# Calculate actions, angles and frequencies with [R,vR,vT,z,vz,phi]\n",
    "# Note that it doesn't work when perfectly planar, so do small z & vz e.g. 0.0000001\n",
    "(\n",
    "    jR1,\n",
    "    lz1,\n",
    "    jz1,\n",
    "    O_R1,\n",
    "    O_phi1,\n",
    "    O_z1,\n",
    "    theta_R1,\n",
    "    theta_phi1,\n",
    "    theta_z1,\n",
    ") = aAS.actionsFreqsAngles(1.0, 0.2, 0.9, 0.00001, 0.000001, 0.0, delta=delta)\n",
    "(\n",
    "    jR2,\n",
    "    lz2,\n",
    "    jz2,\n",
    "    O_R2,\n",
    "    O_phi2,\n",
    "    O_z2,\n",
    "    theta_R2,\n",
    "    theta_phi2,\n",
    "    theta_z2,\n",
    ") = aAS.actionsFreqsAngles(1.0, -0.15, 0.9, 0.00001, 0.000001, 0.0, delta=delta)"
   ]
  },
  {
   "cell_type": "code",
   "execution_count": null,
   "metadata": {
    "ExecuteTime": {
     "end_time": "2021-07-05T16:46:46.666841Z",
     "start_time": "2021-07-05T16:46:46.663045Z"
    }
   },
   "outputs": [],
   "source": [
    "# They're close to zero, but not exact, which is what I'd expect given my guesswork!\n",
    "\n",
    "print(1.85 - O_phi1 - O_R1 / 2)\n",
    "print(1.85 - O_phi2 - O_R2 / 2)"
   ]
  },
  {
   "cell_type": "markdown",
   "metadata": {},
   "source": [
    "In addition, these are the actions calculated in the ${\\it axisymmetric}$ potential, so they are not the ${\\it true}$ actions. They are generally good enough to get close to the right answer for simplisic applications. (For a rigidly rotating pattern you can move to 'fast' and 'slow' actions, but we don't have time to cover that here. See Binney & Tremaine for some discussion)"
   ]
  },
  {
   "cell_type": "markdown",
   "metadata": {},
   "source": [
    "\n",
    "However, because the resonances are a relation between the orbital frequencies of the stars, and the rigidly rotating bar pattern, if the potential changes, so do the frequencies, and so do the resonances:\n",
    "\n",
    "Let's redo the same orbits in the heavier MWPotential2014_heavy:"
   ]
  },
  {
   "cell_type": "code",
   "execution_count": null,
   "metadata": {
    "ExecuteTime": {
     "end_time": "2021-07-05T16:46:51.651158Z",
     "start_time": "2021-07-05T16:46:51.353084Z"
    }
   },
   "outputs": [],
   "source": [
    "short_bar_pot_heavy = [MWPotential2014_heavy, short_bar]\n",
    "\n",
    "short_bar_orbit5 = Orbit(vxvv=[1.0, 0.2, 0.9, 0.0])\n",
    "short_bar_orbit6 = Orbit(vxvv=[1.0, -0.15, 0.9, 0.0])\n",
    "\n",
    "short_bar_time = np.linspace(0, 0.5 / bovy_conversion.time_in_Gyr(vo, ro), 1000)\n",
    "rotation = short_bar_time * -1.85\n",
    "\n",
    "short_bar_orbit5.integrate(short_bar_time, short_bar_pot_heavy, method=\"odeint\")\n",
    "short_bar_orbit6.integrate(short_bar_time, short_bar_pot_heavy, method=\"odeint\")\n",
    "\n",
    "# We'll just plot the rotating frame this time\n",
    "sbx5 = short_bar_orbit5.x(short_bar_time) * np.cos(rotation) - short_bar_orbit5.y(\n",
    "    short_bar_time\n",
    ") * np.sin(rotation)\n",
    "sby5 = short_bar_orbit5.x(short_bar_time) * np.sin(rotation) + short_bar_orbit5.y(\n",
    "    short_bar_time\n",
    ") * np.cos(rotation)\n",
    "sbx6 = short_bar_orbit6.x(short_bar_time) * np.cos(rotation) - short_bar_orbit6.y(\n",
    "    short_bar_time\n",
    ") * np.sin(rotation)\n",
    "sby6 = short_bar_orbit6.x(short_bar_time) * np.sin(rotation) + short_bar_orbit6.y(\n",
    "    short_bar_time\n",
    ") * np.cos(rotation)\n",
    "\n",
    "plt.figure(figsize=(5, 5))\n",
    "plt.plot(sbx5, sby5, color=\"red\")\n",
    "plt.plot(sbx6, sby6, color=\"blue\")\n",
    "plt.xlim(-1.25, 1.25)\n",
    "plt.ylim(-1.25, 1.25)\n",
    "plt.xlabel(r\"$X\\ (\\mathrm{kpc})$\")\n",
    "plt.ylabel(r\"$Y\\ (\\mathrm{kpc})$\")\n",
    "plt.plot([-0.4, 0.4], [-0.18, 0.18], color=\"black\")\n",
    "plt.show()"
   ]
  },
  {
   "cell_type": "markdown",
   "metadata": {},
   "source": [
    "Now it's almost a 3:1, just from changing the halo potential! \n"
   ]
  },
  {
   "cell_type": "markdown",
   "metadata": {},
   "source": [
    "### Exercise: But are they stable, and are they resonant?\n",
    " - Why don't you check the freqencies from the equations above? \n",
    " - You can integrate it further in time to see what happens. Before you do, what do you expect?"
   ]
  },
  {
   "cell_type": "code",
   "execution_count": null,
   "metadata": {
    "ExecuteTime": {
     "end_time": "2021-07-05T16:46:52.851285Z",
     "start_time": "2021-07-05T16:46:52.848701Z"
    }
   },
   "outputs": [],
   "source": [
    "# Calculate actions\n",
    "# Check frequencies compared to the equations above!\n",
    "# Integrate further"
   ]
  },
  {
   "cell_type": "markdown",
   "metadata": {},
   "source": [
    "Regardless of what you found, we would not expect the 3:1 resonance to be strong in a bar with a pure $m=2$ component\n",
    "\n",
    "When doing a fourier decomposition on real bars in nature or simulation we find they have a range of structure, and are rarely pure $m=2$ (e.g. Buta 2006).\n",
    "\n",
    "But, the even fourier components are usually much stronger than the odd components owing to the bar symmetry. So, let's construct a bar with more complex morphology with the cosmphi disc potential. Let's do $m=4$ which is (usually/always?) the second strongest \n",
    "\n",
    "(https://docs.galpy.org/en/latest/reference/potentialcosmphidisk.html)"
   ]
  },
  {
   "cell_type": "code",
   "execution_count": null,
   "metadata": {
    "ExecuteTime": {
     "end_time": "2021-07-05T16:46:59.111222Z",
     "start_time": "2021-07-05T16:46:58.786208Z"
    }
   },
   "outputs": [],
   "source": [
    "from galpy.potential import (\n",
    "    CosmphiDiskPotential,\n",
    "    SolidBodyRotationWrapperPotential,\n",
    "    DehnenSmoothWrapperPotential,\n",
    ")\n",
    "\n",
    "omega = 1.4\n",
    "length = 4.0\n",
    "strength = 1.0\n",
    "\n",
    "# This is the base m=2 component for the bar, but we could recreate it with the cosmphi potential below too\n",
    "dp = DehnenBarPotential(\n",
    "    omegab=omega,\n",
    "    rb=length / 8.0,\n",
    "    Af=(strength / 75.0),\n",
    "    tform=tform,\n",
    "    tsteady=tsteady,\n",
    "    barphi=angle,\n",
    ")\n",
    "\n",
    "# Now we add a m=4 fourier potential component.\n",
    "# We then wrap it with a smooth growth wrapper, and then a rotating potential wrapper\n",
    "cosm4 = SolidBodyRotationWrapperPotential(\n",
    "    pot=DehnenSmoothWrapperPotential(\n",
    "        pot=CosmphiDiskPotential(amp=0.05, m=4.0, phib=angle, p=-5.0, rb=length / 8.0),\n",
    "        tform=dp.tform(),\n",
    "    ),\n",
    "    omega=omega,\n",
    ")  #\n",
    "\n",
    "m4_bar_pot = [MWPotential2014, dp, cosm4]\n",
    "\n",
    "# Jason only had time to make 1 (almost) resonant orbit... Will try and fix before school\n",
    "m4_bar_orbit1 = Orbit(vxvv=[1.0, 0.1, 0.9553, 0.0])\n",
    "# m4_bar_orbit2=Orbit(vxvv=[1.,0.1,0.9553,0.])\n",
    "\n",
    "m4_bar_time = np.linspace(0, 1.62 / bovy_conversion.time_in_Gyr(vo, ro), 10000)\n",
    "\n",
    "m4_bar_orbit1.integrate(m4_bar_time, m4_bar_pot, method=\"odeint\")\n",
    "# m4_bar_orbit2.integrate(m4_bar_time,m4_bar_pot,method='odeint')\n",
    "\n",
    "deg = m4_bar_time * -1.4\n",
    "b4x3 = m4_bar_orbit1.x(m4_bar_time) * np.cos(deg) - m4_bar_orbit1.y(\n",
    "    m4_bar_time\n",
    ") * np.sin(deg)\n",
    "b4y3 = m4_bar_orbit1.x(m4_bar_time) * np.sin(deg) + m4_bar_orbit1.y(\n",
    "    m4_bar_time\n",
    ") * np.cos(deg)\n",
    "# b4x4=m4_bar_orbit2.x(m4_bar_time)*np.cos(deg)-m4_bar_orbit2.y(m4_bar_time)*np.sin(deg)\n",
    "# b4y4=m4_bar_orbit2.x(m4_bar_time)*np.sin(deg)+m4_bar_orbit2.y(m4_bar_time)*np.cos(deg)\n",
    "plt.figure(figsize=(5, 5))\n",
    "plt.plot(b4x3, b4y3, color=\"red\")\n",
    "# plt.plot(b4x4,b4y4,color='blue')\n",
    "plt.xlim(-1.25, 1.25)\n",
    "plt.ylim(-1.25, 1.25)\n",
    "plt.xlabel(r\"$X\\ (\\mathrm{kpc})$\")\n",
    "plt.ylabel(r\"$Y\\ (\\mathrm{kpc})$\")\n",
    "plt.plot([-0.453, 0.453], [-0.211, 0.211], color=\"black\")\n",
    "plt.show()"
   ]
  },
  {
   "cell_type": "markdown",
   "metadata": {},
   "source": [
    "And voila, a 4:1 orbit!"
   ]
  },
  {
   "cell_type": "markdown",
   "metadata": {},
   "source": [
    "## Example: Backwards intergation\n",
    "\n",
    "Often, we're more interested in a distribution of orbits instead of the parameters/morphology of a single one\n",
    "\n",
    "A simple way to visualise the local velocity distribution without integrating a large number of orbits is the so called 'Backwards integration technique' (Dehnen 2000, AJ, 119, 800).\n",
    "\n",
    "Essentially this involves integrating a grid of orbits in phase space backwards in time in the desired potential, and then assigning them present day 'weights' based on the density at the location they end up at in the 'past'. \n",
    "\n",
    "This works well for a quick visualisation of what you expect today, but completely breaks down in the presence of chaos! Still, as the number of particles needed to resolve local phase space is high in any particle based simulation, this is a useful tool, providing you remember the caveats"
   ]
  },
  {
   "cell_type": "code",
   "execution_count": null,
   "metadata": {
    "ExecuteTime": {
     "end_time": "2021-07-05T16:47:47.339129Z",
     "start_time": "2021-07-05T16:47:16.145433Z"
    }
   },
   "outputs": [],
   "source": [
    "from galpy.potential import LogarithmicHaloPotential\n",
    "from galpy.df import evolveddiskdf\n",
    "from galpy.df import dehnendf\n",
    "from scipy import ndimage as nd\n",
    "\n",
    "# We'll make a new bar here, this is the short_bar again for the discussion below\n",
    "omega = 1.85  # Pattern speed of the bar\n",
    "angle = 25.0 / 180.0 * np.pi  # Bar Angle\n",
    "length = 3.5\n",
    "\n",
    "# Initiate potentials\n",
    "dp = DehnenBarPotential(\n",
    "    omegab=omega,\n",
    "    rb=length / 8.0,\n",
    "    Af=(1.0 / 75.0),\n",
    "    tform=tform,\n",
    "    tsteady=tsteady,\n",
    "    barphi=angle,\n",
    ")\n",
    "lhp = LogarithmicHaloPotential(normalize=1.0)\n",
    "pot = [lhp, dp]\n",
    "\n",
    "# Initiate Dehnen distribution function (Dehnen 1999, AJ, 118, 1201)\n",
    "dfc = dehnendf(beta=0.0, correct=False, profileParams=(1.0 / 3.0, 1.0, 0.15))\n",
    "\n",
    "# Integrate backwards following (Dehnen 2000, AJ, 119, 800)\n",
    "edf = evolveddiskdf(dfc, pot, to=dp.tform())\n",
    "\n",
    "# Calculate the velocity field upon a grid (at R/R0=1, phi=0, at the present day)\n",
    "mvr, grid = edf.meanvR(\n",
    "    1.0, phi=0.0, deg=False, t=0.0, grid=True, returnGrid=True, gridpoints=101\n",
    ")"
   ]
  },
  {
   "cell_type": "markdown",
   "metadata": {},
   "source": [
    "And plot the resulting local velocity distribution for a system with the chosen potential"
   ]
  },
  {
   "cell_type": "code",
   "execution_count": null,
   "metadata": {
    "ExecuteTime": {
     "end_time": "2021-07-05T16:47:47.835496Z",
     "start_time": "2021-07-05T16:47:47.340896Z"
    }
   },
   "outputs": [],
   "source": [
    "plt.figure(figsize=(6, 6))\n",
    "bovy_plot.bovy_dens2d(\n",
    "    nd.gaussian_filter(grid.df[::-1].T, 1.0),\n",
    "    origin=\"lower\",\n",
    "    contours=True,\n",
    "    xrange=[grid.vRgrid[0], grid.vRgrid[-1]],\n",
    "    yrange=[grid.vTgrid[0], grid.vTgrid[-1]],\n",
    "    xlabel=r\"$v_R$\",\n",
    "    ylabel=r\"$v_T$\",\n",
    "    gcf=True,\n",
    "    cmap=\"viridis\",\n",
    ")\n",
    "bovy_plot._add_ticks()"
   ]
  },
  {
   "cell_type": "markdown",
   "metadata": {},
   "source": [
    "Assuming you kept the parameters of the short bar above, you'll see a bimodal distribution with a weaker group in the lower left, and a sharp spikey bit going towards the right. This is caused by the 2:1 Outer Lindblad resonance. \n",
    "\n",
    "In the past, people have suggested this to be the origin of the division between the 'Hercules stream' and the main part of the distribution (e.g. Dehnen 2000). But recent more direct measurements of the bar pattern speed and length argue against this."
   ]
  },
  {
   "cell_type": "markdown",
   "metadata": {},
   "source": [
    "Here, the 'Hercules-like' group in the lower left is primarily composed of the 'red' orbits from 'Figure 1' above, and the sharp part is primarily composed of the 'blue' orbits (see Fragkoudi 2019 for a more thorough discussion)"
   ]
  },
  {
   "cell_type": "markdown",
   "metadata": {},
   "source": [
    "### Exercise: What do the other bars leave as imprints in the local kinematics?\n",
    "- How do a long slow bar and a bar with m=4 and an intermediate pattern compare to the local observed kinematics?\n",
    "- You can find the real $v_R-v_{\\phi}$ plane in https://ui.adsabs.harvard.edu/abs/2018A%26A...616A..11G/abstract\n",
    "- Can you relate the orbit structure above to the morphology of the velocity distribution?"
   ]
  },
  {
   "cell_type": "markdown",
   "metadata": {},
   "source": [
    "### Exercise (stretch goal): What about the spiral arms?\n",
    "- Try adding a density wave spiral arm potential from galpy's list of potentials\n",
    "- Try adding transient winding spirals (see https://ui.adsabs.harvard.edu/abs/2018MNRAS.481.3794H/abstract for what is hopefully an understadable example!)\n",
    "- How do they compare?"
   ]
  },
  {
   "cell_type": "markdown",
   "metadata": {},
   "source": [
    "$\\textbf{The end. You made it! Hopefully some of this was useful/interesting to you (if not I apologise!)}$\n",
    "$\\textbf{Now you should:}$\n",
    "- Go back through and pick one or more of those stretch goal exercises!\n",
    "- Assist your peers!\n",
    "- (Go for lunch?)"
   ]
  },
  {
   "cell_type": "code",
   "execution_count": null,
   "metadata": {},
   "outputs": [],
   "source": []
  }
 ],
 "metadata": {
  "kernelspec": {
   "display_name": "Python 3",
   "language": "python",
   "name": "python3"
  },
  "language_info": {
   "codemirror_mode": {
    "name": "ipython",
    "version": 3
   },
   "file_extension": ".py",
   "mimetype": "text/x-python",
   "name": "python",
   "nbconvert_exporter": "python",
   "pygments_lexer": "ipython3",
   "version": "3.8.3"
  },
  "toc": {
   "base_numbering": 1,
   "nav_menu": {},
   "number_sections": true,
   "sideBar": true,
   "skip_h1_title": false,
   "title_cell": "Table of Contents",
   "title_sidebar": "Contents",
   "toc_cell": false,
   "toc_position": {},
   "toc_section_display": true,
   "toc_window_display": false
  }
 },
 "nbformat": 4,
 "nbformat_minor": 2
}
